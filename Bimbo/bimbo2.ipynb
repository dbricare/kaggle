{
 "cells": [
  {
   "cell_type": "markdown",
   "metadata": {},
   "source": [
    "# Non-machine learning approach\n",
    "\n",
    "Use product, client, agency, and sales channel ID, along with route information to predict demand based on mean averages for those values."
   ]
  },
  {
   "cell_type": "code",
   "execution_count": 1,
   "metadata": {
    "collapsed": false
   },
   "outputs": [
    {
     "name": "stderr",
     "output_type": "stream",
     "text": [
      "/usr/local/lib/python3.5/dist-packages/matplotlib/backends/backend_gtk3agg.py:18: UserWarning: The Gtk3Agg backend is known to not work on Python 3.x with pycairo. Try installing cairocffi.\n",
      "  \"The Gtk3Agg backend is known to not work on Python 3.x with pycairo. \"\n"
     ]
    }
   ],
   "source": [
    "import pandas as pd\n",
    "import numpy as np\n",
    "import matplotlib.pyplot as plt\n",
    "import seaborn as sns\n",
    "import re, datetime\n",
    "\n",
    "from multiprocessing import Pool, cpu_count\n",
    "\n",
    "%matplotlib inline\n",
    "\n",
    "dataurl = '/home/dbricare/Documents/Python/datasets/bimbo/'"
   ]
  },
  {
   "cell_type": "code",
   "execution_count": 2,
   "metadata": {
    "collapsed": true
   },
   "outputs": [],
   "source": [
    "def inspectdata(testortrain, cols=None, rows=None):\n",
    "    dataparams = {'sep':',', 'compression':'zip', 'usecols':cols, 'nrows':rows}\n",
    "    df = pd.read_csv(dataurl+testortrain+'.csv.zip', **dataparams)\n",
    "    print('Number of records:{0:,}'.format(len(df)))\n",
    "    dictcols = dict(zip(list(df.columns),[df[col].dtype for col in df.columns]))\n",
    "    print(dictcols)\n",
    "    return df"
   ]
  },
  {
   "cell_type": "markdown",
   "metadata": {},
   "source": [
    "# Load and examine training data"
   ]
  },
  {
   "cell_type": "code",
   "execution_count": 3,
   "metadata": {
    "collapsed": false,
    "scrolled": true
   },
   "outputs": [
    {
     "name": "stdout",
     "output_type": "stream",
     "text": [
      "Number of records:74,180,464\n",
      "{'Demanda_uni_equil': dtype('int64'), 'Ruta_SAK': dtype('int64'), 'Cliente_ID': dtype('int64'), 'Agencia_ID': dtype('int64'), 'Producto_ID': dtype('int64'), 'Canal_ID': dtype('int64')}\n"
     ]
    },
    {
     "data": {
      "text/html": [
       "<div>\n",
       "<table border=\"1\" class=\"dataframe\">\n",
       "  <thead>\n",
       "    <tr style=\"text-align: right;\">\n",
       "      <th></th>\n",
       "      <th>Agencia_ID</th>\n",
       "      <th>Canal_ID</th>\n",
       "      <th>Ruta_SAK</th>\n",
       "      <th>Cliente_ID</th>\n",
       "      <th>Producto_ID</th>\n",
       "      <th>Demanda_uni_equil</th>\n",
       "    </tr>\n",
       "  </thead>\n",
       "  <tbody>\n",
       "    <tr>\n",
       "      <th>0</th>\n",
       "      <td>1110</td>\n",
       "      <td>7</td>\n",
       "      <td>3301</td>\n",
       "      <td>15766</td>\n",
       "      <td>1212</td>\n",
       "      <td>3</td>\n",
       "    </tr>\n",
       "    <tr>\n",
       "      <th>1</th>\n",
       "      <td>1110</td>\n",
       "      <td>7</td>\n",
       "      <td>3301</td>\n",
       "      <td>15766</td>\n",
       "      <td>1216</td>\n",
       "      <td>4</td>\n",
       "    </tr>\n",
       "    <tr>\n",
       "      <th>2</th>\n",
       "      <td>1110</td>\n",
       "      <td>7</td>\n",
       "      <td>3301</td>\n",
       "      <td>15766</td>\n",
       "      <td>1238</td>\n",
       "      <td>4</td>\n",
       "    </tr>\n",
       "    <tr>\n",
       "      <th>3</th>\n",
       "      <td>1110</td>\n",
       "      <td>7</td>\n",
       "      <td>3301</td>\n",
       "      <td>15766</td>\n",
       "      <td>1240</td>\n",
       "      <td>4</td>\n",
       "    </tr>\n",
       "    <tr>\n",
       "      <th>4</th>\n",
       "      <td>1110</td>\n",
       "      <td>7</td>\n",
       "      <td>3301</td>\n",
       "      <td>15766</td>\n",
       "      <td>1242</td>\n",
       "      <td>3</td>\n",
       "    </tr>\n",
       "  </tbody>\n",
       "</table>\n",
       "</div>"
      ],
      "text/plain": [
       "   Agencia_ID  Canal_ID  Ruta_SAK  Cliente_ID  Producto_ID  Demanda_uni_equil\n",
       "0        1110         7      3301       15766         1212                  3\n",
       "1        1110         7      3301       15766         1216                  4\n",
       "2        1110         7      3301       15766         1238                  4\n",
       "3        1110         7      3301       15766         1240                  4\n",
       "4        1110         7      3301       15766         1242                  3"
      ]
     },
     "execution_count": 3,
     "metadata": {},
     "output_type": "execute_result"
    }
   ],
   "source": [
    "usecols = ['Agencia_ID', 'Canal_ID', 'Ruta_SAK', 'Cliente_ID', 'Producto_ID', \n",
    "                                    'Demanda_uni_equil']\n",
    "\n",
    "dftrain = None  # clear memory\n",
    "dftrain = inspectdata('train', cols=usecols)\n",
    "dftrain.head()"
   ]
  },
  {
   "cell_type": "code",
   "execution_count": 12,
   "metadata": {
    "collapsed": false,
    "scrolled": true
   },
   "outputs": [
    {
     "data": {
      "image/png": "[encoded data removed]",
      "text/plain": [
       "<matplotlib.figure.Figure at 0x7f83b3940710>"
      ]
     },
     "metadata": {},
     "output_type": "display_data"
    }
   ],
   "source": [
    "# distribution of values\n",
    "\n",
    "_ = plt.figure(figsize=(14,6))\n",
    "_ = plt.title('Distribution of Demand')\n",
    "_ = plt.xlabel('Product Demand')\n",
    "_ = plt.ylabel('Number of Occurrences')\n",
    "# _ = plt.xlim(0,5000)\n",
    "\n",
    "_ = dftrain['Demanda_uni_equil'].hist(bins=100)"
   ]
  },
  {
   "cell_type": "code",
   "execution_count": 13,
   "metadata": {
    "collapsed": false
   },
   "outputs": [
    {
     "data": {
      "image/png": "[encoded data removed]",
      "text/plain": [
       "<matplotlib.figure.Figure at 0x7f83b392dac8>"
      ]
     },
     "metadata": {},
     "output_type": "display_data"
    }
   ],
   "source": [
    "# finer grain distribution\n",
    "\n",
    "_ = plt.figure(figsize=(14,6))\n",
    "_ = plt.title('Distribution of Demand')\n",
    "_ = plt.xlabel('Product Demand')\n",
    "_ = plt.ylabel('Number of Occurrences')\n",
    "_ = plt.xlim(0,100)\n",
    "\n",
    "_ = dftrain['Demanda_uni_equil'][dftrain['Demanda_uni_equil']<=100].hist(bins=100)"
   ]
  },
  {
   "cell_type": "code",
   "execution_count": 22,
   "metadata": {
    "collapsed": false
   },
   "outputs": [
    {
     "data": {
      "text/plain": [
       "count    7.418046e+07\n",
       "mean     7.224564e+00\n",
       "std      2.177119e+01\n",
       "min      0.000000e+00\n",
       "25%      2.000000e+00\n",
       "50%      3.000000e+00\n",
       "75%      6.000000e+00\n",
       "max      5.000000e+03\n",
       "Name: Demanda_uni_equil, dtype: float64"
      ]
     },
     "execution_count": 22,
     "metadata": {},
     "output_type": "execute_result"
    }
   ],
   "source": [
    "# global statistics for demand\n",
    "\n",
    "stats = dftrain['Demanda_uni_equil'].describe()\n",
    "globalmean = stats.loc['mean']\n",
    "stats"
   ]
  },
  {
   "cell_type": "code",
   "execution_count": 7,
   "metadata": {
    "collapsed": false
   },
   "outputs": [
    {
     "name": "stdout",
     "output_type": "stream",
     "text": [
      "Most common weekly demand value: 2\n"
     ]
    }
   ],
   "source": [
    "# most common value\n",
    "\n",
    "print('Most common weekly demand value:', dftrain['Demanda_uni_equil'].mode().values[0])"
   ]
  },
  {
   "cell_type": "markdown",
   "metadata": {},
   "source": [
    "## Calculate 5-key group mean averages of `Demanda_uni_equil`"
   ]
  },
  {
   "cell_type": "code",
   "execution_count": 14,
   "metadata": {
    "collapsed": false
   },
   "outputs": [
    {
     "name": "stdout",
     "output_type": "stream",
     "text": [
      "(26396648, 6)\n"
     ]
    },
    {
     "data": {
      "text/html": [
       "<div>\n",
       "<table border=\"1\" class=\"dataframe\">\n",
       "  <thead>\n",
       "    <tr style=\"text-align: right;\">\n",
       "      <th></th>\n",
       "      <th>Agencia_ID</th>\n",
       "      <th>Canal_ID</th>\n",
       "      <th>Ruta_SAK</th>\n",
       "      <th>Cliente_ID</th>\n",
       "      <th>Producto_ID</th>\n",
       "      <th>Demanda_uni_equil</th>\n",
       "    </tr>\n",
       "  </thead>\n",
       "  <tbody>\n",
       "    <tr>\n",
       "      <th>0</th>\n",
       "      <td>1110</td>\n",
       "      <td>7</td>\n",
       "      <td>3301</td>\n",
       "      <td>15766</td>\n",
       "      <td>325</td>\n",
       "      <td>1.000000</td>\n",
       "    </tr>\n",
       "    <tr>\n",
       "      <th>1</th>\n",
       "      <td>1110</td>\n",
       "      <td>7</td>\n",
       "      <td>3301</td>\n",
       "      <td>15766</td>\n",
       "      <td>328</td>\n",
       "      <td>1.000000</td>\n",
       "    </tr>\n",
       "    <tr>\n",
       "      <th>2</th>\n",
       "      <td>1110</td>\n",
       "      <td>7</td>\n",
       "      <td>3301</td>\n",
       "      <td>15766</td>\n",
       "      <td>1212</td>\n",
       "      <td>3.400000</td>\n",
       "    </tr>\n",
       "    <tr>\n",
       "      <th>3</th>\n",
       "      <td>1110</td>\n",
       "      <td>7</td>\n",
       "      <td>3301</td>\n",
       "      <td>15766</td>\n",
       "      <td>1216</td>\n",
       "      <td>2.833333</td>\n",
       "    </tr>\n",
       "    <tr>\n",
       "      <th>4</th>\n",
       "      <td>1110</td>\n",
       "      <td>7</td>\n",
       "      <td>3301</td>\n",
       "      <td>15766</td>\n",
       "      <td>1220</td>\n",
       "      <td>2.000000</td>\n",
       "    </tr>\n",
       "  </tbody>\n",
       "</table>\n",
       "</div>"
      ],
      "text/plain": [
       "   Agencia_ID  Canal_ID  Ruta_SAK  Cliente_ID  Producto_ID  Demanda_uni_equil\n",
       "0        1110         7      3301       15766          325           1.000000\n",
       "1        1110         7      3301       15766          328           1.000000\n",
       "2        1110         7      3301       15766         1212           3.400000\n",
       "3        1110         7      3301       15766         1216           2.833333\n",
       "4        1110         7      3301       15766         1220           2.000000"
      ]
     },
     "execution_count": 14,
     "metadata": {},
     "output_type": "execute_result"
    }
   ],
   "source": [
    "dffive = dftrain.groupby(['Agencia_ID', 'Canal_ID', 'Ruta_SAK', 'Cliente_ID', 'Producto_ID']).Demanda_uni_equil.mean()\n",
    "dffive = dffive.reset_index(drop=False)\n",
    "print(dffive.shape)\n",
    "dffive.head()"
   ]
  },
  {
   "cell_type": "markdown",
   "metadata": {},
   "source": [
    "# Load test data"
   ]
  },
  {
   "cell_type": "code",
   "execution_count": 5,
   "metadata": {
    "collapsed": false
   },
   "outputs": [
    {
     "name": "stdout",
     "output_type": "stream",
     "text": [
      "(6999251, 6)\n",
      "{'Ruta_SAK': dtype('int64'), 'Canal_ID': dtype('int64'), 'id': dtype('int64'), 'Producto_ID': dtype('int64'), 'Cliente_ID': dtype('int64'), 'Agencia_ID': dtype('int64')}\n"
     ]
    },
    {
     "data": {
      "text/html": [
       "<div>\n",
       "<table border=\"1\" class=\"dataframe\">\n",
       "  <thead>\n",
       "    <tr style=\"text-align: right;\">\n",
       "      <th></th>\n",
       "      <th>id</th>\n",
       "      <th>Agencia_ID</th>\n",
       "      <th>Canal_ID</th>\n",
       "      <th>Ruta_SAK</th>\n",
       "      <th>Cliente_ID</th>\n",
       "      <th>Producto_ID</th>\n",
       "    </tr>\n",
       "  </thead>\n",
       "  <tbody>\n",
       "    <tr>\n",
       "      <th>0</th>\n",
       "      <td>0</td>\n",
       "      <td>4037</td>\n",
       "      <td>1</td>\n",
       "      <td>2209</td>\n",
       "      <td>4639078</td>\n",
       "      <td>35305</td>\n",
       "    </tr>\n",
       "    <tr>\n",
       "      <th>1</th>\n",
       "      <td>1</td>\n",
       "      <td>2237</td>\n",
       "      <td>1</td>\n",
       "      <td>1226</td>\n",
       "      <td>4705135</td>\n",
       "      <td>1238</td>\n",
       "    </tr>\n",
       "    <tr>\n",
       "      <th>2</th>\n",
       "      <td>2</td>\n",
       "      <td>2045</td>\n",
       "      <td>1</td>\n",
       "      <td>2831</td>\n",
       "      <td>4549769</td>\n",
       "      <td>32940</td>\n",
       "    </tr>\n",
       "    <tr>\n",
       "      <th>3</th>\n",
       "      <td>3</td>\n",
       "      <td>1227</td>\n",
       "      <td>1</td>\n",
       "      <td>4448</td>\n",
       "      <td>4717855</td>\n",
       "      <td>43066</td>\n",
       "    </tr>\n",
       "    <tr>\n",
       "      <th>4</th>\n",
       "      <td>4</td>\n",
       "      <td>1219</td>\n",
       "      <td>1</td>\n",
       "      <td>1130</td>\n",
       "      <td>966351</td>\n",
       "      <td>1277</td>\n",
       "    </tr>\n",
       "  </tbody>\n",
       "</table>\n",
       "</div>"
      ],
      "text/plain": [
       "   id  Agencia_ID  Canal_ID  Ruta_SAK  Cliente_ID  Producto_ID\n",
       "0   0        4037         1      2209     4639078        35305\n",
       "1   1        2237         1      1226     4705135         1238\n",
       "2   2        2045         1      2831     4549769        32940\n",
       "3   3        1227         1      4448     4717855        43066\n",
       "4   4        1219         1      1130      966351         1277"
      ]
     },
     "execution_count": 5,
     "metadata": {},
     "output_type": "execute_result"
    }
   ],
   "source": [
    "# testiter = pd.read_csv(dataurl+'test.csv.zip', sep=',', compression='zip', chunksize=1000000, usecols=rawcols[:-1])\n",
    "\n",
    "testcols = usecols[:-1].copy()\n",
    "testcols.insert(0, 'id')\n",
    "\n",
    "dftest = inspectdata('test', cols=testcols)\n",
    "dftest.head()"
   ]
  },
  {
   "cell_type": "markdown",
   "metadata": {},
   "source": [
    "## Join test data with mean averages for 5-key group\n",
    "\n",
    "Fill in `NaN` values with the most commonly occurring demand value."
   ]
  },
  {
   "cell_type": "code",
   "execution_count": 15,
   "metadata": {
    "collapsed": false
   },
   "outputs": [
    {
     "data": {
      "text/html": [
       "<div>\n",
       "<table border=\"1\" class=\"dataframe\">\n",
       "  <thead>\n",
       "    <tr style=\"text-align: right;\">\n",
       "      <th></th>\n",
       "      <th>id</th>\n",
       "      <th>Agencia_ID</th>\n",
       "      <th>Canal_ID</th>\n",
       "      <th>Ruta_SAK</th>\n",
       "      <th>Cliente_ID</th>\n",
       "      <th>Producto_ID</th>\n",
       "      <th>Demanda_uni_equil</th>\n",
       "    </tr>\n",
       "  </thead>\n",
       "  <tbody>\n",
       "    <tr>\n",
       "      <th>0</th>\n",
       "      <td>0</td>\n",
       "      <td>4037</td>\n",
       "      <td>1</td>\n",
       "      <td>2209</td>\n",
       "      <td>4639078</td>\n",
       "      <td>35305</td>\n",
       "      <td>4.0</td>\n",
       "    </tr>\n",
       "    <tr>\n",
       "      <th>1</th>\n",
       "      <td>1</td>\n",
       "      <td>2237</td>\n",
       "      <td>1</td>\n",
       "      <td>1226</td>\n",
       "      <td>4705135</td>\n",
       "      <td>1238</td>\n",
       "      <td>NaN</td>\n",
       "    </tr>\n",
       "    <tr>\n",
       "      <th>2</th>\n",
       "      <td>2</td>\n",
       "      <td>2045</td>\n",
       "      <td>1</td>\n",
       "      <td>2831</td>\n",
       "      <td>4549769</td>\n",
       "      <td>32940</td>\n",
       "      <td>2.0</td>\n",
       "    </tr>\n",
       "    <tr>\n",
       "      <th>3</th>\n",
       "      <td>3</td>\n",
       "      <td>1227</td>\n",
       "      <td>1</td>\n",
       "      <td>4448</td>\n",
       "      <td>4717855</td>\n",
       "      <td>43066</td>\n",
       "      <td>NaN</td>\n",
       "    </tr>\n",
       "    <tr>\n",
       "      <th>4</th>\n",
       "      <td>4</td>\n",
       "      <td>1219</td>\n",
       "      <td>1</td>\n",
       "      <td>1130</td>\n",
       "      <td>966351</td>\n",
       "      <td>1277</td>\n",
       "      <td>NaN</td>\n",
       "    </tr>\n",
       "  </tbody>\n",
       "</table>\n",
       "</div>"
      ],
      "text/plain": [
       "   id  Agencia_ID  Canal_ID  Ruta_SAK  Cliente_ID  Producto_ID  \\\n",
       "0   0        4037         1      2209     4639078        35305   \n",
       "1   1        2237         1      1226     4705135         1238   \n",
       "2   2        2045         1      2831     4549769        32940   \n",
       "3   3        1227         1      4448     4717855        43066   \n",
       "4   4        1219         1      1130      966351         1277   \n",
       "\n",
       "   Demanda_uni_equil  \n",
       "0                4.0  \n",
       "1                NaN  \n",
       "2                2.0  \n",
       "3                NaN  \n",
       "4                NaN  "
      ]
     },
     "execution_count": 15,
     "metadata": {},
     "output_type": "execute_result"
    }
   ],
   "source": [
    "dfjoin = pd.merge(dftest, dffive, how='left', on=usecols[:-1])\n",
    "\n",
    "dfjoin.head()"
   ]
  },
  {
   "cell_type": "code",
   "execution_count": 16,
   "metadata": {
    "collapsed": true
   },
   "outputs": [],
   "source": [
    "# save the non-null Demand entries to disk for quick loading in the future\n",
    "\n",
    "dfjoin[['id', 'Demanda_uni_equil']][dfjoin['Demanda_uni_equil'].notnull()].to_csv(\n",
    "    dataurl+'5keyresults.csv', sep=',', index=False)"
   ]
  },
  {
   "cell_type": "code",
   "execution_count": 17,
   "metadata": {
    "collapsed": true
   },
   "outputs": [],
   "source": [
    "# also save the full dataframe null values to disk\n",
    "\n",
    "dfjoin[dfjoin['Demanda_uni_equil'].isnull()].to_csv(dataurl+'5keynull.csv', sep=',', index=False)"
   ]
  },
  {
   "cell_type": "code",
   "execution_count": 26,
   "metadata": {
    "collapsed": false
   },
   "outputs": [
    {
     "name": "stdout",
     "output_type": "stream",
     "text": [
      "Number of new products is 1446543 out of 6999251\n"
     ]
    },
    {
     "data": {
      "text/html": [
       "<div>\n",
       "<table border=\"1\" class=\"dataframe\">\n",
       "  <thead>\n",
       "    <tr style=\"text-align: right;\">\n",
       "      <th></th>\n",
       "      <th>id</th>\n",
       "      <th>Agencia_ID</th>\n",
       "      <th>Canal_ID</th>\n",
       "      <th>Ruta_SAK</th>\n",
       "      <th>Cliente_ID</th>\n",
       "      <th>Producto_ID</th>\n",
       "      <th>Demanda_uni_equil</th>\n",
       "    </tr>\n",
       "  </thead>\n",
       "  <tbody>\n",
       "    <tr>\n",
       "      <th>0</th>\n",
       "      <td>0</td>\n",
       "      <td>4037</td>\n",
       "      <td>1</td>\n",
       "      <td>2209</td>\n",
       "      <td>4639078</td>\n",
       "      <td>35305</td>\n",
       "      <td>4.0</td>\n",
       "    </tr>\n",
       "    <tr>\n",
       "      <th>1</th>\n",
       "      <td>1</td>\n",
       "      <td>2237</td>\n",
       "      <td>1</td>\n",
       "      <td>1226</td>\n",
       "      <td>4705135</td>\n",
       "      <td>1238</td>\n",
       "      <td>2.0</td>\n",
       "    </tr>\n",
       "    <tr>\n",
       "      <th>2</th>\n",
       "      <td>2</td>\n",
       "      <td>2045</td>\n",
       "      <td>1</td>\n",
       "      <td>2831</td>\n",
       "      <td>4549769</td>\n",
       "      <td>32940</td>\n",
       "      <td>2.0</td>\n",
       "    </tr>\n",
       "    <tr>\n",
       "      <th>3</th>\n",
       "      <td>3</td>\n",
       "      <td>1227</td>\n",
       "      <td>1</td>\n",
       "      <td>4448</td>\n",
       "      <td>4717855</td>\n",
       "      <td>43066</td>\n",
       "      <td>2.0</td>\n",
       "    </tr>\n",
       "    <tr>\n",
       "      <th>4</th>\n",
       "      <td>4</td>\n",
       "      <td>1219</td>\n",
       "      <td>1</td>\n",
       "      <td>1130</td>\n",
       "      <td>966351</td>\n",
       "      <td>1277</td>\n",
       "      <td>2.0</td>\n",
       "    </tr>\n",
       "  </tbody>\n",
       "</table>\n",
       "</div>"
      ],
      "text/plain": [
       "   id  Agencia_ID  Canal_ID  Ruta_SAK  Cliente_ID  Producto_ID  \\\n",
       "0   0        4037         1      2209     4639078        35305   \n",
       "1   1        2237         1      1226     4705135         1238   \n",
       "2   2        2045         1      2831     4549769        32940   \n",
       "3   3        1227         1      4448     4717855        43066   \n",
       "4   4        1219         1      1130      966351         1277   \n",
       "\n",
       "   Demanda_uni_equil  \n",
       "0                4.0  \n",
       "1                2.0  \n",
       "2                2.0  \n",
       "3                2.0  \n",
       "4                2.0  "
      ]
     },
     "execution_count": 26,
     "metadata": {},
     "output_type": "execute_result"
    }
   ],
   "source": [
    "# check number of NaN values and fill in with most common demand value (demand=2)\n",
    "\n",
    "nas = dfjoin['Demanda_uni_equil'].isnull().sum()\n",
    "print('Number of new products is {0:} out of {1:}'.format(nas, len(dfjoin)))\n",
    "dfjoin['Demanda_uni_equil'].fillna(2, inplace=True)\n",
    "\n",
    "dfjoin.head()"
   ]
  },
  {
   "cell_type": "code",
   "execution_count": 28,
   "metadata": {
    "collapsed": true
   },
   "outputs": [],
   "source": [
    "def mloutput(df, dataurl=dataurl):\n",
    "    # save prediction\n",
    "    import datetime\n",
    "    nowtime = datetime.datetime.now()\n",
    "    nowstr = nowtime.strftime('%Y%m%d_%H%M')\n",
    "    df.to_csv(dataurl+'mloutput'+nowstr+'.csv', sep=',', index=False)\n",
    "    return"
   ]
  },
  {
   "cell_type": "code",
   "execution_count": 29,
   "metadata": {
    "collapsed": true
   },
   "outputs": [],
   "source": [
    "mloutput(dfjoin[['id','Demanda_uni_equil']])"
   ]
  },
  {
   "cell_type": "markdown",
   "metadata": {},
   "source": [
    "### Leaderboard result: 0.53532 RMSLE"
   ]
  },
  {
   "cell_type": "markdown",
   "metadata": {},
   "source": [
    "___\n",
    "\n",
    "## Repeat but fill in missing weekly values with zero"
   ]
  },
  {
   "cell_type": "markdown",
   "metadata": {},
   "source": [
    "The weekly range for the training data is 3-9. This approach will modify the mean average function to count the number of existing entries and supplement them with zero."
   ]
  },
  {
   "cell_type": "code",
   "execution_count": 7,
   "metadata": {
    "collapsed": false
   },
   "outputs": [
    {
     "name": "stdout",
     "output_type": "stream",
     "text": [
      "26396648 / 74180464\n"
     ]
    }
   ],
   "source": [
    "# how many unique entries are there for each of the 5 keys used above?\n",
    "# this value describes the average number of weekly entries for each identifier (5 keys)\n",
    "\n",
    "print(len(dftrain.drop_duplicates(usecols[:-1])),'/',len(dftrain))"
   ]
  },
  {
   "cell_type": "code",
   "execution_count": 6,
   "metadata": {
    "collapsed": true
   },
   "outputs": [],
   "source": [
    "from collections import OrderedDict\n",
    "\n",
    "def meanzero(tup):\n",
    "    '''takes in tuple of (name,df) from mp.pool.\n",
    "    returns scalar value.'''\n",
    "    # augment demand list with zeros for missing weeks\n",
    "    demand = np.sum(tup[1]['Demanda_uni_equil'])/7\n",
    "    return demand\n",
    "    \n",
    "    # create dictionary to construct dataframe (faster than using df.set_value())\n",
    "#     cols = tup[1].columns.tolist()\n",
    "#     d = OrderedDict(zip(cols,tup[0]))\n",
    "#     d['Demanda_uni_equil'] = np.mean(demand)\n",
    "#     return pd.DataFrame(d, index=[0])\n",
    "#     tup[1].set_value(tup[1].index[0], 'Demanda_uni_equil', np.mean(demand))\n",
    "#     return tup[1].iloc[0].to_frame().transpose()"
   ]
  },
  {
   "cell_type": "code",
   "execution_count": 15,
   "metadata": {
    "collapsed": false
   },
   "outputs": [
    {
     "name": "stdout",
     "output_type": "stream",
     "text": [
      "1 loop, best of 1: 79.7 ms per loop\n"
     ]
    }
   ],
   "source": [
    "# dftrain['Demanda_uni_equil'] = dftrain['Demanda_uni_equil'].astype(float)\n",
    "%timeit -r1 -n1 meanzero(list(dftrain.head(1000).groupby(usecols[:-1]))[0])\n",
    "# a.set_value(0, 'Demanda_uni_equil', 1.1)\n",
    "# a"
   ]
  },
  {
   "cell_type": "code",
   "execution_count": 7,
   "metadata": {
    "collapsed": true
   },
   "outputs": [],
   "source": [
    "def applyParallel(dfGrouped, func):\n",
    "    '''use multiprocessing to apply function to grouped dataframe.\n",
    "    sends tuple of name and group to func.'''\n",
    "    with Pool(cpu_count()-1) as p:\n",
    "        # ret_list = p.map(func, [group for name, group in dfGrouped])\n",
    "        ret_list = p.map(func, list(dfGrouped))\n",
    "    # df = pd.concat(ret_list, ignore_index=True)\n",
    "    return pd.Series(ret_list)\n",
    "\n",
    "def chunkApply(df, col, groupcols, func):\n",
    "    '''break large dataframe into chunks based on percentiles for in-memory processing.\n",
    "    appends each processed chunk to a csv file.\n",
    "    requires `col` for determining chunking and `groupcols` for keys to use in grouping.\n",
    "    requires `dataurl` be set globally'''\n",
    "    percents = np.arange(0,100,4)  # 20 different chunks\n",
    "    vals = [df[col].max()+1]\n",
    "    for p in percents:\n",
    "        vals.append(int(np.percentile(df[col],p)))\n",
    "    vals.sort()\n",
    "    # vals = [df[col].min(), df[col].min()+1]\n",
    "    print('Chunk indices:', vals) \n",
    "    \n",
    "    for i in range(1,len(vals)):   \n",
    "        # select portion\n",
    "        dfpart = df[(df[col]>=vals[i-1]) & (df[col]<vals[i])]\n",
    "        print('Part {:0} of {:1}'.format(i,len(vals)-1))\n",
    "        print('Row count:', '{:,}'.format(len(dfpart)))\n",
    "        # group dataframe by product and client ID\n",
    "        dfGrouped = dfpart.groupby(groupcols)\n",
    "\n",
    "        chunk = applyParallel(dfGrouped, func)\n",
    "        dfpart = None\n",
    "        dfGrouped = None\n",
    "        # overwrite existing file on first pass, otherwise append to file\n",
    "        if i==1:\n",
    "            writemode = 'w'\n",
    "            writehead = True\n",
    "        else:\n",
    "            writemode = 'a'\n",
    "            writehead = False\n",
    "\n",
    "        chunk.to_csv(dataurl+'chunks.csv', sep=',', index=False, header=writehead, mode=writemode)\n",
    "        chunk = None\n",
    "\n",
    "    return # chunk"
   ]
  },
  {
   "cell_type": "code",
   "execution_count": 8,
   "metadata": {
    "collapsed": false
   },
   "outputs": [
    {
     "name": "stdout",
     "output_type": "stream",
     "text": [
      "Chunk indices: [41, 1109, 1146, 1182, 1220, 1238, 1240, 1250, 1284, 2025, 2425, 4259, 30214, 30572, 31484, 32861, 34868, 35571, 36747, 40886, 43039, 43069, 43199, 43274, 44829, 49998]\n",
      "Part 1 of 25\n",
      "Row count: 2,363,210\n",
      "Part 2 of 25\n",
      "Row count: 3,239,099\n",
      "Part 3 of 25\n",
      "Row count: 3,215,745\n",
      "Part 4 of 25\n",
      "Row count: 2,832,082\n",
      "Part 5 of 25\n",
      "Row count: 3,078,924\n",
      "Part 6 of 25\n",
      "Row count: 1,191,873\n",
      "Part 7 of 25\n",
      "Row count: 4,190,519\n",
      "Part 8 of 25\n",
      "Row count: 3,332,033\n",
      "Part 9 of 25\n",
      "Row count: 3,244,550\n",
      "Part 10 of 25\n",
      "Row count: 2,067,265\n",
      "Part 11 of 25\n",
      "Row count: 3,655,162\n",
      "Part 12 of 25\n",
      "Row count: 3,180,160\n",
      "Part 13 of 25\n",
      "Row count: 2,525,907\n",
      "Part 14 of 25\n",
      "Row count: 3,424,102\n",
      "Part 15 of 25\n",
      "Row count: 2,919,991\n",
      "Part 16 of 25\n",
      "Row count: 2,920,758\n",
      "Part 17 of 25\n",
      "Row count: 2,901,863\n",
      "Part 18 of 25\n",
      "Row count: 3,100,501\n",
      "Part 19 of 25\n",
      "Row count: 2,971,914\n",
      "Part 20 of 25\n",
      "Row count: 2,927,119\n",
      "Part 21 of 25\n",
      "Row count: 2,775,631\n",
      "Part 22 of 25\n",
      "Row count: 3,175,753\n",
      "Part 23 of 25\n",
      "Row count: 2,848,154\n",
      "Part 24 of 25\n",
      "Row count: 3,130,242\n",
      "Part 25 of 25\n",
      "Row count: 2,967,907\n"
     ]
    }
   ],
   "source": [
    "# be sure to convert demand from integer to float before analyzing\n",
    "# dftrain['Demanda_uni_equil'] = dftrain['Demanda_uni_equil'].astype(float)\n",
    "\n",
    "chunkApply(dftrain, 'Producto_ID', usecols[:-1], meanzero)"
   ]
  },
  {
   "cell_type": "code",
   "execution_count": null,
   "metadata": {
    "collapsed": true
   },
   "outputs": [],
   "source": []
  },
  {
   "cell_type": "code",
   "execution_count": null,
   "metadata": {
    "collapsed": true
   },
   "outputs": [],
   "source": []
  },
  {
   "cell_type": "markdown",
   "metadata": {},
   "source": [
    "## Repeat with improved NA filling\n",
    "\n",
    "There are a lot of missing demand values in the test set, about 1 in 7 don't appear in the training data. It would be useful to find a better estimate for these new products. Perhaps by dropping the product ID from the grouping."
   ]
  },
  {
   "cell_type": "code",
   "execution_count": 12,
   "metadata": {
    "collapsed": false
   },
   "outputs": [
    {
     "name": "stdout",
     "output_type": "stream",
     "text": [
      "34 new product IDs out of 1,522 total product IDs\n",
      "25,640 new product occurrences out of 6,999,251 total records\n"
     ]
    }
   ],
   "source": [
    "# how many test product IDs are missing from the training set? how much of the dataset is this?\n",
    "\n",
    "sermiss = pd.Series(np.intersect1d(dftest['Producto_ID'].values, dftrain['Producto_ID'].values))\n",
    "misscount = len(dftest['Producto_ID'].unique()) - len(sermiss.unique())\n",
    "valcounts = dftest['Producto_ID'].value_counts(sort=False).to_dict()\n",
    "total = len(dftest) - sum([valcounts[prod] for prod in sermiss.unique()])\n",
    "\n",
    "print('{0:,} new product IDs out of {1:,} total product IDs'.format(misscount, len(dftest['Producto_ID'].unique())))\n",
    "print('{0:,} new product occurrences out of {1:,} total records'.format(total,len(dftest)))"
   ]
  },
  {
   "cell_type": "code",
   "execution_count": 1,
   "metadata": {
    "collapsed": true
   },
   "outputs": [],
   "source": [
    "# any other new IDs?\n",
    "\n",
    "def missing(col):\n",
    "    sermiss = pd.Series(np.intersect1d(dftest[col].values, dftrain[col].values, assume_unique=False))\n",
    "    misscount = len(dftest[col].unique()) - len(sermiss.unique())\n",
    "    valcounts = dftest[col].value_counts(sort=False).to_dict()\n",
    "    total = len(dftest) - sum([valcounts[prod] for prod in sermiss.unique()])\n",
    "    print('{0:,} new {2} out of {1:,} total'.format(misscount, len(dftest[col].unique()), col))\n",
    "    print('{0:,} new record occurrences out of {1:,} total records'.format(total,len(dftest)))\n",
    "    return"
   ]
  },
  {
   "cell_type": "code",
   "execution_count": 10,
   "metadata": {
    "collapsed": false
   },
   "outputs": [
    {
     "name": "stdout",
     "output_type": "stream",
     "text": [
      "0 new Agencia_ID out of 552 total\n",
      "0 new record occurrences out of 6,999,251 total records\n",
      "\n",
      "0 new Canal_ID out of 9 total\n",
      "0 new record occurrences out of 6,999,251 total records\n",
      "\n",
      "17 new Ruta_SAK out of 2,608 total\n",
      "295 new record occurrences out of 6,999,251 total records\n",
      "\n",
      "9,663 new Cliente_ID out of 745,164 total\n",
      "30,054 new record occurrences out of 6,999,251 total records\n",
      "\n",
      "34 new Producto_ID out of 1,522 total\n",
      "25,640 new record occurrences out of 6,999,251 total records\n",
      "\n"
     ]
    }
   ],
   "source": [
    "features = testcols[1:]\n",
    "for feature in features:\n",
    "    missing(feature)\n",
    "    print('')"
   ]
  },
  {
   "cell_type": "markdown",
   "metadata": {},
   "source": [
    "There are almost 1 million products that could not be identified by the 5-part key and only 25000 of those are due to new products. Likewise, the number of occurrences for new client IDs and routes is still a small fraction of the total 1 million entries that were not found in the training data.\n",
    "\n",
    "The other missing values out of that 1 million are likely due to a new combination of agency, channel, route and client for products that do exist in the training data.\n",
    "\n",
    "This it makes more sense to try provide a prediction for products based on these combinations rather than assuming all missing values are due to new products.\n",
    "\n",
    "### Questions that need to be answered:*\n",
    "\n",
    "*1. It appears that only agency and channel ID are preserved between train and test data. Does it make sense to make predictions based only on these two factors?*\n",
    "\n",
    "Its likely that demand is influenced by population so the town and state of the agency may be important. It may be useful to join town/state population to refine demand predictions..."
   ]
  },
  {
   "cell_type": "markdown",
   "metadata": {},
   "source": [
    "___\n",
    "# Appendix\n",
    "___"
   ]
  },
  {
   "cell_type": "markdown",
   "metadata": {},
   "source": [
    "# Number of connections\n",
    "\n",
    "Agency, channel, and route per client.\n",
    "\n",
    "Agency, channel, and route per product."
   ]
  },
  {
   "cell_type": "markdown",
   "metadata": {},
   "source": [
    "### Number of different agencies, channels, and routes for a given client"
   ]
  },
  {
   "cell_type": "code",
   "execution_count": 12,
   "metadata": {
    "collapsed": false
   },
   "outputs": [
    {
     "data": {
      "text/plain": [
       "1     839644\n",
       "2      37227\n",
       "3       3712\n",
       "4         18\n",
       "62         1\n",
       "9          1\n",
       "5          1\n",
       "Name: Agencia_ID, dtype: int64"
      ]
     },
     "execution_count": 12,
     "metadata": {},
     "output_type": "execute_result"
    }
   ],
   "source": [
    "# Number of different agencies that deliver to a given client\n",
    "\n",
    "agencyperclient = dftrain[['Agencia_ID', 'Cliente_ID']].drop_duplicates().groupby('Cliente_ID').Agencia_ID.count()\n",
    "agencyperclient.value_counts()"
   ]
  },
  {
   "cell_type": "markdown",
   "metadata": {},
   "source": [
    "Most clients have a single agency that delivers to them but a few have 2 or more."
   ]
  },
  {
   "cell_type": "code",
   "execution_count": 18,
   "metadata": {
    "collapsed": false
   },
   "outputs": [
    {
     "data": {
      "text/plain": [
       "1    874022\n",
       "2      6516\n",
       "3        65\n",
       "4         1\n",
       "Name: Canal_ID, dtype: int64"
      ]
     },
     "execution_count": 18,
     "metadata": {},
     "output_type": "execute_result"
    }
   ],
   "source": [
    "channelperclient = dftrain[['Canal_ID', 'Cliente_ID']].drop_duplicates().groupby('Cliente_ID').Canal_ID.count()\n",
    "channelperclient.value_counts()"
   ]
  },
  {
   "cell_type": "code",
   "execution_count": 15,
   "metadata": {
    "collapsed": false
   },
   "outputs": [
    {
     "data": {
      "text/plain": [
       "1     289179\n",
       "2     228486\n",
       "3     132962\n",
       "4     104924\n",
       "5     101632\n",
       "6      10233\n",
       "7       8023\n",
       "8       2622\n",
       "9       2301\n",
       "10       204\n",
       "11        15\n",
       "13         5\n",
       "12         3\n",
       "15         3\n",
       "14         2\n",
       "20         2\n",
       "57         2\n",
       "47         1\n",
       "18         1\n",
       "21         1\n",
       "25         1\n",
       "27         1\n",
       "46         1\n",
       "Name: Ruta_SAK, dtype: int64"
      ]
     },
     "execution_count": 15,
     "metadata": {},
     "output_type": "execute_result"
    }
   ],
   "source": [
    "routeperclient = dftrain[['Ruta_SAK', 'Cliente_ID']].drop_duplicates().groupby('Cliente_ID').Ruta_SAK.count()\n",
    "routeperclient.value_counts()"
   ]
  },
  {
   "cell_type": "markdown",
   "metadata": {},
   "source": [
    "### Number of different agencies, channels, and routes per product"
   ]
  },
  {
   "cell_type": "code",
   "execution_count": 21,
   "metadata": {
    "collapsed": false,
    "scrolled": true
   },
   "outputs": [
    {
     "name": "stdout",
     "output_type": "stream",
     "text": [
      "271\n"
     ]
    },
    {
     "data": {
      "text/plain": [
       "1      271\n",
       "2      145\n",
       "3      130\n",
       "4       89\n",
       "5       78\n",
       "6       77\n",
       "7       59\n",
       "9       43\n",
       "8       35\n",
       "12      27\n",
       "10      26\n",
       "11      26\n",
       "13      22\n",
       "15      16\n",
       "50      15\n",
       "17      15\n",
       "14      14\n",
       "34      13\n",
       "18      12\n",
       "22      12\n",
       "19      11\n",
       "62      10\n",
       "20      10\n",
       "46      10\n",
       "24       9\n",
       "57       9\n",
       "16       9\n",
       "25       9\n",
       "28       9\n",
       "23       9\n",
       "      ... \n",
       "120      1\n",
       "115      1\n",
       "114      1\n",
       "112      1\n",
       "151      1\n",
       "161      1\n",
       "217      1\n",
       "162      1\n",
       "216      1\n",
       "214      1\n",
       "210      1\n",
       "209      1\n",
       "206      1\n",
       "200      1\n",
       "195      1\n",
       "192      1\n",
       "189      1\n",
       "187      1\n",
       "185      1\n",
       "184      1\n",
       "177      1\n",
       "176      1\n",
       "174      1\n",
       "173      1\n",
       "172      1\n",
       "171      1\n",
       "169      1\n",
       "167      1\n",
       "163      1\n",
       "139      1\n",
       "Name: Agencia_ID, dtype: int64"
      ]
     },
     "execution_count": 21,
     "metadata": {},
     "output_type": "execute_result"
    }
   ],
   "source": [
    "agencyperproduct = dftrain[['Agencia_ID', 'Producto_ID']].drop_duplicates().groupby('Producto_ID').Agencia_ID.count()\n",
    "print(len(agencyperproduct.value_counts()))\n",
    "agencyperproduct.value_counts()"
   ]
  },
  {
   "cell_type": "code",
   "execution_count": 22,
   "metadata": {
    "collapsed": false
   },
   "outputs": [
    {
     "name": "stdout",
     "output_type": "stream",
     "text": [
      "8\n"
     ]
    },
    {
     "data": {
      "text/plain": [
       "1    743\n",
       "2    293\n",
       "3    185\n",
       "4    150\n",
       "6    137\n",
       "7    134\n",
       "5    119\n",
       "8     38\n",
       "Name: Canal_ID, dtype: int64"
      ]
     },
     "execution_count": 22,
     "metadata": {},
     "output_type": "execute_result"
    }
   ],
   "source": [
    "channelperproduct = dftrain[['Canal_ID', 'Producto_ID']].drop_duplicates().groupby('Producto_ID').Canal_ID.count()\n",
    "print(len(channelperproduct.value_counts()))\n",
    "channelperproduct.value_counts()"
   ]
  },
  {
   "cell_type": "code",
   "execution_count": 24,
   "metadata": {
    "collapsed": false,
    "scrolled": true
   },
   "outputs": [
    {
     "name": "stdout",
     "output_type": "stream",
     "text": [
      "473\n"
     ]
    },
    {
     "data": {
      "text/plain": [
       "1      155\n",
       "2       87\n",
       "3       67\n",
       "5       56\n",
       "18      46\n",
       "4       40\n",
       "6       36\n",
       "14      34\n",
       "11      26\n",
       "7       26\n",
       "20      23\n",
       "17      21\n",
       "8       19\n",
       "16      18\n",
       "9       16\n",
       "13      16\n",
       "10      15\n",
       "15      15\n",
       "24      14\n",
       "12      14\n",
       "47      14\n",
       "19      14\n",
       "29      13\n",
       "22      13\n",
       "21      13\n",
       "23      12\n",
       "27      12\n",
       "35      12\n",
       "25      11\n",
       "42      11\n",
       "      ... \n",
       "450      1\n",
       "451      1\n",
       "456      1\n",
       "459      1\n",
       "460      1\n",
       "462      1\n",
       "415      1\n",
       "410      1\n",
       "353      1\n",
       "405      1\n",
       "354      1\n",
       "357      1\n",
       "358      1\n",
       "360      1\n",
       "361      1\n",
       "364      1\n",
       "369      1\n",
       "370      1\n",
       "372      1\n",
       "374      1\n",
       "375      1\n",
       "376      1\n",
       "381      1\n",
       "382      1\n",
       "392      1\n",
       "397      1\n",
       "398      1\n",
       "400      1\n",
       "402      1\n",
       "286      1\n",
       "Name: Ruta_SAK, dtype: int64"
      ]
     },
     "execution_count": 24,
     "metadata": {},
     "output_type": "execute_result"
    }
   ],
   "source": [
    "routeperproduct = dftrain[['Ruta_SAK', 'Producto_ID']].drop_duplicates().groupby('Producto_ID').Ruta_SAK.count()\n",
    "print(len(routeperproduct.value_counts()))\n",
    "routeperproduct.value_counts()"
   ]
  },
  {
   "cell_type": "code",
   "execution_count": null,
   "metadata": {
    "collapsed": true
   },
   "outputs": [],
   "source": []
  }
 ],
 "metadata": {
  "kernelspec": {
   "display_name": "Python 3",
   "language": "python",
   "name": "python3"
  },
  "language_info": {
   "codemirror_mode": {
    "name": "ipython",
    "version": 3
   },
   "file_extension": ".py",
   "mimetype": "text/x-python",
   "name": "python",
   "nbconvert_exporter": "python",
   "pygments_lexer": "ipython3",
   "version": "3.5.1+"
  }
 },
 "nbformat": 4,
 "nbformat_minor": 0
}
