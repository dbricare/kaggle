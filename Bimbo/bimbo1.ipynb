{
 "cells": [
  {
   "cell_type": "code",
   "execution_count": 58,
   "metadata": {
    "collapsed": false
   },
   "outputs": [],
   "source": [
    "import pandas as pd\n",
    "import numpy as np\n",
    "import matplotlib.pyplot as plt\n",
    "import seaborn as sns\n",
    "import re, datetime\n",
    "\n",
    "from multiprocessing import Pool, cpu_count\n",
    "\n",
    "from sklearn.linear_model import LinearRegression, RidgeCV, Ridge, Lasso, LinearRegression\n",
    "from sklearn.preprocessing import OneHotEncoder\n",
    "from sklearn.metrics import make_scorer, mean_squared_error\n",
    "from sklearn.preprocessing import StandardScaler\n",
    "from sklearn.cross_validation import PredefinedSplit, cross_val_score\n",
    "from sklearn.grid_search import GridSearchCV\n",
    "from scipy.stats import linregress\n",
    "\n",
    "import ml_metrics as metrics\n",
    "\n",
    "%matplotlib inline\n",
    "\n",
    "dataurl = '/home/dbricare/Documents/Python/datasets/bimbo/'"
   ]
  },
  {
   "cell_type": "markdown",
   "metadata": {},
   "source": [
    "# Load and examine train and test data"
   ]
  },
  {
   "cell_type": "code",
   "execution_count": 2,
   "metadata": {
    "collapsed": true
   },
   "outputs": [],
   "source": [
    "dataurl = '/home/dbricare/Documents/Python/datasets/bimbo/'\n",
    "\n",
    "def inspectdata(testortrain, cols=None, rows=None):\n",
    "    dataparams = {'sep':',', 'compression':'zip', 'usecols':cols, 'nrows':rows}\n",
    "    df = pd.read_csv(dataurl+testortrain+'.csv.zip', **dataparams)\n",
    "    print(df.shape)\n",
    "    dictcols = dict(zip(list(df.columns),[df[col].dtype for col in df.columns]))\n",
    "    print(dictcols)\n",
    "    return df"
   ]
  },
  {
   "cell_type": "code",
   "execution_count": 3,
   "metadata": {
    "collapsed": false
   },
   "outputs": [
    {
     "name": "stdout",
     "output_type": "stream",
     "text": [
      "(74180464, 11)\n",
      "{'Venta_hoy': dtype('float64'), 'Cliente_ID': dtype('int64'), 'Demanda_uni_equil': dtype('int64'), 'Venta_uni_hoy': dtype('int64'), 'Dev_uni_proxima': dtype('int64'), 'Agencia_ID': dtype('int64'), 'Canal_ID': dtype('int64'), 'Semana': dtype('int64'), 'Ruta_SAK': dtype('int64'), 'Dev_proxima': dtype('float64'), 'Producto_ID': dtype('int64')}\n"
     ]
    },
    {
     "data": {
      "text/html": [
       "<div>\n",
       "<table border=\"1\" class=\"dataframe\">\n",
       "  <thead>\n",
       "    <tr style=\"text-align: right;\">\n",
       "      <th></th>\n",
       "      <th>Semana</th>\n",
       "      <th>Agencia_ID</th>\n",
       "      <th>Canal_ID</th>\n",
       "      <th>Ruta_SAK</th>\n",
       "      <th>Cliente_ID</th>\n",
       "      <th>Producto_ID</th>\n",
       "      <th>Venta_uni_hoy</th>\n",
       "      <th>Venta_hoy</th>\n",
       "      <th>Dev_uni_proxima</th>\n",
       "      <th>Dev_proxima</th>\n",
       "      <th>Demanda_uni_equil</th>\n",
       "    </tr>\n",
       "  </thead>\n",
       "  <tbody>\n",
       "    <tr>\n",
       "      <th>0</th>\n",
       "      <td>3</td>\n",
       "      <td>1110</td>\n",
       "      <td>7</td>\n",
       "      <td>3301</td>\n",
       "      <td>15766</td>\n",
       "      <td>1212</td>\n",
       "      <td>3</td>\n",
       "      <td>25.14</td>\n",
       "      <td>0</td>\n",
       "      <td>0.0</td>\n",
       "      <td>3</td>\n",
       "    </tr>\n",
       "    <tr>\n",
       "      <th>1</th>\n",
       "      <td>3</td>\n",
       "      <td>1110</td>\n",
       "      <td>7</td>\n",
       "      <td>3301</td>\n",
       "      <td>15766</td>\n",
       "      <td>1216</td>\n",
       "      <td>4</td>\n",
       "      <td>33.52</td>\n",
       "      <td>0</td>\n",
       "      <td>0.0</td>\n",
       "      <td>4</td>\n",
       "    </tr>\n",
       "    <tr>\n",
       "      <th>2</th>\n",
       "      <td>3</td>\n",
       "      <td>1110</td>\n",
       "      <td>7</td>\n",
       "      <td>3301</td>\n",
       "      <td>15766</td>\n",
       "      <td>1238</td>\n",
       "      <td>4</td>\n",
       "      <td>39.32</td>\n",
       "      <td>0</td>\n",
       "      <td>0.0</td>\n",
       "      <td>4</td>\n",
       "    </tr>\n",
       "    <tr>\n",
       "      <th>3</th>\n",
       "      <td>3</td>\n",
       "      <td>1110</td>\n",
       "      <td>7</td>\n",
       "      <td>3301</td>\n",
       "      <td>15766</td>\n",
       "      <td>1240</td>\n",
       "      <td>4</td>\n",
       "      <td>33.52</td>\n",
       "      <td>0</td>\n",
       "      <td>0.0</td>\n",
       "      <td>4</td>\n",
       "    </tr>\n",
       "    <tr>\n",
       "      <th>4</th>\n",
       "      <td>3</td>\n",
       "      <td>1110</td>\n",
       "      <td>7</td>\n",
       "      <td>3301</td>\n",
       "      <td>15766</td>\n",
       "      <td>1242</td>\n",
       "      <td>3</td>\n",
       "      <td>22.92</td>\n",
       "      <td>0</td>\n",
       "      <td>0.0</td>\n",
       "      <td>3</td>\n",
       "    </tr>\n",
       "  </tbody>\n",
       "</table>\n",
       "</div>"
      ],
      "text/plain": [
       "   Semana  Agencia_ID  Canal_ID  Ruta_SAK  Cliente_ID  Producto_ID  \\\n",
       "0       3        1110         7      3301       15766         1212   \n",
       "1       3        1110         7      3301       15766         1216   \n",
       "2       3        1110         7      3301       15766         1238   \n",
       "3       3        1110         7      3301       15766         1240   \n",
       "4       3        1110         7      3301       15766         1242   \n",
       "\n",
       "   Venta_uni_hoy  Venta_hoy  Dev_uni_proxima  Dev_proxima  Demanda_uni_equil  \n",
       "0              3      25.14                0          0.0                  3  \n",
       "1              4      33.52                0          0.0                  4  \n",
       "2              4      39.32                0          0.0                  4  \n",
       "3              4      33.52                0          0.0                  4  \n",
       "4              3      22.92                0          0.0                  3  "
      ]
     },
     "execution_count": 3,
     "metadata": {},
     "output_type": "execute_result"
    }
   ],
   "source": [
    "dftrain = inspectdata('train')\n",
    "dftrain.head()"
   ]
  },
  {
   "cell_type": "code",
   "execution_count": 4,
   "metadata": {
    "collapsed": false
   },
   "outputs": [
    {
     "name": "stdout",
     "output_type": "stream",
     "text": [
      "(6999251, 7)\n",
      "{'Cliente_ID': dtype('int64'), 'Ruta_SAK': dtype('int64'), 'Semana': dtype('int64'), 'Producto_ID': dtype('int64'), 'id': dtype('int64'), 'Agencia_ID': dtype('int64'), 'Canal_ID': dtype('int64')}\n"
     ]
    },
    {
     "data": {
      "text/html": [
       "<div>\n",
       "<table border=\"1\" class=\"dataframe\">\n",
       "  <thead>\n",
       "    <tr style=\"text-align: right;\">\n",
       "      <th></th>\n",
       "      <th>id</th>\n",
       "      <th>Semana</th>\n",
       "      <th>Agencia_ID</th>\n",
       "      <th>Canal_ID</th>\n",
       "      <th>Ruta_SAK</th>\n",
       "      <th>Cliente_ID</th>\n",
       "      <th>Producto_ID</th>\n",
       "    </tr>\n",
       "  </thead>\n",
       "  <tbody>\n",
       "    <tr>\n",
       "      <th>0</th>\n",
       "      <td>0</td>\n",
       "      <td>11</td>\n",
       "      <td>4037</td>\n",
       "      <td>1</td>\n",
       "      <td>2209</td>\n",
       "      <td>4639078</td>\n",
       "      <td>35305</td>\n",
       "    </tr>\n",
       "    <tr>\n",
       "      <th>1</th>\n",
       "      <td>1</td>\n",
       "      <td>11</td>\n",
       "      <td>2237</td>\n",
       "      <td>1</td>\n",
       "      <td>1226</td>\n",
       "      <td>4705135</td>\n",
       "      <td>1238</td>\n",
       "    </tr>\n",
       "    <tr>\n",
       "      <th>2</th>\n",
       "      <td>2</td>\n",
       "      <td>10</td>\n",
       "      <td>2045</td>\n",
       "      <td>1</td>\n",
       "      <td>2831</td>\n",
       "      <td>4549769</td>\n",
       "      <td>32940</td>\n",
       "    </tr>\n",
       "    <tr>\n",
       "      <th>3</th>\n",
       "      <td>3</td>\n",
       "      <td>11</td>\n",
       "      <td>1227</td>\n",
       "      <td>1</td>\n",
       "      <td>4448</td>\n",
       "      <td>4717855</td>\n",
       "      <td>43066</td>\n",
       "    </tr>\n",
       "    <tr>\n",
       "      <th>4</th>\n",
       "      <td>4</td>\n",
       "      <td>11</td>\n",
       "      <td>1219</td>\n",
       "      <td>1</td>\n",
       "      <td>1130</td>\n",
       "      <td>966351</td>\n",
       "      <td>1277</td>\n",
       "    </tr>\n",
       "  </tbody>\n",
       "</table>\n",
       "</div>"
      ],
      "text/plain": [
       "   id  Semana  Agencia_ID  Canal_ID  Ruta_SAK  Cliente_ID  Producto_ID\n",
       "0   0      11        4037         1      2209     4639078        35305\n",
       "1   1      11        2237         1      1226     4705135         1238\n",
       "2   2      10        2045         1      2831     4549769        32940\n",
       "3   3      11        1227         1      4448     4717855        43066\n",
       "4   4      11        1219         1      1130      966351         1277"
      ]
     },
     "execution_count": 4,
     "metadata": {},
     "output_type": "execute_result"
    }
   ],
   "source": [
    "dftest = inspectdata('test')\n",
    "dftest.head()"
   ]
  },
  {
   "cell_type": "markdown",
   "metadata": {},
   "source": [
    "___\n",
    "# Establish naming scheme for clients\n",
    "\n",
    "Data description explains there are multiple client names for each client ID."
   ]
  },
  {
   "cell_type": "code",
   "execution_count": 42,
   "metadata": {
    "collapsed": false
   },
   "outputs": [
    {
     "name": "stdout",
     "output_type": "stream",
     "text": [
      "(935362, 2)\n",
      "{'NombreCliente': dtype('O'), 'Cliente_ID': dtype('int64')}\n",
      "2015152015\n"
     ]
    },
    {
     "data": {
      "text/html": [
       "<div>\n",
       "<table border=\"1\" class=\"dataframe\">\n",
       "  <thead>\n",
       "    <tr style=\"text-align: right;\">\n",
       "      <th></th>\n",
       "      <th>Cliente_ID</th>\n",
       "      <th>NombreCliente</th>\n",
       "    </tr>\n",
       "  </thead>\n",
       "  <tbody>\n",
       "    <tr>\n",
       "      <th>0</th>\n",
       "      <td>0</td>\n",
       "      <td>SIN NOMBRE</td>\n",
       "    </tr>\n",
       "    <tr>\n",
       "      <th>1</th>\n",
       "      <td>1</td>\n",
       "      <td>OXXO XINANTECATL</td>\n",
       "    </tr>\n",
       "    <tr>\n",
       "      <th>2</th>\n",
       "      <td>2</td>\n",
       "      <td>SIN NOMBRE</td>\n",
       "    </tr>\n",
       "    <tr>\n",
       "      <th>3</th>\n",
       "      <td>3</td>\n",
       "      <td>EL MORENO</td>\n",
       "    </tr>\n",
       "    <tr>\n",
       "      <th>4</th>\n",
       "      <td>4</td>\n",
       "      <td>SDN SER  DE ALIM  CUERPO SA CIA  DE INT</td>\n",
       "    </tr>\n",
       "    <tr>\n",
       "      <th>5</th>\n",
       "      <td>4</td>\n",
       "      <td>SDN SER DE ALIM CUERPO SA CIA DE INT</td>\n",
       "    </tr>\n",
       "    <tr>\n",
       "      <th>6</th>\n",
       "      <td>5</td>\n",
       "      <td>LA VAQUITA</td>\n",
       "    </tr>\n",
       "    <tr>\n",
       "      <th>7</th>\n",
       "      <td>6</td>\n",
       "      <td>LUPITA</td>\n",
       "    </tr>\n",
       "    <tr>\n",
       "      <th>8</th>\n",
       "      <td>7</td>\n",
       "      <td>I M EL GUERO</td>\n",
       "    </tr>\n",
       "    <tr>\n",
       "      <th>9</th>\n",
       "      <td>8</td>\n",
       "      <td>MINI SUPER LOS LUPES</td>\n",
       "    </tr>\n",
       "  </tbody>\n",
       "</table>\n",
       "</div>"
      ],
      "text/plain": [
       "   Cliente_ID                            NombreCliente\n",
       "0           0                               SIN NOMBRE\n",
       "1           1                         OXXO XINANTECATL\n",
       "2           2                               SIN NOMBRE\n",
       "3           3                                EL MORENO\n",
       "4           4  SDN SER  DE ALIM  CUERPO SA CIA  DE INT\n",
       "5           4     SDN SER DE ALIM CUERPO SA CIA DE INT\n",
       "6           5                               LA VAQUITA\n",
       "7           6                                   LUPITA\n",
       "8           7                             I M EL GUERO\n",
       "9           8                     MINI SUPER LOS LUPES"
      ]
     },
     "execution_count": 42,
     "metadata": {},
     "output_type": "execute_result"
    }
   ],
   "source": [
    "dfclient = inspectdata('cliente_tabla')\n",
    "print(dfclient['Cliente_ID'].max())   # do row number and Cliente_ID match?\n",
    "dfclient.head(10)"
   ]
  },
  {
   "cell_type": "code",
   "execution_count": 43,
   "metadata": {
    "collapsed": false
   },
   "outputs": [
    {
     "name": "stdout",
     "output_type": "stream",
     "text": [
      "(304876, 3)\n"
     ]
    },
    {
     "data": {
      "text/html": [
       "<div>\n",
       "<table border=\"1\" class=\"dataframe\">\n",
       "  <thead>\n",
       "    <tr style=\"text-align: right;\">\n",
       "      <th></th>\n",
       "      <th>Cliente_ID</th>\n",
       "      <th>NombreCliente</th>\n",
       "      <th>nc</th>\n",
       "    </tr>\n",
       "  </thead>\n",
       "  <tbody>\n",
       "    <tr>\n",
       "      <th>0</th>\n",
       "      <td>0</td>\n",
       "      <td>SIN NOMBRE</td>\n",
       "      <td>SINNOMBRE</td>\n",
       "    </tr>\n",
       "    <tr>\n",
       "      <th>1</th>\n",
       "      <td>1</td>\n",
       "      <td>OXXO XINANTECATL</td>\n",
       "      <td>OXXOXINANTECATL</td>\n",
       "    </tr>\n",
       "    <tr>\n",
       "      <th>3</th>\n",
       "      <td>3</td>\n",
       "      <td>EL MORENO</td>\n",
       "      <td>ELMORENO</td>\n",
       "    </tr>\n",
       "    <tr>\n",
       "      <th>4</th>\n",
       "      <td>4</td>\n",
       "      <td>SDN SER  DE ALIM  CUERPO SA CIA  DE INT</td>\n",
       "      <td>SDNSERDEALIMCUERPOSACIADEINT</td>\n",
       "    </tr>\n",
       "    <tr>\n",
       "      <th>6</th>\n",
       "      <td>5</td>\n",
       "      <td>LA VAQUITA</td>\n",
       "      <td>LAVAQUITA</td>\n",
       "    </tr>\n",
       "    <tr>\n",
       "      <th>7</th>\n",
       "      <td>6</td>\n",
       "      <td>LUPITA</td>\n",
       "      <td>LUPITA</td>\n",
       "    </tr>\n",
       "    <tr>\n",
       "      <th>8</th>\n",
       "      <td>7</td>\n",
       "      <td>I M EL GUERO</td>\n",
       "      <td>IMELGUERO</td>\n",
       "    </tr>\n",
       "    <tr>\n",
       "      <th>9</th>\n",
       "      <td>8</td>\n",
       "      <td>MINI SUPER LOS LUPES</td>\n",
       "      <td>MINISUPERLOSLUPES</td>\n",
       "    </tr>\n",
       "    <tr>\n",
       "      <th>10</th>\n",
       "      <td>9</td>\n",
       "      <td>SUPER KOMPRAS MICRO COLON</td>\n",
       "      <td>SUPERKOMPRASMICROCOLON</td>\n",
       "    </tr>\n",
       "    <tr>\n",
       "      <th>11</th>\n",
       "      <td>10</td>\n",
       "      <td>LONJA MERCANTIL DE TODO</td>\n",
       "      <td>LONJAMERCANTILDETODO</td>\n",
       "    </tr>\n",
       "  </tbody>\n",
       "</table>\n",
       "</div>"
      ],
      "text/plain": [
       "    Cliente_ID                            NombreCliente  \\\n",
       "0            0                               SIN NOMBRE   \n",
       "1            1                         OXXO XINANTECATL   \n",
       "3            3                                EL MORENO   \n",
       "4            4  SDN SER  DE ALIM  CUERPO SA CIA  DE INT   \n",
       "6            5                               LA VAQUITA   \n",
       "7            6                                   LUPITA   \n",
       "8            7                             I M EL GUERO   \n",
       "9            8                     MINI SUPER LOS LUPES   \n",
       "10           9                SUPER KOMPRAS MICRO COLON   \n",
       "11          10                  LONJA MERCANTIL DE TODO   \n",
       "\n",
       "                              nc  \n",
       "0                      SINNOMBRE  \n",
       "1                OXXOXINANTECATL  \n",
       "3                       ELMORENO  \n",
       "4   SDNSERDEALIMCUERPOSACIADEINT  \n",
       "6                      LAVAQUITA  \n",
       "7                         LUPITA  \n",
       "8                      IMELGUERO  \n",
       "9              MINISUPERLOSLUPES  \n",
       "10        SUPERKOMPRASMICROCOLON  \n",
       "11          LONJAMERCANTILDETODO  "
      ]
     },
     "execution_count": 43,
     "metadata": {},
     "output_type": "execute_result"
    }
   ],
   "source": [
    "# appears to be some duplicates which can be dropped, Cliente_ID not in tabla will be assumed 'SIN NOMBRE'\n",
    "\n",
    "# make cases match before comparison\n",
    "dfclient['NombreCliente'] = dfclient['NombreCliente'].str.upper()\n",
    "dfclient['nc'] = dfclient['NombreCliente'].str.replace(' ','')\n",
    "\n",
    "dfclient.drop_duplicates('nc', inplace=True)\n",
    "print(dfclient.shape)\n",
    "# print(dfclient['Cliente_ID'].max())\n",
    "# print(dfclient['NombreCliente'].loc[4],dfclient['NombreCliente'].loc[5])\n",
    "dfclient.head(10)"
   ]
  },
  {
   "cell_type": "code",
   "execution_count": 44,
   "metadata": {
    "collapsed": false
   },
   "outputs": [],
   "source": [
    "# drop unnecessary column 'nc', drop row for 'SIN NOMBRE', create 'present' column and save new table\n",
    "\n",
    "dfclient.drop(0, axis=0, inplace=True)\n",
    "dfclient['present'] = 1\n",
    "dfclient[['Cliente_ID', 'NombreCliente', 'present']].to_csv(dataurl+'cliente_tabla_drop.csv', sep=',', index=False)"
   ]
  },
  {
   "cell_type": "code",
   "execution_count": 45,
   "metadata": {
    "collapsed": false,
    "scrolled": true
   },
   "outputs": [
    {
     "data": {
      "text/html": [
       "<div>\n",
       "<table border=\"1\" class=\"dataframe\">\n",
       "  <thead>\n",
       "    <tr style=\"text-align: right;\">\n",
       "      <th></th>\n",
       "      <th>Cliente_ID</th>\n",
       "      <th>NombreCliente</th>\n",
       "      <th>nc</th>\n",
       "      <th>present</th>\n",
       "    </tr>\n",
       "  </thead>\n",
       "  <tbody>\n",
       "    <tr>\n",
       "      <th>1</th>\n",
       "      <td>1</td>\n",
       "      <td>OXXO XINANTECATL</td>\n",
       "      <td>OXXOXINANTECATL</td>\n",
       "      <td>1</td>\n",
       "    </tr>\n",
       "    <tr>\n",
       "      <th>3</th>\n",
       "      <td>3</td>\n",
       "      <td>EL MORENO</td>\n",
       "      <td>ELMORENO</td>\n",
       "      <td>1</td>\n",
       "    </tr>\n",
       "    <tr>\n",
       "      <th>4</th>\n",
       "      <td>4</td>\n",
       "      <td>SDN SER  DE ALIM  CUERPO SA CIA  DE INT</td>\n",
       "      <td>SDNSERDEALIMCUERPOSACIADEINT</td>\n",
       "      <td>1</td>\n",
       "    </tr>\n",
       "    <tr>\n",
       "      <th>6</th>\n",
       "      <td>5</td>\n",
       "      <td>LA VAQUITA</td>\n",
       "      <td>LAVAQUITA</td>\n",
       "      <td>1</td>\n",
       "    </tr>\n",
       "    <tr>\n",
       "      <th>7</th>\n",
       "      <td>6</td>\n",
       "      <td>LUPITA</td>\n",
       "      <td>LUPITA</td>\n",
       "      <td>1</td>\n",
       "    </tr>\n",
       "  </tbody>\n",
       "</table>\n",
       "</div>"
      ],
      "text/plain": [
       "   Cliente_ID                            NombreCliente  \\\n",
       "1           1                         OXXO XINANTECATL   \n",
       "3           3                                EL MORENO   \n",
       "4           4  SDN SER  DE ALIM  CUERPO SA CIA  DE INT   \n",
       "6           5                               LA VAQUITA   \n",
       "7           6                                   LUPITA   \n",
       "\n",
       "                             nc  present  \n",
       "1               OXXOXINANTECATL        1  \n",
       "3                      ELMORENO        1  \n",
       "4  SDNSERDEALIMCUERPOSACIADEINT        1  \n",
       "6                     LAVAQUITA        1  \n",
       "7                        LUPITA        1  "
      ]
     },
     "execution_count": 45,
     "metadata": {},
     "output_type": "execute_result"
    }
   ],
   "source": [
    "dfclient.head()"
   ]
  },
  {
   "cell_type": "code",
   "execution_count": 47,
   "metadata": {
    "collapsed": false
   },
   "outputs": [
    {
     "data": {
      "text/plain": [
       "count    304875.0\n",
       "mean          1.0\n",
       "std           0.0\n",
       "min           1.0\n",
       "25%           1.0\n",
       "50%           1.0\n",
       "75%           1.0\n",
       "max           1.0\n",
       "Name: NombreCliente, dtype: float64"
      ]
     },
     "execution_count": 47,
     "metadata": {},
     "output_type": "execute_result"
    }
   ],
   "source": [
    "clientgroup = dfclient.groupby('Cliente_ID').count()\n",
    "clientgroup['NombreCliente'].describe()"
   ]
  },
  {
   "cell_type": "markdown",
   "metadata": {},
   "source": [
    "## Result\n",
    "\n",
    "Client names are cleaned up by removing spaces and droping duplicates. Each `Cliente_ID` now maps to a single `NombreCliente`.\n",
    "\n",
    "Initial model will only take into account if name is present in table (categorical Bernoulli variables). Future models may (1) count the number of words in the name, (2) look for clients who are individuals, government or businesses, (3) differentiate types of businesses (large vs small stores, etc.)"
   ]
  },
  {
   "cell_type": "markdown",
   "metadata": {},
   "source": [
    "___\n",
    "# Establish sales volume for each client\n",
    "\n",
    "There may be a link between product demand and size of bimbo product portfolio for store/client."
   ]
  },
  {
   "cell_type": "code",
   "execution_count": 36,
   "metadata": {
    "collapsed": true
   },
   "outputs": [],
   "source": [
    "# To speed up analysis, look at only semana 3\n",
    "\n",
    "# df3 = dftrain[dftrain['Semana']==3].copy()\n",
    "# df3.drop('Semana', axis=1, inplace=True)\n",
    "\n",
    "# clienteruta = df3[['Cliente_ID', 'Ruta_SAK']].groupby('Cliente_ID').count()"
   ]
  },
  {
   "cell_type": "code",
   "execution_count": 53,
   "metadata": {
    "collapsed": false
   },
   "outputs": [],
   "source": [
    "# Groupby client and unique products\n",
    "\n",
    "clientprod = dftrain[['Cliente_ID', 'Producto_ID']].groupby('Cliente_ID').Producto_ID.nunique()"
   ]
  },
  {
   "cell_type": "code",
   "execution_count": 73,
   "metadata": {
    "collapsed": false
   },
   "outputs": [
    {
     "data": {
      "image/png": "[encoded data removed]",
      "text/plain": [
       "<matplotlib.figure.Figure at 0x7f082abaeeb8>"
      ]
     },
     "metadata": {},
     "output_type": "display_data"
    }
   ],
   "source": [
    "_ = plt.figure(figsize=(14,6))\n",
    "_ = plt.xlabel('Number of Products')\n",
    "_ = plt.ylabel('Number of clients')\n",
    "_ = plt.xlim(0,215)\n",
    "\n",
    "_ = clientprod.hist(bins=215)"
   ]
  },
  {
   "cell_type": "code",
   "execution_count": 62,
   "metadata": {
    "collapsed": false
   },
   "outputs": [
    {
     "data": {
      "text/plain": [
       "count    880604.000000\n",
       "mean         29.333887\n",
       "std          23.040138\n",
       "min           1.000000\n",
       "25%          11.000000\n",
       "50%          24.000000\n",
       "75%          43.000000\n",
       "max         215.000000\n",
       "Name: Producto_ID, dtype: float64"
      ]
     },
     "execution_count": 62,
     "metadata": {},
     "output_type": "execute_result"
    }
   ],
   "source": [
    "clientprod.describe()"
   ]
  },
  {
   "cell_type": "code",
   "execution_count": 60,
   "metadata": {
    "collapsed": false
   },
   "outputs": [
    {
     "data": {
      "text/html": [
       "<div>\n",
       "<table border=\"1\" class=\"dataframe\">\n",
       "  <thead>\n",
       "    <tr style=\"text-align: right;\">\n",
       "      <th></th>\n",
       "      <th>Cliente_ID</th>\n",
       "      <th>Producto_ID</th>\n",
       "    </tr>\n",
       "  </thead>\n",
       "  <tbody>\n",
       "    <tr>\n",
       "      <th>0</th>\n",
       "      <td>26</td>\n",
       "      <td>51</td>\n",
       "    </tr>\n",
       "    <tr>\n",
       "      <th>1</th>\n",
       "      <td>60</td>\n",
       "      <td>34</td>\n",
       "    </tr>\n",
       "    <tr>\n",
       "      <th>2</th>\n",
       "      <td>65</td>\n",
       "      <td>112</td>\n",
       "    </tr>\n",
       "    <tr>\n",
       "      <th>3</th>\n",
       "      <td>101</td>\n",
       "      <td>4</td>\n",
       "    </tr>\n",
       "    <tr>\n",
       "      <th>4</th>\n",
       "      <td>105</td>\n",
       "      <td>72</td>\n",
       "    </tr>\n",
       "  </tbody>\n",
       "</table>\n",
       "</div>"
      ],
      "text/plain": [
       "   Cliente_ID  Producto_ID\n",
       "0          26           51\n",
       "1          60           34\n",
       "2          65          112\n",
       "3         101            4\n",
       "4         105           72"
      ]
     },
     "execution_count": 60,
     "metadata": {},
     "output_type": "execute_result"
    }
   ],
   "source": [
    "dfcp = clientprod.reset_index()\n",
    "dfcp.head()"
   ]
  },
  {
   "cell_type": "code",
   "execution_count": 61,
   "metadata": {
    "collapsed": false
   },
   "outputs": [
    {
     "name": "stdout",
     "output_type": "stream",
     "text": [
      "880604 880604\n"
     ]
    }
   ],
   "source": [
    "# expect each client in training data to have an entry in this dataframe\n",
    "\n",
    "print(len(dftrain['Cliente_ID'].unique()),dfcp.shape[0])"
   ]
  },
  {
   "cell_type": "code",
   "execution_count": 71,
   "metadata": {
    "collapsed": true
   },
   "outputs": [],
   "source": [
    "# save data for future use\n",
    "dfcp.sort_values('Producto_ID', axis=0, ascending=False, inplace=True)\n",
    "dfcp.columns = ['Cliente_ID', 'prodcount']\n",
    "dfcp.to_csv(dataurl+'producto_por_cliente.csv', sep=',', index=False)"
   ]
  },
  {
   "cell_type": "markdown",
   "metadata": {},
   "source": [
    "## Result\n",
    "\n",
    "Created table to construct feature consisting of number of product types delivered per client."
   ]
  },
  {
   "cell_type": "markdown",
   "metadata": {},
   "source": [
    "___\n",
    "# Examine product information"
   ]
  },
  {
   "cell_type": "code",
   "execution_count": 19,
   "metadata": {
    "collapsed": false
   },
   "outputs": [
    {
     "name": "stdout",
     "output_type": "stream",
     "text": [
      "(2592, 2)\n",
      "{'Producto_ID': dtype('int64'), 'NombreProducto': dtype('O')}\n"
     ]
    },
    {
     "data": {
      "text/html": [
       "<div>\n",
       "<table border=\"1\" class=\"dataframe\">\n",
       "  <thead>\n",
       "    <tr style=\"text-align: right;\">\n",
       "      <th></th>\n",
       "      <th>Producto_ID</th>\n",
       "      <th>NombreProducto</th>\n",
       "    </tr>\n",
       "  </thead>\n",
       "  <tbody>\n",
       "    <tr>\n",
       "      <th>0</th>\n",
       "      <td>0</td>\n",
       "      <td>NO IDENTIFICADO 0</td>\n",
       "    </tr>\n",
       "    <tr>\n",
       "      <th>1</th>\n",
       "      <td>9</td>\n",
       "      <td>Capuccino Moka 750g NES 9</td>\n",
       "    </tr>\n",
       "    <tr>\n",
       "      <th>2</th>\n",
       "      <td>41</td>\n",
       "      <td>Bimbollos Ext sAjonjoli 6p 480g BIM 41</td>\n",
       "    </tr>\n",
       "    <tr>\n",
       "      <th>3</th>\n",
       "      <td>53</td>\n",
       "      <td>Burritos Sincro 170g CU LON 53</td>\n",
       "    </tr>\n",
       "    <tr>\n",
       "      <th>4</th>\n",
       "      <td>72</td>\n",
       "      <td>Div Tira Mini Doradita 4p 45g TR 72</td>\n",
       "    </tr>\n",
       "  </tbody>\n",
       "</table>\n",
       "</div>"
      ],
      "text/plain": [
       "   Producto_ID                          NombreProducto\n",
       "0            0                       NO IDENTIFICADO 0\n",
       "1            9               Capuccino Moka 750g NES 9\n",
       "2           41  Bimbollos Ext sAjonjoli 6p 480g BIM 41\n",
       "3           53          Burritos Sincro 170g CU LON 53\n",
       "4           72     Div Tira Mini Doradita 4p 45g TR 72"
      ]
     },
     "execution_count": 19,
     "metadata": {},
     "output_type": "execute_result"
    }
   ],
   "source": [
    "dfprod = inspectdata('producto_tabla')\n",
    "dfprod.head()"
   ]
  },
  {
   "cell_type": "markdown",
   "metadata": {},
   "source": [
    "**Factors to consider**: product type (shelf life), product size, manufacturer."
   ]
  },
  {
   "cell_type": "code",
   "execution_count": 6,
   "metadata": {
    "collapsed": false
   },
   "outputs": [
    {
     "data": {
      "text/plain": [
       "2592"
      ]
     },
     "execution_count": 6,
     "metadata": {},
     "output_type": "execute_result"
    }
   ],
   "source": [
    "# check for duplicates\n",
    "len(dfprod.drop_duplicates('NombreProducto'))"
   ]
  },
  {
   "cell_type": "code",
   "execution_count": 20,
   "metadata": {
    "collapsed": false
   },
   "outputs": [
    {
     "name": "stdout",
     "output_type": "stream",
     "text": [
      "Producto_ID                              4118\n",
      "NombreProducto    Tortillas Bolsa 2a 1kg 4118\n",
      "Name: 218, dtype: object\n"
     ]
    },
    {
     "data": {
      "text/html": [
       "<div>\n",
       "<table border=\"1\" class=\"dataframe\">\n",
       "  <thead>\n",
       "    <tr style=\"text-align: right;\">\n",
       "      <th></th>\n",
       "      <th>Producto_ID</th>\n",
       "      <th>NombreProducto</th>\n",
       "    </tr>\n",
       "  </thead>\n",
       "  <tbody>\n",
       "    <tr>\n",
       "      <th>1</th>\n",
       "      <td>9</td>\n",
       "      <td>Capuccino Moka 750g NES 9</td>\n",
       "    </tr>\n",
       "    <tr>\n",
       "      <th>2</th>\n",
       "      <td>41</td>\n",
       "      <td>Bimbollos Ext sAjonjoli 6p 480g BIM 41</td>\n",
       "    </tr>\n",
       "    <tr>\n",
       "      <th>3</th>\n",
       "      <td>53</td>\n",
       "      <td>Burritos Sincro 170g CU LON 53</td>\n",
       "    </tr>\n",
       "    <tr>\n",
       "      <th>4</th>\n",
       "      <td>72</td>\n",
       "      <td>Div Tira Mini Doradita 4p 45g TR 72</td>\n",
       "    </tr>\n",
       "    <tr>\n",
       "      <th>5</th>\n",
       "      <td>73</td>\n",
       "      <td>Pan Multigrano Linaza 540g BIM 73</td>\n",
       "    </tr>\n",
       "    <tr>\n",
       "      <th>6</th>\n",
       "      <td>98</td>\n",
       "      <td>Tostado Integral 180g WON 98</td>\n",
       "    </tr>\n",
       "    <tr>\n",
       "      <th>7</th>\n",
       "      <td>99</td>\n",
       "      <td>Pan Blanco 567g WON 99</td>\n",
       "    </tr>\n",
       "    <tr>\n",
       "      <th>8</th>\n",
       "      <td>100</td>\n",
       "      <td>Super Pan Bco Ajonjoli 680g SP WON 100</td>\n",
       "    </tr>\n",
       "    <tr>\n",
       "      <th>9</th>\n",
       "      <td>106</td>\n",
       "      <td>Wonder 100pct mediano 475g WON 106</td>\n",
       "    </tr>\n",
       "    <tr>\n",
       "      <th>10</th>\n",
       "      <td>107</td>\n",
       "      <td>Wonder 100pct gde 680g SP WON 107</td>\n",
       "    </tr>\n",
       "  </tbody>\n",
       "</table>\n",
       "</div>"
      ],
      "text/plain": [
       "    Producto_ID                          NombreProducto\n",
       "1             9               Capuccino Moka 750g NES 9\n",
       "2            41  Bimbollos Ext sAjonjoli 6p 480g BIM 41\n",
       "3            53          Burritos Sincro 170g CU LON 53\n",
       "4            72     Div Tira Mini Doradita 4p 45g TR 72\n",
       "5            73       Pan Multigrano Linaza 540g BIM 73\n",
       "6            98            Tostado Integral 180g WON 98\n",
       "7            99                  Pan Blanco 567g WON 99\n",
       "8           100  Super Pan Bco Ajonjoli 680g SP WON 100\n",
       "9           106      Wonder 100pct mediano 475g WON 106\n",
       "10          107       Wonder 100pct gde 680g SP WON 107"
      ]
     },
     "execution_count": 20,
     "metadata": {},
     "output_type": "execute_result"
    }
   ],
   "source": [
    "dfprod.drop(0, axis=0, inplace=True)\n",
    "print(dfprod.loc[218])\n",
    "dfprod.head(10)"
   ]
  },
  {
   "cell_type": "code",
   "execution_count": 58,
   "metadata": {
    "collapsed": false
   },
   "outputs": [
    {
     "data": {
      "text/html": [
       "<div>\n",
       "<table border=\"1\" class=\"dataframe\">\n",
       "  <thead>\n",
       "    <tr style=\"text-align: right;\">\n",
       "      <th></th>\n",
       "      <th>Producto_ID</th>\n",
       "      <th>NombreProducto</th>\n",
       "      <th>man</th>\n",
       "      <th>amt</th>\n",
       "      <th>cnt</th>\n",
       "      <th>name</th>\n",
       "      <th>unit</th>\n",
       "      <th>multiplier</th>\n",
       "      <th>size</th>\n",
       "    </tr>\n",
       "  </thead>\n",
       "  <tbody>\n",
       "    <tr>\n",
       "      <th>1</th>\n",
       "      <td>9</td>\n",
       "      <td>Capuccino Moka 750g NES</td>\n",
       "      <td>NES</td>\n",
       "      <td>750g</td>\n",
       "      <td>NaN</td>\n",
       "      <td>Capuccino Moka</td>\n",
       "      <td>g</td>\n",
       "      <td>1.0</td>\n",
       "      <td>750.0</td>\n",
       "    </tr>\n",
       "    <tr>\n",
       "      <th>2</th>\n",
       "      <td>41</td>\n",
       "      <td>Bimbollos Ext sAjonjoli 6p 480g BIM</td>\n",
       "      <td>BIM</td>\n",
       "      <td>480g</td>\n",
       "      <td>6p</td>\n",
       "      <td>Bimbollos Ext sAjonjoli</td>\n",
       "      <td>g</td>\n",
       "      <td>6.0</td>\n",
       "      <td>2880.0</td>\n",
       "    </tr>\n",
       "    <tr>\n",
       "      <th>3</th>\n",
       "      <td>53</td>\n",
       "      <td>Burritos Sincro 170g CU LON</td>\n",
       "      <td>LON</td>\n",
       "      <td>170g</td>\n",
       "      <td>NaN</td>\n",
       "      <td>Burritos Sincro</td>\n",
       "      <td>g</td>\n",
       "      <td>1.0</td>\n",
       "      <td>170.0</td>\n",
       "    </tr>\n",
       "    <tr>\n",
       "      <th>4</th>\n",
       "      <td>72</td>\n",
       "      <td>Div Tira Mini Doradita 4p 45g TR</td>\n",
       "      <td>TR</td>\n",
       "      <td>45g</td>\n",
       "      <td>4p</td>\n",
       "      <td>Div Tira Mini Doradita</td>\n",
       "      <td>g</td>\n",
       "      <td>4.0</td>\n",
       "      <td>180.0</td>\n",
       "    </tr>\n",
       "    <tr>\n",
       "      <th>5</th>\n",
       "      <td>73</td>\n",
       "      <td>Pan Multigrano Linaza 540g BIM</td>\n",
       "      <td>BIM</td>\n",
       "      <td>540g</td>\n",
       "      <td>NaN</td>\n",
       "      <td>Pan Multigrano Linaza</td>\n",
       "      <td>g</td>\n",
       "      <td>1.0</td>\n",
       "      <td>540.0</td>\n",
       "    </tr>\n",
       "    <tr>\n",
       "      <th>6</th>\n",
       "      <td>98</td>\n",
       "      <td>Tostado Integral 180g WON</td>\n",
       "      <td>WON</td>\n",
       "      <td>180g</td>\n",
       "      <td>NaN</td>\n",
       "      <td>Tostado Integral</td>\n",
       "      <td>g</td>\n",
       "      <td>1.0</td>\n",
       "      <td>180.0</td>\n",
       "    </tr>\n",
       "    <tr>\n",
       "      <th>7</th>\n",
       "      <td>99</td>\n",
       "      <td>Pan Blanco 567g WON</td>\n",
       "      <td>WON</td>\n",
       "      <td>567g</td>\n",
       "      <td>NaN</td>\n",
       "      <td>Pan Blanco</td>\n",
       "      <td>g</td>\n",
       "      <td>1.0</td>\n",
       "      <td>567.0</td>\n",
       "    </tr>\n",
       "    <tr>\n",
       "      <th>8</th>\n",
       "      <td>100</td>\n",
       "      <td>Super Pan Bco Ajonjoli 680g SP WON</td>\n",
       "      <td>WON</td>\n",
       "      <td>680g</td>\n",
       "      <td>NaN</td>\n",
       "      <td>Super Pan Bco Ajonjoli</td>\n",
       "      <td>g</td>\n",
       "      <td>1.0</td>\n",
       "      <td>680.0</td>\n",
       "    </tr>\n",
       "    <tr>\n",
       "      <th>9</th>\n",
       "      <td>106</td>\n",
       "      <td>Wonder 100pct mediano 475g WON</td>\n",
       "      <td>WON</td>\n",
       "      <td>475g</td>\n",
       "      <td>NaN</td>\n",
       "      <td>Wonder 100pct mediano</td>\n",
       "      <td>g</td>\n",
       "      <td>1.0</td>\n",
       "      <td>475.0</td>\n",
       "    </tr>\n",
       "    <tr>\n",
       "      <th>10</th>\n",
       "      <td>107</td>\n",
       "      <td>Wonder 100pct gde 680g SP WON</td>\n",
       "      <td>WON</td>\n",
       "      <td>680g</td>\n",
       "      <td>NaN</td>\n",
       "      <td>Wonder 100pct gde</td>\n",
       "      <td>g</td>\n",
       "      <td>1.0</td>\n",
       "      <td>680.0</td>\n",
       "    </tr>\n",
       "  </tbody>\n",
       "</table>\n",
       "</div>"
      ],
      "text/plain": [
       "    Producto_ID                       NombreProducto  man    amt  cnt  \\\n",
       "1             9              Capuccino Moka 750g NES  NES   750g  NaN   \n",
       "2            41  Bimbollos Ext sAjonjoli 6p 480g BIM  BIM   480g  6p    \n",
       "3            53          Burritos Sincro 170g CU LON  LON   170g  NaN   \n",
       "4            72     Div Tira Mini Doradita 4p 45g TR   TR    45g  4p    \n",
       "5            73       Pan Multigrano Linaza 540g BIM  BIM   540g  NaN   \n",
       "6            98            Tostado Integral 180g WON  WON   180g  NaN   \n",
       "7            99                  Pan Blanco 567g WON  WON   567g  NaN   \n",
       "8           100   Super Pan Bco Ajonjoli 680g SP WON  WON   680g  NaN   \n",
       "9           106       Wonder 100pct mediano 475g WON  WON   475g  NaN   \n",
       "10          107        Wonder 100pct gde 680g SP WON  WON   680g  NaN   \n",
       "\n",
       "                          name unit  multiplier    size  \n",
       "1             Capuccino Moka      g         1.0   750.0  \n",
       "2   Bimbollos Ext sAjonjoli       g         6.0  2880.0  \n",
       "3           Burritos Sincro       g         1.0   170.0  \n",
       "4    Div Tira Mini Doradita       g         4.0   180.0  \n",
       "5      Pan Multigrano Linaza      g         1.0   540.0  \n",
       "6           Tostado Integral      g         1.0   180.0  \n",
       "7                 Pan Blanco      g         1.0   567.0  \n",
       "8    Super Pan Bco Ajonjoli       g         1.0   680.0  \n",
       "9      Wonder 100pct mediano      g         1.0   475.0  \n",
       "10        Wonder 100pct gde       g         1.0   680.0  "
      ]
     },
     "execution_count": 58,
     "metadata": {},
     "output_type": "execute_result"
    }
   ],
   "source": [
    "# each product seems to have a name, quantity and the product ID repeated at the end of the string\n",
    "# (\\w+\\s+)*(\\d+[Kk]*[PpGg]*[ml]*\\s+)*(\\d+[Kk]*[PpGg]*[ml]*\\s+)*\n",
    "\n",
    "dfprod['NombreProducto'] = dfprod['NombreProducto'].str.strip()\n",
    "dfprod['NombreProducto'] = dfprod['NombreProducto'].str.replace('\\s*\\d+$', '')\n",
    "\n",
    "# fix entries with errors\n",
    "dfprod.set_value(218,'NombreProducto', 'Tortillas Bolsa 2a 1kg BIM')\n",
    "dfprod.set_value(1152, 'NombreProducto', 'Burrito Vaporero FrijolChorizo 90g CU LON')\n",
    "dfprod.set_value(1336, 'NombreProducto', 'DuoBarrita Fsa GalletaGansito 137g MTA MLA')\n",
    "dfprod['NombreProducto'] = dfprod['NombreProducto'].str.replace('(?<=\\d)G\\s', 'g ')\n",
    "dfprod['NombreProducto']= dfprod['NombreProducto'].str.replace('Kg', 'k')\n",
    "dfprod['NombreProducto']= dfprod['NombreProducto'].str.replace('\\sml', 'ml')\n",
    "\n",
    "dfprod['man'] = dfprod['NombreProducto'].str.extract('([A-Z]+)$', expand=False)\n",
    "dfprod['amt'] = dfprod['NombreProducto'].str.extract('(\\d*\\s*\\d+[gkm])', expand=False)\n",
    "dfprod['cnt'] = dfprod['NombreProducto'].str.extract('(\\d+[pP]\\s+)', expand=False)\n",
    "\n",
    "# clean up name by dropping suffix\n",
    "# dfprod['name'] = dfprod['NombreProducto'].str.replace('\\w+$', '')\n",
    "dfprod['name'] = dfprod['NombreProducto'].str.strip()\n",
    "dfprod['name'] = dfprod['name'].str.replace('\\d+p(?![a-z])|\\d{2,3}\\w{1,2}(?![a-z])|[A-Z]{2,3}','')\n",
    "# dfprod['name'] = dfprod['name'].str.replace('\\d+\\s*[KkGgmM]$', '')\n",
    "\n",
    "\n",
    "dfprod.head(10)"
   ]
  },
  {
   "cell_type": "code",
   "execution_count": 59,
   "metadata": {
    "collapsed": false
   },
   "outputs": [
    {
     "name": "stdout",
     "output_type": "stream",
     "text": [
      "(27, 9)\n"
     ]
    },
    {
     "data": {
      "text/html": [
       "<div>\n",
       "<table border=\"1\" class=\"dataframe\">\n",
       "  <thead>\n",
       "    <tr style=\"text-align: right;\">\n",
       "      <th></th>\n",
       "      <th>Producto_ID</th>\n",
       "      <th>NombreProducto</th>\n",
       "      <th>man</th>\n",
       "      <th>amt</th>\n",
       "      <th>cnt</th>\n",
       "      <th>name</th>\n",
       "      <th>unit</th>\n",
       "      <th>multiplier</th>\n",
       "      <th>size</th>\n",
       "    </tr>\n",
       "  </thead>\n",
       "  <tbody>\n",
       "    <tr>\n",
       "      <th>190</th>\n",
       "      <td>3509</td>\n",
       "      <td>Paletina para Cafe NES</td>\n",
       "      <td>NES</td>\n",
       "      <td>NaN</td>\n",
       "      <td>NaN</td>\n",
       "      <td>Paletina para Cafe</td>\n",
       "      <td>1</td>\n",
       "      <td>NaN</td>\n",
       "      <td>2247.769465</td>\n",
       "    </tr>\n",
       "    <tr>\n",
       "      <th>381</th>\n",
       "      <td>30099</td>\n",
       "      <td>Camioncitos Bimbo BIM</td>\n",
       "      <td>BIM</td>\n",
       "      <td>NaN</td>\n",
       "      <td>NaN</td>\n",
       "      <td>Camioncitos Bimbo</td>\n",
       "      <td>1</td>\n",
       "      <td>NaN</td>\n",
       "      <td>2247.769465</td>\n",
       "    </tr>\n",
       "    <tr>\n",
       "      <th>409</th>\n",
       "      <td>30280</td>\n",
       "      <td>Camioncito Bimbo Modelo 3 BIM</td>\n",
       "      <td>BIM</td>\n",
       "      <td>NaN</td>\n",
       "      <td>NaN</td>\n",
       "      <td>Camioncito Bimbo Modelo 3</td>\n",
       "      <td>1</td>\n",
       "      <td>NaN</td>\n",
       "      <td>2247.769465</td>\n",
       "    </tr>\n",
       "    <tr>\n",
       "      <th>528</th>\n",
       "      <td>30958</td>\n",
       "      <td>Empanzador Crujiente Prom BIM</td>\n",
       "      <td>BIM</td>\n",
       "      <td>NaN</td>\n",
       "      <td>NaN</td>\n",
       "      <td>Empanzador Crujiente Prom</td>\n",
       "      <td>1</td>\n",
       "      <td>NaN</td>\n",
       "      <td>2247.769465</td>\n",
       "    </tr>\n",
       "    <tr>\n",
       "      <th>1044</th>\n",
       "      <td>33862</td>\n",
       "      <td>Choco Roles Fresa 3X10 Prom MLA</td>\n",
       "      <td>MLA</td>\n",
       "      <td>NaN</td>\n",
       "      <td>NaN</td>\n",
       "      <td>Choco Roles Fresa 3X10 Prom</td>\n",
       "      <td>1</td>\n",
       "      <td>NaN</td>\n",
       "      <td>2247.769465</td>\n",
       "    </tr>\n",
       "    <tr>\n",
       "      <th>1045</th>\n",
       "      <td>33863</td>\n",
       "      <td>Choco Roles Fresa 3X10 Prom MTB MLA</td>\n",
       "      <td>MLA</td>\n",
       "      <td>NaN</td>\n",
       "      <td>NaN</td>\n",
       "      <td>Choco Roles Fresa 3X10 Prom</td>\n",
       "      <td>1</td>\n",
       "      <td>NaN</td>\n",
       "      <td>2247.769465</td>\n",
       "    </tr>\n",
       "    <tr>\n",
       "      <th>1389</th>\n",
       "      <td>35618</td>\n",
       "      <td>Exhibidor PDQ Bran Frut BIM</td>\n",
       "      <td>BIM</td>\n",
       "      <td>NaN</td>\n",
       "      <td>NaN</td>\n",
       "      <td>Exhibidor  Bran Frut</td>\n",
       "      <td>1</td>\n",
       "      <td>NaN</td>\n",
       "      <td>2247.769465</td>\n",
       "    </tr>\n",
       "    <tr>\n",
       "      <th>1485</th>\n",
       "      <td>35979</td>\n",
       "      <td>Almohada del Osito Bimbo BIM</td>\n",
       "      <td>BIM</td>\n",
       "      <td>NaN</td>\n",
       "      <td>NaN</td>\n",
       "      <td>Almohada del Osito Bimbo</td>\n",
       "      <td>1</td>\n",
       "      <td>NaN</td>\n",
       "      <td>2247.769465</td>\n",
       "    </tr>\n",
       "    <tr>\n",
       "      <th>1526</th>\n",
       "      <td>36141</td>\n",
       "      <td>Pan Blanco Freihofers 28Reb MTA BIM</td>\n",
       "      <td>BIM</td>\n",
       "      <td>NaN</td>\n",
       "      <td>NaN</td>\n",
       "      <td>Pan Blanco Freihofers 28Reb</td>\n",
       "      <td>1</td>\n",
       "      <td>NaN</td>\n",
       "      <td>2247.769465</td>\n",
       "    </tr>\n",
       "    <tr>\n",
       "      <th>1527</th>\n",
       "      <td>36143</td>\n",
       "      <td>Pan Blanco Freihofers 28Reb TNB BIM</td>\n",
       "      <td>BIM</td>\n",
       "      <td>NaN</td>\n",
       "      <td>NaN</td>\n",
       "      <td>Pan Blanco Freihofers 28Reb</td>\n",
       "      <td>1</td>\n",
       "      <td>NaN</td>\n",
       "      <td>2247.769465</td>\n",
       "    </tr>\n",
       "    <tr>\n",
       "      <th>1528</th>\n",
       "      <td>36145</td>\n",
       "      <td>Pan Blanco Mrs Bairds 28Reb MTA BIM</td>\n",
       "      <td>BIM</td>\n",
       "      <td>NaN</td>\n",
       "      <td>NaN</td>\n",
       "      <td>Pan Blanco Mrs Bairds 28Reb</td>\n",
       "      <td>1</td>\n",
       "      <td>NaN</td>\n",
       "      <td>2247.769465</td>\n",
       "    </tr>\n",
       "    <tr>\n",
       "      <th>1529</th>\n",
       "      <td>36147</td>\n",
       "      <td>Pan Blanco Mrs Bairds 28Reb TNB BIM</td>\n",
       "      <td>BIM</td>\n",
       "      <td>NaN</td>\n",
       "      <td>NaN</td>\n",
       "      <td>Pan Blanco Mrs Bairds 28Reb</td>\n",
       "      <td>1</td>\n",
       "      <td>NaN</td>\n",
       "      <td>2247.769465</td>\n",
       "    </tr>\n",
       "    <tr>\n",
       "      <th>1530</th>\n",
       "      <td>36151</td>\n",
       "      <td>Pan Blanco Stroehmann 28Reb TNB BIM</td>\n",
       "      <td>BIM</td>\n",
       "      <td>NaN</td>\n",
       "      <td>NaN</td>\n",
       "      <td>Pan Blanco Stroehmann 28Reb</td>\n",
       "      <td>1</td>\n",
       "      <td>NaN</td>\n",
       "      <td>2247.769465</td>\n",
       "    </tr>\n",
       "    <tr>\n",
       "      <th>1531</th>\n",
       "      <td>36153</td>\n",
       "      <td>Pan Blanco Rainbo 28Reb MTA BIM</td>\n",
       "      <td>BIM</td>\n",
       "      <td>NaN</td>\n",
       "      <td>NaN</td>\n",
       "      <td>Pan Blanco Rainbo 28Reb</td>\n",
       "      <td>1</td>\n",
       "      <td>NaN</td>\n",
       "      <td>2247.769465</td>\n",
       "    </tr>\n",
       "    <tr>\n",
       "      <th>1532</th>\n",
       "      <td>36155</td>\n",
       "      <td>Pan Blanco Rainbo 28Reb TNB BIM</td>\n",
       "      <td>BIM</td>\n",
       "      <td>NaN</td>\n",
       "      <td>NaN</td>\n",
       "      <td>Pan Blanco Rainbo 28Reb</td>\n",
       "      <td>1</td>\n",
       "      <td>NaN</td>\n",
       "      <td>2247.769465</td>\n",
       "    </tr>\n",
       "    <tr>\n",
       "      <th>1667</th>\n",
       "      <td>36612</td>\n",
       "      <td>Pan con Fibra Freihofers 28Reb MTA BIM</td>\n",
       "      <td>BIM</td>\n",
       "      <td>NaN</td>\n",
       "      <td>NaN</td>\n",
       "      <td>Pan con Fibra Freihofers 28Reb</td>\n",
       "      <td>1</td>\n",
       "      <td>NaN</td>\n",
       "      <td>2247.769465</td>\n",
       "    </tr>\n",
       "    <tr>\n",
       "      <th>1668</th>\n",
       "      <td>36614</td>\n",
       "      <td>Pan con Fibra Freihofers 28Reb TNB BIM</td>\n",
       "      <td>BIM</td>\n",
       "      <td>NaN</td>\n",
       "      <td>NaN</td>\n",
       "      <td>Pan con Fibra Freihofers 28Reb</td>\n",
       "      <td>1</td>\n",
       "      <td>NaN</td>\n",
       "      <td>2247.769465</td>\n",
       "    </tr>\n",
       "    <tr>\n",
       "      <th>1669</th>\n",
       "      <td>36618</td>\n",
       "      <td>Pan con Fibra Mrs Bairds 28Reb TNB BIM</td>\n",
       "      <td>BIM</td>\n",
       "      <td>NaN</td>\n",
       "      <td>NaN</td>\n",
       "      <td>Pan con Fibra Mrs Bairds 28Reb</td>\n",
       "      <td>1</td>\n",
       "      <td>NaN</td>\n",
       "      <td>2247.769465</td>\n",
       "    </tr>\n",
       "    <tr>\n",
       "      <th>1670</th>\n",
       "      <td>36620</td>\n",
       "      <td>Pan con Fibra Stroehmann 28Reb MTA BIM</td>\n",
       "      <td>BIM</td>\n",
       "      <td>NaN</td>\n",
       "      <td>NaN</td>\n",
       "      <td>Pan con Fibra Stroehmann 28Reb</td>\n",
       "      <td>1</td>\n",
       "      <td>NaN</td>\n",
       "      <td>2247.769465</td>\n",
       "    </tr>\n",
       "    <tr>\n",
       "      <th>1671</th>\n",
       "      <td>36622</td>\n",
       "      <td>Pan con Fibra Stroehmann 28Reb TNB BIM</td>\n",
       "      <td>BIM</td>\n",
       "      <td>NaN</td>\n",
       "      <td>NaN</td>\n",
       "      <td>Pan con Fibra Stroehmann 28Reb</td>\n",
       "      <td>1</td>\n",
       "      <td>NaN</td>\n",
       "      <td>2247.769465</td>\n",
       "    </tr>\n",
       "    <tr>\n",
       "      <th>1677</th>\n",
       "      <td>36659</td>\n",
       "      <td>Tarima Twin Pack Thins Multig CU ORO</td>\n",
       "      <td>ORO</td>\n",
       "      <td>NaN</td>\n",
       "      <td>NaN</td>\n",
       "      <td>Tarima Twin Pack Thins Multig</td>\n",
       "      <td>1</td>\n",
       "      <td>NaN</td>\n",
       "      <td>2247.769465</td>\n",
       "    </tr>\n",
       "    <tr>\n",
       "      <th>1688</th>\n",
       "      <td>36706</td>\n",
       "      <td>Servilletero Bimbollos BIM</td>\n",
       "      <td>BIM</td>\n",
       "      <td>NaN</td>\n",
       "      <td>NaN</td>\n",
       "      <td>Servilletero Bimbollos</td>\n",
       "      <td>1</td>\n",
       "      <td>NaN</td>\n",
       "      <td>2247.769465</td>\n",
       "    </tr>\n",
       "    <tr>\n",
       "      <th>1730</th>\n",
       "      <td>36854</td>\n",
       "      <td>Pan Blanco Pullman 28Reb MTA BIM</td>\n",
       "      <td>BIM</td>\n",
       "      <td>NaN</td>\n",
       "      <td>NaN</td>\n",
       "      <td>Pan Blanco Pullman 28Reb</td>\n",
       "      <td>1</td>\n",
       "      <td>NaN</td>\n",
       "      <td>2247.769465</td>\n",
       "    </tr>\n",
       "    <tr>\n",
       "      <th>1731</th>\n",
       "      <td>36855</td>\n",
       "      <td>Pan Blanco Pullman 28Reb TAB BIM</td>\n",
       "      <td>BIM</td>\n",
       "      <td>NaN</td>\n",
       "      <td>NaN</td>\n",
       "      <td>Pan Blanco Pullman 28Reb</td>\n",
       "      <td>1</td>\n",
       "      <td>NaN</td>\n",
       "      <td>2247.769465</td>\n",
       "    </tr>\n",
       "    <tr>\n",
       "      <th>1732</th>\n",
       "      <td>36872</td>\n",
       "      <td>Pan con Fibra Pullman 28Reb TNB BIM</td>\n",
       "      <td>BIM</td>\n",
       "      <td>NaN</td>\n",
       "      <td>NaN</td>\n",
       "      <td>Pan con Fibra Pullman 28Reb</td>\n",
       "      <td>1</td>\n",
       "      <td>NaN</td>\n",
       "      <td>2247.769465</td>\n",
       "    </tr>\n",
       "    <tr>\n",
       "      <th>2449</th>\n",
       "      <td>48033</td>\n",
       "      <td>Galleta Granel Classics Chocolate GBI</td>\n",
       "      <td>GBI</td>\n",
       "      <td>NaN</td>\n",
       "      <td>NaN</td>\n",
       "      <td>Galleta Granel Classics Chocolate</td>\n",
       "      <td>1</td>\n",
       "      <td>NaN</td>\n",
       "      <td>2247.769465</td>\n",
       "    </tr>\n",
       "    <tr>\n",
       "      <th>2456</th>\n",
       "      <td>48059</td>\n",
       "      <td>Paletina NEC</td>\n",
       "      <td>NEC</td>\n",
       "      <td>NaN</td>\n",
       "      <td>NaN</td>\n",
       "      <td>Paletina</td>\n",
       "      <td>1</td>\n",
       "      <td>NaN</td>\n",
       "      <td>2247.769465</td>\n",
       "    </tr>\n",
       "  </tbody>\n",
       "</table>\n",
       "</div>"
      ],
      "text/plain": [
       "      Producto_ID                          NombreProducto  man  amt  cnt  \\\n",
       "190          3509                  Paletina para Cafe NES  NES  NaN  NaN   \n",
       "381         30099                   Camioncitos Bimbo BIM  BIM  NaN  NaN   \n",
       "409         30280           Camioncito Bimbo Modelo 3 BIM  BIM  NaN  NaN   \n",
       "528         30958           Empanzador Crujiente Prom BIM  BIM  NaN  NaN   \n",
       "1044        33862         Choco Roles Fresa 3X10 Prom MLA  MLA  NaN  NaN   \n",
       "1045        33863     Choco Roles Fresa 3X10 Prom MTB MLA  MLA  NaN  NaN   \n",
       "1389        35618             Exhibidor PDQ Bran Frut BIM  BIM  NaN  NaN   \n",
       "1485        35979            Almohada del Osito Bimbo BIM  BIM  NaN  NaN   \n",
       "1526        36141     Pan Blanco Freihofers 28Reb MTA BIM  BIM  NaN  NaN   \n",
       "1527        36143     Pan Blanco Freihofers 28Reb TNB BIM  BIM  NaN  NaN   \n",
       "1528        36145     Pan Blanco Mrs Bairds 28Reb MTA BIM  BIM  NaN  NaN   \n",
       "1529        36147     Pan Blanco Mrs Bairds 28Reb TNB BIM  BIM  NaN  NaN   \n",
       "1530        36151     Pan Blanco Stroehmann 28Reb TNB BIM  BIM  NaN  NaN   \n",
       "1531        36153         Pan Blanco Rainbo 28Reb MTA BIM  BIM  NaN  NaN   \n",
       "1532        36155         Pan Blanco Rainbo 28Reb TNB BIM  BIM  NaN  NaN   \n",
       "1667        36612  Pan con Fibra Freihofers 28Reb MTA BIM  BIM  NaN  NaN   \n",
       "1668        36614  Pan con Fibra Freihofers 28Reb TNB BIM  BIM  NaN  NaN   \n",
       "1669        36618  Pan con Fibra Mrs Bairds 28Reb TNB BIM  BIM  NaN  NaN   \n",
       "1670        36620  Pan con Fibra Stroehmann 28Reb MTA BIM  BIM  NaN  NaN   \n",
       "1671        36622  Pan con Fibra Stroehmann 28Reb TNB BIM  BIM  NaN  NaN   \n",
       "1677        36659    Tarima Twin Pack Thins Multig CU ORO  ORO  NaN  NaN   \n",
       "1688        36706              Servilletero Bimbollos BIM  BIM  NaN  NaN   \n",
       "1730        36854        Pan Blanco Pullman 28Reb MTA BIM  BIM  NaN  NaN   \n",
       "1731        36855        Pan Blanco Pullman 28Reb TAB BIM  BIM  NaN  NaN   \n",
       "1732        36872     Pan con Fibra Pullman 28Reb TNB BIM  BIM  NaN  NaN   \n",
       "2449        48033   Galleta Granel Classics Chocolate GBI  GBI  NaN  NaN   \n",
       "2456        48059                            Paletina NEC  NEC  NaN  NaN   \n",
       "\n",
       "                                    name unit  multiplier         size  \n",
       "190                  Paletina para Cafe     1         NaN  2247.769465  \n",
       "381                   Camioncitos Bimbo     1         NaN  2247.769465  \n",
       "409           Camioncito Bimbo Modelo 3     1         NaN  2247.769465  \n",
       "528           Empanzador Crujiente Prom     1         NaN  2247.769465  \n",
       "1044        Choco Roles Fresa 3X10 Prom     1         NaN  2247.769465  \n",
       "1045       Choco Roles Fresa 3X10 Prom      1         NaN  2247.769465  \n",
       "1389               Exhibidor  Bran Frut     1         NaN  2247.769465  \n",
       "1485           Almohada del Osito Bimbo     1         NaN  2247.769465  \n",
       "1526       Pan Blanco Freihofers 28Reb      1         NaN  2247.769465  \n",
       "1527       Pan Blanco Freihofers 28Reb      1         NaN  2247.769465  \n",
       "1528       Pan Blanco Mrs Bairds 28Reb      1         NaN  2247.769465  \n",
       "1529       Pan Blanco Mrs Bairds 28Reb      1         NaN  2247.769465  \n",
       "1530       Pan Blanco Stroehmann 28Reb      1         NaN  2247.769465  \n",
       "1531           Pan Blanco Rainbo 28Reb      1         NaN  2247.769465  \n",
       "1532           Pan Blanco Rainbo 28Reb      1         NaN  2247.769465  \n",
       "1667    Pan con Fibra Freihofers 28Reb      1         NaN  2247.769465  \n",
       "1668    Pan con Fibra Freihofers 28Reb      1         NaN  2247.769465  \n",
       "1669    Pan con Fibra Mrs Bairds 28Reb      1         NaN  2247.769465  \n",
       "1670    Pan con Fibra Stroehmann 28Reb      1         NaN  2247.769465  \n",
       "1671    Pan con Fibra Stroehmann 28Reb      1         NaN  2247.769465  \n",
       "1677     Tarima Twin Pack Thins Multig      1         NaN  2247.769465  \n",
       "1688             Servilletero Bimbollos     1         NaN  2247.769465  \n",
       "1730          Pan Blanco Pullman 28Reb      1         NaN  2247.769465  \n",
       "1731          Pan Blanco Pullman 28Reb      1         NaN  2247.769465  \n",
       "1732       Pan con Fibra Pullman 28Reb      1         NaN  2247.769465  \n",
       "2449  Galleta Granel Classics Chocolate     1         NaN  2247.769465  \n",
       "2456                           Paletina     1         NaN  2247.769465  "
      ]
     },
     "execution_count": 59,
     "metadata": {},
     "output_type": "execute_result"
    }
   ],
   "source": [
    "print(dfprod[dfprod[['amt', 'cnt']].isnull().all(axis=1)].shape)\n",
    "dfprod[dfprod[['amt', 'cnt']].isnull().all(axis=1)]"
   ]
  },
  {
   "cell_type": "code",
   "execution_count": 60,
   "metadata": {
    "collapsed": false
   },
   "outputs": [
    {
     "data": {
      "text/plain": [
       "array(['NES', 'BIM', 'LON', 'TR', 'WON', 'DH', 'SUA', 'SL', 'LAR', 'MLA',\n",
       "       'MR', 'ORO', 'VR', 'SUN', 'BAR', 'COR', 'CC', 'RIC', 'CHK', 'MP',\n",
       "       'GBI', 'KOD', 'MSK', 'SAN', 'THO', 'DIF', 'SKD', 'LC', 'VER', 'PUL',\n",
       "       'AV', 'GV', 'TRI', 'NAI', 'MCM', 'EMB', 'CAR', 'BRL', 'JMX', 'BRE',\n",
       "       'AM', 'NEC', 'MTB'], dtype=object)"
      ]
     },
     "execution_count": 60,
     "metadata": {},
     "output_type": "execute_result"
    }
   ],
   "source": [
    "dfprod['man'].unique()"
   ]
  },
  {
   "cell_type": "code",
   "execution_count": 61,
   "metadata": {
    "collapsed": false
   },
   "outputs": [
    {
     "name": "stdout",
     "output_type": "stream",
     "text": [
      "['g' 'k' nan 'm']\n",
      "['750' '480' '170' '45' '540' '180' '567' '680' '475' '280' '410' '450'\n",
      " '1635' '1730' '290' '435' '470' '1950' '1237' '25' '5' '200' '260' '976'\n",
      " '1000' '1080' '500' '55' '50' '76' nan '114' '30' '900' '248' '250' '210'\n",
      " '1200' '345' '175' '2.4' '360' '80' '365' '255' '1360' '740' '510' '840'\n",
      " '350' '675' '230' '340' '1.31' '1700' '72' '420' '120' '135' '130' '140'\n",
      " '125' '105' '62' '236' '66' '65' '454' '960' '650' '1440' '600' '40' '520'\n",
      " '550' '1.05' '460' '70' '75' '77' '530' '64' '640' '58' '62.5' '67'\n",
      " '226.8' '44' '89' '525' '700' '85' '74' '88' '150' '300' '2' '560' '6'\n",
      " '115' '95' '100' '370' '32' '240' '86' '69' '497' '157' '1' '585' '60'\n",
      " '110' '220' '489' '660' '354' '355' '192' '225' '193' '90' '205' '234.5'\n",
      " '522' '720' '610' '804' '768' '191' '186' '197' '208' '54' '36' '49'\n",
      " '1.70' '52' '20' '425' '570' '42.5' '35' '1775' '10' '1470' '124' '56'\n",
      " '104' '48' '113' '310' '270' '31' '506' '1020' '22' '132' '106' '84' '112'\n",
      " '400' '430' '152' '224' '34' '37' '33' '27' '46' '147' '101' '284' '312'\n",
      " '216' '184' '144' '414' '198' '99' '275' '158' '384' '188' '148' '174'\n",
      " '108' '385' '691' '1058' '719' '195' '237' '605' '417' '160' '380' '97'\n",
      " '392' '800' '320' '630' '1170' '528' '8.4' '308' '18' '375' '620' '1134'\n",
      " '920' '908' '83' '612' '156' '24' '19' '26.5' '330' '8' '215' '496' '102'\n",
      " '535' '864' '172' '98' '92' '787.5' '625' '286' '2880' '440' '930' '850'\n",
      " '167' '12' '133' '91' '61' '516' '43' '634' '1240' '1724' '1350' '38' '26'\n",
      " '258' '145' '202' '3.8' '1925' '13' '1340' '4000' '870' '96' '378' '264'\n",
      " '2450' '137' '272' '369' '924' '93' '390' '328' '590' '765' '1500' '71'\n",
      " '780' '169' '57' '30.6' '1368' '14' '316' '73' '87' '262' '5400' '16.25'\n",
      " '2.42' '339' '293' '577' '326' '357' '648' '207' '190' '287' '222' '551'\n",
      " '1140' '51' '1414' '1320' '78' '305' '185' '204' '427' '855' '684' '471'\n",
      " '203' '1880' '63' '1050' '980' '408' '445' '1.71' '325' '123' '187' '179'\n",
      " '257' '59' '1060' '760' '548' '335' '33.5' '34.5' '37.5' '227' '246'\n",
      " '1530' '626' '770' '1160' '615' '2280' '2000' '3000' '558' '294']\n"
     ]
    }
   ],
   "source": [
    "dfprod['amt'] = dfprod['amt'].str.strip()\n",
    "dfprod['unit'] = dfprod['amt'].str.extract('(\\w)$', expand=False)\n",
    "print(dfprod['unit'].unique())\n",
    "dfprod['amt'] = dfprod['amt'].str.replace('\\w$', '')\n",
    "dfprod['amt'] = dfprod['amt'].str.replace(' ','.')\n",
    "# dfprod['amt'].fillna()\n",
    "print(dfprod['amt'].unique())"
   ]
  },
  {
   "cell_type": "code",
   "execution_count": 62,
   "metadata": {
    "collapsed": false
   },
   "outputs": [
    {
     "data": {
      "text/plain": [
       "array([nan, '6', '4', '8', '36', '30', '20', '24', '15', '10', '12', '18',\n",
       "       '1', '2', '3', '200', '22', '16', '50', '26', '5', '40', '14', '27',\n",
       "       '7', '33', '48', '11', '43', '45', '21', '19', '9', '32', '104',\n",
       "       '100', '25'], dtype=object)"
      ]
     },
     "execution_count": 62,
     "metadata": {},
     "output_type": "execute_result"
    }
   ],
   "source": [
    "dfprod['cnt'] = dfprod['cnt'].str.strip().str.lower()\n",
    "dfprod['cnt'] = dfprod['cnt'].str.replace('p','')\n",
    "dfprod['cnt'].unique()"
   ]
  },
  {
   "cell_type": "code",
   "execution_count": 63,
   "metadata": {
    "collapsed": false
   },
   "outputs": [
    {
     "data": {
      "text/plain": [
       "array(['g', 'k', nan, 'm'], dtype=object)"
      ]
     },
     "execution_count": 63,
     "metadata": {},
     "output_type": "execute_result"
    }
   ],
   "source": [
    "dfprod['unit'].unique()"
   ]
  },
  {
   "cell_type": "code",
   "execution_count": 27,
   "metadata": {
    "collapsed": false,
    "scrolled": true
   },
   "outputs": [],
   "source": [
    "# check if number at end of product name string can be dropped\n",
    "# assert(all([a==b for a,b in zip(dfprod['Producto_ID'].tolist(),dfprodnew[2].astype(int).tolist())]))"
   ]
  },
  {
   "cell_type": "code",
   "execution_count": 64,
   "metadata": {
    "collapsed": false
   },
   "outputs": [],
   "source": [
    "# calculate size of each product taking into account the unit of measure and package count\n",
    "# replace unknown values with mean(this will reduce some of the variability but only 1% of the product sizes missing)\n",
    "\n",
    "dfprod.fillna('1', inplace=True)\n",
    "dfprod['cnt'] = dfprod['cnt'].astype(int)\n",
    "unitconv = {'g':1, 'k':1000, 'm':1}\n",
    "dfprod['multiplier'] = dfprod['unit'].apply(lambda x: unitconv.get(x,np.nan)) * dfprod['cnt']\n",
    "dfprod['size'] = dfprod['amt'].astype(float) * dfprod['multiplier']\n",
    "dfprod['size'].fillna(dfprod['size'].mean(), inplace=True)"
   ]
  },
  {
   "cell_type": "code",
   "execution_count": 65,
   "metadata": {
    "collapsed": false
   },
   "outputs": [
    {
     "data": {
      "text/html": [
       "<div>\n",
       "<table border=\"1\" class=\"dataframe\">\n",
       "  <thead>\n",
       "    <tr style=\"text-align: right;\">\n",
       "      <th></th>\n",
       "      <th>Producto_ID</th>\n",
       "      <th>NombreProducto</th>\n",
       "      <th>man</th>\n",
       "      <th>amt</th>\n",
       "      <th>cnt</th>\n",
       "      <th>name</th>\n",
       "      <th>unit</th>\n",
       "      <th>multiplier</th>\n",
       "      <th>size</th>\n",
       "    </tr>\n",
       "  </thead>\n",
       "  <tbody>\n",
       "    <tr>\n",
       "      <th>1</th>\n",
       "      <td>9</td>\n",
       "      <td>Capuccino Moka 750g NES</td>\n",
       "      <td>NES</td>\n",
       "      <td>750</td>\n",
       "      <td>1</td>\n",
       "      <td>Capuccino Moka</td>\n",
       "      <td>g</td>\n",
       "      <td>1.0</td>\n",
       "      <td>750.0</td>\n",
       "    </tr>\n",
       "    <tr>\n",
       "      <th>2</th>\n",
       "      <td>41</td>\n",
       "      <td>Bimbollos Ext sAjonjoli 6p 480g BIM</td>\n",
       "      <td>BIM</td>\n",
       "      <td>480</td>\n",
       "      <td>6</td>\n",
       "      <td>Bimbollos Ext sAjonjoli</td>\n",
       "      <td>g</td>\n",
       "      <td>6.0</td>\n",
       "      <td>2880.0</td>\n",
       "    </tr>\n",
       "    <tr>\n",
       "      <th>3</th>\n",
       "      <td>53</td>\n",
       "      <td>Burritos Sincro 170g CU LON</td>\n",
       "      <td>LON</td>\n",
       "      <td>170</td>\n",
       "      <td>1</td>\n",
       "      <td>Burritos Sincro</td>\n",
       "      <td>g</td>\n",
       "      <td>1.0</td>\n",
       "      <td>170.0</td>\n",
       "    </tr>\n",
       "    <tr>\n",
       "      <th>4</th>\n",
       "      <td>72</td>\n",
       "      <td>Div Tira Mini Doradita 4p 45g TR</td>\n",
       "      <td>TR</td>\n",
       "      <td>45</td>\n",
       "      <td>4</td>\n",
       "      <td>Div Tira Mini Doradita</td>\n",
       "      <td>g</td>\n",
       "      <td>4.0</td>\n",
       "      <td>180.0</td>\n",
       "    </tr>\n",
       "    <tr>\n",
       "      <th>5</th>\n",
       "      <td>73</td>\n",
       "      <td>Pan Multigrano Linaza 540g BIM</td>\n",
       "      <td>BIM</td>\n",
       "      <td>540</td>\n",
       "      <td>1</td>\n",
       "      <td>Pan Multigrano Linaza</td>\n",
       "      <td>g</td>\n",
       "      <td>1.0</td>\n",
       "      <td>540.0</td>\n",
       "    </tr>\n",
       "    <tr>\n",
       "      <th>6</th>\n",
       "      <td>98</td>\n",
       "      <td>Tostado Integral 180g WON</td>\n",
       "      <td>WON</td>\n",
       "      <td>180</td>\n",
       "      <td>1</td>\n",
       "      <td>Tostado Integral</td>\n",
       "      <td>g</td>\n",
       "      <td>1.0</td>\n",
       "      <td>180.0</td>\n",
       "    </tr>\n",
       "    <tr>\n",
       "      <th>7</th>\n",
       "      <td>99</td>\n",
       "      <td>Pan Blanco 567g WON</td>\n",
       "      <td>WON</td>\n",
       "      <td>567</td>\n",
       "      <td>1</td>\n",
       "      <td>Pan Blanco</td>\n",
       "      <td>g</td>\n",
       "      <td>1.0</td>\n",
       "      <td>567.0</td>\n",
       "    </tr>\n",
       "    <tr>\n",
       "      <th>8</th>\n",
       "      <td>100</td>\n",
       "      <td>Super Pan Bco Ajonjoli 680g SP WON</td>\n",
       "      <td>WON</td>\n",
       "      <td>680</td>\n",
       "      <td>1</td>\n",
       "      <td>Super Pan Bco Ajonjoli</td>\n",
       "      <td>g</td>\n",
       "      <td>1.0</td>\n",
       "      <td>680.0</td>\n",
       "    </tr>\n",
       "    <tr>\n",
       "      <th>9</th>\n",
       "      <td>106</td>\n",
       "      <td>Wonder 100pct mediano 475g WON</td>\n",
       "      <td>WON</td>\n",
       "      <td>475</td>\n",
       "      <td>1</td>\n",
       "      <td>Wonder 100pct mediano</td>\n",
       "      <td>g</td>\n",
       "      <td>1.0</td>\n",
       "      <td>475.0</td>\n",
       "    </tr>\n",
       "    <tr>\n",
       "      <th>10</th>\n",
       "      <td>107</td>\n",
       "      <td>Wonder 100pct gde 680g SP WON</td>\n",
       "      <td>WON</td>\n",
       "      <td>680</td>\n",
       "      <td>1</td>\n",
       "      <td>Wonder 100pct gde</td>\n",
       "      <td>g</td>\n",
       "      <td>1.0</td>\n",
       "      <td>680.0</td>\n",
       "    </tr>\n",
       "  </tbody>\n",
       "</table>\n",
       "</div>"
      ],
      "text/plain": [
       "    Producto_ID                       NombreProducto  man  amt  cnt  \\\n",
       "1             9              Capuccino Moka 750g NES  NES  750    1   \n",
       "2            41  Bimbollos Ext sAjonjoli 6p 480g BIM  BIM  480    6   \n",
       "3            53          Burritos Sincro 170g CU LON  LON  170    1   \n",
       "4            72     Div Tira Mini Doradita 4p 45g TR   TR   45    4   \n",
       "5            73       Pan Multigrano Linaza 540g BIM  BIM  540    1   \n",
       "6            98            Tostado Integral 180g WON  WON  180    1   \n",
       "7            99                  Pan Blanco 567g WON  WON  567    1   \n",
       "8           100   Super Pan Bco Ajonjoli 680g SP WON  WON  680    1   \n",
       "9           106       Wonder 100pct mediano 475g WON  WON  475    1   \n",
       "10          107        Wonder 100pct gde 680g SP WON  WON  680    1   \n",
       "\n",
       "                          name unit  multiplier    size  \n",
       "1             Capuccino Moka      g         1.0   750.0  \n",
       "2   Bimbollos Ext sAjonjoli       g         6.0  2880.0  \n",
       "3           Burritos Sincro       g         1.0   170.0  \n",
       "4    Div Tira Mini Doradita       g         4.0   180.0  \n",
       "5      Pan Multigrano Linaza      g         1.0   540.0  \n",
       "6           Tostado Integral      g         1.0   180.0  \n",
       "7                 Pan Blanco      g         1.0   567.0  \n",
       "8    Super Pan Bco Ajonjoli       g         1.0   680.0  \n",
       "9      Wonder 100pct mediano      g         1.0   475.0  \n",
       "10        Wonder 100pct gde       g         1.0   680.0  "
      ]
     },
     "execution_count": 65,
     "metadata": {},
     "output_type": "execute_result"
    }
   ],
   "source": [
    "dfprod.head(10)"
   ]
  },
  {
   "cell_type": "code",
   "execution_count": 66,
   "metadata": {
    "collapsed": true
   },
   "outputs": [],
   "source": [
    "dfprod[['Producto_ID','name','man','size']].to_csv(dataurl+'producto_conv_tabla.csv', sep=',', index=False)"
   ]
  },
  {
   "cell_type": "code",
   "execution_count": 36,
   "metadata": {
    "collapsed": false
   },
   "outputs": [],
   "source": [
    "# save manufacturer category dictionary as csv\n",
    "\n",
    "dfprod = pd.read_csv(dataurl+'producto_conv_tabla.csv', sep=',', usecols=['Producto_ID', 'man'])\n",
    "mandict = dict(zip(dfprod['man'].unique().tolist(), list(range(len(dfprod['man'].unique())))))\n",
    "dfprod['man'] = dfprod['man'].apply(lambda x: mandict[x])\n",
    "dfprod.to_csv(dataurl+'mandict.csv', sep=',', index=False)"
   ]
  },
  {
   "cell_type": "markdown",
   "metadata": {},
   "source": [
    "### Result\n",
    "\n",
    "Created table to look up product manufacturer and size based on product id."
   ]
  },
  {
   "cell_type": "markdown",
   "metadata": {},
   "source": [
    "___\n",
    "# Identify linear trends in demand\n",
    "\n",
    "Compute linear trendline for demanda as a function of semana for each pair of producto and cliente IDs."
   ]
  },
  {
   "cell_type": "code",
   "execution_count": 4,
   "metadata": {
    "collapsed": false
   },
   "outputs": [
    {
     "name": "stdout",
     "output_type": "stream",
     "text": [
      "(74180464, 4)\n",
      "{'Producto_ID': dtype('int64'), 'Demanda_uni_equil': dtype('int64'), 'Cliente_ID': dtype('int64'), 'Semana': dtype('int64')}\n"
     ]
    },
    {
     "data": {
      "text/html": [
       "<div>\n",
       "<table border=\"1\" class=\"dataframe\">\n",
       "  <thead>\n",
       "    <tr style=\"text-align: right;\">\n",
       "      <th></th>\n",
       "      <th>Semana</th>\n",
       "      <th>Cliente_ID</th>\n",
       "      <th>Producto_ID</th>\n",
       "      <th>Demanda_uni_equil</th>\n",
       "    </tr>\n",
       "  </thead>\n",
       "  <tbody>\n",
       "    <tr>\n",
       "      <th>0</th>\n",
       "      <td>3</td>\n",
       "      <td>15766</td>\n",
       "      <td>1212</td>\n",
       "      <td>3</td>\n",
       "    </tr>\n",
       "    <tr>\n",
       "      <th>1</th>\n",
       "      <td>3</td>\n",
       "      <td>15766</td>\n",
       "      <td>1216</td>\n",
       "      <td>4</td>\n",
       "    </tr>\n",
       "    <tr>\n",
       "      <th>2</th>\n",
       "      <td>3</td>\n",
       "      <td>15766</td>\n",
       "      <td>1238</td>\n",
       "      <td>4</td>\n",
       "    </tr>\n",
       "    <tr>\n",
       "      <th>3</th>\n",
       "      <td>3</td>\n",
       "      <td>15766</td>\n",
       "      <td>1240</td>\n",
       "      <td>4</td>\n",
       "    </tr>\n",
       "    <tr>\n",
       "      <th>4</th>\n",
       "      <td>3</td>\n",
       "      <td>15766</td>\n",
       "      <td>1242</td>\n",
       "      <td>3</td>\n",
       "    </tr>\n",
       "  </tbody>\n",
       "</table>\n",
       "</div>"
      ],
      "text/plain": [
       "   Semana  Cliente_ID  Producto_ID  Demanda_uni_equil\n",
       "0       3       15766         1212                  3\n",
       "1       3       15766         1216                  4\n",
       "2       3       15766         1238                  4\n",
       "3       3       15766         1240                  4\n",
       "4       3       15766         1242                  3"
      ]
     },
     "execution_count": 4,
     "metadata": {},
     "output_type": "execute_result"
    }
   ],
   "source": [
    "# select only relevant data\n",
    "\n",
    "dflr = inspectdata('train', cols=['Producto_ID','Cliente_ID', 'Semana', 'Demanda_uni_equil'])\n",
    "# dflr = dftrain[].sort_values(['Producto_ID', 'Cliente_ID'], inplace=False)\n",
    "# .set_index(['Producto_ID', 'Cliente_ID'])\n",
    "dflr.head()"
   ]
  },
  {
   "cell_type": "code",
   "execution_count": 27,
   "metadata": {
    "collapsed": false
   },
   "outputs": [],
   "source": [
    "# trend in overall product demand?\n",
    "\n",
    "dfsemgroup = dflr.groupby('Semana').Demanda_uni_equil.sum()\n",
    "dfsemgroup = dfsemgroup/dfsemgroup.sum()"
   ]
  },
  {
   "cell_type": "code",
   "execution_count": 41,
   "metadata": {
    "collapsed": false
   },
   "outputs": [
    {
     "name": "stdout",
     "output_type": "stream",
     "text": [
      "LinregressResult(slope=-408.24416328873531, intercept=64.320594755533619, rvalue=-0.68068614704252073, pvalue=0.092333150556350274, stderr=196.48991295959664)\n"
     ]
    },
    {
     "data": {
      "image/png": "[encoded data removed]",
      "text/plain": [
       "<matplotlib.figure.Figure at 0x7f464d46c1d0>"
      ]
     },
     "metadata": {},
     "output_type": "display_data"
    }
   ],
   "source": [
    "print(linregress(dfsemgroup.values.reshape(1,-1)[0], dfsemgroup.index.values.reshape(1,-1)[0]))\n",
    "_ = dfsemgroup.plot(figsize=(10,6))\n",
    "_ = plt.title('Normalized Demand')\n",
    "_ = plt.ylim(0,0.15)"
   ]
  },
  {
   "cell_type": "code",
   "execution_count": 42,
   "metadata": {
    "collapsed": false
   },
   "outputs": [],
   "source": [
    "# create function to aggregate groups, use multiprocessing for speed\n",
    "\n",
    "def lrparams(tup):\n",
    "    x = tup[1]['Semana']\n",
    "    y = tup[1]['Demanda_uni_equil']\n",
    "    # some product-client pairs only have a single datapoint so linregress not possible\n",
    "    # so set equal to average over period (no independent variable)\n",
    "    if len(x)<2:\n",
    "        lr = (0, y.values[0]/9) # 7 instead?\n",
    "    else:\n",
    "        lr = linregress(x.values, y.values)\n",
    "        return pd.DataFrame({'0':[tup[0][0]], '1':[tup[0][1]], '2':[lr[0]], '3':[lr[1]]})\n",
    "\n",
    "def applyParallel(dfGrouped, func):\n",
    "    with Pool(cpu_count()) as p:\n",
    "        # ret_list = p.map(func, [group for name, group in dfGrouped])\n",
    "        ret_list = p.map(func, list(dfGrouped))\n",
    "    df = pd.concat(ret_list, ignore_index=True)\n",
    "    df.columns = ['Producto_ID', 'Cliente_ID', 'slope', 'intercept']\n",
    "    return df\n",
    "\n",
    "# will need to breakup dataframe to process in-memory\n",
    "\n",
    "def chunkApply(dflr, col, groupcols, func):\n",
    "    percents = np.arange(0,100,5)\n",
    "    vals = [dflr[col].max()+1]\n",
    "    for p in percents:\n",
    "        vals.append(int(np.percentile(dflr[col],p)))\n",
    "    vals.sort()\n",
    "    # vals = [dflr[col].min(), dflr[col].min()+1]\n",
    "    print('Chunk indices:', vals) \n",
    "    \n",
    "    for i in range(1,len(vals)):   \n",
    "        # select portion\n",
    "        dflrpart = dflr[(dflr[col]>=vals[i-1]) & (dflr[col]<vals[i])]\n",
    "        print('Part {:0} of {:1}'.format(i,len(vals)-1))\n",
    "        print('Row count:', '{:,}'.format(len(dflrpart)))\n",
    "        # group dataframe by product and client ID\n",
    "        dfgrouplr = dflrpart.groupby(groupcols)\n",
    "\n",
    "        chunk = applyParallel(dfgrouplr, func)\n",
    "        dflrpart = None\n",
    "        dfgrouplr = None\n",
    "        # overwrite existing file on first pass, otherwise append to file\n",
    "        if i==1:\n",
    "            writemode = 'w'\n",
    "            writehead = True\n",
    "        else:\n",
    "            writemode = 'a'\n",
    "            writehead = False\n",
    "\n",
    "        chunk.to_csv(dataurl+'chunks.csv', sep=',', index=False, header=writehead, mode=writemode)\n",
    "        chunk = None\n",
    "\n",
    "    return # chunk"
   ]
  },
  {
   "cell_type": "code",
   "execution_count": 43,
   "metadata": {
    "collapsed": false
   },
   "outputs": [
    {
     "name": "stdout",
     "output_type": "stream",
     "text": [
      "Chunk indices: [41, 1109, 1150, 1216, 1238, 1242, 1278, 1309, 2425, 4767, 30549, 31423, 32861, 35141, 35727, 37426, 43039, 43069, 43206, 43316, 49998]\n",
      "Part 1 of 20\n",
      "Row count: 2,363,210\n",
      "Part 2 of 20\n",
      "Row count: 4,736,851\n",
      "Part 3 of 20\n",
      "Row count: 3,525,571\n",
      "Part 4 of 20\n",
      "Row count: 4,103,428\n",
      "Part 5 of 20\n",
      "Row count: 3,338,528\n",
      "Part 6 of 20\n",
      "Row count: 3,977,807\n",
      "Part 7 of 20\n",
      "Row count: 3,068,286\n",
      "Part 8 of 20\n",
      "Row count: 3,641,619\n",
      "Part 9 of 20\n",
      "Row count: 4,541,351\n",
      "Part 10 of 20\n",
      "Row count: 3,779,316\n",
      "Part 11 of 20\n",
      "Row count: 3,496,073\n",
      "Part 12 of 20\n",
      "Row count: 3,888,582\n",
      "Part 13 of 20\n",
      "Row count: 3,731,025\n",
      "Part 14 of 20\n",
      "Row count: 3,724,220\n",
      "Part 15 of 20\n",
      "Row count: 3,718,840\n",
      "Part 16 of 20\n",
      "Row count: 3,648,070\n",
      "Part 17 of 20\n",
      "Row count: 2,775,631\n",
      "Part 18 of 20\n",
      "Row count: 4,510,171\n",
      "Part 19 of 20\n",
      "Row count: 3,768,787\n",
      "Part 20 of 20\n",
      "Row count: 3,843,098\n"
     ]
    }
   ],
   "source": [
    "chunkApply(dflr, 'Producto_ID', ['Producto_ID', 'Cliente_ID'], lrparams)"
   ]
  },
  {
   "cell_type": "code",
   "execution_count": 43,
   "metadata": {
    "collapsed": false,
    "scrolled": true
   },
   "outputs": [
    {
     "data": {
      "text/html": [
       "<div>\n",
       "<table border=\"1\" class=\"dataframe\">\n",
       "  <thead>\n",
       "    <tr style=\"text-align: right;\">\n",
       "      <th></th>\n",
       "      <th>Semana</th>\n",
       "      <th>Cliente_ID</th>\n",
       "      <th>Producto_ID</th>\n",
       "      <th>Demanda_uni_equil</th>\n",
       "    </tr>\n",
       "  </thead>\n",
       "  <tbody>\n",
       "    <tr>\n",
       "      <th>41695158</th>\n",
       "      <td>6</td>\n",
       "      <td>146030</td>\n",
       "      <td>41</td>\n",
       "      <td>70</td>\n",
       "    </tr>\n",
       "    <tr>\n",
       "      <th>52092608</th>\n",
       "      <td>7</td>\n",
       "      <td>146030</td>\n",
       "      <td>41</td>\n",
       "      <td>60</td>\n",
       "    </tr>\n",
       "    <tr>\n",
       "      <th>62493243</th>\n",
       "      <td>8</td>\n",
       "      <td>146030</td>\n",
       "      <td>41</td>\n",
       "      <td>40</td>\n",
       "    </tr>\n",
       "    <tr>\n",
       "      <th>72914594</th>\n",
       "      <td>9</td>\n",
       "      <td>146030</td>\n",
       "      <td>41</td>\n",
       "      <td>65</td>\n",
       "    </tr>\n",
       "    <tr>\n",
       "      <th>41695437</th>\n",
       "      <td>6</td>\n",
       "      <td>465617</td>\n",
       "      <td>41</td>\n",
       "      <td>0</td>\n",
       "    </tr>\n",
       "    <tr>\n",
       "      <th>62493519</th>\n",
       "      <td>8</td>\n",
       "      <td>465617</td>\n",
       "      <td>41</td>\n",
       "      <td>0</td>\n",
       "    </tr>\n",
       "    <tr>\n",
       "      <th>9844030</th>\n",
       "      <td>3</td>\n",
       "      <td>681747</td>\n",
       "      <td>41</td>\n",
       "      <td>2064</td>\n",
       "    </tr>\n",
       "    <tr>\n",
       "      <th>20816872</th>\n",
       "      <td>4</td>\n",
       "      <td>681747</td>\n",
       "      <td>41</td>\n",
       "      <td>1430</td>\n",
       "    </tr>\n",
       "    <tr>\n",
       "      <th>31480206</th>\n",
       "      <td>5</td>\n",
       "      <td>681747</td>\n",
       "      <td>41</td>\n",
       "      <td>1686</td>\n",
       "    </tr>\n",
       "    <tr>\n",
       "      <th>41695443</th>\n",
       "      <td>6</td>\n",
       "      <td>681747</td>\n",
       "      <td>41</td>\n",
       "      <td>1250</td>\n",
       "    </tr>\n",
       "    <tr>\n",
       "      <th>52092882</th>\n",
       "      <td>7</td>\n",
       "      <td>681747</td>\n",
       "      <td>41</td>\n",
       "      <td>1570</td>\n",
       "    </tr>\n",
       "    <tr>\n",
       "      <th>62493521</th>\n",
       "      <td>8</td>\n",
       "      <td>681747</td>\n",
       "      <td>41</td>\n",
       "      <td>1305</td>\n",
       "    </tr>\n",
       "    <tr>\n",
       "      <th>72914895</th>\n",
       "      <td>9</td>\n",
       "      <td>681747</td>\n",
       "      <td>41</td>\n",
       "      <td>1378</td>\n",
       "    </tr>\n",
       "    <tr>\n",
       "      <th>9843743</th>\n",
       "      <td>3</td>\n",
       "      <td>684023</td>\n",
       "      <td>41</td>\n",
       "      <td>30</td>\n",
       "    </tr>\n",
       "    <tr>\n",
       "      <th>20816575</th>\n",
       "      <td>4</td>\n",
       "      <td>684023</td>\n",
       "      <td>41</td>\n",
       "      <td>95</td>\n",
       "    </tr>\n",
       "    <tr>\n",
       "      <th>31479929</th>\n",
       "      <td>5</td>\n",
       "      <td>684023</td>\n",
       "      <td>41</td>\n",
       "      <td>82</td>\n",
       "    </tr>\n",
       "    <tr>\n",
       "      <th>41695162</th>\n",
       "      <td>6</td>\n",
       "      <td>684023</td>\n",
       "      <td>41</td>\n",
       "      <td>30</td>\n",
       "    </tr>\n",
       "    <tr>\n",
       "      <th>52092612</th>\n",
       "      <td>7</td>\n",
       "      <td>684023</td>\n",
       "      <td>41</td>\n",
       "      <td>60</td>\n",
       "    </tr>\n",
       "    <tr>\n",
       "      <th>62493248</th>\n",
       "      <td>8</td>\n",
       "      <td>684023</td>\n",
       "      <td>41</td>\n",
       "      <td>70</td>\n",
       "    </tr>\n",
       "    <tr>\n",
       "      <th>72914598</th>\n",
       "      <td>9</td>\n",
       "      <td>684023</td>\n",
       "      <td>41</td>\n",
       "      <td>45</td>\n",
       "    </tr>\n",
       "    <tr>\n",
       "      <th>9844037</th>\n",
       "      <td>3</td>\n",
       "      <td>685079</td>\n",
       "      <td>41</td>\n",
       "      <td>0</td>\n",
       "    </tr>\n",
       "    <tr>\n",
       "      <th>20816879</th>\n",
       "      <td>4</td>\n",
       "      <td>685079</td>\n",
       "      <td>41</td>\n",
       "      <td>0</td>\n",
       "    </tr>\n",
       "    <tr>\n",
       "      <th>9844368</th>\n",
       "      <td>3</td>\n",
       "      <td>1035265</td>\n",
       "      <td>41</td>\n",
       "      <td>0</td>\n",
       "    </tr>\n",
       "    <tr>\n",
       "      <th>52086638</th>\n",
       "      <td>7</td>\n",
       "      <td>1105804</td>\n",
       "      <td>41</td>\n",
       "      <td>138</td>\n",
       "    </tr>\n",
       "    <tr>\n",
       "      <th>22052695</th>\n",
       "      <td>4</td>\n",
       "      <td>1451516</td>\n",
       "      <td>41</td>\n",
       "      <td>5</td>\n",
       "    </tr>\n",
       "    <tr>\n",
       "      <th>11043766</th>\n",
       "      <td>3</td>\n",
       "      <td>1546790</td>\n",
       "      <td>41</td>\n",
       "      <td>200</td>\n",
       "    </tr>\n",
       "    <tr>\n",
       "      <th>42864341</th>\n",
       "      <td>6</td>\n",
       "      <td>1546790</td>\n",
       "      <td>41</td>\n",
       "      <td>80</td>\n",
       "    </tr>\n",
       "    <tr>\n",
       "      <th>53246091</th>\n",
       "      <td>7</td>\n",
       "      <td>1546790</td>\n",
       "      <td>41</td>\n",
       "      <td>50</td>\n",
       "    </tr>\n",
       "    <tr>\n",
       "      <th>63669552</th>\n",
       "      <td>8</td>\n",
       "      <td>1546790</td>\n",
       "      <td>41</td>\n",
       "      <td>60</td>\n",
       "    </tr>\n",
       "    <tr>\n",
       "      <th>74076926</th>\n",
       "      <td>9</td>\n",
       "      <td>1546790</td>\n",
       "      <td>41</td>\n",
       "      <td>40</td>\n",
       "    </tr>\n",
       "    <tr>\n",
       "      <th>...</th>\n",
       "      <td>...</td>\n",
       "      <td>...</td>\n",
       "      <td>...</td>\n",
       "      <td>...</td>\n",
       "    </tr>\n",
       "    <tr>\n",
       "      <th>20816888</th>\n",
       "      <td>4</td>\n",
       "      <td>1623763</td>\n",
       "      <td>41</td>\n",
       "      <td>740</td>\n",
       "    </tr>\n",
       "    <tr>\n",
       "      <th>31480221</th>\n",
       "      <td>5</td>\n",
       "      <td>1623763</td>\n",
       "      <td>41</td>\n",
       "      <td>820</td>\n",
       "    </tr>\n",
       "    <tr>\n",
       "      <th>41695459</th>\n",
       "      <td>6</td>\n",
       "      <td>1623763</td>\n",
       "      <td>41</td>\n",
       "      <td>986</td>\n",
       "    </tr>\n",
       "    <tr>\n",
       "      <th>52092899</th>\n",
       "      <td>7</td>\n",
       "      <td>1623763</td>\n",
       "      <td>41</td>\n",
       "      <td>1030</td>\n",
       "    </tr>\n",
       "    <tr>\n",
       "      <th>62493546</th>\n",
       "      <td>8</td>\n",
       "      <td>1623763</td>\n",
       "      <td>41</td>\n",
       "      <td>1159</td>\n",
       "    </tr>\n",
       "    <tr>\n",
       "      <th>72914914</th>\n",
       "      <td>9</td>\n",
       "      <td>1623763</td>\n",
       "      <td>41</td>\n",
       "      <td>1269</td>\n",
       "    </tr>\n",
       "    <tr>\n",
       "      <th>20816586</th>\n",
       "      <td>4</td>\n",
       "      <td>1938075</td>\n",
       "      <td>41</td>\n",
       "      <td>105</td>\n",
       "    </tr>\n",
       "    <tr>\n",
       "      <th>31479938</th>\n",
       "      <td>5</td>\n",
       "      <td>1938075</td>\n",
       "      <td>41</td>\n",
       "      <td>20</td>\n",
       "    </tr>\n",
       "    <tr>\n",
       "      <th>41695173</th>\n",
       "      <td>6</td>\n",
       "      <td>1938075</td>\n",
       "      <td>41</td>\n",
       "      <td>40</td>\n",
       "    </tr>\n",
       "    <tr>\n",
       "      <th>72914611</th>\n",
       "      <td>9</td>\n",
       "      <td>1938075</td>\n",
       "      <td>41</td>\n",
       "      <td>70</td>\n",
       "    </tr>\n",
       "    <tr>\n",
       "      <th>52086658</th>\n",
       "      <td>7</td>\n",
       "      <td>2284385</td>\n",
       "      <td>41</td>\n",
       "      <td>200</td>\n",
       "    </tr>\n",
       "    <tr>\n",
       "      <th>62487187</th>\n",
       "      <td>8</td>\n",
       "      <td>2284385</td>\n",
       "      <td>41</td>\n",
       "      <td>100</td>\n",
       "    </tr>\n",
       "    <tr>\n",
       "      <th>72909894</th>\n",
       "      <td>9</td>\n",
       "      <td>2284385</td>\n",
       "      <td>41</td>\n",
       "      <td>110</td>\n",
       "    </tr>\n",
       "    <tr>\n",
       "      <th>28965000</th>\n",
       "      <td>5</td>\n",
       "      <td>2470338</td>\n",
       "      <td>41</td>\n",
       "      <td>45</td>\n",
       "    </tr>\n",
       "    <tr>\n",
       "      <th>39322440</th>\n",
       "      <td>6</td>\n",
       "      <td>2470338</td>\n",
       "      <td>41</td>\n",
       "      <td>25</td>\n",
       "    </tr>\n",
       "    <tr>\n",
       "      <th>49722603</th>\n",
       "      <td>7</td>\n",
       "      <td>2470338</td>\n",
       "      <td>41</td>\n",
       "      <td>25</td>\n",
       "    </tr>\n",
       "    <tr>\n",
       "      <th>60071819</th>\n",
       "      <td>8</td>\n",
       "      <td>2470338</td>\n",
       "      <td>41</td>\n",
       "      <td>20</td>\n",
       "    </tr>\n",
       "    <tr>\n",
       "      <th>70507037</th>\n",
       "      <td>9</td>\n",
       "      <td>2470338</td>\n",
       "      <td>41</td>\n",
       "      <td>10</td>\n",
       "    </tr>\n",
       "    <tr>\n",
       "      <th>9844420</th>\n",
       "      <td>3</td>\n",
       "      <td>2482890</td>\n",
       "      <td>41</td>\n",
       "      <td>330</td>\n",
       "    </tr>\n",
       "    <tr>\n",
       "      <th>20817229</th>\n",
       "      <td>4</td>\n",
       "      <td>2482890</td>\n",
       "      <td>41</td>\n",
       "      <td>430</td>\n",
       "    </tr>\n",
       "    <tr>\n",
       "      <th>31480527</th>\n",
       "      <td>5</td>\n",
       "      <td>2482890</td>\n",
       "      <td>41</td>\n",
       "      <td>400</td>\n",
       "    </tr>\n",
       "    <tr>\n",
       "      <th>41695756</th>\n",
       "      <td>6</td>\n",
       "      <td>2482890</td>\n",
       "      <td>41</td>\n",
       "      <td>500</td>\n",
       "    </tr>\n",
       "    <tr>\n",
       "      <th>52093223</th>\n",
       "      <td>7</td>\n",
       "      <td>2482890</td>\n",
       "      <td>41</td>\n",
       "      <td>300</td>\n",
       "    </tr>\n",
       "    <tr>\n",
       "      <th>62493844</th>\n",
       "      <td>8</td>\n",
       "      <td>2482890</td>\n",
       "      <td>41</td>\n",
       "      <td>295</td>\n",
       "    </tr>\n",
       "    <tr>\n",
       "      <th>72915221</th>\n",
       "      <td>9</td>\n",
       "      <td>2482890</td>\n",
       "      <td>41</td>\n",
       "      <td>410</td>\n",
       "    </tr>\n",
       "    <tr>\n",
       "      <th>11043774</th>\n",
       "      <td>3</td>\n",
       "      <td>4586525</td>\n",
       "      <td>41</td>\n",
       "      <td>15</td>\n",
       "    </tr>\n",
       "    <tr>\n",
       "      <th>22052708</th>\n",
       "      <td>4</td>\n",
       "      <td>4586525</td>\n",
       "      <td>41</td>\n",
       "      <td>4</td>\n",
       "    </tr>\n",
       "    <tr>\n",
       "      <th>42864349</th>\n",
       "      <td>6</td>\n",
       "      <td>4586525</td>\n",
       "      <td>41</td>\n",
       "      <td>1</td>\n",
       "    </tr>\n",
       "    <tr>\n",
       "      <th>53246098</th>\n",
       "      <td>7</td>\n",
       "      <td>4586525</td>\n",
       "      <td>41</td>\n",
       "      <td>10</td>\n",
       "    </tr>\n",
       "    <tr>\n",
       "      <th>63669559</th>\n",
       "      <td>8</td>\n",
       "      <td>4586525</td>\n",
       "      <td>41</td>\n",
       "      <td>20</td>\n",
       "    </tr>\n",
       "  </tbody>\n",
       "</table>\n",
       "<p>61 rows × 4 columns</p>\n",
       "</div>"
      ],
      "text/plain": [
       "          Semana  Cliente_ID  Producto_ID  Demanda_uni_equil\n",
       "41695158       6      146030           41                 70\n",
       "52092608       7      146030           41                 60\n",
       "62493243       8      146030           41                 40\n",
       "72914594       9      146030           41                 65\n",
       "41695437       6      465617           41                  0\n",
       "62493519       8      465617           41                  0\n",
       "9844030        3      681747           41               2064\n",
       "20816872       4      681747           41               1430\n",
       "31480206       5      681747           41               1686\n",
       "41695443       6      681747           41               1250\n",
       "52092882       7      681747           41               1570\n",
       "62493521       8      681747           41               1305\n",
       "72914895       9      681747           41               1378\n",
       "9843743        3      684023           41                 30\n",
       "20816575       4      684023           41                 95\n",
       "31479929       5      684023           41                 82\n",
       "41695162       6      684023           41                 30\n",
       "52092612       7      684023           41                 60\n",
       "62493248       8      684023           41                 70\n",
       "72914598       9      684023           41                 45\n",
       "9844037        3      685079           41                  0\n",
       "20816879       4      685079           41                  0\n",
       "9844368        3     1035265           41                  0\n",
       "52086638       7     1105804           41                138\n",
       "22052695       4     1451516           41                  5\n",
       "11043766       3     1546790           41                200\n",
       "42864341       6     1546790           41                 80\n",
       "53246091       7     1546790           41                 50\n",
       "63669552       8     1546790           41                 60\n",
       "74076926       9     1546790           41                 40\n",
       "...          ...         ...          ...                ...\n",
       "20816888       4     1623763           41                740\n",
       "31480221       5     1623763           41                820\n",
       "41695459       6     1623763           41                986\n",
       "52092899       7     1623763           41               1030\n",
       "62493546       8     1623763           41               1159\n",
       "72914914       9     1623763           41               1269\n",
       "20816586       4     1938075           41                105\n",
       "31479938       5     1938075           41                 20\n",
       "41695173       6     1938075           41                 40\n",
       "72914611       9     1938075           41                 70\n",
       "52086658       7     2284385           41                200\n",
       "62487187       8     2284385           41                100\n",
       "72909894       9     2284385           41                110\n",
       "28965000       5     2470338           41                 45\n",
       "39322440       6     2470338           41                 25\n",
       "49722603       7     2470338           41                 25\n",
       "60071819       8     2470338           41                 20\n",
       "70507037       9     2470338           41                 10\n",
       "9844420        3     2482890           41                330\n",
       "20817229       4     2482890           41                430\n",
       "31480527       5     2482890           41                400\n",
       "41695756       6     2482890           41                500\n",
       "52093223       7     2482890           41                300\n",
       "62493844       8     2482890           41                295\n",
       "72915221       9     2482890           41                410\n",
       "11043774       3     4586525           41                 15\n",
       "22052708       4     4586525           41                  4\n",
       "42864349       6     4586525           41                  1\n",
       "53246098       7     4586525           41                 10\n",
       "63669559       8     4586525           41                 20\n",
       "\n",
       "[61 rows x 4 columns]"
      ]
     },
     "execution_count": 43,
     "metadata": {},
     "output_type": "execute_result"
    }
   ],
   "source": [
    "# inconsistent entries in database\n",
    "# do semanas without an entry correspond to 0 demanda? or is demanda the same as other semanas?\n",
    "\n",
    "dflr[dflr['Producto_ID']==41].sort_values(['Producto_ID','Cliente_ID'])"
   ]
  },
  {
   "cell_type": "code",
   "execution_count": 5,
   "metadata": {
    "collapsed": false
   },
   "outputs": [
    {
     "name": "stdout",
     "output_type": "stream",
     "text": [
      "25831538\n"
     ]
    },
    {
     "data": {
      "text/html": [
       "<div>\n",
       "<table border=\"1\" class=\"dataframe\">\n",
       "  <thead>\n",
       "    <tr style=\"text-align: right;\">\n",
       "      <th></th>\n",
       "      <th></th>\n",
       "      <th>Demanda_uni_equil</th>\n",
       "    </tr>\n",
       "    <tr>\n",
       "      <th>Producto_ID</th>\n",
       "      <th>Cliente_ID</th>\n",
       "      <th></th>\n",
       "    </tr>\n",
       "  </thead>\n",
       "  <tbody>\n",
       "    <tr>\n",
       "      <th rowspan=\"10\" valign=\"top\">41</th>\n",
       "      <th>146030</th>\n",
       "      <td>4</td>\n",
       "    </tr>\n",
       "    <tr>\n",
       "      <th>465617</th>\n",
       "      <td>2</td>\n",
       "    </tr>\n",
       "    <tr>\n",
       "      <th>681747</th>\n",
       "      <td>7</td>\n",
       "    </tr>\n",
       "    <tr>\n",
       "      <th>684023</th>\n",
       "      <td>7</td>\n",
       "    </tr>\n",
       "    <tr>\n",
       "      <th>685079</th>\n",
       "      <td>2</td>\n",
       "    </tr>\n",
       "    <tr>\n",
       "      <th>1035265</th>\n",
       "      <td>1</td>\n",
       "    </tr>\n",
       "    <tr>\n",
       "      <th>1105804</th>\n",
       "      <td>1</td>\n",
       "    </tr>\n",
       "    <tr>\n",
       "      <th>1451516</th>\n",
       "      <td>1</td>\n",
       "    </tr>\n",
       "    <tr>\n",
       "      <th>1546790</th>\n",
       "      <td>5</td>\n",
       "    </tr>\n",
       "    <tr>\n",
       "      <th>1623763</th>\n",
       "      <td>7</td>\n",
       "    </tr>\n",
       "  </tbody>\n",
       "</table>\n",
       "</div>"
      ],
      "text/plain": [
       "                        Demanda_uni_equil\n",
       "Producto_ID Cliente_ID                   \n",
       "41          146030                      4\n",
       "            465617                      2\n",
       "            681747                      7\n",
       "            684023                      7\n",
       "            685079                      2\n",
       "            1035265                     1\n",
       "            1105804                     1\n",
       "            1451516                     1\n",
       "            1546790                     5\n",
       "            1623763                     7"
      ]
     },
     "execution_count": 5,
     "metadata": {},
     "output_type": "execute_result"
    }
   ],
   "source": [
    "# combine linreg parameters with product and client ID\n",
    "\n",
    "dfprodclient = dflr[['Producto_ID','Cliente_ID', 'Demanda_uni_equil']].groupby(\n",
    "    ['Producto_ID','Cliente_ID'], sort=True).count()\n",
    "print(len(dfprodclient))\n",
    "dfprodclient.head(10)"
   ]
  },
  {
   "cell_type": "code",
   "execution_count": 11,
   "metadata": {
    "collapsed": false
   },
   "outputs": [
    {
     "name": "stdout",
     "output_type": "stream",
     "text": [
      "1 loop, best of 1: 47.1 s per loop\n",
      "1 loop, best of 1: 1min 40s per loop\n"
     ]
    }
   ],
   "source": [
    "# test speed of aggregating function with and without multiprocessing\n",
    "\n",
    "dfgrouplr = dflrpart.groupby(['Producto_ID','Cliente_ID'])\n",
    "% timeit -r1 -n1 applyParallel(dfgrouplr, lrparams)\n",
    "\n",
    "dfgrouplr = dflrpart.groupby(['Producto_ID','Cliente_ID'])\n",
    "% timeit -r1 -n1 dfgrouplr.apply(lrparams)"
   ]
  },
  {
   "cell_type": "markdown",
   "metadata": {},
   "source": [
    "___\n",
    "# Develop feature for store location"
   ]
  },
  {
   "cell_type": "code",
   "execution_count": 27,
   "metadata": {
    "collapsed": false
   },
   "outputs": [
    {
     "name": "stdout",
     "output_type": "stream",
     "text": [
      "(790, 3)\n",
      "{'Town': dtype('O'), 'Agencia_ID': dtype('int64'), 'State': dtype('O')}\n"
     ]
    },
    {
     "data": {
      "text/html": [
       "<div>\n",
       "<table border=\"1\" class=\"dataframe\">\n",
       "  <thead>\n",
       "    <tr style=\"text-align: right;\">\n",
       "      <th></th>\n",
       "      <th>Agencia_ID</th>\n",
       "      <th>Town</th>\n",
       "      <th>State</th>\n",
       "    </tr>\n",
       "  </thead>\n",
       "  <tbody>\n",
       "    <tr>\n",
       "      <th>0</th>\n",
       "      <td>1110</td>\n",
       "      <td>2008 AG. LAGO FILT</td>\n",
       "      <td>MÉXICO, D.F.</td>\n",
       "    </tr>\n",
       "    <tr>\n",
       "      <th>1</th>\n",
       "      <td>1111</td>\n",
       "      <td>2002 AG. AZCAPOTZALCO</td>\n",
       "      <td>MÉXICO, D.F.</td>\n",
       "    </tr>\n",
       "    <tr>\n",
       "      <th>2</th>\n",
       "      <td>1112</td>\n",
       "      <td>2004 AG. CUAUTITLAN</td>\n",
       "      <td>ESTADO DE MÉXICO</td>\n",
       "    </tr>\n",
       "    <tr>\n",
       "      <th>3</th>\n",
       "      <td>1113</td>\n",
       "      <td>2008 AG. LAGO FILT</td>\n",
       "      <td>MÉXICO, D.F.</td>\n",
       "    </tr>\n",
       "    <tr>\n",
       "      <th>4</th>\n",
       "      <td>1114</td>\n",
       "      <td>2029 AG.IZTAPALAPA 2</td>\n",
       "      <td>MÉXICO, D.F.</td>\n",
       "    </tr>\n",
       "  </tbody>\n",
       "</table>\n",
       "</div>"
      ],
      "text/plain": [
       "   Agencia_ID                   Town             State\n",
       "0        1110     2008 AG. LAGO FILT      MÉXICO, D.F.\n",
       "1        1111  2002 AG. AZCAPOTZALCO      MÉXICO, D.F.\n",
       "2        1112    2004 AG. CUAUTITLAN  ESTADO DE MÉXICO\n",
       "3        1113     2008 AG. LAGO FILT      MÉXICO, D.F.\n",
       "4        1114   2029 AG.IZTAPALAPA 2      MÉXICO, D.F."
      ]
     },
     "execution_count": 27,
     "metadata": {},
     "output_type": "execute_result"
    }
   ],
   "source": [
    "dfloc = inspectdata('town_state')\n",
    "dfloc.head()"
   ]
  },
  {
   "cell_type": "code",
   "execution_count": 31,
   "metadata": {
    "collapsed": false
   },
   "outputs": [
    {
     "data": {
      "text/plain": [
       "array([ 0,  1,  2,  3,  4,  5,  6,  7,  8,  9, 10, 11, 12, 13, 14, 15, 16,\n",
       "       17, 18, 19, 20, 21, 22, 23, 24, 25, 26, 27, 28, 29, 30, 31, 32])"
      ]
     },
     "execution_count": 31,
     "metadata": {},
     "output_type": "execute_result"
    }
   ],
   "source": [
    "statedict = dict(zip(dfloc['State'].unique().tolist(), list(range(len(dfloc['State'].unique().tolist())))))\n",
    "dfloc['stateid'] = dfloc['State'].apply(lambda x: statedict[x])\n",
    "dfloc['stateid'].unique()"
   ]
  },
  {
   "cell_type": "code",
   "execution_count": 53,
   "metadata": {
    "collapsed": false
   },
   "outputs": [
    {
     "name": "stdout",
     "output_type": "stream",
     "text": [
      "0\n"
     ]
    }
   ],
   "source": [
    "# are all agency ids included in training data? True if len==0\n",
    "\n",
    "dftrainmerg = pd.merge(dftrain, dfloc[['Agencia_ID','State']], how='left', on='Agencia_ID')\n",
    "print(len(dftrainmerg[dftrainmerg['State'].isnull()]))"
   ]
  },
  {
   "cell_type": "code",
   "execution_count": 32,
   "metadata": {
    "collapsed": true
   },
   "outputs": [],
   "source": [
    "# save to csv\n",
    "\n",
    "dfloc[['Agencia_ID', 'stateid']].to_csv(dataurl+'statedict.csv', sep=',', index=False)"
   ]
  },
  {
   "cell_type": "markdown",
   "metadata": {},
   "source": [
    "### Result\n",
    "\n",
    "Will left join training and test data with this table to generate province for each agency."
   ]
  },
  {
   "cell_type": "markdown",
   "metadata": {},
   "source": [
    "___\n",
    "# Final features to use in first attempt model\n",
    "\n",
    "**Product-based:**\n",
    "1. Manufacturer (categorical)\n",
    "1. Size of product (count and weight) (continuous)\n",
    "\n",
    "**Client-based:**\n",
    "1. Does the client have a name in database (bernoulli)\n",
    "1. Number of bimbo products client sells (continuous)\n",
    "\n",
    "**Sales depot-based:**\n",
    "1. Province (categorical)\n",
    "\n",
    "**Product and client:**\n",
    "1. Linear trendline of demand over 9 weeks (slope and intercept) (continuous)\n",
    "\n",
    "### Procedure\n",
    "\n",
    "1. Left-join on `Agencia_ID` with `dfloc` fill `NaN` with `0`\n",
    "1. Left-join on `Producto_ID` with `producto_conv_tabla.csv` fill with mean average\n",
    "1. Left-join on `Cliente_ID` with `cliente_tabla_drop.csv` should be no missing data\n",
    "1. Left-join on `Cliente_ID` with `producto_por_cliente.csv` should be no missing data\n",
    "1. Left-join on `[Producto_ID, Cliente_ID]` with `linregress#.csv` fill with trendline calculated from weekly means\n",
    "1. Drop primary keys `[Agencia_ID, Producto_ID, Cliente_ID]`\n",
    "1. Clear memory\n",
    "1. Save training data as csv"
   ]
  },
  {
   "cell_type": "code",
   "execution_count": 3,
   "metadata": {
    "collapsed": false
   },
   "outputs": [
    {
     "name": "stdout",
     "output_type": "stream",
     "text": [
      "(74180464, 5)\n",
      "{'Semana': dtype('int64'), 'Agencia_ID': dtype('int64'), 'Producto_ID': dtype('int64'), 'Cliente_ID': dtype('int64'), 'Demanda_uni_equil': dtype('int64')}\n",
      "LinregressResult(slope=8.4185166918455607, intercept=-54.842029041180105, rvalue=0.51480990366722712, pvalue=0.23708316101578414, stderr=6.2695838314307233)\n"
     ]
    }
   ],
   "source": [
    "# load training data\n",
    "df = inspectdata('train', cols=['Semana', 'Agencia_ID', 'Producto_ID', 'Cliente_ID', 'Demanda_uni_equil'])\n",
    "\n",
    "# compute mean average of demand each week and return the slope and intercept\n",
    "# to fillna values\n",
    "dfgroupsem = df[['Semana','Demanda_uni_equil']].groupby('Semana').mean()\n",
    "semmean = linregress(dfgroupsem.values.reshape(1,-1)[0], dfgroupsem.index.values.reshape(1,-1)[0])\n",
    "print(semmean)"
   ]
  },
  {
   "cell_type": "code",
   "execution_count": 4,
   "metadata": {
    "collapsed": true
   },
   "outputs": [],
   "source": [
    "def valuecountrep(dftrain, col):\n",
    "    # replace col with ranked list of valuecounts\n",
    "    ser = dftrain[col].value_counts()\n",
    "    rankweight = list(range(len(ser)))[::-1]\n",
    "    serrank = pd.Series(rankweight)\n",
    "    return pd.DataFrame({col:ser.index, col+'weight':serrank})"
   ]
  },
  {
   "cell_type": "code",
   "execution_count": 5,
   "metadata": {
    "collapsed": true
   },
   "outputs": [],
   "source": [
    "def featurebuild(dftrain):\n",
    "\n",
    "    dfloc = pd.read_csv(dataurl+'statedict.csv', sep=',')\n",
    "    dftrain = pd.merge(dftrain, dfloc, how='left', on='Agencia_ID')\n",
    "    dftrain['stateid'] = dftrain['stateid'].astype(int)\n",
    "    dfstate = valuecountrep(dftrain, 'stateid')\n",
    "    dftrain = pd.merge(dftrain, dfstate, how='left', on='stateid')\n",
    "    dftrain.drop(['Agencia_ID','stateid'], axis=1, inplace=True)\n",
    "    dfloc = None\n",
    "    dfstate = None\n",
    "\n",
    "    dfprod = pd.read_csv(dataurl+'mandict.csv', sep=',')\n",
    "    dftrain = pd.merge(dftrain, dfprod, how='left', on='Producto_ID')\n",
    "    dftrain['man'].fillna(dfprod['man'].value_counts().max(), inplace=True)\n",
    "    dftrain['man'] = dftrain['man'].astype(int)\n",
    "    dfman = valuecountrep(dftrain, 'man')\n",
    "    dftrain = pd.merge(dftrain, dfman, how='left', on='man')\n",
    "    dftrain.drop('man', axis=1, inplace=True)\n",
    "    # dftrain['size'].fillna(dfprod['size'].mean(), inplace=True)\n",
    "    dfprod = None\n",
    "    dfman = None\n",
    "    \n",
    "    dfnamed = pd.read_csv(dataurl+'cliente_tabla_drop.csv', sep=',', usecols=['Cliente_ID', 'present'])\n",
    "    dftrain = pd.merge(dftrain, dfnamed, how='left', on='Cliente_ID')\n",
    "    dftrain['present'].fillna(0, inplace=True)\n",
    "    dftrain['present'] = dftrain['present'].astype(int)\n",
    "    dfnamed = None\n",
    "    \n",
    "    dfprodclient = pd.read_csv(dataurl+'producto_por_cliente.csv', sep=',')\n",
    "    dftrain = pd.merge(dftrain, dfprodclient, how='left', on='Cliente_ID')\n",
    "    dfprodclient = None\n",
    "    \n",
    "    dflr = pd.read_csv(dataurl+'linregress2.csv', sep=',')\n",
    "    dftrain = pd.merge(dftrain, dflr, how='left', on=['Producto_ID','Cliente_ID'])\n",
    "    dflr = None\n",
    "    dftrain['slope'].fillna(semmean[0], inplace=True)\n",
    "    dftrain['intercept'].fillna(semmean[1], inplace=True)\n",
    "    dftrain['lr'] = dftrain['slope'] * dftrain['Semana'] + dftrain['intercept']\n",
    "    dftrain['lr'] = dftrain['lr'].apply(lambda x: max(x,0))\n",
    "    dftrain.drop(['Producto_ID', 'Cliente_ID', 'slope', 'intercept'], axis=1, inplace=True)\n",
    "    \n",
    "    return dftrain"
   ]
  },
  {
   "cell_type": "code",
   "execution_count": 6,
   "metadata": {
    "collapsed": false,
    "scrolled": false
   },
   "outputs": [
    {
     "name": "stdout",
     "output_type": "stream",
     "text": [
      "74180464\n"
     ]
    },
    {
     "data": {
      "text/html": [
       "<div>\n",
       "<table border=\"1\" class=\"dataframe\">\n",
       "  <thead>\n",
       "    <tr style=\"text-align: right;\">\n",
       "      <th></th>\n",
       "      <th>Semana</th>\n",
       "      <th>Demanda_uni_equil</th>\n",
       "      <th>stateidweight</th>\n",
       "      <th>manweight</th>\n",
       "      <th>present</th>\n",
       "      <th>prodcount</th>\n",
       "      <th>lr</th>\n",
       "    </tr>\n",
       "  </thead>\n",
       "  <tbody>\n",
       "    <tr>\n",
       "      <th>0</th>\n",
       "      <td>3</td>\n",
       "      <td>3</td>\n",
       "      <td>31</td>\n",
       "      <td>29</td>\n",
       "      <td>1</td>\n",
       "      <td>43</td>\n",
       "      <td>4.194030</td>\n",
       "    </tr>\n",
       "    <tr>\n",
       "      <th>1</th>\n",
       "      <td>3</td>\n",
       "      <td>4</td>\n",
       "      <td>31</td>\n",
       "      <td>29</td>\n",
       "      <td>1</td>\n",
       "      <td>43</td>\n",
       "      <td>2.619048</td>\n",
       "    </tr>\n",
       "    <tr>\n",
       "      <th>2</th>\n",
       "      <td>3</td>\n",
       "      <td>4</td>\n",
       "      <td>31</td>\n",
       "      <td>29</td>\n",
       "      <td>1</td>\n",
       "      <td>43</td>\n",
       "      <td>2.964286</td>\n",
       "    </tr>\n",
       "    <tr>\n",
       "      <th>3</th>\n",
       "      <td>3</td>\n",
       "      <td>4</td>\n",
       "      <td>31</td>\n",
       "      <td>29</td>\n",
       "      <td>1</td>\n",
       "      <td>43</td>\n",
       "      <td>6.104478</td>\n",
       "    </tr>\n",
       "    <tr>\n",
       "      <th>4</th>\n",
       "      <td>3</td>\n",
       "      <td>3</td>\n",
       "      <td>31</td>\n",
       "      <td>29</td>\n",
       "      <td>1</td>\n",
       "      <td>43</td>\n",
       "      <td>3.214286</td>\n",
       "    </tr>\n",
       "  </tbody>\n",
       "</table>\n",
       "</div>"
      ],
      "text/plain": [
       "   Semana  Demanda_uni_equil  stateidweight  manweight  present  prodcount  \\\n",
       "0       3                  3             31         29        1         43   \n",
       "1       3                  4             31         29        1         43   \n",
       "2       3                  4             31         29        1         43   \n",
       "3       3                  4             31         29        1         43   \n",
       "4       3                  3             31         29        1         43   \n",
       "\n",
       "         lr  \n",
       "0  4.194030  \n",
       "1  2.619048  \n",
       "2  2.964286  \n",
       "3  6.104478  \n",
       "4  3.214286  "
      ]
     },
     "execution_count": 6,
     "metadata": {},
     "output_type": "execute_result"
    }
   ],
   "source": [
    "dftrain = featurebuild(df)\n",
    "print(dftrain.shape[0])\n",
    "dftrain.head()"
   ]
  },
  {
   "cell_type": "code",
   "execution_count": 12,
   "metadata": {
    "collapsed": false
   },
   "outputs": [
    {
     "data": {
      "text/html": [
       "<div>\n",
       "<table border=\"1\" class=\"dataframe\">\n",
       "  <thead>\n",
       "    <tr style=\"text-align: right;\">\n",
       "      <th></th>\n",
       "      <th>Semana</th>\n",
       "      <th>Demanda_uni_equil</th>\n",
       "      <th>stateidweight</th>\n",
       "      <th>manweight</th>\n",
       "      <th>present</th>\n",
       "      <th>prodcount</th>\n",
       "      <th>lr</th>\n",
       "    </tr>\n",
       "  </thead>\n",
       "  <tbody>\n",
       "    <tr>\n",
       "      <th>Semana</th>\n",
       "      <td>1.000000</td>\n",
       "      <td>0.003000</td>\n",
       "      <td>0.002240</td>\n",
       "      <td>0.000059</td>\n",
       "      <td>-0.002323</td>\n",
       "      <td>0.002334</td>\n",
       "      <td>0.049401</td>\n",
       "    </tr>\n",
       "    <tr>\n",
       "      <th>Demanda_uni_equil</th>\n",
       "      <td>0.003000</td>\n",
       "      <td>1.000000</td>\n",
       "      <td>-0.005986</td>\n",
       "      <td>-0.085570</td>\n",
       "      <td>0.082186</td>\n",
       "      <td>0.144274</td>\n",
       "      <td>0.909651</td>\n",
       "    </tr>\n",
       "    <tr>\n",
       "      <th>stateidweight</th>\n",
       "      <td>0.002240</td>\n",
       "      <td>-0.005986</td>\n",
       "      <td>1.000000</td>\n",
       "      <td>-0.029862</td>\n",
       "      <td>-0.003094</td>\n",
       "      <td>0.140307</td>\n",
       "      <td>-0.006743</td>\n",
       "    </tr>\n",
       "    <tr>\n",
       "      <th>manweight</th>\n",
       "      <td>0.000059</td>\n",
       "      <td>-0.085570</td>\n",
       "      <td>-0.029862</td>\n",
       "      <td>1.000000</td>\n",
       "      <td>-0.021735</td>\n",
       "      <td>-0.164273</td>\n",
       "      <td>-0.094579</td>\n",
       "    </tr>\n",
       "    <tr>\n",
       "      <th>present</th>\n",
       "      <td>-0.002323</td>\n",
       "      <td>0.082186</td>\n",
       "      <td>-0.003094</td>\n",
       "      <td>-0.021735</td>\n",
       "      <td>1.000000</td>\n",
       "      <td>0.071347</td>\n",
       "      <td>0.085083</td>\n",
       "    </tr>\n",
       "    <tr>\n",
       "      <th>prodcount</th>\n",
       "      <td>0.002334</td>\n",
       "      <td>0.144274</td>\n",
       "      <td>0.140307</td>\n",
       "      <td>-0.164273</td>\n",
       "      <td>0.071347</td>\n",
       "      <td>1.000000</td>\n",
       "      <td>0.149174</td>\n",
       "    </tr>\n",
       "    <tr>\n",
       "      <th>lr</th>\n",
       "      <td>0.049401</td>\n",
       "      <td>0.909651</td>\n",
       "      <td>-0.006743</td>\n",
       "      <td>-0.094579</td>\n",
       "      <td>0.085083</td>\n",
       "      <td>0.149174</td>\n",
       "      <td>1.000000</td>\n",
       "    </tr>\n",
       "  </tbody>\n",
       "</table>\n",
       "</div>"
      ],
      "text/plain": [
       "                     Semana  Demanda_uni_equil  stateidweight  manweight  \\\n",
       "Semana             1.000000           0.003000       0.002240   0.000059   \n",
       "Demanda_uni_equil  0.003000           1.000000      -0.005986  -0.085570   \n",
       "stateidweight      0.002240          -0.005986       1.000000  -0.029862   \n",
       "manweight          0.000059          -0.085570      -0.029862   1.000000   \n",
       "present           -0.002323           0.082186      -0.003094  -0.021735   \n",
       "prodcount          0.002334           0.144274       0.140307  -0.164273   \n",
       "lr                 0.049401           0.909651      -0.006743  -0.094579   \n",
       "\n",
       "                    present  prodcount        lr  \n",
       "Semana            -0.002323   0.002334  0.049401  \n",
       "Demanda_uni_equil  0.082186   0.144274  0.909651  \n",
       "stateidweight     -0.003094   0.140307 -0.006743  \n",
       "manweight         -0.021735  -0.164273 -0.094579  \n",
       "present            1.000000   0.071347  0.085083  \n",
       "prodcount          0.071347   1.000000  0.149174  \n",
       "lr                 0.085083   0.149174  1.000000  "
      ]
     },
     "execution_count": 12,
     "metadata": {},
     "output_type": "execute_result"
    }
   ],
   "source": [
    "corr = dftrain.corr()\n",
    "mask = np.zeros_like(corr)\n",
    "mask[np.triu_indices_from(mask)] = True\n",
    "corr"
   ]
  },
  {
   "cell_type": "code",
   "execution_count": 13,
   "metadata": {
    "collapsed": false
   },
   "outputs": [
    {
     "data": {
      "image/png": "[encoded data removed]",
      "text/plain": [
       "<matplotlib.figure.Figure at 0x7f48a84ed518>"
      ]
     },
     "metadata": {},
     "output_type": "display_data"
    }
   ],
   "source": [
    "sns.set(font_scale=1.25)\n",
    "f,ax = plt.subplots(1,1,figsize=(12,12))\n",
    "_ = sns.heatmap(corr, mask=mask, vmax=0.9, square=True, ax=ax)"
   ]
  },
  {
   "cell_type": "code",
   "execution_count": 14,
   "metadata": {
    "collapsed": true
   },
   "outputs": [],
   "source": [
    "dftrain.to_csv(dataurl+'trainmod.csv', sep=',', index=False)"
   ]
  },
  {
   "cell_type": "markdown",
   "metadata": {},
   "source": [
    "## Result\n",
    "\n",
    "As expected, the linear regression is strongly correlated with demand. Also prodcount and name present have a small correlation. The size variable has a very weak correlation and so will be excluded from the final model for simplification purposes."
   ]
  },
  {
   "cell_type": "markdown",
   "metadata": {},
   "source": [
    "___\n",
    "# Construct model"
   ]
  },
  {
   "cell_type": "code",
   "execution_count": 4,
   "metadata": {
    "collapsed": false
   },
   "outputs": [
    {
     "data": {
      "text/plain": [
       "Index(['Semana', 'Demanda_uni_equil', 'manweight', 'present', 'prodcount',\n",
       "       'lr'],\n",
       "      dtype='object')"
      ]
     },
     "execution_count": 4,
     "metadata": {},
     "output_type": "execute_result"
    }
   ],
   "source": [
    "# drop size, stateidweight feature, make present feature integer\n",
    "# dftrain.drop('size', axis=1, inplace=True)\n",
    "# dftrain['present'] = dftrain['present'].astype(int)\n",
    "# dftrain.drop('stateidweight', axis=1, inplace=True)\n",
    "\n",
    "# Set aside data not to include in encoding\n",
    "# dfcat = dftrain[['man', 'stateid']].astype(int).copy()\n",
    "# y = dftrain['Demanda_uni_equil'].copy()\n",
    "# dftrain.drop(['man', 'stateid', 'Demanda_uni_equil'], axis=1, inplace=True)\n",
    "# dftrain.head()`\n",
    "\n",
    "# load data if rerunning analysis\n",
    "dftrain = pd.read_csv(dataurl+'trainmod.csv', \n",
    "                      usecols=['Semana', 'Demanda_uni_equil', 'manweight', 'present', 'prodcount', 'lr'])\n",
    "dftrain.columns"
   ]
  },
  {
   "cell_type": "code",
   "execution_count": 4,
   "metadata": {
    "collapsed": false
   },
   "outputs": [],
   "source": [
    "# Use one hot encoding to convert categorical variables\n",
    "# mask = [0,0,1,1,0,0,0]\n",
    "# ohe = OneHotEncoder(categorical_features=mask, sparse=True)\n",
    "# Xohe = ohe.fit_transform(dftrain)\n",
    "# dfohe = pd.DataFrame(Xohe)\n",
    "\n",
    "# append encoded and non-encoded data\n",
    "# dftrain = pd.concat([dftrain,dfohe], axis=1, ignore_index=True)\n",
    "# dftrain.head()"
   ]
  },
  {
   "cell_type": "code",
   "execution_count": 8,
   "metadata": {
    "collapsed": false
   },
   "outputs": [],
   "source": [
    "# divide into training and test sets\n",
    "traincols = dftrain.columns.tolist()\n",
    "ycol = 'Demanda_uni_equil'\n",
    "traincols.remove(ycol)\n",
    "traincols.remove('Semana')\n",
    "\n",
    "# trainmask = dftrain['Semana'].isin([3,4,5,6,7])\n",
    "# testmask = dftrain['Semana'].isin([8,9])\n",
    "# Xtrain = dftrain[traincols][trainmask]\n",
    "# ytrain = dftrain[ycol][trainmask]\n",
    "# Xtest = dftrain[traincols][testmask]\n",
    "# ytest = dftrain[ycol][testmask]"
   ]
  },
  {
   "cell_type": "code",
   "execution_count": 30,
   "metadata": {
    "collapsed": false
   },
   "outputs": [
    {
     "name": "stdout",
     "output_type": "stream",
     "text": [
      "testlen: 53,364,883  trainlen: 20,815,581\n"
     ]
    }
   ],
   "source": [
    "print('testlen: {0:,}  trainlen: {1:,}'.format(len(Xtrain), len(Xtest)))"
   ]
  },
  {
   "cell_type": "code",
   "execution_count": 5,
   "metadata": {
    "collapsed": false
   },
   "outputs": [],
   "source": [
    "# make scoring function for RMLSE\n",
    "# dir(metrics)\n",
    "def rmsle(actual, predicted):\n",
    "    return np.sqrt(np.mean(np.power(np.log(actual+1) - np.log(predicted+1), 2)))\n",
    "\n",
    "scorermsle = make_scorer(rmsle, greater_is_better=False)"
   ]
  },
  {
   "cell_type": "code",
   "execution_count": 7,
   "metadata": {
    "collapsed": false,
    "scrolled": true
   },
   "outputs": [
    {
     "name": "stderr",
     "output_type": "stream",
     "text": [
      "/usr/local/lib/python3.5/dist-packages/sklearn/utils/validation.py:420: DataConversionWarning: Data with input dtype int64 was converted to float64 by StandardScaler.\n",
      "  warnings.warn(msg, DataConversionWarning)\n",
      "/usr/local/lib/python3.5/dist-packages/sklearn/utils/validation.py:420: DataConversionWarning: Data with input dtype int64 was converted to float64 by StandardScaler.\n",
      "  warnings.warn(msg, DataConversionWarning)\n",
      "/usr/local/lib/python3.5/dist-packages/sklearn/utils/validation.py:420: DataConversionWarning: Data with input dtype int64 was converted to float64 by StandardScaler.\n",
      "  warnings.warn(msg, DataConversionWarning)\n",
      "/usr/local/lib/python3.5/dist-packages/sklearn/utils/validation.py:420: DataConversionWarning: Data with input dtype int64 was converted to float64 by StandardScaler.\n",
      "  warnings.warn(msg, DataConversionWarning)\n"
     ]
    },
    {
     "data": {
      "text/html": [
       "<div>\n",
       "<table border=\"1\" class=\"dataframe\">\n",
       "  <thead>\n",
       "    <tr style=\"text-align: right;\">\n",
       "      <th></th>\n",
       "      <th>Semana</th>\n",
       "      <th>Demanda_uni_equil</th>\n",
       "      <th>manweight</th>\n",
       "      <th>present</th>\n",
       "      <th>prodcount</th>\n",
       "      <th>lr</th>\n",
       "    </tr>\n",
       "  </thead>\n",
       "  <tbody>\n",
       "    <tr>\n",
       "      <th>0</th>\n",
       "      <td>3</td>\n",
       "      <td>3</td>\n",
       "      <td>0.561661</td>\n",
       "      <td>1</td>\n",
       "      <td>-0.342426</td>\n",
       "      <td>-0.161926</td>\n",
       "    </tr>\n",
       "    <tr>\n",
       "      <th>1</th>\n",
       "      <td>3</td>\n",
       "      <td>4</td>\n",
       "      <td>0.561661</td>\n",
       "      <td>1</td>\n",
       "      <td>-0.342426</td>\n",
       "      <td>-0.239951</td>\n",
       "    </tr>\n",
       "    <tr>\n",
       "      <th>2</th>\n",
       "      <td>3</td>\n",
       "      <td>4</td>\n",
       "      <td>0.561661</td>\n",
       "      <td>1</td>\n",
       "      <td>-0.342426</td>\n",
       "      <td>-0.222848</td>\n",
       "    </tr>\n",
       "    <tr>\n",
       "      <th>3</th>\n",
       "      <td>3</td>\n",
       "      <td>4</td>\n",
       "      <td>0.561661</td>\n",
       "      <td>1</td>\n",
       "      <td>-0.342426</td>\n",
       "      <td>-0.067282</td>\n",
       "    </tr>\n",
       "    <tr>\n",
       "      <th>4</th>\n",
       "      <td>3</td>\n",
       "      <td>3</td>\n",
       "      <td>0.561661</td>\n",
       "      <td>1</td>\n",
       "      <td>-0.342426</td>\n",
       "      <td>-0.210463</td>\n",
       "    </tr>\n",
       "  </tbody>\n",
       "</table>\n",
       "</div>"
      ],
      "text/plain": [
       "   Semana  Demanda_uni_equil  manweight  present  prodcount        lr\n",
       "0       3                  3   0.561661        1  -0.342426 -0.161926\n",
       "1       3                  4   0.561661        1  -0.342426 -0.239951\n",
       "2       3                  4   0.561661        1  -0.342426 -0.222848\n",
       "3       3                  4   0.561661        1  -0.342426 -0.067282\n",
       "4       3                  3   0.561661        1  -0.342426 -0.210463"
      ]
     },
     "execution_count": 7,
     "metadata": {},
     "output_type": "execute_result"
    }
   ],
   "source": [
    "# standardize continuous features\n",
    "\n",
    "ss = StandardScaler()\n",
    "\n",
    "for col in ['manweight', 'prodcount', 'lr']:\n",
    "    dftrain[col] = ss.fit_transform(dftrain[col].values.reshape(-1,1))\n",
    "\n",
    "# reset/set values\n",
    "trainmask = dftrain['Semana'].isin([3,4,5,6,7])\n",
    "testmask = dftrain['Semana'].isin([8,9])\n",
    "Xtrain = dftrain[traincols][trainmask]\n",
    "ytrain = dftrain[ycol][trainmask]\n",
    "Xtest = dftrain[traincols][testmask]\n",
    "ytest = dftrain[ycol][testmask]\n",
    "\n",
    "dftrain.head()"
   ]
  },
  {
   "cell_type": "code",
   "execution_count": 8,
   "metadata": {
    "collapsed": false,
    "scrolled": true
   },
   "outputs": [],
   "source": [
    "# save standardized data\n",
    "\n",
    "dftrain.to_csv(dataurl+'trainstd.csv', sep=',', index=False)"
   ]
  },
  {
   "cell_type": "markdown",
   "metadata": {},
   "source": [
    "# Perform cross validation"
   ]
  },
  {
   "cell_type": "code",
   "execution_count": 3,
   "metadata": {
    "collapsed": false
   },
   "outputs": [
    {
     "ename": "NameError",
     "evalue": "name 'testmask' is not defined",
     "output_type": "error",
     "traceback": [
      "\u001b[1;31m---------------------------------------------------------------------------\u001b[0m",
      "\u001b[1;31mNameError\u001b[0m                                 Traceback (most recent call last)",
      "\u001b[1;32m<ipython-input-3-0913673faca0>\u001b[0m in \u001b[0;36m<module>\u001b[1;34m()\u001b[0m\n\u001b[0;32m      6\u001b[0m \u001b[0mridgereg\u001b[0m \u001b[1;33m=\u001b[0m \u001b[0mRidge\u001b[0m\u001b[1;33m(\u001b[0m\u001b[1;33m)\u001b[0m\u001b[1;33m\u001b[0m\u001b[0m\n\u001b[0;32m      7\u001b[0m \u001b[0malphas\u001b[0m \u001b[1;33m=\u001b[0m \u001b[1;33m{\u001b[0m\u001b[1;34m'alpha'\u001b[0m\u001b[1;33m:\u001b[0m\u001b[1;33m[\u001b[0m\u001b[1;36m1e-8\u001b[0m\u001b[1;33m,\u001b[0m \u001b[1;36m1e-6\u001b[0m\u001b[1;33m,\u001b[0m \u001b[1;36m1e-4\u001b[0m\u001b[1;33m,\u001b[0m \u001b[1;36m1e-2\u001b[0m\u001b[1;33m,\u001b[0m \u001b[1;36m1e-1\u001b[0m\u001b[1;33m]\u001b[0m\u001b[1;33m}\u001b[0m\u001b[1;33m\u001b[0m\u001b[0m\n\u001b[1;32m----> 8\u001b[1;33m \u001b[0mtestfold\u001b[0m \u001b[1;33m=\u001b[0m \u001b[0mtestmask\u001b[0m \u001b[1;33m*\u001b[0m \u001b[1;33m-\u001b[0m\u001b[1;36m1\u001b[0m\u001b[1;33m\u001b[0m\u001b[0m\n\u001b[0m\u001b[0;32m      9\u001b[0m \u001b[0mcvmask\u001b[0m \u001b[1;33m=\u001b[0m \u001b[0mPredefinedSplit\u001b[0m\u001b[1;33m(\u001b[0m\u001b[0mtestfold\u001b[0m\u001b[1;33m.\u001b[0m\u001b[0mtolist\u001b[0m\u001b[1;33m(\u001b[0m\u001b[1;33m)\u001b[0m\u001b[1;33m)\u001b[0m\u001b[1;33m\u001b[0m\u001b[0m\n\u001b[0;32m     10\u001b[0m \u001b[1;33m\u001b[0m\u001b[0m\n",
      "\u001b[1;31mNameError\u001b[0m: name 'testmask' is not defined"
     ]
    }
   ],
   "source": [
    "# load standardized data\n",
    "dftrain = pd.read_csv(dataurl+'trainstd.csv', \n",
    "                      usecols=['Semana', 'Demanda_uni_equil', 'manweight', 'present', 'prodcount', 'lr'])"
   ]
  },
  {
   "cell_type": "code",
   "execution_count": 48,
   "metadata": {
    "collapsed": false
   },
   "outputs": [
    {
     "data": {
      "text/plain": [
       "GridSearchCV(cv=sklearn.cross_validation.PredefinedSplit(test_fold=[ 0  0 ..., -1 -1]),\n",
       "       error_score='raise',\n",
       "       estimator=Ridge(alpha=1.0, copy_X=True, fit_intercept=True, max_iter=None,\n",
       "   normalize=False, random_state=None, solver='auto', tol=0.001),\n",
       "       fit_params={}, iid=True, n_jobs=1,\n",
       "       param_grid={'alpha': [1, 1000.0, 1000000.0]},\n",
       "       pre_dispatch='2*n_jobs', refit=True,\n",
       "       scoring=make_scorer(rmsle, greater_is_better=False), verbose=0)"
      ]
     },
     "execution_count": 48,
     "metadata": {},
     "output_type": "execute_result"
    }
   ],
   "source": [
    "# setup cv\n",
    "ridgereg = Ridge()\n",
    "alphas = {'alpha':[1,1e3,1e6]}\n",
    "testmask = dftrain['Semana'].isin([8,9])\n",
    "testfold = testmask * -1\n",
    "cvmask = PredefinedSplit(testfold.tolist())\n",
    "\n",
    "gridreg = GridSearchCV(ridgereg, alphas, scoring=scorermsle, n_jobs=1, cv=cvmask)\n",
    "gridreg"
   ]
  },
  {
   "cell_type": "code",
   "execution_count": 49,
   "metadata": {
    "collapsed": false
   },
   "outputs": [
    {
     "data": {
      "text/plain": [
       "[mean: -0.95144, std: 0.00000, params: {'alpha': 1},\n",
       " mean: -0.95180, std: 0.00000, params: {'alpha': 1000.0},\n",
       " mean: -0.89773, std: 0.00000, params: {'alpha': 1000000.0}]"
      ]
     },
     "execution_count": 49,
     "metadata": {},
     "output_type": "execute_result"
    }
   ],
   "source": [
    "# perform\n",
    "gridreg.fit(dftrain[traincols], dftrain[ycol])\n",
    "gridreg.grid_scores_"
   ]
  },
  {
   "cell_type": "code",
   "execution_count": null,
   "metadata": {
    "collapsed": false
   },
   "outputs": [],
   "source": [
    "trainmask = dftrain['Semana'].isin([3,4,5,6,7])\n",
    "testmask = dftrain['Semana'].isin([8,9])\n",
    "Xtrain = dftrain[traincols][trainmask]\n",
    "ytrain = dftrain[ycol][trainmask]\n",
    "Xtest = dftrain[traincols][testmask]\n",
    "ytest = dftrain[ycol][testmask]"
   ]
  },
  {
   "cell_type": "code",
   "execution_count": 46,
   "metadata": {
    "collapsed": false
   },
   "outputs": [],
   "source": [
    "ridgereg = Ridge()\n",
    "alphas = np.logspace(0,8,20)\n",
    "errs = []\n",
    "for alpha in alphas:\n",
    "    ridgereg.set_params(alpha=alpha)\n",
    "    ridgereg.fit(Xtrain, ytrain)\n",
    "    err = rmsle(ytest, ridgereg.predict(Xtest))\n",
    "    # print('alpha: {0:.1e}, rmsle: {1:.9f}'.format(alpha, err))\n",
    "    errs.append(err)"
   ]
  },
  {
   "cell_type": "code",
   "execution_count": 47,
   "metadata": {
    "collapsed": false
   },
   "outputs": [
    {
     "data": {
      "text/plain": [
       "<matplotlib.text.Text at 0x7f8ae9945ac8>"
      ]
     },
     "execution_count": 47,
     "metadata": {},
     "output_type": "execute_result"
    },
    {
     "data": {
      "image/png": "[encoded data removed]",
      "text/plain": [
       "<matplotlib.figure.Figure at 0x7f8ae97fdcc0>"
      ]
     },
     "metadata": {},
     "output_type": "display_data"
    }
   ],
   "source": [
    "f = plt.figure(figsize=(8,6))\n",
    "ax = plt.subplot(1,1,1)\n",
    "_ = plt.plot(alphas, errs)\n",
    "ax.set_xscale('log')\n",
    "ax.set_ylim(0.7,0.71)\n",
    "ax.set_xlabel('alpha')\n",
    "ax.set_ylabel('RMSLE')"
   ]
  },
  {
   "cell_type": "code",
   "execution_count": 50,
   "metadata": {
    "collapsed": false
   },
   "outputs": [
    {
     "data": {
      "text/plain": [
       "Ridge(alpha=1000000.0, copy_X=True, fit_intercept=True, max_iter=None,\n",
       "   normalize=False, random_state=None, solver='auto', tol=0.001)"
      ]
     },
     "execution_count": 50,
     "metadata": {},
     "output_type": "execute_result"
    }
   ],
   "source": [
    "# build final model\n",
    "\n",
    "ridgereg.set_params(alpha=1e6)\n",
    "ridgereg.fit(dftrain[traincols],dftrain[ycol])"
   ]
  },
  {
   "cell_type": "markdown",
   "metadata": {},
   "source": [
    "## Result\n",
    "\n",
    "Select regularization parameter of $\\alpha = 10^{6}$."
   ]
  },
  {
   "cell_type": "markdown",
   "metadata": {},
   "source": [
    "___\n",
    "# Load test data"
   ]
  },
  {
   "cell_type": "code",
   "execution_count": 54,
   "metadata": {
    "collapsed": false
   },
   "outputs": [
    {
     "name": "stdout",
     "output_type": "stream",
     "text": [
      "(6999251, 7)\n",
      "{'id': dtype('int64'), 'Cliente_ID': dtype('int64'), 'Ruta_SAK': dtype('int64'), 'Producto_ID': dtype('int64'), 'Semana': dtype('int64'), 'Agencia_ID': dtype('int64'), 'Canal_ID': dtype('int64')}\n"
     ]
    },
    {
     "data": {
      "text/html": [
       "<div>\n",
       "<table border=\"1\" class=\"dataframe\">\n",
       "  <thead>\n",
       "    <tr style=\"text-align: right;\">\n",
       "      <th></th>\n",
       "      <th>id</th>\n",
       "      <th>Semana</th>\n",
       "      <th>Agencia_ID</th>\n",
       "      <th>Canal_ID</th>\n",
       "      <th>Ruta_SAK</th>\n",
       "      <th>Cliente_ID</th>\n",
       "      <th>Producto_ID</th>\n",
       "    </tr>\n",
       "  </thead>\n",
       "  <tbody>\n",
       "    <tr>\n",
       "      <th>0</th>\n",
       "      <td>0</td>\n",
       "      <td>11</td>\n",
       "      <td>4037</td>\n",
       "      <td>1</td>\n",
       "      <td>2209</td>\n",
       "      <td>4639078</td>\n",
       "      <td>35305</td>\n",
       "    </tr>\n",
       "    <tr>\n",
       "      <th>1</th>\n",
       "      <td>1</td>\n",
       "      <td>11</td>\n",
       "      <td>2237</td>\n",
       "      <td>1</td>\n",
       "      <td>1226</td>\n",
       "      <td>4705135</td>\n",
       "      <td>1238</td>\n",
       "    </tr>\n",
       "    <tr>\n",
       "      <th>2</th>\n",
       "      <td>2</td>\n",
       "      <td>10</td>\n",
       "      <td>2045</td>\n",
       "      <td>1</td>\n",
       "      <td>2831</td>\n",
       "      <td>4549769</td>\n",
       "      <td>32940</td>\n",
       "    </tr>\n",
       "    <tr>\n",
       "      <th>3</th>\n",
       "      <td>3</td>\n",
       "      <td>11</td>\n",
       "      <td>1227</td>\n",
       "      <td>1</td>\n",
       "      <td>4448</td>\n",
       "      <td>4717855</td>\n",
       "      <td>43066</td>\n",
       "    </tr>\n",
       "    <tr>\n",
       "      <th>4</th>\n",
       "      <td>4</td>\n",
       "      <td>11</td>\n",
       "      <td>1219</td>\n",
       "      <td>1</td>\n",
       "      <td>1130</td>\n",
       "      <td>966351</td>\n",
       "      <td>1277</td>\n",
       "    </tr>\n",
       "  </tbody>\n",
       "</table>\n",
       "</div>"
      ],
      "text/plain": [
       "   id  Semana  Agencia_ID  Canal_ID  Ruta_SAK  Cliente_ID  Producto_ID\n",
       "0   0      11        4037         1      2209     4639078        35305\n",
       "1   1      11        2237         1      1226     4705135         1238\n",
       "2   2      10        2045         1      2831     4549769        32940\n",
       "3   3      11        1227         1      4448     4717855        43066\n",
       "4   4      11        1219         1      1130      966351         1277"
      ]
     },
     "execution_count": 54,
     "metadata": {},
     "output_type": "execute_result"
    }
   ],
   "source": [
    "dftest = inspectdata('test')\n",
    "dftest.head()"
   ]
  },
  {
   "cell_type": "code",
   "execution_count": 55,
   "metadata": {
    "collapsed": true
   },
   "outputs": [],
   "source": [
    "def valuecountrep(dftrain, col):\n",
    "    # replace col with ranked list of valuecounts\n",
    "    ser = dftrain[col].value_counts()\n",
    "    rankweight = list(range(len(ser)))[::-1]\n",
    "    serrank = pd.Series(rankweight)\n",
    "    return pd.DataFrame({col:ser.index, col+'weight':serrank})"
   ]
  },
  {
   "cell_type": "code",
   "execution_count": 56,
   "metadata": {
    "collapsed": false
   },
   "outputs": [],
   "source": [
    "# global linear regression calculated previously semmean = [slope, intercept]\n",
    "semmean = [8.4185166918455607, -54.842029041180105]\n",
    "\n",
    "dfloc = pd.read_csv(dataurl+'statedict.csv', sep=',')\n",
    "dftest = pd.merge(dftest, dfloc, how='left', on='Agencia_ID')\n",
    "dftest['stateid'] = dftest['stateid'].astype(int)\n",
    "dfstate = valuecountrep(dftest, 'stateid')\n",
    "dftest = pd.merge(dftest, dfstate, how='left', on='stateid')\n",
    "dftest.drop(['Agencia_ID','stateid'], axis=1, inplace=True)\n",
    "dfloc = None\n",
    "dfstate = None\n",
    "\n",
    "dfprod = pd.read_csv(dataurl+'mandict.csv', sep=',')\n",
    "dftest = pd.merge(dftest, dfprod, how='left', on='Producto_ID')\n",
    "dftest['man'].fillna(dfprod['man'].value_counts().max(), inplace=True)\n",
    "dftest['man'] = dftest['man'].astype(int)\n",
    "dfman = valuecountrep(dftest, 'man')\n",
    "dftest = pd.merge(dftest, dfman, how='left', on='man')\n",
    "dftest.drop('man', axis=1, inplace=True)\n",
    "# dftrain['size'].fillna(dfprod['size'].mean(), inplace=True)\n",
    "dfprod = None\n",
    "dfman = None\n",
    "\n",
    "dfnamed = pd.read_csv(dataurl+'cliente_tabla_drop.csv', sep=',', usecols=['Cliente_ID', 'present'])\n",
    "dftest = pd.merge(dftest, dfnamed, how='left', on='Cliente_ID')\n",
    "dftest['present'].fillna(0, inplace=True)\n",
    "dftest['present'] = dftest['present'].astype(int)\n",
    "dfnamed = None\n",
    "\n",
    "dfprodclient = pd.read_csv(dataurl+'producto_por_cliente.csv', sep=',')\n",
    "dftest = pd.merge(dftest, dfprodclient, how='left', on='Cliente_ID')\n",
    "dftest['prodcount'].fillna(dftest['prodcount'].value_counts().max(), inplace=True)\n",
    "dfprodclient = None\n",
    "\n",
    "dflr = pd.read_csv(dataurl+'linregress2.csv', sep=',')\n",
    "dftest = pd.merge(dftest, dflr, how='left', on=['Producto_ID','Cliente_ID'])\n",
    "dflr = None\n",
    "dftest['slope'].fillna(semmean[0], inplace=True)\n",
    "dftest['intercept'].fillna(semmean[1], inplace=True)\n",
    "dftest['lr'] = dftest['slope'] * dftest['Semana'] + dftest['intercept']\n",
    "dftest['lr'] = dftest['lr'].apply(lambda x: max(x,0))\n",
    "dftest.drop(['Producto_ID', 'Cliente_ID', 'slope', 'intercept'], axis=1, inplace=True)"
   ]
  },
  {
   "cell_type": "code",
   "execution_count": 60,
   "metadata": {
    "collapsed": false
   },
   "outputs": [
    {
     "data": {
      "text/html": [
       "<div>\n",
       "<table border=\"1\" class=\"dataframe\">\n",
       "  <thead>\n",
       "    <tr style=\"text-align: right;\">\n",
       "      <th></th>\n",
       "      <th>id</th>\n",
       "      <th>Semana</th>\n",
       "      <th>Canal_ID</th>\n",
       "      <th>Ruta_SAK</th>\n",
       "      <th>stateidweight</th>\n",
       "      <th>manweight</th>\n",
       "      <th>present</th>\n",
       "      <th>prodcount</th>\n",
       "      <th>lr</th>\n",
       "    </tr>\n",
       "  </thead>\n",
       "  <tbody>\n",
       "    <tr>\n",
       "      <th>0</th>\n",
       "      <td>0</td>\n",
       "      <td>11</td>\n",
       "      <td>1</td>\n",
       "      <td>2209</td>\n",
       "      <td>23</td>\n",
       "      <td>25</td>\n",
       "      <td>0</td>\n",
       "      <td>12.0</td>\n",
       "      <td>37.761655</td>\n",
       "    </tr>\n",
       "    <tr>\n",
       "      <th>1</th>\n",
       "      <td>1</td>\n",
       "      <td>11</td>\n",
       "      <td>1</td>\n",
       "      <td>1226</td>\n",
       "      <td>11</td>\n",
       "      <td>26</td>\n",
       "      <td>0</td>\n",
       "      <td>21.0</td>\n",
       "      <td>37.761655</td>\n",
       "    </tr>\n",
       "    <tr>\n",
       "      <th>2</th>\n",
       "      <td>2</td>\n",
       "      <td>10</td>\n",
       "      <td>1</td>\n",
       "      <td>2831</td>\n",
       "      <td>25</td>\n",
       "      <td>25</td>\n",
       "      <td>0</td>\n",
       "      <td>14.0</td>\n",
       "      <td>2.000000</td>\n",
       "    </tr>\n",
       "    <tr>\n",
       "      <th>3</th>\n",
       "      <td>3</td>\n",
       "      <td>11</td>\n",
       "      <td>1</td>\n",
       "      <td>4448</td>\n",
       "      <td>32</td>\n",
       "      <td>25</td>\n",
       "      <td>0</td>\n",
       "      <td>56.0</td>\n",
       "      <td>37.761655</td>\n",
       "    </tr>\n",
       "    <tr>\n",
       "      <th>4</th>\n",
       "      <td>4</td>\n",
       "      <td>11</td>\n",
       "      <td>1</td>\n",
       "      <td>1130</td>\n",
       "      <td>32</td>\n",
       "      <td>26</td>\n",
       "      <td>0</td>\n",
       "      <td>30.0</td>\n",
       "      <td>37.761655</td>\n",
       "    </tr>\n",
       "  </tbody>\n",
       "</table>\n",
       "</div>"
      ],
      "text/plain": [
       "   id  Semana  Canal_ID  Ruta_SAK  stateidweight  manweight  present  \\\n",
       "0   0      11         1      2209             23         25        0   \n",
       "1   1      11         1      1226             11         26        0   \n",
       "2   2      10         1      2831             25         25        0   \n",
       "3   3      11         1      4448             32         25        0   \n",
       "4   4      11         1      1130             32         26        0   \n",
       "\n",
       "   prodcount         lr  \n",
       "0       12.0  37.761655  \n",
       "1       21.0  37.761655  \n",
       "2       14.0   2.000000  \n",
       "3       56.0  37.761655  \n",
       "4       30.0  37.761655  "
      ]
     },
     "execution_count": 60,
     "metadata": {},
     "output_type": "execute_result"
    }
   ],
   "source": [
    "dftest.head()"
   ]
  },
  {
   "cell_type": "code",
   "execution_count": 65,
   "metadata": {
    "collapsed": false
   },
   "outputs": [
    {
     "name": "stdout",
     "output_type": "stream",
     "text": [
      "30054\n",
      "0\n"
     ]
    }
   ],
   "source": [
    "print(len(dftest[dftest['prodcount'].isnull()]))\n",
    "dftest['prodcount'].fillna(dftest['prodcount'].value_counts().max(), inplace=True)\n",
    "print(len(dftest[dftest['prodcount'].isnull()]))"
   ]
  },
  {
   "cell_type": "code",
   "execution_count": 67,
   "metadata": {
    "collapsed": false
   },
   "outputs": [
    {
     "data": {
      "text/html": [
       "<div>\n",
       "<table border=\"1\" class=\"dataframe\">\n",
       "  <thead>\n",
       "    <tr style=\"text-align: right;\">\n",
       "      <th></th>\n",
       "      <th>id</th>\n",
       "      <th>Semana</th>\n",
       "      <th>manweight</th>\n",
       "      <th>present</th>\n",
       "      <th>prodcount</th>\n",
       "      <th>lr</th>\n",
       "    </tr>\n",
       "  </thead>\n",
       "  <tbody>\n",
       "    <tr>\n",
       "      <th>0</th>\n",
       "      <td>0</td>\n",
       "      <td>11</td>\n",
       "      <td>-0.117217</td>\n",
       "      <td>0</td>\n",
       "      <td>12.0</td>\n",
       "      <td>37.761655</td>\n",
       "    </tr>\n",
       "    <tr>\n",
       "      <th>1</th>\n",
       "      <td>1</td>\n",
       "      <td>11</td>\n",
       "      <td>0.575472</td>\n",
       "      <td>0</td>\n",
       "      <td>21.0</td>\n",
       "      <td>37.761655</td>\n",
       "    </tr>\n",
       "    <tr>\n",
       "      <th>2</th>\n",
       "      <td>2</td>\n",
       "      <td>10</td>\n",
       "      <td>-0.117217</td>\n",
       "      <td>0</td>\n",
       "      <td>14.0</td>\n",
       "      <td>2.000000</td>\n",
       "    </tr>\n",
       "    <tr>\n",
       "      <th>3</th>\n",
       "      <td>3</td>\n",
       "      <td>11</td>\n",
       "      <td>-0.117217</td>\n",
       "      <td>0</td>\n",
       "      <td>56.0</td>\n",
       "      <td>37.761655</td>\n",
       "    </tr>\n",
       "    <tr>\n",
       "      <th>4</th>\n",
       "      <td>4</td>\n",
       "      <td>11</td>\n",
       "      <td>0.575472</td>\n",
       "      <td>0</td>\n",
       "      <td>30.0</td>\n",
       "      <td>37.761655</td>\n",
       "    </tr>\n",
       "  </tbody>\n",
       "</table>\n",
       "</div>"
      ],
      "text/plain": [
       "   id  Semana  manweight  present  prodcount         lr\n",
       "0   0      11  -0.117217        0       12.0  37.761655\n",
       "1   1      11   0.575472        0       21.0  37.761655\n",
       "2   2      10  -0.117217        0       14.0   2.000000\n",
       "3   3      11  -0.117217        0       56.0  37.761655\n",
       "4   4      11   0.575472        0       30.0  37.761655"
      ]
     },
     "execution_count": 67,
     "metadata": {},
     "output_type": "execute_result"
    }
   ],
   "source": [
    "dftest.head()"
   ]
  },
  {
   "cell_type": "code",
   "execution_count": 70,
   "metadata": {
    "collapsed": false
   },
   "outputs": [],
   "source": [
    "# drop unneeded columns\n",
    "# dftest.drop(['Canal_ID', 'Ruta_SAK', 'stateidweight'], axis=1, inplace=True)\n",
    "\n",
    "# standardize select columns\n",
    "ss = StandardScaler()\n",
    "for col in ['manweight', 'prodcount', 'lr']:\n",
    "    dftest[col] = ss.fit_transform(dftest[col].values.reshape(-1,1))\n",
    "\n",
    "# make prediction\n",
    "cols=['manweight', 'present', 'prodcount', 'lr']\n",
    "ypred = ridgereg.predict(dftest[cols])\n",
    "dftest['Demanda_uni_equil'] = ypred\n",
    "dftest['Demanda_uni_equil'] = dftest['Demanda_uni_equil'].apply(lambda x: max(x,0))\n",
    "\n",
    "# save prediction\n",
    "nowpt = datetime.datetime.now()\n",
    "nowstr = nowpt.strftime('%Y%m%d_%H%M')\n",
    "dftest[['id','Demanda_uni_equil']].to_csv(dataurl+'mloutput'+nowstr+'.csv', sep=',', index=False)"
   ]
  },
  {
   "cell_type": "code",
   "execution_count": 71,
   "metadata": {
    "collapsed": false
   },
   "outputs": [
    {
     "data": {
      "text/plain": [
       "6999251"
      ]
     },
     "execution_count": 71,
     "metadata": {},
     "output_type": "execute_result"
    }
   ],
   "source": [
    "# ypred[:10]\n",
    "len(ypred)"
   ]
  }
 ],
 "metadata": {
  "kernelspec": {
   "display_name": "Python 3",
   "language": "python",
   "name": "python3"
  },
  "language_info": {
   "codemirror_mode": {
    "name": "ipython",
    "version": 3
   },
   "file_extension": ".py",
   "mimetype": "text/x-python",
   "name": "python",
   "nbconvert_exporter": "python",
   "pygments_lexer": "ipython3",
   "version": "3.5.1+"
  }
 },
 "nbformat": 4,
 "nbformat_minor": 0
}
