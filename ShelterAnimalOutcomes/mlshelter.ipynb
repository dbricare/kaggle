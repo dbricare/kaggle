{
 "cells": [
  {
   "cell_type": "markdown",
   "metadata": {},
   "source": [
    "# Predict outcomes of shelter pets"
   ]
  },
  {
   "cell_type": "code",
   "execution_count": 1,
   "metadata": {
    "collapsed": true
   },
   "outputs": [],
   "source": [
    "import pandas as pd\n",
    "import numpy as np\n",
    "import re\n",
    "import matplotlib.pyplot as plt\n",
    "import seaborn as sns\n",
    "\n",
    "%matplotlib inline"
   ]
  },
  {
   "cell_type": "code",
   "execution_count": 2,
   "metadata": {
    "collapsed": true
   },
   "outputs": [],
   "source": [
    "dataurl = '/Users/dbricare/Documents/Python/datasets/shelter-outcomes/'\n",
    "df = pd.read_csv(dataurl+'train.csv', sep=',', encoding='utf-8')"
   ]
  },
  {
   "cell_type": "code",
   "execution_count": 3,
   "metadata": {
    "collapsed": false
   },
   "outputs": [
    {
     "name": "stdout",
     "output_type": "stream",
     "text": [
      "(Rows, Columns): (26729, 10)\n"
     ]
    },
    {
     "data": {
      "text/html": [
       "<div>\n",
       "<table border=\"1\" class=\"dataframe\">\n",
       "  <thead>\n",
       "    <tr style=\"text-align: right;\">\n",
       "      <th></th>\n",
       "      <th>AnimalID</th>\n",
       "      <th>Name</th>\n",
       "      <th>DateTime</th>\n",
       "      <th>OutcomeType</th>\n",
       "      <th>OutcomeSubtype</th>\n",
       "      <th>AnimalType</th>\n",
       "      <th>SexuponOutcome</th>\n",
       "      <th>AgeuponOutcome</th>\n",
       "      <th>Breed</th>\n",
       "      <th>Color</th>\n",
       "    </tr>\n",
       "  </thead>\n",
       "  <tbody>\n",
       "    <tr>\n",
       "      <th>0</th>\n",
       "      <td>A671945</td>\n",
       "      <td>Hambone</td>\n",
       "      <td>2014-02-12 18:22:00</td>\n",
       "      <td>Return_to_owner</td>\n",
       "      <td>NaN</td>\n",
       "      <td>Dog</td>\n",
       "      <td>Neutered Male</td>\n",
       "      <td>1 year</td>\n",
       "      <td>Shetland Sheepdog Mix</td>\n",
       "      <td>Brown/White</td>\n",
       "    </tr>\n",
       "    <tr>\n",
       "      <th>1</th>\n",
       "      <td>A656520</td>\n",
       "      <td>Emily</td>\n",
       "      <td>2013-10-13 12:44:00</td>\n",
       "      <td>Euthanasia</td>\n",
       "      <td>Suffering</td>\n",
       "      <td>Cat</td>\n",
       "      <td>Spayed Female</td>\n",
       "      <td>1 year</td>\n",
       "      <td>Domestic Shorthair Mix</td>\n",
       "      <td>Cream Tabby</td>\n",
       "    </tr>\n",
       "    <tr>\n",
       "      <th>2</th>\n",
       "      <td>A686464</td>\n",
       "      <td>Pearce</td>\n",
       "      <td>2015-01-31 12:28:00</td>\n",
       "      <td>Adoption</td>\n",
       "      <td>Foster</td>\n",
       "      <td>Dog</td>\n",
       "      <td>Neutered Male</td>\n",
       "      <td>2 years</td>\n",
       "      <td>Pit Bull Mix</td>\n",
       "      <td>Blue/White</td>\n",
       "    </tr>\n",
       "    <tr>\n",
       "      <th>3</th>\n",
       "      <td>A683430</td>\n",
       "      <td>NaN</td>\n",
       "      <td>2014-07-11 19:09:00</td>\n",
       "      <td>Transfer</td>\n",
       "      <td>Partner</td>\n",
       "      <td>Cat</td>\n",
       "      <td>Intact Male</td>\n",
       "      <td>3 weeks</td>\n",
       "      <td>Domestic Shorthair Mix</td>\n",
       "      <td>Blue Cream</td>\n",
       "    </tr>\n",
       "    <tr>\n",
       "      <th>4</th>\n",
       "      <td>A667013</td>\n",
       "      <td>NaN</td>\n",
       "      <td>2013-11-15 12:52:00</td>\n",
       "      <td>Transfer</td>\n",
       "      <td>Partner</td>\n",
       "      <td>Dog</td>\n",
       "      <td>Neutered Male</td>\n",
       "      <td>2 years</td>\n",
       "      <td>Lhasa Apso/Miniature Poodle</td>\n",
       "      <td>Tan</td>\n",
       "    </tr>\n",
       "  </tbody>\n",
       "</table>\n",
       "</div>"
      ],
      "text/plain": [
       "  AnimalID     Name             DateTime      OutcomeType OutcomeSubtype  \\\n",
       "0  A671945  Hambone  2014-02-12 18:22:00  Return_to_owner            NaN   \n",
       "1  A656520    Emily  2013-10-13 12:44:00       Euthanasia      Suffering   \n",
       "2  A686464   Pearce  2015-01-31 12:28:00         Adoption         Foster   \n",
       "3  A683430      NaN  2014-07-11 19:09:00         Transfer        Partner   \n",
       "4  A667013      NaN  2013-11-15 12:52:00         Transfer        Partner   \n",
       "\n",
       "  AnimalType SexuponOutcome AgeuponOutcome                        Breed  \\\n",
       "0        Dog  Neutered Male         1 year        Shetland Sheepdog Mix   \n",
       "1        Cat  Spayed Female         1 year       Domestic Shorthair Mix   \n",
       "2        Dog  Neutered Male        2 years                 Pit Bull Mix   \n",
       "3        Cat    Intact Male        3 weeks       Domestic Shorthair Mix   \n",
       "4        Dog  Neutered Male        2 years  Lhasa Apso/Miniature Poodle   \n",
       "\n",
       "         Color  \n",
       "0  Brown/White  \n",
       "1  Cream Tabby  \n",
       "2   Blue/White  \n",
       "3   Blue Cream  \n",
       "4          Tan  "
      ]
     },
     "execution_count": 3,
     "metadata": {},
     "output_type": "execute_result"
    }
   ],
   "source": [
    "print('(Rows, Columns):',df.shape)\n",
    "df.head()"
   ]
  },
  {
   "cell_type": "code",
   "execution_count": 88,
   "metadata": {
    "collapsed": false
   },
   "outputs": [
    {
     "data": {
      "text/plain": [
       "array(['Return_to_owner', 'Euthanasia', 'Adoption', 'Transfer', 'Died'], dtype=object)"
      ]
     },
     "execution_count": 88,
     "metadata": {},
     "output_type": "execute_result"
    }
   ],
   "source": [
    "# Are all outcome types known? Are there any NaN values?\n",
    "\n",
    "df['OutcomeType'].unique()"
   ]
  },
  {
   "cell_type": "code",
   "execution_count": 4,
   "metadata": {
    "collapsed": false
   },
   "outputs": [
    {
     "data": {
      "text/plain": [
       "array(['1 year', '2 years', '3 weeks', '1 month', '5 months', '4 years',\n",
       "       '3 months', '2 weeks', '2 months', '10 months', '6 months',\n",
       "       '5 years', '7 years', '3 years', '4 months', '12 years', '9 years',\n",
       "       '6 years', '1 weeks', '11 years', '4 weeks', '7 months', '8 years',\n",
       "       '11 months', '4 days', '9 months', '8 months', '15 years',\n",
       "       '10 years', '1 week', '0 years', '14 years', '3 days', '6 days',\n",
       "       '5 days', '5 weeks', '2 days', '16 years', '1 day', '13 years', nan,\n",
       "       '17 years', '18 years', '19 years', '20 years'], dtype=object)"
      ]
     },
     "execution_count": 4,
     "metadata": {},
     "output_type": "execute_result"
    }
   ],
   "source": [
    "df['AgeuponOutcome'].unique()"
   ]
  },
  {
   "cell_type": "markdown",
   "metadata": {},
   "source": [
    "## Convert age text to days (integers)"
   ]
  },
  {
   "cell_type": "code",
   "execution_count": 3,
   "metadata": {
    "collapsed": false
   },
   "outputs": [
    {
     "name": "stdout",
     "output_type": "stream",
     "text": [
      "['day', 'days', 'month', 'months', 'week', 'weeks', 'year', 'years']\n"
     ]
    }
   ],
   "source": [
    "serages = df['AgeuponOutcome'][df['AgeuponOutcome'].notnull()]\n",
    "keys = sorted(list(serages.str.extract('(\\w+$)', expand=False).unique()))\n",
    "print(keys)"
   ]
  },
  {
   "cell_type": "code",
   "execution_count": 4,
   "metadata": {
    "collapsed": false
   },
   "outputs": [
    {
     "name": "stdout",
     "output_type": "stream",
     "text": [
      "{'year': 365, 'week': 7, 'months': 30, 'month': 30, 'day': 1, 'weeks': 7, 'years': 365, 'days': 1}\n"
     ]
    }
   ],
   "source": [
    "# create dictionary for conversion\n",
    "\n",
    "vals = [1,1,365//12,365//12,7,7,365,365]\n",
    "dperiod = dict(zip(keys,vals))\n",
    "print(dperiod)"
   ]
  },
  {
   "cell_type": "code",
   "execution_count": 160,
   "metadata": {
    "collapsed": true
   },
   "outputs": [],
   "source": [
    "def convage(age):\n",
    "    dperiod = {'month': 30, 'year': 365, 'years': 365, 'day': 1, 'days': 1, 'weeks': 7, 'week': 7, 'months': 30}\n",
    "    if isinstance(age, float):\n",
    "        return age\n",
    "    else:\n",
    "        num = int(re.match('\\d+',age).group())\n",
    "        period = re.search('\\w+$', age).group()\n",
    "        return float(num*dperiod[period])"
   ]
  },
  {
   "cell_type": "code",
   "execution_count": 6,
   "metadata": {
    "collapsed": false,
    "scrolled": true
   },
   "outputs": [
    {
     "data": {
      "text/html": [
       "<div>\n",
       "<table border=\"1\" class=\"dataframe\">\n",
       "  <thead>\n",
       "    <tr style=\"text-align: right;\">\n",
       "      <th></th>\n",
       "      <th>AnimalID</th>\n",
       "      <th>Name</th>\n",
       "      <th>DateTime</th>\n",
       "      <th>OutcomeType</th>\n",
       "      <th>OutcomeSubtype</th>\n",
       "      <th>AnimalType</th>\n",
       "      <th>SexuponOutcome</th>\n",
       "      <th>AgeuponOutcome</th>\n",
       "      <th>Breed</th>\n",
       "      <th>Color</th>\n",
       "      <th>AgeDays</th>\n",
       "    </tr>\n",
       "  </thead>\n",
       "  <tbody>\n",
       "    <tr>\n",
       "      <th>0</th>\n",
       "      <td>A671945</td>\n",
       "      <td>Hambone</td>\n",
       "      <td>2014-02-12 18:22:00</td>\n",
       "      <td>Return_to_owner</td>\n",
       "      <td>NaN</td>\n",
       "      <td>Dog</td>\n",
       "      <td>Neutered Male</td>\n",
       "      <td>1 year</td>\n",
       "      <td>Shetland Sheepdog Mix</td>\n",
       "      <td>Brown/White</td>\n",
       "      <td>365.0</td>\n",
       "    </tr>\n",
       "    <tr>\n",
       "      <th>1</th>\n",
       "      <td>A656520</td>\n",
       "      <td>Emily</td>\n",
       "      <td>2013-10-13 12:44:00</td>\n",
       "      <td>Euthanasia</td>\n",
       "      <td>Suffering</td>\n",
       "      <td>Cat</td>\n",
       "      <td>Spayed Female</td>\n",
       "      <td>1 year</td>\n",
       "      <td>Domestic Shorthair Mix</td>\n",
       "      <td>Cream Tabby</td>\n",
       "      <td>365.0</td>\n",
       "    </tr>\n",
       "    <tr>\n",
       "      <th>2</th>\n",
       "      <td>A686464</td>\n",
       "      <td>Pearce</td>\n",
       "      <td>2015-01-31 12:28:00</td>\n",
       "      <td>Adoption</td>\n",
       "      <td>Foster</td>\n",
       "      <td>Dog</td>\n",
       "      <td>Neutered Male</td>\n",
       "      <td>2 years</td>\n",
       "      <td>Pit Bull Mix</td>\n",
       "      <td>Blue/White</td>\n",
       "      <td>730.0</td>\n",
       "    </tr>\n",
       "    <tr>\n",
       "      <th>3</th>\n",
       "      <td>A683430</td>\n",
       "      <td>NaN</td>\n",
       "      <td>2014-07-11 19:09:00</td>\n",
       "      <td>Transfer</td>\n",
       "      <td>Partner</td>\n",
       "      <td>Cat</td>\n",
       "      <td>Intact Male</td>\n",
       "      <td>3 weeks</td>\n",
       "      <td>Domestic Shorthair Mix</td>\n",
       "      <td>Blue Cream</td>\n",
       "      <td>21.0</td>\n",
       "    </tr>\n",
       "    <tr>\n",
       "      <th>4</th>\n",
       "      <td>A667013</td>\n",
       "      <td>NaN</td>\n",
       "      <td>2013-11-15 12:52:00</td>\n",
       "      <td>Transfer</td>\n",
       "      <td>Partner</td>\n",
       "      <td>Dog</td>\n",
       "      <td>Neutered Male</td>\n",
       "      <td>2 years</td>\n",
       "      <td>Lhasa Apso/Miniature Poodle</td>\n",
       "      <td>Tan</td>\n",
       "      <td>730.0</td>\n",
       "    </tr>\n",
       "  </tbody>\n",
       "</table>\n",
       "</div>"
      ],
      "text/plain": [
       "  AnimalID     Name             DateTime      OutcomeType OutcomeSubtype  \\\n",
       "0  A671945  Hambone  2014-02-12 18:22:00  Return_to_owner            NaN   \n",
       "1  A656520    Emily  2013-10-13 12:44:00       Euthanasia      Suffering   \n",
       "2  A686464   Pearce  2015-01-31 12:28:00         Adoption         Foster   \n",
       "3  A683430      NaN  2014-07-11 19:09:00         Transfer        Partner   \n",
       "4  A667013      NaN  2013-11-15 12:52:00         Transfer        Partner   \n",
       "\n",
       "  AnimalType SexuponOutcome AgeuponOutcome                        Breed  \\\n",
       "0        Dog  Neutered Male         1 year        Shetland Sheepdog Mix   \n",
       "1        Cat  Spayed Female         1 year       Domestic Shorthair Mix   \n",
       "2        Dog  Neutered Male        2 years                 Pit Bull Mix   \n",
       "3        Cat    Intact Male        3 weeks       Domestic Shorthair Mix   \n",
       "4        Dog  Neutered Male        2 years  Lhasa Apso/Miniature Poodle   \n",
       "\n",
       "         Color  AgeDays  \n",
       "0  Brown/White    365.0  \n",
       "1  Cream Tabby    365.0  \n",
       "2   Blue/White    730.0  \n",
       "3   Blue Cream     21.0  \n",
       "4          Tan    730.0  "
      ]
     },
     "execution_count": 6,
     "metadata": {},
     "output_type": "execute_result"
    }
   ],
   "source": [
    "df['AgeDays'] = df['AgeuponOutcome'].apply(convage)\n",
    "df.head()"
   ]
  },
  {
   "cell_type": "markdown",
   "metadata": {},
   "source": [
    "## Fill NA values for gender/fixed status if necessary"
   ]
  },
  {
   "cell_type": "code",
   "execution_count": 85,
   "metadata": {
    "collapsed": false,
    "scrolled": true
   },
   "outputs": [
    {
     "data": {
      "text/plain": [
       "array(['Neutered Male', 'Spayed Female', 'Intact Male', 'Intact Female',\n",
       "       'Unknown', nan], dtype=object)"
      ]
     },
     "execution_count": 85,
     "metadata": {},
     "output_type": "execute_result"
    }
   ],
   "source": [
    "df['SexuponOutcome'].unique()"
   ]
  },
  {
   "cell_type": "code",
   "execution_count": 105,
   "metadata": {
    "collapsed": false
   },
   "outputs": [],
   "source": [
    "# df['SexuponOutcome'].fillna(value='Unknown', inplace=True)\n",
    "# df['SexuponOutcome'].unique()"
   ]
  },
  {
   "cell_type": "markdown",
   "metadata": {},
   "source": [
    "## Explore breeds"
   ]
  },
  {
   "cell_type": "code",
   "execution_count": 89,
   "metadata": {
    "collapsed": false
   },
   "outputs": [
    {
     "data": {
      "text/plain": [
       "array(['Dog', 'Cat'], dtype=object)"
      ]
     },
     "execution_count": 89,
     "metadata": {},
     "output_type": "execute_result"
    }
   ],
   "source": [
    "# Are all animal types identified?\n",
    "\n",
    "df['AnimalType'].unique()"
   ]
  },
  {
   "cell_type": "code",
   "execution_count": 91,
   "metadata": {
    "collapsed": false
   },
   "outputs": [
    {
     "data": {
      "text/plain": [
       "1320"
      ]
     },
     "execution_count": 91,
     "metadata": {},
     "output_type": "execute_result"
    }
   ],
   "source": [
    "len(df['Breed'][df['AnimalType']=='Dog'].unique())"
   ]
  },
  {
   "cell_type": "code",
   "execution_count": 96,
   "metadata": {
    "collapsed": false
   },
   "outputs": [
    {
     "data": {
      "text/plain": [
       "0"
      ]
     },
     "execution_count": 96,
     "metadata": {},
     "output_type": "execute_result"
    }
   ],
   "source": [
    "# Are all dog and cat breeds identified?\n",
    "\n",
    "len(df['Breed'][df['Breed'].isnull()])"
   ]
  },
  {
   "cell_type": "markdown",
   "metadata": {},
   "source": [
    "## Explore animal color"
   ]
  },
  {
   "cell_type": "code",
   "execution_count": 98,
   "metadata": {
    "collapsed": false
   },
   "outputs": [
    {
     "data": {
      "text/plain": [
       "366"
      ]
     },
     "execution_count": 98,
     "metadata": {},
     "output_type": "execute_result"
    }
   ],
   "source": [
    "len(df['Color'].unique())"
   ]
  },
  {
   "cell_type": "code",
   "execution_count": 100,
   "metadata": {
    "collapsed": false
   },
   "outputs": [
    {
     "data": {
      "text/plain": [
       "0"
      ]
     },
     "execution_count": 100,
     "metadata": {},
     "output_type": "execute_result"
    }
   ],
   "source": [
    "len(df['Color'][df['Color'].isnull()])"
   ]
  },
  {
   "cell_type": "markdown",
   "metadata": {},
   "source": [
    "## Explore outcome subtypes"
   ]
  },
  {
   "cell_type": "code",
   "execution_count": 102,
   "metadata": {
    "collapsed": false
   },
   "outputs": [
    {
     "data": {
      "text/plain": [
       "array([nan, 'Suffering', 'Foster', 'Partner', 'Offsite', 'SCRP',\n",
       "       'Aggressive', 'Behavior', 'Rabies Risk', 'Medical', 'In Kennel',\n",
       "       'In Foster', 'Barn', 'Court/Investigation', 'Enroute', 'At Vet',\n",
       "       'In Surgery'], dtype=object)"
      ]
     },
     "execution_count": 102,
     "metadata": {},
     "output_type": "execute_result"
    }
   ],
   "source": [
    "df['OutcomeSubtype'].unique()"
   ]
  },
  {
   "cell_type": "markdown",
   "metadata": {},
   "source": [
    "## Model without considering datetime"
   ]
  },
  {
   "cell_type": "code",
   "execution_count": 224,
   "metadata": {
    "collapsed": true
   },
   "outputs": [],
   "source": [
    "from sklearn.preprocessing import OneHotEncoder, LabelEncoder, StandardScaler"
   ]
  },
  {
   "cell_type": "code",
   "execution_count": 221,
   "metadata": {
    "collapsed": false
   },
   "outputs": [
    {
     "data": {
      "text/plain": [
       "Index(['AnimalID', 'Name', 'DateTime', 'OutcomeType', 'OutcomeSubtype',\n",
       "       'AnimalType', 'SexuponOutcome', 'AgeuponOutcome', 'Breed', 'Color',\n",
       "       'AgeDays'],\n",
       "      dtype='object')"
      ]
     },
     "execution_count": 221,
     "metadata": {},
     "output_type": "execute_result"
    }
   ],
   "source": [
    "df.columns"
   ]
  },
  {
   "cell_type": "code",
   "execution_count": 8,
   "metadata": {
    "collapsed": false
   },
   "outputs": [
    {
     "data": {
      "text/html": [
       "<div>\n",
       "<table border=\"1\" class=\"dataframe\">\n",
       "  <thead>\n",
       "    <tr style=\"text-align: right;\">\n",
       "      <th></th>\n",
       "      <th>Name</th>\n",
       "      <th>AnimalType</th>\n",
       "      <th>SexuponOutcome</th>\n",
       "      <th>Breed</th>\n",
       "      <th>Color</th>\n",
       "      <th>AgeDays</th>\n",
       "    </tr>\n",
       "  </thead>\n",
       "  <tbody>\n",
       "    <tr>\n",
       "      <th>0</th>\n",
       "      <td>Hambone</td>\n",
       "      <td>Dog</td>\n",
       "      <td>Neutered Male</td>\n",
       "      <td>Shetland Sheepdog Mix</td>\n",
       "      <td>Brown/White</td>\n",
       "      <td>365.0</td>\n",
       "    </tr>\n",
       "    <tr>\n",
       "      <th>1</th>\n",
       "      <td>Emily</td>\n",
       "      <td>Cat</td>\n",
       "      <td>Spayed Female</td>\n",
       "      <td>Domestic Shorthair Mix</td>\n",
       "      <td>Cream Tabby</td>\n",
       "      <td>365.0</td>\n",
       "    </tr>\n",
       "    <tr>\n",
       "      <th>2</th>\n",
       "      <td>Pearce</td>\n",
       "      <td>Dog</td>\n",
       "      <td>Neutered Male</td>\n",
       "      <td>Pit Bull Mix</td>\n",
       "      <td>Blue/White</td>\n",
       "      <td>730.0</td>\n",
       "    </tr>\n",
       "    <tr>\n",
       "      <th>3</th>\n",
       "      <td>NA</td>\n",
       "      <td>Cat</td>\n",
       "      <td>Intact Male</td>\n",
       "      <td>Domestic Shorthair Mix</td>\n",
       "      <td>Blue Cream</td>\n",
       "      <td>21.0</td>\n",
       "    </tr>\n",
       "    <tr>\n",
       "      <th>4</th>\n",
       "      <td>NA</td>\n",
       "      <td>Dog</td>\n",
       "      <td>Neutered Male</td>\n",
       "      <td>Lhasa Apso/Miniature Poodle</td>\n",
       "      <td>Tan</td>\n",
       "      <td>730.0</td>\n",
       "    </tr>\n",
       "  </tbody>\n",
       "</table>\n",
       "</div>"
      ],
      "text/plain": [
       "      Name AnimalType SexuponOutcome                        Breed  \\\n",
       "0  Hambone        Dog  Neutered Male        Shetland Sheepdog Mix   \n",
       "1    Emily        Cat  Spayed Female       Domestic Shorthair Mix   \n",
       "2   Pearce        Dog  Neutered Male                 Pit Bull Mix   \n",
       "3       NA        Cat    Intact Male       Domestic Shorthair Mix   \n",
       "4       NA        Dog  Neutered Male  Lhasa Apso/Miniature Poodle   \n",
       "\n",
       "         Color  AgeDays  \n",
       "0  Brown/White    365.0  \n",
       "1  Cream Tabby    365.0  \n",
       "2   Blue/White    730.0  \n",
       "3   Blue Cream     21.0  \n",
       "4          Tan    730.0  "
      ]
     },
     "execution_count": 8,
     "metadata": {},
     "output_type": "execute_result"
    }
   ],
   "source": [
    "Xcols = ['Name', 'AnimalType', 'SexuponOutcome', 'Breed', 'Color']\n",
    "dfX = df[Xcols].fillna(value='NA', axis=1, inplace=False)\n",
    "dfX['AgeDays'] = df['AgeDays'].fillna(value=-1, inplace=False)\n",
    "dfX.head()"
   ]
  },
  {
   "cell_type": "code",
   "execution_count": 9,
   "metadata": {
    "collapsed": false
   },
   "outputs": [
    {
     "data": {
      "text/html": [
       "<div>\n",
       "<table border=\"1\" class=\"dataframe\">\n",
       "  <thead>\n",
       "    <tr style=\"text-align: right;\">\n",
       "      <th></th>\n",
       "      <th>Name</th>\n",
       "      <th>AnimalType</th>\n",
       "      <th>SexuponOutcome</th>\n",
       "      <th>Breed</th>\n",
       "      <th>Color</th>\n",
       "      <th>AgeDays</th>\n",
       "    </tr>\n",
       "  </thead>\n",
       "  <tbody>\n",
       "    <tr>\n",
       "      <th>0</th>\n",
       "      <td>1</td>\n",
       "      <td>0</td>\n",
       "      <td>0</td>\n",
       "      <td>0</td>\n",
       "      <td>0</td>\n",
       "      <td>365.0</td>\n",
       "    </tr>\n",
       "    <tr>\n",
       "      <th>1</th>\n",
       "      <td>1</td>\n",
       "      <td>1</td>\n",
       "      <td>1</td>\n",
       "      <td>1</td>\n",
       "      <td>1</td>\n",
       "      <td>365.0</td>\n",
       "    </tr>\n",
       "    <tr>\n",
       "      <th>2</th>\n",
       "      <td>1</td>\n",
       "      <td>0</td>\n",
       "      <td>0</td>\n",
       "      <td>2</td>\n",
       "      <td>2</td>\n",
       "      <td>730.0</td>\n",
       "    </tr>\n",
       "    <tr>\n",
       "      <th>3</th>\n",
       "      <td>0</td>\n",
       "      <td>1</td>\n",
       "      <td>2</td>\n",
       "      <td>1</td>\n",
       "      <td>3</td>\n",
       "      <td>21.0</td>\n",
       "    </tr>\n",
       "    <tr>\n",
       "      <th>4</th>\n",
       "      <td>0</td>\n",
       "      <td>0</td>\n",
       "      <td>0</td>\n",
       "      <td>3</td>\n",
       "      <td>4</td>\n",
       "      <td>730.0</td>\n",
       "    </tr>\n",
       "  </tbody>\n",
       "</table>\n",
       "</div>"
      ],
      "text/plain": [
       "   Name  AnimalType  SexuponOutcome  Breed  Color  AgeDays\n",
       "0     1           0               0      0      0    365.0\n",
       "1     1           1               1      1      1    365.0\n",
       "2     1           0               0      2      2    730.0\n",
       "3     0           1               2      1      3     21.0\n",
       "4     0           0               0      3      4    730.0"
      ]
     },
     "execution_count": 9,
     "metadata": {},
     "output_type": "execute_result"
    }
   ],
   "source": [
    "# Convert each categorical feature to integers to use in onehotencoder\n",
    "\n",
    "def catconv(dfX, first=False):\n",
    "    if first:\n",
    "        dohe = {}\n",
    "        for col in dfX.columns[:-1]:\n",
    "            if col=='Name':\n",
    "                d = {'NA':0}\n",
    "                dohe[col] = d\n",
    "            else:\n",
    "                l = list(dfX[col].unique())\n",
    "                d = dict(zip(l,list(range(len(l))))) \n",
    "                dohe[col] = d\n",
    "            dfX[col] = dfX[col].apply(lambda x: d.get(x, 1))\n",
    "        return dfX, dohe\n",
    "    else:\n",
    "        for col in dfX.columns[:-1]:\n",
    "            if col=='Name':\n",
    "                d = {'NA':0}\n",
    "            else:\n",
    "                l = list(dfX[col].unique())\n",
    "                d = dict(zip(l,list(range(len(l)))))\n",
    "            dfX[col] = dfX[col].apply(lambda x: d.get(x, 1))\n",
    "        return dfX\n",
    "\n",
    "dfX, dohe = catconv(dfX, first=True)\n",
    "dfX.head()"
   ]
  },
  {
   "cell_type": "code",
   "execution_count": 249,
   "metadata": {
    "collapsed": false
   },
   "outputs": [
    {
     "name": "stdout",
     "output_type": "stream",
     "text": [
      "dict_keys(['Breed', 'Color', 'SexuponOutcome', 'Name', 'AnimalType'])\n"
     ]
    }
   ],
   "source": [
    "print(dohe.keys())"
   ]
  },
  {
   "cell_type": "code",
   "execution_count": 10,
   "metadata": {
    "collapsed": false
   },
   "outputs": [
    {
     "data": {
      "text/plain": [
       "<26729x1757 sparse matrix of type '<class 'numpy.float64'>'\n",
       "\twith 160352 stored elements in COOrdinate format>"
      ]
     },
     "execution_count": 10,
     "metadata": {},
     "output_type": "execute_result"
    }
   ],
   "source": [
    "ohe = OneHotEncoder(categorical_features=np.array([1,1,1,1,1,0],dtype='bool'))\n",
    "dfintX = ohe.fit_transform(dfX)\n",
    "dfintX"
   ]
  },
  {
   "cell_type": "code",
   "execution_count": 13,
   "metadata": {
    "collapsed": false
   },
   "outputs": [
    {
     "data": {
      "text/plain": [
       "{'Adoption': 2,\n",
       " 'Died': 4,\n",
       " 'Euthanasia': 1,\n",
       " 'Return_to_owner': 0,\n",
       " 'Transfer': 3}"
      ]
     },
     "execution_count": 13,
     "metadata": {},
     "output_type": "execute_result"
    }
   ],
   "source": [
    "# Convert outcomes to integer classes\n",
    "\n",
    "ly = list(df['OutcomeType'].unique())\n",
    "dy = dict(zip(ly,list(range(len(ly))))) \n",
    "sery = df['OutcomeType'].apply(lambda x: dy[x])\n",
    "# sery = df['OutcomeType']\n",
    "# sery.head()\n",
    "dy"
   ]
  },
  {
   "cell_type": "code",
   "execution_count": 14,
   "metadata": {
    "collapsed": false
   },
   "outputs": [
    {
     "name": "stdout",
     "output_type": "stream",
     "text": [
      "Counter({'Adoption': 10769, 'Transfer': 9422, 'Return_to_owner': 4786, 'Euthanasia': 1555, 'Died': 197})\n"
     ]
    }
   ],
   "source": [
    "# Check outcome type distribution\n",
    "\n",
    "from collections import Counter\n",
    "c = Counter(df['OutcomeType'].tolist())\n",
    "print(c)"
   ]
  },
  {
   "cell_type": "code",
   "execution_count": 15,
   "metadata": {
    "collapsed": true
   },
   "outputs": [],
   "source": [
    "# Begin with logistic regression\n",
    "from sklearn.linear_model import LogisticRegressionCV"
   ]
  },
  {
   "cell_type": "code",
   "execution_count": 280,
   "metadata": {
    "collapsed": false
   },
   "outputs": [],
   "source": [
    "logregcv = LogisticRegressionCV(Cs=[0.1, 1, 3, 10, 30, 100], class_weight='balanced', max_iter=200, tol=0.001,\n",
    "                                cv=3, solver='newton-cg', scoring='log_loss', n_jobs=3, multi_class='multinomial')"
   ]
  },
  {
   "cell_type": "code",
   "execution_count": 281,
   "metadata": {
    "collapsed": false,
    "scrolled": true
   },
   "outputs": [
    {
     "name": "stderr",
     "output_type": "stream",
     "text": [
      "/usr/local/lib/python3.5/site-packages/scipy/optimize/linesearch.py:285: LineSearchWarning: The line search algorithm did not converge\n",
      "  warn('The line search algorithm did not converge', LineSearchWarning)\n",
      "/usr/local/lib/python3.5/site-packages/sklearn/utils/optimize.py:193: UserWarning: Line Search failed\n",
      "  warnings.warn('Line Search failed')\n",
      "/usr/local/lib/python3.5/site-packages/scipy/optimize/linesearch.py:285: LineSearchWarning: The line search algorithm did not converge\n",
      "  warn('The line search algorithm did not converge', LineSearchWarning)\n",
      "/usr/local/lib/python3.5/site-packages/sklearn/utils/optimize.py:193: UserWarning: Line Search failed\n",
      "  warnings.warn('Line Search failed')\n",
      "/usr/local/lib/python3.5/site-packages/scipy/optimize/linesearch.py:285: LineSearchWarning: The line search algorithm did not converge\n",
      "  warn('The line search algorithm did not converge', LineSearchWarning)\n",
      "/usr/local/lib/python3.5/site-packages/sklearn/utils/optimize.py:193: UserWarning: Line Search failed\n",
      "  warnings.warn('Line Search failed')\n"
     ]
    },
    {
     "data": {
      "text/plain": [
       "LogisticRegressionCV(Cs=[0.1, 1, 3, 10, 30, 100], class_weight='balanced',\n",
       "           cv=3, dual=False, fit_intercept=True, intercept_scaling=1.0,\n",
       "           max_iter=200, multi_class='multinomial', n_jobs=3, penalty='l2',\n",
       "           random_state=None, refit=True, scoring='log_loss',\n",
       "           solver='newton-cg', tol=0.001, verbose=0)"
      ]
     },
     "execution_count": 281,
     "metadata": {},
     "output_type": "execute_result"
    }
   ],
   "source": [
    "logregcv.fit(dfintX, sery)"
   ]
  },
  {
   "cell_type": "code",
   "execution_count": 282,
   "metadata": {
    "collapsed": false
   },
   "outputs": [
    {
     "data": {
      "text/plain": [
       "array([[[50, 33, 42, 40, 74, 74],\n",
       "        [52, 33, 27, 39, 45, 87],\n",
       "        [48, 32, 28, 37, 55, 59]]], dtype=int32)"
      ]
     },
     "execution_count": 282,
     "metadata": {},
     "output_type": "execute_result"
    }
   ],
   "source": [
    "logregcv.n_iter_"
   ]
  },
  {
   "cell_type": "code",
   "execution_count": 283,
   "metadata": {
    "collapsed": false,
    "scrolled": true
   },
   "outputs": [
    {
     "data": {
      "text/plain": [
       "array([ 10.,  10.,  10.,  10.,  10.])"
      ]
     },
     "execution_count": 283,
     "metadata": {},
     "output_type": "execute_result"
    }
   ],
   "source": [
    "logregcv.C_"
   ]
  },
  {
   "cell_type": "code",
   "execution_count": 287,
   "metadata": {
    "collapsed": true
   },
   "outputs": [
    {
     "data": {
      "text/plain": [
       "{0: array([[-1.32408727, -1.29912663, -1.29374981, -1.29284077, -1.29542996,\n",
       "         -1.30080323],\n",
       "        [-1.32105567, -1.29166654, -1.28452852, -1.28229673, -1.28395059,\n",
       "         -1.2884154 ],\n",
       "        [-1.31352382, -1.2842113 , -1.27842737, -1.27793753, -1.28130132,\n",
       "         -1.2877212 ]]),\n",
       " 1: array([[-1.32408727, -1.29912663, -1.29374981, -1.29284077, -1.29542996,\n",
       "         -1.30080323],\n",
       "        [-1.32105567, -1.29166654, -1.28452852, -1.28229673, -1.28395059,\n",
       "         -1.2884154 ],\n",
       "        [-1.31352382, -1.2842113 , -1.27842737, -1.27793753, -1.28130132,\n",
       "         -1.2877212 ]]),\n",
       " 2: array([[-1.32408727, -1.29912663, -1.29374981, -1.29284077, -1.29542996,\n",
       "         -1.30080323],\n",
       "        [-1.32105567, -1.29166654, -1.28452852, -1.28229673, -1.28395059,\n",
       "         -1.2884154 ],\n",
       "        [-1.31352382, -1.2842113 , -1.27842737, -1.27793753, -1.28130132,\n",
       "         -1.2877212 ]]),\n",
       " 3: array([[-1.32408727, -1.29912663, -1.29374981, -1.29284077, -1.29542996,\n",
       "         -1.30080323],\n",
       "        [-1.32105567, -1.29166654, -1.28452852, -1.28229673, -1.28395059,\n",
       "         -1.2884154 ],\n",
       "        [-1.31352382, -1.2842113 , -1.27842737, -1.27793753, -1.28130132,\n",
       "         -1.2877212 ]]),\n",
       " 4: array([[-1.32408727, -1.29912663, -1.29374981, -1.29284077, -1.29542996,\n",
       "         -1.30080323],\n",
       "        [-1.32105567, -1.29166654, -1.28452852, -1.28229673, -1.28395059,\n",
       "         -1.2884154 ],\n",
       "        [-1.31352382, -1.2842113 , -1.27842737, -1.27793753, -1.28130132,\n",
       "         -1.2877212 ]])}"
      ]
     },
     "execution_count": 287,
     "metadata": {},
     "output_type": "execute_result"
    }
   ],
   "source": [
    "logregcv.scores_"
   ]
  },
  {
   "cell_type": "markdown",
   "metadata": {},
   "source": [
    "### Load test data"
   ]
  },
  {
   "cell_type": "code",
   "execution_count": 90,
   "metadata": {
    "collapsed": false
   },
   "outputs": [
    {
     "data": {
      "text/html": [
       "<div>\n",
       "<table border=\"1\" class=\"dataframe\">\n",
       "  <thead>\n",
       "    <tr style=\"text-align: right;\">\n",
       "      <th></th>\n",
       "      <th>ID</th>\n",
       "      <th>Name</th>\n",
       "      <th>DateTime</th>\n",
       "      <th>AnimalType</th>\n",
       "      <th>SexuponOutcome</th>\n",
       "      <th>AgeuponOutcome</th>\n",
       "      <th>Breed</th>\n",
       "      <th>Color</th>\n",
       "    </tr>\n",
       "  </thead>\n",
       "  <tbody>\n",
       "    <tr>\n",
       "      <th>0</th>\n",
       "      <td>1</td>\n",
       "      <td>Summer</td>\n",
       "      <td>2015-10-12 12:15:00</td>\n",
       "      <td>Dog</td>\n",
       "      <td>Intact Female</td>\n",
       "      <td>10 months</td>\n",
       "      <td>Labrador Retriever Mix</td>\n",
       "      <td>Red/White</td>\n",
       "    </tr>\n",
       "    <tr>\n",
       "      <th>1</th>\n",
       "      <td>2</td>\n",
       "      <td>Cheyenne</td>\n",
       "      <td>2014-07-26 17:59:00</td>\n",
       "      <td>Dog</td>\n",
       "      <td>Spayed Female</td>\n",
       "      <td>2 years</td>\n",
       "      <td>German Shepherd/Siberian Husky</td>\n",
       "      <td>Black/Tan</td>\n",
       "    </tr>\n",
       "    <tr>\n",
       "      <th>2</th>\n",
       "      <td>3</td>\n",
       "      <td>Gus</td>\n",
       "      <td>2016-01-13 12:20:00</td>\n",
       "      <td>Cat</td>\n",
       "      <td>Neutered Male</td>\n",
       "      <td>1 year</td>\n",
       "      <td>Domestic Shorthair Mix</td>\n",
       "      <td>Brown Tabby</td>\n",
       "    </tr>\n",
       "    <tr>\n",
       "      <th>3</th>\n",
       "      <td>4</td>\n",
       "      <td>Pongo</td>\n",
       "      <td>2013-12-28 18:12:00</td>\n",
       "      <td>Dog</td>\n",
       "      <td>Intact Male</td>\n",
       "      <td>4 months</td>\n",
       "      <td>Collie Smooth Mix</td>\n",
       "      <td>Tricolor</td>\n",
       "    </tr>\n",
       "    <tr>\n",
       "      <th>4</th>\n",
       "      <td>5</td>\n",
       "      <td>Skooter</td>\n",
       "      <td>2015-09-24 17:59:00</td>\n",
       "      <td>Dog</td>\n",
       "      <td>Neutered Male</td>\n",
       "      <td>2 years</td>\n",
       "      <td>Miniature Poodle Mix</td>\n",
       "      <td>White</td>\n",
       "    </tr>\n",
       "  </tbody>\n",
       "</table>\n",
       "</div>"
      ],
      "text/plain": [
       "   ID      Name             DateTime AnimalType SexuponOutcome AgeuponOutcome  \\\n",
       "0   1    Summer  2015-10-12 12:15:00        Dog  Intact Female      10 months   \n",
       "1   2  Cheyenne  2014-07-26 17:59:00        Dog  Spayed Female        2 years   \n",
       "2   3       Gus  2016-01-13 12:20:00        Cat  Neutered Male         1 year   \n",
       "3   4     Pongo  2013-12-28 18:12:00        Dog    Intact Male       4 months   \n",
       "4   5   Skooter  2015-09-24 17:59:00        Dog  Neutered Male        2 years   \n",
       "\n",
       "                            Breed        Color  \n",
       "0          Labrador Retriever Mix    Red/White  \n",
       "1  German Shepherd/Siberian Husky    Black/Tan  \n",
       "2          Domestic Shorthair Mix  Brown Tabby  \n",
       "3               Collie Smooth Mix     Tricolor  \n",
       "4            Miniature Poodle Mix        White  "
      ]
     },
     "execution_count": 90,
     "metadata": {},
     "output_type": "execute_result"
    }
   ],
   "source": [
    "# Define function to transfer test set same as train set\n",
    "\n",
    "dftest = pd.read_csv(dataurl+'test.csv', sep=',', encoding='utf-8')\n",
    "dftest.head()"
   ]
  },
  {
   "cell_type": "code",
   "execution_count": 92,
   "metadata": {
    "collapsed": false
   },
   "outputs": [],
   "source": [
    "# Convert test data\n",
    "\n",
    "dperiod = {'month': 30, 'year': 365, 'years': 365, 'day': 1, 'days': 1, 'weeks': 7, 'week': 7, 'months': 30}\n",
    "dfXtest = dftest[Xcols].fillna(value='NA', axis=1, inplace=False)\n",
    "dfXtest['AgeDays'] = dftest['AgeuponOutcome'].apply(convage)\n",
    "dfXtest['AgeDays'] = dfXtest['AgeDays'].fillna(value=-1, inplace=False)\n",
    "dfXtest = catconv(dfXtest)\n",
    "# dfintXtest = ohe.transform(dfXtest)"
   ]
  },
  {
   "cell_type": "code",
   "execution_count": 93,
   "metadata": {
    "collapsed": false
   },
   "outputs": [
    {
     "data": {
      "text/html": [
       "<div>\n",
       "<table border=\"1\" class=\"dataframe\">\n",
       "  <thead>\n",
       "    <tr style=\"text-align: right;\">\n",
       "      <th></th>\n",
       "      <th>Name</th>\n",
       "      <th>AnimalType</th>\n",
       "      <th>SexuponOutcome</th>\n",
       "      <th>Breed</th>\n",
       "      <th>Color</th>\n",
       "      <th>AgeDays</th>\n",
       "    </tr>\n",
       "  </thead>\n",
       "  <tbody>\n",
       "    <tr>\n",
       "      <th>0</th>\n",
       "      <td>1</td>\n",
       "      <td>0</td>\n",
       "      <td>0</td>\n",
       "      <td>0</td>\n",
       "      <td>0</td>\n",
       "      <td>300.0</td>\n",
       "    </tr>\n",
       "    <tr>\n",
       "      <th>1</th>\n",
       "      <td>1</td>\n",
       "      <td>0</td>\n",
       "      <td>1</td>\n",
       "      <td>1</td>\n",
       "      <td>1</td>\n",
       "      <td>730.0</td>\n",
       "    </tr>\n",
       "    <tr>\n",
       "      <th>2</th>\n",
       "      <td>1</td>\n",
       "      <td>1</td>\n",
       "      <td>2</td>\n",
       "      <td>2</td>\n",
       "      <td>2</td>\n",
       "      <td>365.0</td>\n",
       "    </tr>\n",
       "    <tr>\n",
       "      <th>3</th>\n",
       "      <td>1</td>\n",
       "      <td>0</td>\n",
       "      <td>3</td>\n",
       "      <td>3</td>\n",
       "      <td>3</td>\n",
       "      <td>120.0</td>\n",
       "    </tr>\n",
       "    <tr>\n",
       "      <th>4</th>\n",
       "      <td>1</td>\n",
       "      <td>0</td>\n",
       "      <td>2</td>\n",
       "      <td>4</td>\n",
       "      <td>4</td>\n",
       "      <td>730.0</td>\n",
       "    </tr>\n",
       "  </tbody>\n",
       "</table>\n",
       "</div>"
      ],
      "text/plain": [
       "   Name  AnimalType  SexuponOutcome  Breed  Color  AgeDays\n",
       "0     1           0               0      0      0    300.0\n",
       "1     1           0               1      1      1    730.0\n",
       "2     1           1               2      2      2    365.0\n",
       "3     1           0               3      3      3    120.0\n",
       "4     1           0               2      4      4    730.0"
      ]
     },
     "execution_count": 93,
     "metadata": {},
     "output_type": "execute_result"
    }
   ],
   "source": [
    "dfXtest.head()"
   ]
  },
  {
   "cell_type": "code",
   "execution_count": 288,
   "metadata": {
    "collapsed": false
   },
   "outputs": [],
   "source": [
    "yprob = logregcv.predict_proba(dfintXtest)\n",
    "ypred = logregcv.predict(dfintXtest)"
   ]
  },
  {
   "cell_type": "code",
   "execution_count": 315,
   "metadata": {
    "collapsed": false
   },
   "outputs": [],
   "source": [
    "dfres = pd.concat([dftest['ID'],pd.DataFrame(yprob)], axis=1)"
   ]
  },
  {
   "cell_type": "code",
   "execution_count": 317,
   "metadata": {
    "collapsed": false
   },
   "outputs": [
    {
     "data": {
      "text/html": [
       "<div>\n",
       "<table border=\"1\" class=\"dataframe\">\n",
       "  <thead>\n",
       "    <tr style=\"text-align: right;\">\n",
       "      <th></th>\n",
       "      <th>ID</th>\n",
       "      <th>Adoption</th>\n",
       "      <th>Died</th>\n",
       "      <th>Euthanasia</th>\n",
       "      <th>Return_to_owner</th>\n",
       "      <th>Transfer</th>\n",
       "    </tr>\n",
       "  </thead>\n",
       "  <tbody>\n",
       "    <tr>\n",
       "      <th>0</th>\n",
       "      <td>1</td>\n",
       "      <td>0.362637</td>\n",
       "      <td>0.001650</td>\n",
       "      <td>0.095903</td>\n",
       "      <td>0.361574</td>\n",
       "      <td>0.178235</td>\n",
       "    </tr>\n",
       "    <tr>\n",
       "      <th>1</th>\n",
       "      <td>2</td>\n",
       "      <td>0.584785</td>\n",
       "      <td>0.023943</td>\n",
       "      <td>0.059728</td>\n",
       "      <td>0.198798</td>\n",
       "      <td>0.132747</td>\n",
       "    </tr>\n",
       "    <tr>\n",
       "      <th>2</th>\n",
       "      <td>3</td>\n",
       "      <td>0.008266</td>\n",
       "      <td>0.169402</td>\n",
       "      <td>0.604488</td>\n",
       "      <td>0.053586</td>\n",
       "      <td>0.164258</td>\n",
       "    </tr>\n",
       "    <tr>\n",
       "      <th>3</th>\n",
       "      <td>4</td>\n",
       "      <td>0.106831</td>\n",
       "      <td>0.020783</td>\n",
       "      <td>0.023827</td>\n",
       "      <td>0.005722</td>\n",
       "      <td>0.842836</td>\n",
       "    </tr>\n",
       "    <tr>\n",
       "      <th>4</th>\n",
       "      <td>5</td>\n",
       "      <td>0.038472</td>\n",
       "      <td>0.008211</td>\n",
       "      <td>0.054983</td>\n",
       "      <td>0.029360</td>\n",
       "      <td>0.868973</td>\n",
       "    </tr>\n",
       "  </tbody>\n",
       "</table>\n",
       "</div>"
      ],
      "text/plain": [
       "   ID  Adoption      Died  Euthanasia  Return_to_owner  Transfer\n",
       "0   1  0.362637  0.001650    0.095903         0.361574  0.178235\n",
       "1   2  0.584785  0.023943    0.059728         0.198798  0.132747\n",
       "2   3  0.008266  0.169402    0.604488         0.053586  0.164258\n",
       "3   4  0.106831  0.020783    0.023827         0.005722  0.842836\n",
       "4   5  0.038472  0.008211    0.054983         0.029360  0.868973"
      ]
     },
     "execution_count": 317,
     "metadata": {},
     "output_type": "execute_result"
    }
   ],
   "source": [
    "dyrev = {item[1]: item[0] for item in dy.items()}\n",
    "dfres.columns = [dyrev.get(col, col) for col in dfres.columns]\n",
    "dfres = dfres[['ID', 'Adoption', 'Died', 'Euthanasia', 'Return_to_owner', 'Transfer']]\n",
    "dfres.head()"
   ]
  },
  {
   "cell_type": "code",
   "execution_count": 318,
   "metadata": {
    "collapsed": true
   },
   "outputs": [],
   "source": [
    "dfres.to_csv('submission01.csv', sep=',', encoding='utf-8', index=False)"
   ]
  },
  {
   "cell_type": "code",
   "execution_count": 314,
   "metadata": {
    "collapsed": false
   },
   "outputs": [
    {
     "data": {
      "text/plain": [
       "(11456, 6)"
      ]
     },
     "execution_count": 314,
     "metadata": {},
     "output_type": "execute_result"
    }
   ],
   "source": [
    "dfres.shape"
   ]
  },
  {
   "cell_type": "markdown",
   "metadata": {},
   "source": [
    "## Evaluate performance of regularized logistic regression"
   ]
  },
  {
   "cell_type": "code",
   "execution_count": 243,
   "metadata": {
    "collapsed": true
   },
   "outputs": [],
   "source": [
    "from sklearn.cross_validation import StratifiedShuffleSplit, train_test_split, StratifiedKFold, cross_val_score\n",
    "from sklearn.metrics import classification_report, accuracy_score, f1_score\n",
    "from scipy import sparse"
   ]
  },
  {
   "cell_type": "code",
   "execution_count": 17,
   "metadata": {
    "collapsed": false
   },
   "outputs": [],
   "source": [
    "sss = StratifiedShuffleSplit(sery, test_size=0.33, random_state=42, n_iter=1)"
   ]
  },
  {
   "cell_type": "code",
   "execution_count": 18,
   "metadata": {
    "collapsed": false
   },
   "outputs": [
    {
     "data": {
      "text/plain": [
       "StratifiedShuffleSplit(labels=[0 1 2 ..., 2 3 3], n_iter=1, test_size=0.33, random_state=42)"
      ]
     },
     "execution_count": 18,
     "metadata": {},
     "output_type": "execute_result"
    }
   ],
   "source": [
    "sss"
   ]
  },
  {
   "cell_type": "code",
   "execution_count": 19,
   "metadata": {
    "collapsed": false
   },
   "outputs": [],
   "source": [
    "for train_index, test_index in sss:\n",
    "    X_train, X_test = dfintX.todense()[train_index], dfintX.todense()[test_index]\n",
    "    y_train, y_test = sery.iloc[train_index], sery.iloc[test_index]"
   ]
  },
  {
   "cell_type": "code",
   "execution_count": 20,
   "metadata": {
    "collapsed": false
   },
   "outputs": [
    {
     "name": "stdout",
     "output_type": "stream",
     "text": [
      "(17909, 1757) (8820, 1757) (17909,) (8820,)\n"
     ]
    }
   ],
   "source": [
    "print(X_train.shape, X_test.shape, y_train.shape, y_test.shape)"
   ]
  },
  {
   "cell_type": "code",
   "execution_count": 21,
   "metadata": {
    "collapsed": true
   },
   "outputs": [],
   "source": [
    "logregclass = LogisticRegressionCV(Cs=[0.1, 1, 3, 10, 30, 100], class_weight='balanced', max_iter=200, tol=0.001,\n",
    "                                cv=3, solver='newton-cg', scoring='log_loss', n_jobs=3, multi_class='multinomial')"
   ]
  },
  {
   "cell_type": "code",
   "execution_count": 25,
   "metadata": {
    "collapsed": false
   },
   "outputs": [
    {
     "name": "stderr",
     "output_type": "stream",
     "text": [
      "/usr/local/lib/python3.5/site-packages/scipy/optimize/linesearch.py:285: LineSearchWarning: The line search algorithm did not converge\n",
      "  warn('The line search algorithm did not converge', LineSearchWarning)\n",
      "/usr/local/lib/python3.5/site-packages/sklearn/utils/optimize.py:193: UserWarning: Line Search failed\n",
      "  warnings.warn('Line Search failed')\n"
     ]
    },
    {
     "data": {
      "text/plain": [
       "LogisticRegressionCV(Cs=[0.1, 1, 3, 10, 30, 100], class_weight='balanced',\n",
       "           cv=3, dual=False, fit_intercept=True, intercept_scaling=1.0,\n",
       "           max_iter=200, multi_class='multinomial', n_jobs=3, penalty='l2',\n",
       "           random_state=None, refit=True, scoring='log_loss',\n",
       "           solver='newton-cg', tol=0.001, verbose=0)"
      ]
     },
     "execution_count": 25,
     "metadata": {},
     "output_type": "execute_result"
    }
   ],
   "source": [
    "Xsparse = sparse.csr_matrix(X_train)\n",
    "logregclass.fit(Xsparse, y_train)"
   ]
  },
  {
   "cell_type": "code",
   "execution_count": 26,
   "metadata": {
    "collapsed": true
   },
   "outputs": [],
   "source": [
    "ypred = logregclass.predict(sparse.csr_matrix(X_test))"
   ]
  },
  {
   "cell_type": "code",
   "execution_count": 34,
   "metadata": {
    "collapsed": false
   },
   "outputs": [
    {
     "name": "stdout",
     "output_type": "stream",
     "text": [
      "Accuracy: 49.43%\n",
      "             precision    recall  f1-score   support\n",
      "\n",
      "          0       0.40      0.53      0.46      1579\n",
      "          1       0.23      0.37      0.29       513\n",
      "          2       0.67      0.69      0.68      3554\n",
      "          3       0.75      0.28      0.40      3109\n",
      "          4       0.02      0.38      0.04        65\n",
      "\n",
      "avg / total       0.62      0.49      0.51      8820\n",
      "\n"
     ]
    }
   ],
   "source": [
    "print('Accuracy:', '{:.2%}'.format(accuracy_score(y_test, ypred)))\n",
    "print(classification_report(y_test, ypred))"
   ]
  },
  {
   "cell_type": "markdown",
   "metadata": {},
   "source": [
    "## Performance improvements"
   ]
  },
  {
   "cell_type": "code",
   "execution_count": 38,
   "metadata": {
    "collapsed": false
   },
   "outputs": [
    {
     "name": "stdout",
     "output_type": "stream",
     "text": [
      "Test: Counter({1: 8231, 0: 3225})\n",
      "Train: Counter({1: 19038, 0: 7691})\n"
     ]
    }
   ],
   "source": [
    "# Does test data contain any unnamed animals? Relative to train data?\n",
    "\n",
    "c1 = Counter(dfXtest['Name'].tolist())\n",
    "print('Test:',c1)\n",
    "c2 = Counter(dfX['Name'].tolist())\n",
    "print('Train:',c2)"
   ]
  },
  {
   "cell_type": "code",
   "execution_count": 45,
   "metadata": {
    "collapsed": true
   },
   "outputs": [],
   "source": [
    "# Classes are dramatically unbalanced, very few outcomes for 'Died' and only a few for 'Euthanasia'"
   ]
  },
  {
   "cell_type": "markdown",
   "metadata": {},
   "source": [
    "## Incorporate datetime and use random forest model"
   ]
  },
  {
   "cell_type": "code",
   "execution_count": 53,
   "metadata": {
    "collapsed": true
   },
   "outputs": [],
   "source": [
    "from sklearn.ensemble import RandomForestClassifier"
   ]
  },
  {
   "cell_type": "code",
   "execution_count": 57,
   "metadata": {
    "collapsed": false
   },
   "outputs": [
    {
     "data": {
      "text/html": [
       "<div>\n",
       "<table border=\"1\" class=\"dataframe\">\n",
       "  <thead>\n",
       "    <tr style=\"text-align: right;\">\n",
       "      <th></th>\n",
       "      <th>Name</th>\n",
       "      <th>AnimalType</th>\n",
       "      <th>SexuponOutcome</th>\n",
       "      <th>Breed</th>\n",
       "      <th>Color</th>\n",
       "      <th>AgeDays</th>\n",
       "      <th>Year</th>\n",
       "      <th>Month</th>\n",
       "      <th>WeekofYear</th>\n",
       "      <th>Day</th>\n",
       "      <th>DayofWeek</th>\n",
       "      <th>Hour</th>\n",
       "      <th>Minute</th>\n",
       "    </tr>\n",
       "  </thead>\n",
       "  <tbody>\n",
       "    <tr>\n",
       "      <th>0</th>\n",
       "      <td>1</td>\n",
       "      <td>0</td>\n",
       "      <td>0</td>\n",
       "      <td>0</td>\n",
       "      <td>0</td>\n",
       "      <td>365.0</td>\n",
       "      <td>2014</td>\n",
       "      <td>2</td>\n",
       "      <td>7</td>\n",
       "      <td>12</td>\n",
       "      <td>2</td>\n",
       "      <td>18</td>\n",
       "      <td>22</td>\n",
       "    </tr>\n",
       "    <tr>\n",
       "      <th>1</th>\n",
       "      <td>1</td>\n",
       "      <td>1</td>\n",
       "      <td>1</td>\n",
       "      <td>1</td>\n",
       "      <td>1</td>\n",
       "      <td>365.0</td>\n",
       "      <td>2013</td>\n",
       "      <td>10</td>\n",
       "      <td>41</td>\n",
       "      <td>13</td>\n",
       "      <td>6</td>\n",
       "      <td>12</td>\n",
       "      <td>44</td>\n",
       "    </tr>\n",
       "    <tr>\n",
       "      <th>2</th>\n",
       "      <td>1</td>\n",
       "      <td>0</td>\n",
       "      <td>0</td>\n",
       "      <td>2</td>\n",
       "      <td>2</td>\n",
       "      <td>730.0</td>\n",
       "      <td>2015</td>\n",
       "      <td>1</td>\n",
       "      <td>5</td>\n",
       "      <td>31</td>\n",
       "      <td>5</td>\n",
       "      <td>12</td>\n",
       "      <td>28</td>\n",
       "    </tr>\n",
       "    <tr>\n",
       "      <th>3</th>\n",
       "      <td>0</td>\n",
       "      <td>1</td>\n",
       "      <td>2</td>\n",
       "      <td>1</td>\n",
       "      <td>3</td>\n",
       "      <td>21.0</td>\n",
       "      <td>2014</td>\n",
       "      <td>7</td>\n",
       "      <td>28</td>\n",
       "      <td>11</td>\n",
       "      <td>4</td>\n",
       "      <td>19</td>\n",
       "      <td>9</td>\n",
       "    </tr>\n",
       "    <tr>\n",
       "      <th>4</th>\n",
       "      <td>0</td>\n",
       "      <td>0</td>\n",
       "      <td>0</td>\n",
       "      <td>3</td>\n",
       "      <td>4</td>\n",
       "      <td>730.0</td>\n",
       "      <td>2013</td>\n",
       "      <td>11</td>\n",
       "      <td>46</td>\n",
       "      <td>15</td>\n",
       "      <td>4</td>\n",
       "      <td>12</td>\n",
       "      <td>52</td>\n",
       "    </tr>\n",
       "  </tbody>\n",
       "</table>\n",
       "</div>"
      ],
      "text/plain": [
       "   Name  AnimalType  SexuponOutcome  Breed  Color  AgeDays  Year  Month  \\\n",
       "0     1           0               0      0      0    365.0  2014      2   \n",
       "1     1           1               1      1      1    365.0  2013     10   \n",
       "2     1           0               0      2      2    730.0  2015      1   \n",
       "3     0           1               2      1      3     21.0  2014      7   \n",
       "4     0           0               0      3      4    730.0  2013     11   \n",
       "\n",
       "   WeekofYear  Day  DayofWeek  Hour  Minute  \n",
       "0           7   12          2    18      22  \n",
       "1          41   13          6    12      44  \n",
       "2           5   31          5    12      28  \n",
       "3          28   11          4    19       9  \n",
       "4          46   15          4    12      52  "
      ]
     },
     "execution_count": 57,
     "metadata": {},
     "output_type": "execute_result"
    }
   ],
   "source": [
    "def dtdf(dfX, df):\n",
    "    dfX['DateTime'] = pd.to_datetime(df['DateTime'], infer_datetime_format=True)\n",
    "    # Create features for year, month, day, dayofweek, hour, minute\n",
    "    dfX['Year'] = dfX['DateTime'].dt.year\n",
    "    dfX['Month'] = dfX['DateTime'].dt.month\n",
    "    dfX['WeekofYear'] = dfX['DateTime'].dt.weekofyear\n",
    "    dfX['Day'] = dfX['DateTime'].dt.day\n",
    "    dfX['DayofWeek'] = dfX['DateTime'].dt.dayofweek\n",
    "    dfX['Hour'] = dfX['DateTime'].dt.hour\n",
    "    dfX['Minute'] = dfX['DateTime'].dt.minute\n",
    "    dfX.drop('DateTime', axis=1, inplace=True)\n",
    "    return dfX\n",
    "\n",
    "dfX = dtdf(dfX, df)\n",
    "dfX.head()"
   ]
  },
  {
   "cell_type": "code",
   "execution_count": 52,
   "metadata": {
    "collapsed": false
   },
   "outputs": [
    {
     "data": {
      "text/plain": [
       "<26729x1944 sparse matrix of type '<class 'numpy.float64'>'\n",
       "\twith 347455 stored elements in COOrdinate format>"
      ]
     },
     "execution_count": 52,
     "metadata": {},
     "output_type": "execute_result"
    }
   ],
   "source": [
    "ohe = OneHotEncoder(categorical_features=np.array([1,1,1,1,1,0,1,1,1,1,1,1,1],dtype='bool'))\n",
    "dfintX = ohe.fit_transform(dfX)\n",
    "dfintX"
   ]
  },
  {
   "cell_type": "code",
   "execution_count": 54,
   "metadata": {
    "collapsed": true
   },
   "outputs": [],
   "source": [
    "rfc = RandomForestClassifier(max_depth=4, n_jobs=3, class_weight='balanced')"
   ]
  },
  {
   "cell_type": "code",
   "execution_count": 55,
   "metadata": {
    "collapsed": false
   },
   "outputs": [
    {
     "data": {
      "text/plain": [
       "RandomForestClassifier(bootstrap=True, class_weight='balanced',\n",
       "            criterion='gini', max_depth=4, max_features='auto',\n",
       "            max_leaf_nodes=None, min_samples_leaf=1, min_samples_split=2,\n",
       "            min_weight_fraction_leaf=0.0, n_estimators=10, n_jobs=3,\n",
       "            oob_score=False, random_state=None, verbose=0,\n",
       "            warm_start=False)"
      ]
     },
     "execution_count": 55,
     "metadata": {},
     "output_type": "execute_result"
    }
   ],
   "source": [
    "rfc.fit(dfintX, sery)"
   ]
  },
  {
   "cell_type": "markdown",
   "metadata": {},
   "source": [
    "## Evaluate performance of random forest"
   ]
  },
  {
   "cell_type": "code",
   "execution_count": 96,
   "metadata": {
    "collapsed": false
   },
   "outputs": [
    {
     "name": "stdout",
     "output_type": "stream",
     "text": [
      "(11456, 13)\n"
     ]
    },
    {
     "data": {
      "text/html": [
       "<div>\n",
       "<table border=\"1\" class=\"dataframe\">\n",
       "  <thead>\n",
       "    <tr style=\"text-align: right;\">\n",
       "      <th></th>\n",
       "      <th>Name</th>\n",
       "      <th>AnimalType</th>\n",
       "      <th>SexuponOutcome</th>\n",
       "      <th>Breed</th>\n",
       "      <th>Color</th>\n",
       "      <th>AgeDays</th>\n",
       "      <th>Year</th>\n",
       "      <th>Month</th>\n",
       "      <th>WeekofYear</th>\n",
       "      <th>Day</th>\n",
       "      <th>DayofWeek</th>\n",
       "      <th>Hour</th>\n",
       "      <th>Minute</th>\n",
       "    </tr>\n",
       "  </thead>\n",
       "  <tbody>\n",
       "    <tr>\n",
       "      <th>0</th>\n",
       "      <td>1</td>\n",
       "      <td>0</td>\n",
       "      <td>0</td>\n",
       "      <td>0</td>\n",
       "      <td>0</td>\n",
       "      <td>300.0</td>\n",
       "      <td>2015</td>\n",
       "      <td>10</td>\n",
       "      <td>42</td>\n",
       "      <td>12</td>\n",
       "      <td>0</td>\n",
       "      <td>12</td>\n",
       "      <td>15</td>\n",
       "    </tr>\n",
       "    <tr>\n",
       "      <th>1</th>\n",
       "      <td>1</td>\n",
       "      <td>0</td>\n",
       "      <td>1</td>\n",
       "      <td>1</td>\n",
       "      <td>1</td>\n",
       "      <td>730.0</td>\n",
       "      <td>2014</td>\n",
       "      <td>7</td>\n",
       "      <td>30</td>\n",
       "      <td>26</td>\n",
       "      <td>5</td>\n",
       "      <td>17</td>\n",
       "      <td>59</td>\n",
       "    </tr>\n",
       "    <tr>\n",
       "      <th>2</th>\n",
       "      <td>1</td>\n",
       "      <td>1</td>\n",
       "      <td>2</td>\n",
       "      <td>2</td>\n",
       "      <td>2</td>\n",
       "      <td>365.0</td>\n",
       "      <td>2016</td>\n",
       "      <td>1</td>\n",
       "      <td>2</td>\n",
       "      <td>13</td>\n",
       "      <td>2</td>\n",
       "      <td>12</td>\n",
       "      <td>20</td>\n",
       "    </tr>\n",
       "    <tr>\n",
       "      <th>3</th>\n",
       "      <td>1</td>\n",
       "      <td>0</td>\n",
       "      <td>3</td>\n",
       "      <td>3</td>\n",
       "      <td>3</td>\n",
       "      <td>120.0</td>\n",
       "      <td>2013</td>\n",
       "      <td>12</td>\n",
       "      <td>52</td>\n",
       "      <td>28</td>\n",
       "      <td>5</td>\n",
       "      <td>18</td>\n",
       "      <td>12</td>\n",
       "    </tr>\n",
       "    <tr>\n",
       "      <th>4</th>\n",
       "      <td>1</td>\n",
       "      <td>0</td>\n",
       "      <td>2</td>\n",
       "      <td>4</td>\n",
       "      <td>4</td>\n",
       "      <td>730.0</td>\n",
       "      <td>2015</td>\n",
       "      <td>9</td>\n",
       "      <td>39</td>\n",
       "      <td>24</td>\n",
       "      <td>3</td>\n",
       "      <td>17</td>\n",
       "      <td>59</td>\n",
       "    </tr>\n",
       "  </tbody>\n",
       "</table>\n",
       "</div>"
      ],
      "text/plain": [
       "   Name  AnimalType  SexuponOutcome  Breed  Color  AgeDays  Year  Month  \\\n",
       "0     1           0               0      0      0    300.0  2015     10   \n",
       "1     1           0               1      1      1    730.0  2014      7   \n",
       "2     1           1               2      2      2    365.0  2016      1   \n",
       "3     1           0               3      3      3    120.0  2013     12   \n",
       "4     1           0               2      4      4    730.0  2015      9   \n",
       "\n",
       "   WeekofYear  Day  DayofWeek  Hour  Minute  \n",
       "0          42   12          0    12      15  \n",
       "1          30   26          5    17      59  \n",
       "2           2   13          2    12      20  \n",
       "3          52   28          5    18      12  \n",
       "4          39   24          3    17      59  "
      ]
     },
     "execution_count": 96,
     "metadata": {},
     "output_type": "execute_result"
    }
   ],
   "source": [
    "dfXtest = dtdf(dfXtest, dftest)\n",
    "print(dfXtest.shape)\n",
    "dfXtest.head()"
   ]
  },
  {
   "cell_type": "code",
   "execution_count": 76,
   "metadata": {
    "collapsed": false
   },
   "outputs": [],
   "source": [
    "sss = StratifiedShuffleSplit(sery, test_size=0.33, random_state=42, n_iter=1)\n",
    "for train_index, test_index in sss:\n",
    "    X_train, X_test = dfintX.todense()[train_index], dfintX.todense()[test_index]\n",
    "    y_train, y_test = sery.iloc[train_index], sery.iloc[test_index]\n",
    "\n",
    "Xtrainsparse = sparse.csr_matrix(X_train)\n",
    "Xtestsparse = sparse.csr_matrix(X_test)\n",
    "    \n",
    "print(classification_report(y_test, ypred))"
   ]
  },
  {
   "cell_type": "code",
   "execution_count": 84,
   "metadata": {
    "collapsed": true
   },
   "outputs": [
    {
     "name": "stdout",
     "output_type": "stream",
     "text": [
      "Estimators/max depth: 10 None\n",
      "Accuracy: 63.98%\n",
      "F1: 62.52%\n",
      "\n",
      "Estimators/max depth: 10 16\n",
      "Accuracy: 57.27%\n",
      "F1: 58.72%\n",
      "\n",
      "Estimators/max depth: 10 32\n",
      "Accuracy: 61.95%\n",
      "F1: 61.84%\n",
      "\n",
      "Estimators/max depth: 10 64\n",
      "Accuracy: 64.20%\n",
      "F1: 62.67%\n",
      "\n",
      "Estimators/max depth: 10 128\n",
      "Accuracy: 63.97%\n",
      "F1: 62.51%\n",
      "\n",
      "Estimators/max depth: 50 None\n",
      "Accuracy: 67.95%\n",
      "F1: 65.37%\n",
      "\n",
      "Estimators/max depth: 50 16\n",
      "Accuracy: 59.31%\n",
      "F1: 60.48%\n",
      "\n",
      "Estimators/max depth: 50 32\n",
      "Accuracy: 65.40%\n",
      "F1: 65.03%\n",
      "\n",
      "Estimators/max depth: 50 64\n",
      "Accuracy: 67.59%\n",
      "F1: 65.21%\n",
      "\n",
      "Estimators/max depth: 50 128\n",
      "Accuracy: 67.64%\n",
      "F1: 65.01%\n",
      "\n",
      "Estimators/max depth: 100 None\n",
      "Accuracy: 67.85%\n",
      "F1: 65.07%\n",
      "\n",
      "Estimators/max depth: 100 16\n",
      "Accuracy: 59.13%\n",
      "F1: 60.35%\n",
      "\n",
      "Estimators/max depth: 100 32\n",
      "Accuracy: 66.08%\n",
      "F1: 65.62%\n",
      "\n",
      "Estimators/max depth: 100 64\n",
      "Accuracy: 67.95%\n",
      "F1: 65.64%\n",
      "\n",
      "Estimators/max depth: 100 128\n",
      "Accuracy: 68.06%\n",
      "F1: 65.30%\n",
      "\n",
      "Estimators/max depth: 200 None\n",
      "Accuracy: 67.65%\n",
      "F1: 64.81%\n",
      "\n",
      "Estimators/max depth: 200 16\n",
      "Accuracy: 59.58%\n",
      "F1: 60.86%\n",
      "\n",
      "Estimators/max depth: 200 32\n",
      "Accuracy: 66.38%\n",
      "F1: 65.92%\n",
      "\n",
      "Estimators/max depth: 200 64\n",
      "Accuracy: 68.22%\n",
      "F1: 65.86%\n",
      "\n",
      "Estimators/max depth: 200 128\n",
      "Accuracy: 67.83%\n",
      "F1: 65.01%\n",
      "\n"
     ]
    }
   ],
   "source": [
    "ests = [10, 50, 100, 200]\n",
    "depths = [None, 16, 32, 64, 128]\n",
    "\n",
    "accs = {}\n",
    "f1s = {}\n",
    "for est in ests:\n",
    "    for depth in depths:\n",
    "        rfeval = RandomForestClassifier(n_estimators=est, max_depth=depth, max_features='sqrt', min_samples_split=1,\n",
    "                                        n_jobs=3, class_weight='balanced', random_state=42)\n",
    "        rfeval.fit(Xtrainsparse, y_train)\n",
    "        ypred = rfeval.predict(Xtestsparse)\n",
    "        acc = accuracy_score(y_test, ypred)\n",
    "        f1 = f1_score(y_test, ypred, average='weighted')\n",
    "        accs[acc] = (est,depth)\n",
    "        f1s[f1] = (est,depth)\n",
    "        print('Estimators/max depth:',est,depth)\n",
    "        print('Accuracy:', '{:.2%}'.format(acc))\n",
    "        print('F1:', '{:.2%}'.format(f1))\n",
    "        print('')"
   ]
  },
  {
   "cell_type": "code",
   "execution_count": 86,
   "metadata": {
    "collapsed": false
   },
   "outputs": [
    {
     "name": "stdout",
     "output_type": "stream",
     "text": [
      "(200, 64) (200, 32)\n"
     ]
    }
   ],
   "source": [
    "print(accs[max(accs.keys())], f1s[max(f1s.keys())])"
   ]
  },
  {
   "cell_type": "code",
   "execution_count": 87,
   "metadata": {
    "collapsed": false
   },
   "outputs": [
    {
     "data": {
      "text/plain": [
       "RandomForestClassifier(bootstrap=True, class_weight='balanced',\n",
       "            criterion='gini', max_depth=64, max_features='sqrt',\n",
       "            max_leaf_nodes=None, min_samples_leaf=1, min_samples_split=1,\n",
       "            min_weight_fraction_leaf=0.0, n_estimators=200, n_jobs=3,\n",
       "            oob_score=False, random_state=42, verbose=0, warm_start=False)"
      ]
     },
     "execution_count": 87,
     "metadata": {},
     "output_type": "execute_result"
    }
   ],
   "source": [
    "rfc = RandomForestClassifier(n_estimators=200, max_depth=64, max_features='sqrt', min_samples_split=1,\n",
    "                                        n_jobs=3, class_weight='balanced', random_state=42)\n",
    "rfc.fit(dfintX, sery)"
   ]
  },
  {
   "cell_type": "code",
   "execution_count": 104,
   "metadata": {
    "collapsed": false
   },
   "outputs": [],
   "source": [
    "dfintXtest = ohe.transform(dfXtest)\n",
    "yprob = rfc.predict_proba(dfintXtest)"
   ]
  },
  {
   "cell_type": "code",
   "execution_count": 105,
   "metadata": {
    "collapsed": false
   },
   "outputs": [
    {
     "data": {
      "text/html": [
       "<div>\n",
       "<table border=\"1\" class=\"dataframe\">\n",
       "  <thead>\n",
       "    <tr style=\"text-align: right;\">\n",
       "      <th></th>\n",
       "      <th>ID</th>\n",
       "      <th>Adoption</th>\n",
       "      <th>Died</th>\n",
       "      <th>Euthanasia</th>\n",
       "      <th>Return_to_owner</th>\n",
       "      <th>Transfer</th>\n",
       "    </tr>\n",
       "  </thead>\n",
       "  <tbody>\n",
       "    <tr>\n",
       "      <th>0</th>\n",
       "      <td>1</td>\n",
       "      <td>0.379843</td>\n",
       "      <td>0.000</td>\n",
       "      <td>0.013396</td>\n",
       "      <td>0.232863</td>\n",
       "      <td>0.373898</td>\n",
       "    </tr>\n",
       "    <tr>\n",
       "      <th>1</th>\n",
       "      <td>2</td>\n",
       "      <td>0.668518</td>\n",
       "      <td>0.005</td>\n",
       "      <td>0.019324</td>\n",
       "      <td>0.224183</td>\n",
       "      <td>0.082975</td>\n",
       "    </tr>\n",
       "    <tr>\n",
       "      <th>2</th>\n",
       "      <td>3</td>\n",
       "      <td>0.265000</td>\n",
       "      <td>0.025</td>\n",
       "      <td>0.070000</td>\n",
       "      <td>0.230000</td>\n",
       "      <td>0.410000</td>\n",
       "    </tr>\n",
       "    <tr>\n",
       "      <th>3</th>\n",
       "      <td>4</td>\n",
       "      <td>0.246041</td>\n",
       "      <td>0.005</td>\n",
       "      <td>0.020260</td>\n",
       "      <td>0.172211</td>\n",
       "      <td>0.556487</td>\n",
       "    </tr>\n",
       "    <tr>\n",
       "      <th>4</th>\n",
       "      <td>5</td>\n",
       "      <td>0.186629</td>\n",
       "      <td>0.000</td>\n",
       "      <td>0.106079</td>\n",
       "      <td>0.499593</td>\n",
       "      <td>0.207699</td>\n",
       "    </tr>\n",
       "  </tbody>\n",
       "</table>\n",
       "</div>"
      ],
      "text/plain": [
       "   ID  Adoption   Died  Euthanasia  Return_to_owner  Transfer\n",
       "0   1  0.379843  0.000    0.013396         0.232863  0.373898\n",
       "1   2  0.668518  0.005    0.019324         0.224183  0.082975\n",
       "2   3  0.265000  0.025    0.070000         0.230000  0.410000\n",
       "3   4  0.246041  0.005    0.020260         0.172211  0.556487\n",
       "4   5  0.186629  0.000    0.106079         0.499593  0.207699"
      ]
     },
     "execution_count": 105,
     "metadata": {},
     "output_type": "execute_result"
    }
   ],
   "source": [
    "dyrev = {item[1]: item[0] for item in dy.items()}\n",
    "dfres = pd.concat([dftest['ID'],pd.DataFrame(yprob)], axis=1)\n",
    "dfres.columns = [dyrev.get(col, col) for col in dfres.columns]\n",
    "dfres = dfres[['ID', 'Adoption', 'Died', 'Euthanasia', 'Return_to_owner', 'Transfer']]\n",
    "dfres.to_csv('submission02.csv', sep=',', encoding='utf-8', index=False)\n",
    "dfres.head()"
   ]
  },
  {
   "cell_type": "code",
   "execution_count": 108,
   "metadata": {
    "collapsed": false
   },
   "outputs": [
    {
     "data": {
      "text/plain": [
       "(1944,)"
      ]
     },
     "execution_count": 108,
     "metadata": {},
     "output_type": "execute_result"
    }
   ],
   "source": [
    "# Relative feature importance\n",
    "rfc.feature_importances_.shape"
   ]
  },
  {
   "cell_type": "markdown",
   "metadata": {},
   "source": [
    "___\n",
    "## Redo breed info and minute\n",
    "___"
   ]
  },
  {
   "cell_type": "code",
   "execution_count": 2,
   "metadata": {
    "collapsed": false
   },
   "outputs": [
    {
     "data": {
      "text/html": [
       "<div>\n",
       "<table border=\"1\" class=\"dataframe\">\n",
       "  <thead>\n",
       "    <tr style=\"text-align: right;\">\n",
       "      <th></th>\n",
       "      <th>AnimalID</th>\n",
       "      <th>Name</th>\n",
       "      <th>DateTime</th>\n",
       "      <th>OutcomeType</th>\n",
       "      <th>OutcomeSubtype</th>\n",
       "      <th>AnimalType</th>\n",
       "      <th>SexuponOutcome</th>\n",
       "      <th>AgeuponOutcome</th>\n",
       "      <th>Breed</th>\n",
       "      <th>Color</th>\n",
       "    </tr>\n",
       "  </thead>\n",
       "  <tbody>\n",
       "    <tr>\n",
       "      <th>0</th>\n",
       "      <td>A671945</td>\n",
       "      <td>Hambone</td>\n",
       "      <td>2014-02-12 18:22:00</td>\n",
       "      <td>Return_to_owner</td>\n",
       "      <td>NaN</td>\n",
       "      <td>Dog</td>\n",
       "      <td>Neutered Male</td>\n",
       "      <td>1 year</td>\n",
       "      <td>Shetland Sheepdog Mix</td>\n",
       "      <td>Brown/White</td>\n",
       "    </tr>\n",
       "    <tr>\n",
       "      <th>1</th>\n",
       "      <td>A656520</td>\n",
       "      <td>Emily</td>\n",
       "      <td>2013-10-13 12:44:00</td>\n",
       "      <td>Euthanasia</td>\n",
       "      <td>Suffering</td>\n",
       "      <td>Cat</td>\n",
       "      <td>Spayed Female</td>\n",
       "      <td>1 year</td>\n",
       "      <td>Domestic Shorthair Mix</td>\n",
       "      <td>Cream Tabby</td>\n",
       "    </tr>\n",
       "    <tr>\n",
       "      <th>2</th>\n",
       "      <td>A686464</td>\n",
       "      <td>Pearce</td>\n",
       "      <td>2015-01-31 12:28:00</td>\n",
       "      <td>Adoption</td>\n",
       "      <td>Foster</td>\n",
       "      <td>Dog</td>\n",
       "      <td>Neutered Male</td>\n",
       "      <td>2 years</td>\n",
       "      <td>Pit Bull Mix</td>\n",
       "      <td>Blue/White</td>\n",
       "    </tr>\n",
       "    <tr>\n",
       "      <th>3</th>\n",
       "      <td>A683430</td>\n",
       "      <td>NaN</td>\n",
       "      <td>2014-07-11 19:09:00</td>\n",
       "      <td>Transfer</td>\n",
       "      <td>Partner</td>\n",
       "      <td>Cat</td>\n",
       "      <td>Intact Male</td>\n",
       "      <td>3 weeks</td>\n",
       "      <td>Domestic Shorthair Mix</td>\n",
       "      <td>Blue Cream</td>\n",
       "    </tr>\n",
       "    <tr>\n",
       "      <th>4</th>\n",
       "      <td>A667013</td>\n",
       "      <td>NaN</td>\n",
       "      <td>2013-11-15 12:52:00</td>\n",
       "      <td>Transfer</td>\n",
       "      <td>Partner</td>\n",
       "      <td>Dog</td>\n",
       "      <td>Neutered Male</td>\n",
       "      <td>2 years</td>\n",
       "      <td>Lhasa Apso/Miniature Poodle</td>\n",
       "      <td>Tan</td>\n",
       "    </tr>\n",
       "    <tr>\n",
       "      <th>5</th>\n",
       "      <td>A677334</td>\n",
       "      <td>Elsa</td>\n",
       "      <td>2014-04-25 13:04:00</td>\n",
       "      <td>Transfer</td>\n",
       "      <td>Partner</td>\n",
       "      <td>Dog</td>\n",
       "      <td>Intact Female</td>\n",
       "      <td>1 month</td>\n",
       "      <td>Cairn Terrier/Chihuahua Shorthair</td>\n",
       "      <td>Black/Tan</td>\n",
       "    </tr>\n",
       "    <tr>\n",
       "      <th>6</th>\n",
       "      <td>A699218</td>\n",
       "      <td>Jimmy</td>\n",
       "      <td>2015-03-28 13:11:00</td>\n",
       "      <td>Transfer</td>\n",
       "      <td>Partner</td>\n",
       "      <td>Cat</td>\n",
       "      <td>Intact Male</td>\n",
       "      <td>3 weeks</td>\n",
       "      <td>Domestic Shorthair Mix</td>\n",
       "      <td>Blue Tabby</td>\n",
       "    </tr>\n",
       "    <tr>\n",
       "      <th>7</th>\n",
       "      <td>A701489</td>\n",
       "      <td>NaN</td>\n",
       "      <td>2015-04-30 17:02:00</td>\n",
       "      <td>Transfer</td>\n",
       "      <td>Partner</td>\n",
       "      <td>Cat</td>\n",
       "      <td>Unknown</td>\n",
       "      <td>3 weeks</td>\n",
       "      <td>Domestic Shorthair Mix</td>\n",
       "      <td>Brown Tabby</td>\n",
       "    </tr>\n",
       "    <tr>\n",
       "      <th>8</th>\n",
       "      <td>A671784</td>\n",
       "      <td>Lucy</td>\n",
       "      <td>2014-02-04 17:17:00</td>\n",
       "      <td>Adoption</td>\n",
       "      <td>NaN</td>\n",
       "      <td>Dog</td>\n",
       "      <td>Spayed Female</td>\n",
       "      <td>5 months</td>\n",
       "      <td>American Pit Bull Terrier Mix</td>\n",
       "      <td>Red/White</td>\n",
       "    </tr>\n",
       "    <tr>\n",
       "      <th>9</th>\n",
       "      <td>A677747</td>\n",
       "      <td>NaN</td>\n",
       "      <td>2014-05-03 07:48:00</td>\n",
       "      <td>Adoption</td>\n",
       "      <td>Offsite</td>\n",
       "      <td>Dog</td>\n",
       "      <td>Spayed Female</td>\n",
       "      <td>1 year</td>\n",
       "      <td>Cairn Terrier</td>\n",
       "      <td>White</td>\n",
       "    </tr>\n",
       "  </tbody>\n",
       "</table>\n",
       "</div>"
      ],
      "text/plain": [
       "  AnimalID     Name             DateTime      OutcomeType OutcomeSubtype  \\\n",
       "0  A671945  Hambone  2014-02-12 18:22:00  Return_to_owner            NaN   \n",
       "1  A656520    Emily  2013-10-13 12:44:00       Euthanasia      Suffering   \n",
       "2  A686464   Pearce  2015-01-31 12:28:00         Adoption         Foster   \n",
       "3  A683430      NaN  2014-07-11 19:09:00         Transfer        Partner   \n",
       "4  A667013      NaN  2013-11-15 12:52:00         Transfer        Partner   \n",
       "5  A677334     Elsa  2014-04-25 13:04:00         Transfer        Partner   \n",
       "6  A699218    Jimmy  2015-03-28 13:11:00         Transfer        Partner   \n",
       "7  A701489      NaN  2015-04-30 17:02:00         Transfer        Partner   \n",
       "8  A671784     Lucy  2014-02-04 17:17:00         Adoption            NaN   \n",
       "9  A677747      NaN  2014-05-03 07:48:00         Adoption        Offsite   \n",
       "\n",
       "  AnimalType SexuponOutcome AgeuponOutcome                              Breed  \\\n",
       "0        Dog  Neutered Male         1 year              Shetland Sheepdog Mix   \n",
       "1        Cat  Spayed Female         1 year             Domestic Shorthair Mix   \n",
       "2        Dog  Neutered Male        2 years                       Pit Bull Mix   \n",
       "3        Cat    Intact Male        3 weeks             Domestic Shorthair Mix   \n",
       "4        Dog  Neutered Male        2 years        Lhasa Apso/Miniature Poodle   \n",
       "5        Dog  Intact Female        1 month  Cairn Terrier/Chihuahua Shorthair   \n",
       "6        Cat    Intact Male        3 weeks             Domestic Shorthair Mix   \n",
       "7        Cat        Unknown        3 weeks             Domestic Shorthair Mix   \n",
       "8        Dog  Spayed Female       5 months      American Pit Bull Terrier Mix   \n",
       "9        Dog  Spayed Female         1 year                      Cairn Terrier   \n",
       "\n",
       "         Color  \n",
       "0  Brown/White  \n",
       "1  Cream Tabby  \n",
       "2   Blue/White  \n",
       "3   Blue Cream  \n",
       "4          Tan  \n",
       "5    Black/Tan  \n",
       "6   Blue Tabby  \n",
       "7  Brown Tabby  \n",
       "8    Red/White  \n",
       "9        White  "
      ]
     },
     "execution_count": 2,
     "metadata": {},
     "output_type": "execute_result"
    }
   ],
   "source": [
    "dataurl = '/Users/dbricare/Documents/Python/datasets/shelter-outcomes/'\n",
    "df = pd.read_csv(dataurl+'train.csv', sep=',', encoding='utf-8')\n",
    "ly = list(df['OutcomeType'].unique())\n",
    "dy = dict(zip(ly,list(range(len(ly))))) \n",
    "sery = df['OutcomeType'].apply(lambda x: dy[x])\n",
    "df.head(10)"
   ]
  },
  {
   "cell_type": "code",
   "execution_count": 3,
   "metadata": {
    "collapsed": false
   },
   "outputs": [],
   "source": [
    "def sexfill(df):\n",
    "    df['SexuponOutcome'].fillna('Unknown', inplace=True)\n",
    "    assert(set(df['SexuponOutcome'])=={'Neutered Male', 'Spayed Female', 'Intact Male', 'Intact Female', \n",
    "                                       'Unknown'})\n",
    "    return df\n",
    "\n",
    "def convage(age):\n",
    "    dperiod = {'month': 30, 'year': 365, 'years': 365, 'day': 1, 'days': 1, 'weeks': 7, 'week': 7, 'months': 30}\n",
    "    if isinstance(age, float):\n",
    "        return age\n",
    "    else:\n",
    "        num = int(re.match('\\d+',age).group())\n",
    "        period = re.search('\\w+$', age).group()\n",
    "        return float(num*dperiod[period])\n",
    "\n",
    "def agedays(df, normalize=False):\n",
    "    Xcols = ['Name', 'AnimalType', 'SexuponOutcome', 'Breed', 'Color']\n",
    "    dfX = df[Xcols].fillna(value='NA', axis=1, inplace=False)\n",
    "    dfX['AgeDays'] = df['AgeuponOutcome'].apply(convage)\n",
    "    dfX['AgeDays'] = dfX['AgeDays'].fillna(value=dfX['AgeDays'].median(), inplace=False)\n",
    "    if normalize:\n",
    "        ss = StandardScaler(with_mean=False)\n",
    "        dfX['AgeDays'] = ss.fit_transform(dfX['AgeDays'].values.reshape(-1,1))\n",
    "    return dfX"
   ]
  },
  {
   "cell_type": "code",
   "execution_count": 4,
   "metadata": {
    "collapsed": false
   },
   "outputs": [
    {
     "data": {
      "text/html": [
       "<div>\n",
       "<table border=\"1\" class=\"dataframe\">\n",
       "  <thead>\n",
       "    <tr style=\"text-align: right;\">\n",
       "      <th></th>\n",
       "      <th>Name</th>\n",
       "      <th>AnimalType</th>\n",
       "      <th>SexuponOutcome</th>\n",
       "      <th>Breed</th>\n",
       "      <th>Color</th>\n",
       "      <th>AgeDays</th>\n",
       "    </tr>\n",
       "  </thead>\n",
       "  <tbody>\n",
       "    <tr>\n",
       "      <th>0</th>\n",
       "      <td>Hambone</td>\n",
       "      <td>Dog</td>\n",
       "      <td>Neutered Male</td>\n",
       "      <td>Shetland Sheepdog Mix</td>\n",
       "      <td>Brown/White</td>\n",
       "      <td>365.0</td>\n",
       "    </tr>\n",
       "    <tr>\n",
       "      <th>1</th>\n",
       "      <td>Emily</td>\n",
       "      <td>Cat</td>\n",
       "      <td>Spayed Female</td>\n",
       "      <td>Domestic Shorthair Mix</td>\n",
       "      <td>Cream Tabby</td>\n",
       "      <td>365.0</td>\n",
       "    </tr>\n",
       "    <tr>\n",
       "      <th>2</th>\n",
       "      <td>Pearce</td>\n",
       "      <td>Dog</td>\n",
       "      <td>Neutered Male</td>\n",
       "      <td>Pit Bull Mix</td>\n",
       "      <td>Blue/White</td>\n",
       "      <td>730.0</td>\n",
       "    </tr>\n",
       "    <tr>\n",
       "      <th>3</th>\n",
       "      <td>NA</td>\n",
       "      <td>Cat</td>\n",
       "      <td>Intact Male</td>\n",
       "      <td>Domestic Shorthair Mix</td>\n",
       "      <td>Blue Cream</td>\n",
       "      <td>21.0</td>\n",
       "    </tr>\n",
       "    <tr>\n",
       "      <th>4</th>\n",
       "      <td>NA</td>\n",
       "      <td>Dog</td>\n",
       "      <td>Neutered Male</td>\n",
       "      <td>Lhasa Apso/Miniature Poodle</td>\n",
       "      <td>Tan</td>\n",
       "      <td>730.0</td>\n",
       "    </tr>\n",
       "  </tbody>\n",
       "</table>\n",
       "</div>"
      ],
      "text/plain": [
       "      Name AnimalType SexuponOutcome                        Breed  \\\n",
       "0  Hambone        Dog  Neutered Male        Shetland Sheepdog Mix   \n",
       "1    Emily        Cat  Spayed Female       Domestic Shorthair Mix   \n",
       "2   Pearce        Dog  Neutered Male                 Pit Bull Mix   \n",
       "3       NA        Cat    Intact Male       Domestic Shorthair Mix   \n",
       "4       NA        Dog  Neutered Male  Lhasa Apso/Miniature Poodle   \n",
       "\n",
       "         Color  AgeDays  \n",
       "0  Brown/White    365.0  \n",
       "1  Cream Tabby    365.0  \n",
       "2   Blue/White    730.0  \n",
       "3   Blue Cream     21.0  \n",
       "4          Tan    730.0  "
      ]
     },
     "execution_count": 4,
     "metadata": {},
     "output_type": "execute_result"
    }
   ],
   "source": [
    "dfX = sexfill(df)\n",
    "dfX = agedays(dfX)\n",
    "dfX.head()"
   ]
  },
  {
   "cell_type": "code",
   "execution_count": 5,
   "metadata": {
    "collapsed": false
   },
   "outputs": [],
   "source": [
    "def colorextract(dfX):\n",
    "    dfX['Color'] = dfX['Color'].str.extract('^(\\w+)', expand=False)\n",
    "    return dfX"
   ]
  },
  {
   "cell_type": "code",
   "execution_count": 6,
   "metadata": {
    "collapsed": false
   },
   "outputs": [
    {
     "data": {
      "text/html": [
       "<div>\n",
       "<table border=\"1\" class=\"dataframe\">\n",
       "  <thead>\n",
       "    <tr style=\"text-align: right;\">\n",
       "      <th></th>\n",
       "      <th>Name</th>\n",
       "      <th>AnimalType</th>\n",
       "      <th>SexuponOutcome</th>\n",
       "      <th>Breed</th>\n",
       "      <th>Color</th>\n",
       "      <th>AgeDays</th>\n",
       "    </tr>\n",
       "  </thead>\n",
       "  <tbody>\n",
       "    <tr>\n",
       "      <th>0</th>\n",
       "      <td>Hambone</td>\n",
       "      <td>Dog</td>\n",
       "      <td>Neutered Male</td>\n",
       "      <td>Shetland Sheepdog Mix</td>\n",
       "      <td>Brown</td>\n",
       "      <td>365.0</td>\n",
       "    </tr>\n",
       "    <tr>\n",
       "      <th>1</th>\n",
       "      <td>Emily</td>\n",
       "      <td>Cat</td>\n",
       "      <td>Spayed Female</td>\n",
       "      <td>Domestic Shorthair Mix</td>\n",
       "      <td>Cream</td>\n",
       "      <td>365.0</td>\n",
       "    </tr>\n",
       "    <tr>\n",
       "      <th>2</th>\n",
       "      <td>Pearce</td>\n",
       "      <td>Dog</td>\n",
       "      <td>Neutered Male</td>\n",
       "      <td>Pit Bull Mix</td>\n",
       "      <td>Blue</td>\n",
       "      <td>730.0</td>\n",
       "    </tr>\n",
       "    <tr>\n",
       "      <th>3</th>\n",
       "      <td>NA</td>\n",
       "      <td>Cat</td>\n",
       "      <td>Intact Male</td>\n",
       "      <td>Domestic Shorthair Mix</td>\n",
       "      <td>Blue</td>\n",
       "      <td>21.0</td>\n",
       "    </tr>\n",
       "    <tr>\n",
       "      <th>4</th>\n",
       "      <td>NA</td>\n",
       "      <td>Dog</td>\n",
       "      <td>Neutered Male</td>\n",
       "      <td>Lhasa Apso/Miniature Poodle</td>\n",
       "      <td>Tan</td>\n",
       "      <td>730.0</td>\n",
       "    </tr>\n",
       "  </tbody>\n",
       "</table>\n",
       "</div>"
      ],
      "text/plain": [
       "      Name AnimalType SexuponOutcome                        Breed  Color  \\\n",
       "0  Hambone        Dog  Neutered Male        Shetland Sheepdog Mix  Brown   \n",
       "1    Emily        Cat  Spayed Female       Domestic Shorthair Mix  Cream   \n",
       "2   Pearce        Dog  Neutered Male                 Pit Bull Mix   Blue   \n",
       "3       NA        Cat    Intact Male       Domestic Shorthair Mix   Blue   \n",
       "4       NA        Dog  Neutered Male  Lhasa Apso/Miniature Poodle    Tan   \n",
       "\n",
       "   AgeDays  \n",
       "0    365.0  \n",
       "1    365.0  \n",
       "2    730.0  \n",
       "3     21.0  \n",
       "4    730.0  "
      ]
     },
     "execution_count": 6,
     "metadata": {},
     "output_type": "execute_result"
    }
   ],
   "source": [
    "dfX = colorextract(dfX)\n",
    "dfX.head()"
   ]
  },
  {
   "cell_type": "code",
   "execution_count": 7,
   "metadata": {
    "collapsed": false
   },
   "outputs": [
    {
     "data": {
      "text/html": [
       "<div>\n",
       "<table border=\"1\" class=\"dataframe\">\n",
       "  <thead>\n",
       "    <tr style=\"text-align: right;\">\n",
       "      <th></th>\n",
       "      <th>Name</th>\n",
       "      <th>AnimalType</th>\n",
       "      <th>SexuponOutcome</th>\n",
       "      <th>Breed</th>\n",
       "      <th>Color</th>\n",
       "      <th>AgeDays</th>\n",
       "    </tr>\n",
       "  </thead>\n",
       "  <tbody>\n",
       "    <tr>\n",
       "      <th>0</th>\n",
       "      <td>Hambone</td>\n",
       "      <td>Dog</td>\n",
       "      <td>Neutered Male</td>\n",
       "      <td>1</td>\n",
       "      <td>Brown</td>\n",
       "      <td>365.0</td>\n",
       "    </tr>\n",
       "    <tr>\n",
       "      <th>1</th>\n",
       "      <td>Emily</td>\n",
       "      <td>Cat</td>\n",
       "      <td>Spayed Female</td>\n",
       "      <td>1</td>\n",
       "      <td>Cream</td>\n",
       "      <td>365.0</td>\n",
       "    </tr>\n",
       "    <tr>\n",
       "      <th>2</th>\n",
       "      <td>Pearce</td>\n",
       "      <td>Dog</td>\n",
       "      <td>Neutered Male</td>\n",
       "      <td>1</td>\n",
       "      <td>Blue</td>\n",
       "      <td>730.0</td>\n",
       "    </tr>\n",
       "    <tr>\n",
       "      <th>3</th>\n",
       "      <td>NA</td>\n",
       "      <td>Cat</td>\n",
       "      <td>Intact Male</td>\n",
       "      <td>1</td>\n",
       "      <td>Blue</td>\n",
       "      <td>21.0</td>\n",
       "    </tr>\n",
       "    <tr>\n",
       "      <th>4</th>\n",
       "      <td>NA</td>\n",
       "      <td>Dog</td>\n",
       "      <td>Neutered Male</td>\n",
       "      <td>0</td>\n",
       "      <td>Tan</td>\n",
       "      <td>730.0</td>\n",
       "    </tr>\n",
       "    <tr>\n",
       "      <th>5</th>\n",
       "      <td>Elsa</td>\n",
       "      <td>Dog</td>\n",
       "      <td>Intact Female</td>\n",
       "      <td>0</td>\n",
       "      <td>Black</td>\n",
       "      <td>30.0</td>\n",
       "    </tr>\n",
       "    <tr>\n",
       "      <th>6</th>\n",
       "      <td>Jimmy</td>\n",
       "      <td>Cat</td>\n",
       "      <td>Intact Male</td>\n",
       "      <td>1</td>\n",
       "      <td>Blue</td>\n",
       "      <td>21.0</td>\n",
       "    </tr>\n",
       "    <tr>\n",
       "      <th>7</th>\n",
       "      <td>NA</td>\n",
       "      <td>Cat</td>\n",
       "      <td>Unknown</td>\n",
       "      <td>1</td>\n",
       "      <td>Brown</td>\n",
       "      <td>21.0</td>\n",
       "    </tr>\n",
       "    <tr>\n",
       "      <th>8</th>\n",
       "      <td>Lucy</td>\n",
       "      <td>Dog</td>\n",
       "      <td>Spayed Female</td>\n",
       "      <td>1</td>\n",
       "      <td>Red</td>\n",
       "      <td>150.0</td>\n",
       "    </tr>\n",
       "    <tr>\n",
       "      <th>9</th>\n",
       "      <td>NA</td>\n",
       "      <td>Dog</td>\n",
       "      <td>Spayed Female</td>\n",
       "      <td>1</td>\n",
       "      <td>White</td>\n",
       "      <td>365.0</td>\n",
       "    </tr>\n",
       "  </tbody>\n",
       "</table>\n",
       "</div>"
      ],
      "text/plain": [
       "      Name AnimalType SexuponOutcome  Breed  Color  AgeDays\n",
       "0  Hambone        Dog  Neutered Male      1  Brown    365.0\n",
       "1    Emily        Cat  Spayed Female      1  Cream    365.0\n",
       "2   Pearce        Dog  Neutered Male      1   Blue    730.0\n",
       "3       NA        Cat    Intact Male      1   Blue     21.0\n",
       "4       NA        Dog  Neutered Male      0    Tan    730.0\n",
       "5     Elsa        Dog  Intact Female      0  Black     30.0\n",
       "6    Jimmy        Cat    Intact Male      1   Blue     21.0\n",
       "7       NA        Cat        Unknown      1  Brown     21.0\n",
       "8     Lucy        Dog  Spayed Female      1    Red    150.0\n",
       "9       NA        Dog  Spayed Female      1  White    365.0"
      ]
     },
     "execution_count": 7,
     "metadata": {},
     "output_type": "execute_result"
    }
   ],
   "source": [
    "# Process breed, categories: pit and chihuahua, pit or mix, chihuahua or mix, purebreed, other mix\n",
    "# For both cats and dogs\n",
    "\n",
    "def breedconv(breed):\n",
    "    if 'pit bull' in breed and 'chihuahua' in breed:\n",
    "        return 4\n",
    "    elif 'pitbull' in breed:\n",
    "        return 3\n",
    "    elif 'chihuahua' in breed:\n",
    "        return 2\n",
    "    elif '/' not in breed and 'mix' not in breed:\n",
    "        return 1\n",
    "    else:\n",
    "        return 0\n",
    "    \n",
    "def breed(dfX):\n",
    "    dfX['Breed'] = dfX['Breed'].apply(breedconv)\n",
    "    return dfX\n",
    "\n",
    "dfX = breed(dfX)\n",
    "dfX.head(10)"
   ]
  },
  {
   "cell_type": "code",
   "execution_count": 8,
   "metadata": {
    "collapsed": false
   },
   "outputs": [
    {
     "data": {
      "text/html": [
       "<div>\n",
       "<table border=\"1\" class=\"dataframe\">\n",
       "  <thead>\n",
       "    <tr style=\"text-align: right;\">\n",
       "      <th></th>\n",
       "      <th>Name</th>\n",
       "      <th>AnimalType</th>\n",
       "      <th>SexuponOutcome</th>\n",
       "      <th>Breed</th>\n",
       "      <th>Color</th>\n",
       "      <th>AgeDays</th>\n",
       "    </tr>\n",
       "  </thead>\n",
       "  <tbody>\n",
       "    <tr>\n",
       "      <th>0</th>\n",
       "      <td>1</td>\n",
       "      <td>0</td>\n",
       "      <td>0</td>\n",
       "      <td>1</td>\n",
       "      <td>0</td>\n",
       "      <td>365.0</td>\n",
       "    </tr>\n",
       "    <tr>\n",
       "      <th>1</th>\n",
       "      <td>1</td>\n",
       "      <td>1</td>\n",
       "      <td>1</td>\n",
       "      <td>1</td>\n",
       "      <td>1</td>\n",
       "      <td>365.0</td>\n",
       "    </tr>\n",
       "    <tr>\n",
       "      <th>2</th>\n",
       "      <td>1</td>\n",
       "      <td>0</td>\n",
       "      <td>0</td>\n",
       "      <td>1</td>\n",
       "      <td>2</td>\n",
       "      <td>730.0</td>\n",
       "    </tr>\n",
       "    <tr>\n",
       "      <th>3</th>\n",
       "      <td>0</td>\n",
       "      <td>1</td>\n",
       "      <td>2</td>\n",
       "      <td>1</td>\n",
       "      <td>2</td>\n",
       "      <td>21.0</td>\n",
       "    </tr>\n",
       "    <tr>\n",
       "      <th>4</th>\n",
       "      <td>0</td>\n",
       "      <td>0</td>\n",
       "      <td>0</td>\n",
       "      <td>0</td>\n",
       "      <td>3</td>\n",
       "      <td>730.0</td>\n",
       "    </tr>\n",
       "  </tbody>\n",
       "</table>\n",
       "</div>"
      ],
      "text/plain": [
       "   Name  AnimalType  SexuponOutcome  Breed  Color  AgeDays\n",
       "0     1           0               0      1      0    365.0\n",
       "1     1           1               1      1      1    365.0\n",
       "2     1           0               0      1      2    730.0\n",
       "3     0           1               2      1      2     21.0\n",
       "4     0           0               0      0      3    730.0"
      ]
     },
     "execution_count": 8,
     "metadata": {},
     "output_type": "execute_result"
    }
   ],
   "source": [
    "def catconv(dfX, cols, first=False):\n",
    "    if first:\n",
    "        dohe = {}\n",
    "        for col in cols:\n",
    "            if col=='Name':\n",
    "                d = {'NA':0}\n",
    "                dohe[col] = d\n",
    "            else:\n",
    "                l = list(dfX[col].unique())\n",
    "                d = dict(zip(l,list(range(len(l))))) \n",
    "                dohe[col] = d\n",
    "            dfX[col] = dfX[col].apply(lambda x: d.get(x, 1))\n",
    "        return dfX, dohe\n",
    "    else:\n",
    "        for col in cols:\n",
    "            if col=='Name':\n",
    "                d = {'NA':0}\n",
    "            else:\n",
    "                l = list(dfX[col].unique())\n",
    "                d = dict(zip(l,list(range(len(l)))))\n",
    "            dfX[col] = dfX[col].apply(lambda x: d.get(x, 1))\n",
    "        return dfX\n",
    "\n",
    "dfX, dohe = catconv(dfX, ['Name', 'AnimalType', 'SexuponOutcome', 'Color'],first=True)\n",
    "dfX.head()"
   ]
  },
  {
   "cell_type": "code",
   "execution_count": 9,
   "metadata": {
    "collapsed": true
   },
   "outputs": [],
   "source": [
    "# Parse dates but do not include minutes\n",
    "\n",
    "def minconv(minute):\n",
    "    if minute==0:\n",
    "        return 0\n",
    "    else:\n",
    "        return 1\n",
    "\n",
    "def dtdf(dfX, df):\n",
    "    dfX['DateTime'] = pd.to_datetime(df['DateTime'], infer_datetime_format=True)\n",
    "    # Create features for year, month, day, dayofweek, hour, minute\n",
    "    dfX['Year'] = dfX['DateTime'].dt.year\n",
    "    dfX['Month'] = dfX['DateTime'].dt.month\n",
    "    dfX['WeekofYear'] = dfX['DateTime'].dt.weekofyear\n",
    "    dfX['DayofMonth'] = dfX['DateTime'].dt.day\n",
    "    dfX['DayofWeek'] = dfX['DateTime'].dt.dayofweek\n",
    "    dfX['Hour'] = dfX['DateTime'].dt.hour\n",
    "    dfX['Minute'] = dfX['DateTime'].dt.minute.apply(minconv)\n",
    "    dfX.drop('DateTime', axis=1, inplace=True)\n",
    "    return dfX"
   ]
  },
  {
   "cell_type": "code",
   "execution_count": 10,
   "metadata": {
    "collapsed": false,
    "scrolled": true
   },
   "outputs": [
    {
     "data": {
      "text/html": [
       "<div>\n",
       "<table border=\"1\" class=\"dataframe\">\n",
       "  <thead>\n",
       "    <tr style=\"text-align: right;\">\n",
       "      <th></th>\n",
       "      <th>Name</th>\n",
       "      <th>AnimalType</th>\n",
       "      <th>SexuponOutcome</th>\n",
       "      <th>Breed</th>\n",
       "      <th>Color</th>\n",
       "      <th>AgeDays</th>\n",
       "      <th>Year</th>\n",
       "      <th>Month</th>\n",
       "      <th>WeekofYear</th>\n",
       "      <th>DayofMonth</th>\n",
       "      <th>DayofWeek</th>\n",
       "      <th>Hour</th>\n",
       "      <th>Minute</th>\n",
       "    </tr>\n",
       "  </thead>\n",
       "  <tbody>\n",
       "    <tr>\n",
       "      <th>0</th>\n",
       "      <td>1</td>\n",
       "      <td>0</td>\n",
       "      <td>0</td>\n",
       "      <td>1</td>\n",
       "      <td>0</td>\n",
       "      <td>365.0</td>\n",
       "      <td>2014</td>\n",
       "      <td>2</td>\n",
       "      <td>7</td>\n",
       "      <td>12</td>\n",
       "      <td>2</td>\n",
       "      <td>18</td>\n",
       "      <td>1</td>\n",
       "    </tr>\n",
       "    <tr>\n",
       "      <th>1</th>\n",
       "      <td>1</td>\n",
       "      <td>1</td>\n",
       "      <td>1</td>\n",
       "      <td>1</td>\n",
       "      <td>1</td>\n",
       "      <td>365.0</td>\n",
       "      <td>2013</td>\n",
       "      <td>10</td>\n",
       "      <td>41</td>\n",
       "      <td>13</td>\n",
       "      <td>6</td>\n",
       "      <td>12</td>\n",
       "      <td>1</td>\n",
       "    </tr>\n",
       "    <tr>\n",
       "      <th>2</th>\n",
       "      <td>1</td>\n",
       "      <td>0</td>\n",
       "      <td>0</td>\n",
       "      <td>1</td>\n",
       "      <td>2</td>\n",
       "      <td>730.0</td>\n",
       "      <td>2015</td>\n",
       "      <td>1</td>\n",
       "      <td>5</td>\n",
       "      <td>31</td>\n",
       "      <td>5</td>\n",
       "      <td>12</td>\n",
       "      <td>1</td>\n",
       "    </tr>\n",
       "    <tr>\n",
       "      <th>3</th>\n",
       "      <td>0</td>\n",
       "      <td>1</td>\n",
       "      <td>2</td>\n",
       "      <td>1</td>\n",
       "      <td>2</td>\n",
       "      <td>21.0</td>\n",
       "      <td>2014</td>\n",
       "      <td>7</td>\n",
       "      <td>28</td>\n",
       "      <td>11</td>\n",
       "      <td>4</td>\n",
       "      <td>19</td>\n",
       "      <td>1</td>\n",
       "    </tr>\n",
       "    <tr>\n",
       "      <th>4</th>\n",
       "      <td>0</td>\n",
       "      <td>0</td>\n",
       "      <td>0</td>\n",
       "      <td>0</td>\n",
       "      <td>3</td>\n",
       "      <td>730.0</td>\n",
       "      <td>2013</td>\n",
       "      <td>11</td>\n",
       "      <td>46</td>\n",
       "      <td>15</td>\n",
       "      <td>4</td>\n",
       "      <td>12</td>\n",
       "      <td>1</td>\n",
       "    </tr>\n",
       "  </tbody>\n",
       "</table>\n",
       "</div>"
      ],
      "text/plain": [
       "   Name  AnimalType  SexuponOutcome  Breed  Color  AgeDays  Year  Month  \\\n",
       "0     1           0               0      1      0    365.0  2014      2   \n",
       "1     1           1               1      1      1    365.0  2013     10   \n",
       "2     1           0               0      1      2    730.0  2015      1   \n",
       "3     0           1               2      1      2     21.0  2014      7   \n",
       "4     0           0               0      0      3    730.0  2013     11   \n",
       "\n",
       "   WeekofYear  DayofMonth  DayofWeek  Hour  Minute  \n",
       "0           7          12          2    18       1  \n",
       "1          41          13          6    12       1  \n",
       "2           5          31          5    12       1  \n",
       "3          28          11          4    19       1  \n",
       "4          46          15          4    12       1  "
      ]
     },
     "execution_count": 10,
     "metadata": {},
     "output_type": "execute_result"
    }
   ],
   "source": [
    "dfX = dtdf(dfX, df)\n",
    "dfX.head()"
   ]
  },
  {
   "cell_type": "markdown",
   "metadata": {},
   "source": [
    "## Random forest with one hot encoding"
   ]
  },
  {
   "cell_type": "code",
   "execution_count": 55,
   "metadata": {
    "collapsed": false
   },
   "outputs": [
    {
     "data": {
      "text/plain": [
       "<26729x164 sparse matrix of type '<class 'numpy.float64'>'\n",
       "\twith 293997 stored elements in COOrdinate format>"
      ]
     },
     "execution_count": 55,
     "metadata": {},
     "output_type": "execute_result"
    }
   ],
   "source": [
    "# Convert integer-identified categories into one-hot encodings\n",
    "from sklearn.preprocessing import OneHotEncoder\n",
    "\n",
    "ohe = OneHotEncoder(categorical_features=np.array([1,1,1,1,0,1,1,1,1,1,1],dtype='bool'))\n",
    "dfintX = ohe.fit_transform(dfX)\n",
    "dfintX"
   ]
  },
  {
   "cell_type": "code",
   "execution_count": 56,
   "metadata": {
    "collapsed": false
   },
   "outputs": [],
   "source": [
    "# Divide dataset into train and test\n",
    "\n",
    "# sss = StratifiedShuffleSplit(sery, test_size=0.25, random_state=42, n_iter=1)\n",
    "# for train_index, test_index in sss:\n",
    "#     X_train, X_test = dfintX.todense()[train_index], dfintX.todense()[test_index]\n",
    "#     y_train, y_test = sery.iloc[train_index], sery.iloc[test_index]"
   ]
  },
  {
   "cell_type": "code",
   "execution_count": 57,
   "metadata": {
    "collapsed": false
   },
   "outputs": [
    {
     "data": {
      "text/plain": [
       "[mean: -1.18332, std: 0.00541, params: {'n_estimators': 50, 'max_depth': 8},\n",
       " mean: -1.18332, std: 0.00165, params: {'n_estimators': 100, 'max_depth': 8},\n",
       " mean: -1.18409, std: 0.00108, params: {'n_estimators': 200, 'max_depth': 8},\n",
       " mean: -0.93533, std: 0.00564, params: {'n_estimators': 50, 'max_depth': 16},\n",
       " mean: -0.93144, std: 0.00241, params: {'n_estimators': 100, 'max_depth': 16},\n",
       " mean: -0.93140, std: 0.00268, params: {'n_estimators': 200, 'max_depth': 16},\n",
       " mean: -0.88226, std: 0.01283, params: {'n_estimators': 50, 'max_depth': 32},\n",
       " mean: -0.83445, std: 0.01778, params: {'n_estimators': 100, 'max_depth': 32},\n",
       " mean: -0.81492, std: 0.01452, params: {'n_estimators': 200, 'max_depth': 32}]"
      ]
     },
     "execution_count": 57,
     "metadata": {},
     "output_type": "execute_result"
    }
   ],
   "source": [
    "# Use gridsearch to find best parameters minus held out data\n",
    "\n",
    "params = {'n_estimators' : [50,100,200], 'max_depth' : [8,16,32]}\n",
    "\n",
    "clf = RandomForestClassifier(max_features='sqrt',\n",
    "                             n_jobs=3, class_weight='balanced', random_state=42)\n",
    "\n",
    "grid = GridSearchCV(clf, param_grid=params, cv=3, scoring='log_loss')\n",
    "grid.fit(dfintX, sery)\n",
    "\n",
    "grid.grid_scores_"
   ]
  },
  {
   "cell_type": "markdown",
   "metadata": {},
   "source": [
    "**Make prediction**"
   ]
  },
  {
   "cell_type": "code",
   "execution_count": 58,
   "metadata": {
    "collapsed": true
   },
   "outputs": [],
   "source": [
    "# Chain of functions to format data (agedays, breedconv, catconv, dtdf, ohe)\n",
    "\n",
    "def testconv(df):\n",
    "    dfX = agedays(df)\n",
    "    dfX = sexfill(dfX)\n",
    "    dfX = colorextract(dfX)\n",
    "    dfX = breed(dfX)\n",
    "    dfX = catconv(dfX, ['Name', 'AnimalType', 'SexuponOutcome', 'Color'])\n",
    "    dfX = dtdf(dfX, df)\n",
    "    return dfX"
   ]
  },
  {
   "cell_type": "code",
   "execution_count": 59,
   "metadata": {
    "collapsed": false
   },
   "outputs": [],
   "source": [
    "# Load test data and format\n",
    "\n",
    "dftest = pd.read_csv(dataurl+'test.csv', sep=',', encoding='utf-8')\n",
    "dfXtest = testconv(dftest)\n",
    "dfXtest.drop('Year', axis=1, inplace=True)\n",
    "dfXtest.drop('Breed', axis=1, inplace=True)\n",
    "dfintXtest = ohe.transform(dfXtest).toarray()"
   ]
  },
  {
   "cell_type": "code",
   "execution_count": 62,
   "metadata": {
    "collapsed": false
   },
   "outputs": [
    {
     "data": {
      "text/html": [
       "<div>\n",
       "<table border=\"1\" class=\"dataframe\">\n",
       "  <thead>\n",
       "    <tr style=\"text-align: right;\">\n",
       "      <th></th>\n",
       "      <th>ID</th>\n",
       "      <th>Adoption</th>\n",
       "      <th>Died</th>\n",
       "      <th>Euthanasia</th>\n",
       "      <th>Return_to_owner</th>\n",
       "      <th>Transfer</th>\n",
       "    </tr>\n",
       "  </thead>\n",
       "  <tbody>\n",
       "    <tr>\n",
       "      <th>0</th>\n",
       "      <td>1</td>\n",
       "      <td>0.414607</td>\n",
       "      <td>0.000000</td>\n",
       "      <td>0.026537</td>\n",
       "      <td>0.222796</td>\n",
       "      <td>0.336060</td>\n",
       "    </tr>\n",
       "    <tr>\n",
       "      <th>1</th>\n",
       "      <td>2</td>\n",
       "      <td>0.583223</td>\n",
       "      <td>0.005000</td>\n",
       "      <td>0.012442</td>\n",
       "      <td>0.340294</td>\n",
       "      <td>0.059042</td>\n",
       "    </tr>\n",
       "    <tr>\n",
       "      <th>2</th>\n",
       "      <td>3</td>\n",
       "      <td>0.209000</td>\n",
       "      <td>0.010000</td>\n",
       "      <td>0.055510</td>\n",
       "      <td>0.097462</td>\n",
       "      <td>0.628027</td>\n",
       "    </tr>\n",
       "    <tr>\n",
       "      <th>3</th>\n",
       "      <td>4</td>\n",
       "      <td>0.154348</td>\n",
       "      <td>0.000000</td>\n",
       "      <td>0.024720</td>\n",
       "      <td>0.248839</td>\n",
       "      <td>0.572093</td>\n",
       "    </tr>\n",
       "    <tr>\n",
       "      <th>4</th>\n",
       "      <td>5</td>\n",
       "      <td>0.042624</td>\n",
       "      <td>0.000181</td>\n",
       "      <td>0.347095</td>\n",
       "      <td>0.492059</td>\n",
       "      <td>0.118041</td>\n",
       "    </tr>\n",
       "  </tbody>\n",
       "</table>\n",
       "</div>"
      ],
      "text/plain": [
       "   ID  Adoption      Died  Euthanasia  Return_to_owner  Transfer\n",
       "0   1  0.414607  0.000000    0.026537         0.222796  0.336060\n",
       "1   2  0.583223  0.005000    0.012442         0.340294  0.059042\n",
       "2   3  0.209000  0.010000    0.055510         0.097462  0.628027\n",
       "3   4  0.154348  0.000000    0.024720         0.248839  0.572093\n",
       "4   5  0.042624  0.000181    0.347095         0.492059  0.118041"
      ]
     },
     "execution_count": 62,
     "metadata": {},
     "output_type": "execute_result"
    }
   ],
   "source": [
    "# Calculate probabilities and save\n",
    "\n",
    "clf.set_params(**grid.best_params_)\n",
    "# clf.set_params(n_estimators=200, max_depth=32)\n",
    "clf.fit(dfintX, sery)\n",
    "\n",
    "yprob = clf.predict_proba(dfintXtest)\n",
    "\n",
    "dyrev = {item[1]: item[0] for item in dy.items()}\n",
    "dfres = pd.concat([dftest['ID'],pd.DataFrame(yprob)], axis=1)\n",
    "dfres.columns = [dyrev.get(col, col) for col in dfres.columns]\n",
    "dfres = dfres[['ID', 'Adoption', 'Died', 'Euthanasia', 'Return_to_owner', 'Transfer']]\n",
    "dfres.to_csv('submission10.csv', sep=',', encoding='utf-8', index=False)\n",
    "\n",
    "dfres.head()"
   ]
  },
  {
   "cell_type": "markdown",
   "metadata": {},
   "source": [
    "## Repeat without one hot encoding"
   ]
  },
  {
   "cell_type": "code",
   "execution_count": 19,
   "metadata": {
    "collapsed": true
   },
   "outputs": [],
   "source": [
    "from sklearn.cross_validation import StratifiedShuffleSplit\n",
    "from sklearn.ensemble import RandomForestClassifier\n",
    "from sklearn.grid_search import GridSearchCV\n",
    "from sklearn.metrics import log_loss, classification_report"
   ]
  },
  {
   "cell_type": "code",
   "execution_count": 48,
   "metadata": {
    "collapsed": false
   },
   "outputs": [
    {
     "data": {
      "text/html": [
       "<div>\n",
       "<table border=\"1\" class=\"dataframe\">\n",
       "  <thead>\n",
       "    <tr style=\"text-align: right;\">\n",
       "      <th></th>\n",
       "      <th>Name</th>\n",
       "      <th>AnimalType</th>\n",
       "      <th>SexuponOutcome</th>\n",
       "      <th>Color</th>\n",
       "      <th>AgeDays</th>\n",
       "      <th>Month</th>\n",
       "      <th>WeekofYear</th>\n",
       "      <th>DayofMonth</th>\n",
       "      <th>DayofWeek</th>\n",
       "      <th>Hour</th>\n",
       "      <th>Minute</th>\n",
       "    </tr>\n",
       "  </thead>\n",
       "  <tbody>\n",
       "    <tr>\n",
       "      <th>0</th>\n",
       "      <td>1</td>\n",
       "      <td>0</td>\n",
       "      <td>0</td>\n",
       "      <td>0</td>\n",
       "      <td>365.0</td>\n",
       "      <td>2</td>\n",
       "      <td>7</td>\n",
       "      <td>12</td>\n",
       "      <td>2</td>\n",
       "      <td>18</td>\n",
       "      <td>1</td>\n",
       "    </tr>\n",
       "    <tr>\n",
       "      <th>1</th>\n",
       "      <td>1</td>\n",
       "      <td>1</td>\n",
       "      <td>1</td>\n",
       "      <td>1</td>\n",
       "      <td>365.0</td>\n",
       "      <td>10</td>\n",
       "      <td>41</td>\n",
       "      <td>13</td>\n",
       "      <td>6</td>\n",
       "      <td>12</td>\n",
       "      <td>1</td>\n",
       "    </tr>\n",
       "    <tr>\n",
       "      <th>2</th>\n",
       "      <td>1</td>\n",
       "      <td>0</td>\n",
       "      <td>0</td>\n",
       "      <td>2</td>\n",
       "      <td>730.0</td>\n",
       "      <td>1</td>\n",
       "      <td>5</td>\n",
       "      <td>31</td>\n",
       "      <td>5</td>\n",
       "      <td>12</td>\n",
       "      <td>1</td>\n",
       "    </tr>\n",
       "    <tr>\n",
       "      <th>3</th>\n",
       "      <td>0</td>\n",
       "      <td>1</td>\n",
       "      <td>2</td>\n",
       "      <td>2</td>\n",
       "      <td>21.0</td>\n",
       "      <td>7</td>\n",
       "      <td>28</td>\n",
       "      <td>11</td>\n",
       "      <td>4</td>\n",
       "      <td>19</td>\n",
       "      <td>1</td>\n",
       "    </tr>\n",
       "    <tr>\n",
       "      <th>4</th>\n",
       "      <td>0</td>\n",
       "      <td>0</td>\n",
       "      <td>0</td>\n",
       "      <td>3</td>\n",
       "      <td>730.0</td>\n",
       "      <td>11</td>\n",
       "      <td>46</td>\n",
       "      <td>15</td>\n",
       "      <td>4</td>\n",
       "      <td>12</td>\n",
       "      <td>1</td>\n",
       "    </tr>\n",
       "  </tbody>\n",
       "</table>\n",
       "</div>"
      ],
      "text/plain": [
       "   Name  AnimalType  SexuponOutcome  Color  AgeDays  Month  WeekofYear  \\\n",
       "0     1           0               0      0    365.0      2           7   \n",
       "1     1           1               1      1    365.0     10          41   \n",
       "2     1           0               0      2    730.0      1           5   \n",
       "3     0           1               2      2     21.0      7          28   \n",
       "4     0           0               0      3    730.0     11          46   \n",
       "\n",
       "   DayofMonth  DayofWeek  Hour  Minute  \n",
       "0          12          2    18       1  \n",
       "1          13          6    12       1  \n",
       "2          31          5    12       1  \n",
       "3          11          4    19       1  \n",
       "4          15          4    12       1  "
      ]
     },
     "execution_count": 48,
     "metadata": {},
     "output_type": "execute_result"
    }
   ],
   "source": [
    "# Chain of functions to format data (agedays, breedconv, catconv, dtdf, ohe)\n",
    "\n",
    "def testconv(df):\n",
    "    dfX = agedays(df)\n",
    "    dfX = colorextract(dfX)\n",
    "    dfX = breed(dfX)\n",
    "    dfX = catconv(dfX, ['Name', 'AnimalType', 'SexuponOutcome', 'Color'])\n",
    "    dfX = dtdf(dfX, df)\n",
    "    return dfX\n",
    "\n",
    "dfX = testconv(df)\n",
    "dfX.drop('Year', axis=1, inplace=True)\n",
    "dfX.drop('Breed', axis=1, inplace=True)\n",
    "dfX.head()"
   ]
  },
  {
   "cell_type": "code",
   "execution_count": 49,
   "metadata": {
    "collapsed": false
   },
   "outputs": [],
   "source": [
    "# Divide dataset into train and test\n",
    "\n",
    "\n",
    "sss = StratifiedShuffleSplit(sery, test_size=0.25, random_state=42, n_iter=1)\n",
    "for train_index, test_index in sss:\n",
    "    X_train, X_test = dfX.iloc[train_index], dfX.iloc[test_index]\n",
    "    y_train, y_test = sery.iloc[train_index], sery.iloc[test_index]"
   ]
  },
  {
   "cell_type": "code",
   "execution_count": 50,
   "metadata": {
    "collapsed": false
   },
   "outputs": [
    {
     "name": "stdout",
     "output_type": "stream",
     "text": [
      "{'n_estimators': 200, 'max_depth': 16} -0.813701375835\n"
     ]
    },
    {
     "data": {
      "text/plain": [
       "[mean: -0.94538, std: 0.00558, params: {'n_estimators': 50, 'max_depth': 8},\n",
       " mean: -0.94394, std: 0.00502, params: {'n_estimators': 100, 'max_depth': 8},\n",
       " mean: -0.94431, std: 0.00441, params: {'n_estimators': 200, 'max_depth': 8},\n",
       " mean: -0.87885, std: 0.00483, params: {'n_estimators': 50, 'max_depth': 16},\n",
       " mean: -0.83308, std: 0.01875, params: {'n_estimators': 100, 'max_depth': 16},\n",
       " mean: -0.81370, std: 0.00813, params: {'n_estimators': 200, 'max_depth': 16},\n",
       " mean: -1.08496, std: 0.02737, params: {'n_estimators': 50, 'max_depth': 32},\n",
       " mean: -0.92444, std: 0.01793, params: {'n_estimators': 100, 'max_depth': 32},\n",
       " mean: -0.85819, std: 0.01838, params: {'n_estimators': 200, 'max_depth': 32}]"
      ]
     },
     "execution_count": 50,
     "metadata": {},
     "output_type": "execute_result"
    }
   ],
   "source": [
    "# Use gridsearch to find best parameters minus held out data\n",
    "\n",
    "\n",
    "params = {'n_estimators' : [50,100,200], 'max_depth' : [8,16,32]}\n",
    "\n",
    "clf = RandomForestClassifier(max_features='sqrt',\n",
    "                             n_jobs=3, class_weight='balanced', random_state=42)\n",
    "\n",
    "grid = GridSearchCV(clf, param_grid=params, cv=3, scoring='log_loss')\n",
    "grid.fit(X_train, y_train)\n",
    "\n",
    "print(grid.best_params_, grid.best_score_)\n",
    "grid.grid_scores_"
   ]
  },
  {
   "cell_type": "code",
   "execution_count": 51,
   "metadata": {
    "collapsed": false
   },
   "outputs": [
    {
     "name": "stdout",
     "output_type": "stream",
     "text": [
      "0.847430776362\n"
     ]
    }
   ],
   "source": [
    "# Evaluate model performance on test data\n",
    "\n",
    "ypred = grid.predict_proba(X_test)\n",
    "print(log_loss(y_test, ypred))\n",
    "# print(classification_report(y_test, grid.predict(X_test)))\n",
    "\n",
    "# print(np.unique(y_test), np.unique(grid.predict(X_test)))"
   ]
  },
  {
   "cell_type": "code",
   "execution_count": 52,
   "metadata": {
    "collapsed": false
   },
   "outputs": [],
   "source": [
    "# Train on whole dataset with best params from cv\n",
    "\n",
    "clf.set_params(**grid.best_params_)\n",
    "_ = clf.fit(dfX, sery)"
   ]
  },
  {
   "cell_type": "code",
   "execution_count": 53,
   "metadata": {
    "collapsed": false,
    "scrolled": true
   },
   "outputs": [
    {
     "data": {
      "image/png": "[encoded data removed]",
      "text/plain": [
       "<matplotlib.figure.Figure at 0x12c9fbc18>"
      ]
     },
     "metadata": {},
     "output_type": "display_data"
    }
   ],
   "source": [
    "sns.set(font_scale=1.5)\n",
    "serfeatures = pd.Series(clf.feature_importances_, index=dfX.columns).sort_values(ascending=True)\n",
    "_ = serfeatures.plot(kind='barh')\n",
    "_ = plt.title('Relative Feature Importance')"
   ]
  },
  {
   "cell_type": "markdown",
   "metadata": {
    "collapsed": true
   },
   "source": [
    "**Make prediction**"
   ]
  },
  {
   "cell_type": "code",
   "execution_count": 54,
   "metadata": {
    "collapsed": false
   },
   "outputs": [
    {
     "data": {
      "text/html": [
       "<div>\n",
       "<table border=\"1\" class=\"dataframe\">\n",
       "  <thead>\n",
       "    <tr style=\"text-align: right;\">\n",
       "      <th></th>\n",
       "      <th>ID</th>\n",
       "      <th>Adoption</th>\n",
       "      <th>Died</th>\n",
       "      <th>Euthanasia</th>\n",
       "      <th>Return_to_owner</th>\n",
       "      <th>Transfer</th>\n",
       "    </tr>\n",
       "  </thead>\n",
       "  <tbody>\n",
       "    <tr>\n",
       "      <th>0</th>\n",
       "      <td>1</td>\n",
       "      <td>0.298755</td>\n",
       "      <td>0.000000</td>\n",
       "      <td>0.024009</td>\n",
       "      <td>0.169527</td>\n",
       "      <td>0.507710</td>\n",
       "    </tr>\n",
       "    <tr>\n",
       "      <th>1</th>\n",
       "      <td>2</td>\n",
       "      <td>0.624871</td>\n",
       "      <td>0.011751</td>\n",
       "      <td>0.024026</td>\n",
       "      <td>0.292370</td>\n",
       "      <td>0.046982</td>\n",
       "    </tr>\n",
       "    <tr>\n",
       "      <th>2</th>\n",
       "      <td>3</td>\n",
       "      <td>0.073845</td>\n",
       "      <td>0.005000</td>\n",
       "      <td>0.234779</td>\n",
       "      <td>0.072963</td>\n",
       "      <td>0.613413</td>\n",
       "    </tr>\n",
       "    <tr>\n",
       "      <th>3</th>\n",
       "      <td>4</td>\n",
       "      <td>0.141651</td>\n",
       "      <td>0.000000</td>\n",
       "      <td>0.030606</td>\n",
       "      <td>0.232249</td>\n",
       "      <td>0.595494</td>\n",
       "    </tr>\n",
       "    <tr>\n",
       "      <th>4</th>\n",
       "      <td>5</td>\n",
       "      <td>0.020135</td>\n",
       "      <td>0.000000</td>\n",
       "      <td>0.453558</td>\n",
       "      <td>0.365430</td>\n",
       "      <td>0.160877</td>\n",
       "    </tr>\n",
       "  </tbody>\n",
       "</table>\n",
       "</div>"
      ],
      "text/plain": [
       "   ID  Adoption      Died  Euthanasia  Return_to_owner  Transfer\n",
       "0   1  0.298755  0.000000    0.024009         0.169527  0.507710\n",
       "1   2  0.624871  0.011751    0.024026         0.292370  0.046982\n",
       "2   3  0.073845  0.005000    0.234779         0.072963  0.613413\n",
       "3   4  0.141651  0.000000    0.030606         0.232249  0.595494\n",
       "4   5  0.020135  0.000000    0.453558         0.365430  0.160877"
      ]
     },
     "execution_count": 54,
     "metadata": {},
     "output_type": "execute_result"
    }
   ],
   "source": [
    "# Load test data and format \n",
    "\n",
    "dftest = pd.read_csv(dataurl+'test.csv', sep=',', encoding='utf-8')\n",
    "dfXtest = testconv(dftest)\n",
    "dfXtest.drop('Year', axis=1, inplace=True)\n",
    "dfXtest.drop('Breed', axis=1, inplace=True)\n",
    "\n",
    "# Calculate probabilities and output\n",
    "yprob = clf.predict_proba(dfXtest)\n",
    "\n",
    "dyrev = {item[1]: item[0] for item in dy.items()}\n",
    "dfres = pd.concat([dftest['ID'],pd.DataFrame(yprob)], axis=1)\n",
    "dfres.columns = [dyrev.get(col, col) for col in dfres.columns]\n",
    "dfres = dfres[['ID', 'Adoption', 'Died', 'Euthanasia', 'Return_to_owner', 'Transfer']]\n",
    "dfres.to_csv('submission09.csv', sep=',', encoding='utf-8', index=False)\n",
    "\n",
    "dfres.head()"
   ]
  },
  {
   "cell_type": "markdown",
   "metadata": {},
   "source": [
    "## Use gradient/ada boosting and no encoding"
   ]
  },
  {
   "cell_type": "code",
   "execution_count": 83,
   "metadata": {
    "collapsed": true
   },
   "outputs": [],
   "source": [
    "from sklearn.ensemble import GradientBoostingClassifier, AdaBoostClassifier, ExtraTreesClassifier\n",
    "from sklearn.tree import DecisionTreeClassifier\n",
    "from sklearn.grid_search import GridSearchCV"
   ]
  },
  {
   "cell_type": "code",
   "execution_count": 86,
   "metadata": {
    "collapsed": false,
    "scrolled": true
   },
   "outputs": [
    {
     "name": "stdout",
     "output_type": "stream",
     "text": [
      "{'max_depth': 16, 'n_estimators': 400}\n"
     ]
    },
    {
     "data": {
      "text/plain": [
       "[mean: -0.79044, std: 0.00909, params: {'max_depth': 16, 'n_estimators': 200},\n",
       " mean: -0.78782, std: 0.00752, params: {'max_depth': 16, 'n_estimators': 300},\n",
       " mean: -0.78655, std: 0.00677, params: {'max_depth': 16, 'n_estimators': 400}]"
      ]
     },
     "execution_count": 86,
     "metadata": {},
     "output_type": "execute_result"
    }
   ],
   "source": [
    "# Use grid search to find best parameters\n",
    "\n",
    "params = {'n_estimators' : [200,300,400], 'max_depth' : [16]}\n",
    "\n",
    "# clf = AdaBoostClassifier(DecisionTreeClassifier(max_depth=4), random_state=42)\n",
    "clf = ExtraTreesClassifier(max_features='auto', random_state=42)\n",
    "\n",
    "grid = GridSearchCV(clf, param_grid=params, n_jobs=3, cv=3, scoring='log_loss')\n",
    "grid.fit(dfX, sery)\n",
    "\n",
    "print(grid.best_params_)\n",
    "grid.grid_scores_"
   ]
  },
  {
   "cell_type": "code",
   "execution_count": 73,
   "metadata": {
    "collapsed": false
   },
   "outputs": [
    {
     "data": {
      "text/html": [
       "<div>\n",
       "<table border=\"1\" class=\"dataframe\">\n",
       "  <thead>\n",
       "    <tr style=\"text-align: right;\">\n",
       "      <th></th>\n",
       "      <th>ID</th>\n",
       "      <th>Adoption</th>\n",
       "      <th>Died</th>\n",
       "      <th>Euthanasia</th>\n",
       "      <th>Return_to_owner</th>\n",
       "      <th>Transfer</th>\n",
       "    </tr>\n",
       "  </thead>\n",
       "  <tbody>\n",
       "    <tr>\n",
       "      <th>0</th>\n",
       "      <td>1</td>\n",
       "      <td>0.389857</td>\n",
       "      <td>0.003331</td>\n",
       "      <td>0.014568</td>\n",
       "      <td>0.117467</td>\n",
       "      <td>0.474776</td>\n",
       "    </tr>\n",
       "    <tr>\n",
       "      <th>1</th>\n",
       "      <td>2</td>\n",
       "      <td>0.756915</td>\n",
       "      <td>0.002760</td>\n",
       "      <td>0.015764</td>\n",
       "      <td>0.176675</td>\n",
       "      <td>0.047887</td>\n",
       "    </tr>\n",
       "    <tr>\n",
       "      <th>2</th>\n",
       "      <td>3</td>\n",
       "      <td>0.042842</td>\n",
       "      <td>0.004040</td>\n",
       "      <td>0.075030</td>\n",
       "      <td>0.093553</td>\n",
       "      <td>0.784535</td>\n",
       "    </tr>\n",
       "    <tr>\n",
       "      <th>3</th>\n",
       "      <td>4</td>\n",
       "      <td>0.407859</td>\n",
       "      <td>0.008300</td>\n",
       "      <td>0.034863</td>\n",
       "      <td>0.171480</td>\n",
       "      <td>0.377498</td>\n",
       "    </tr>\n",
       "    <tr>\n",
       "      <th>4</th>\n",
       "      <td>5</td>\n",
       "      <td>0.027890</td>\n",
       "      <td>0.004193</td>\n",
       "      <td>0.101097</td>\n",
       "      <td>0.683463</td>\n",
       "      <td>0.183358</td>\n",
       "    </tr>\n",
       "  </tbody>\n",
       "</table>\n",
       "</div>"
      ],
      "text/plain": [
       "   ID  Adoption      Died  Euthanasia  Return_to_owner  Transfer\n",
       "0   1  0.389857  0.003331    0.014568         0.117467  0.474776\n",
       "1   2  0.756915  0.002760    0.015764         0.176675  0.047887\n",
       "2   3  0.042842  0.004040    0.075030         0.093553  0.784535\n",
       "3   4  0.407859  0.008300    0.034863         0.171480  0.377498\n",
       "4   5  0.027890  0.004193    0.101097         0.683463  0.183358"
      ]
     },
     "execution_count": 73,
     "metadata": {},
     "output_type": "execute_result"
    }
   ],
   "source": [
    "# Load test data and format \n",
    "\n",
    "dftest = pd.read_csv(dataurl+'test.csv', sep=',', encoding='utf-8')\n",
    "dfXtest = testconv(dftest)\n",
    "\n",
    "# Calculate probabilities and output\n",
    "yprob = grid.predict_proba(dfXtest)\n",
    "\n",
    "dyrev = {item[1]: item[0] for item in dy.items()}\n",
    "dfres = pd.concat([dftest['ID'],pd.DataFrame(yprob)], axis=1)\n",
    "dfres.columns = [dyrev.get(col, col) for col in dfres.columns]\n",
    "dfres = dfres[['ID', 'Adoption', 'Died', 'Euthanasia', 'Return_to_owner', 'Transfer']]\n",
    "dfres.to_csv('submission08.csv', sep=',', encoding='utf-8', index=False)\n",
    "\n",
    "dfres.head()"
   ]
  },
  {
   "cell_type": "markdown",
   "metadata": {},
   "source": [
    "## SVM classifier"
   ]
  },
  {
   "cell_type": "code",
   "execution_count": 3,
   "metadata": {
    "collapsed": true
   },
   "outputs": [],
   "source": [
    "from sklearn.grid_search import GridSearchCV\n",
    "from sklearn.svm import SVC"
   ]
  },
  {
   "cell_type": "code",
   "execution_count": null,
   "metadata": {
    "collapsed": false,
    "scrolled": true
   },
   "outputs": [],
   "source": [
    "params = {'C': [0.01, 0.1, 1, 10, 100, 1000]}\n",
    "\n",
    "clf = SVC(class_weight='balanced', kernel='linear', probability=False, random_state=42)\n",
    "\n",
    "# grid = GridSearchCV(clf, param_grid=params, cv=3, scoring='log_loss', n_jobs=3)\n",
    "clf.fit(dfX[:100], sery[:100])\n",
    "\n",
    "# print(grid.best_params_, grid.best_score_)"
   ]
  },
  {
   "cell_type": "markdown",
   "metadata": {},
   "source": [
    "___\n",
    "## Label encoder and get dummies\n",
    "___"
   ]
  },
  {
   "cell_type": "code",
   "execution_count": 63,
   "metadata": {
    "collapsed": true
   },
   "outputs": [],
   "source": [
    "from sklearn.preprocessing import LabelEncoder"
   ]
  },
  {
   "cell_type": "code",
   "execution_count": 169,
   "metadata": {
    "collapsed": false
   },
   "outputs": [],
   "source": [
    "def convage(age):\n",
    "    dperiod = {'month': 30, 'year': 365, 'years': 365, 'day': 1, 'days': 1, 'weeks': 7, 'week': 7, 'months': 30}\n",
    "    if isinstance(age, float):\n",
    "        return age\n",
    "    else:\n",
    "        num = int(re.match('\\d+',age).group())\n",
    "        period = re.search('\\w+$', age).group()\n",
    "        return float(num*dperiod[period])\n",
    "    \n",
    "# def breedconv(breed):\n",
    "#     if 'pit bull' in breed and 'chihuahua' in breed:\n",
    "#         return 4\n",
    "#     elif 'pitbull' in breed:\n",
    "#         return 3\n",
    "#     elif 'chihuahua' in breed:\n",
    "#         return 2\n",
    "#     elif '/' not in breed and 'mix' not in breed:\n",
    "#         return 1\n",
    "#     else:\n",
    "#         return 0\n",
    "\n",
    "def readdata(trainortest):\n",
    "    assert(trainortest == 'train' or trainortest == 'test')\n",
    "    dataurl = '/Users/dbricare/Documents/Python/datasets/shelter-outcomes/'\n",
    "    df = pd.read_csv(dataurl+trainortest+'.csv', sep=',', encoding='utf-8')\n",
    "    \n",
    "    # fill NaN sex values\n",
    "    df['SexuponOutcome'].fillna('Unknown', inplace=True)\n",
    "    assert(set(df['SexuponOutcome'])=={'Neutered Male', 'Spayed Female', 'Intact Male', 'Intact Female', \n",
    "                                       'Unknown'})\n",
    "    \n",
    "    # convert age and drop unneeded columns\n",
    "    Xcols = ['Name', 'AnimalType', 'SexuponOutcome']\n",
    "    dfX = df[Xcols] #.fillna(value='NA', axis=1, inplace=False)\n",
    "    dfX['AgeDays'] = df['AgeuponOutcome'].apply(convage)\n",
    "    dfX['AgeDays'] = dfX['AgeDays'].fillna(value=dfX['AgeDays'].mean(), inplace=False)\n",
    "    # if normalize:\n",
    "    #     ss = StandardScaler(with_mean=False)\n",
    "    #     dfX['AgeDays'] = ss.fit_transform(dfX['AgeDays'].values.reshape(-1,1))\n",
    "    # def breed(dfX):\n",
    "    #     dfX['Breed'] = dfX['Breed'].apply(breedconv)\n",
    "    #     return dfX\n",
    "    \n",
    "    # convert name category to with name and nameless\n",
    "    dfX['Name'].fillna(0, inplace=True)\n",
    "    dfX['Name'] = dfX['Name'].apply(lambda x: 0 if x==0 else 1)\n",
    "\n",
    "    # parse datetime\n",
    "    dfX['DateTime'] = pd.to_datetime(df['DateTime'], infer_datetime_format=True)\n",
    "    # Create features for each time interval\n",
    "    # dfX['Year'] = dfX['DateTime'].dt.year\n",
    "    dfX['Month'] = dfX['DateTime'].dt.month\n",
    "    # dfX['WeekofYear'] = dfX['DateTime'].dt.weekofyear\n",
    "    dfX['DayofMonth'] = dfX['DateTime'].dt.day\n",
    "    dfX['DayofWeek'] = dfX['DateTime'].dt.dayofweek\n",
    "    dfX['Hour'] = dfX['DateTime'].dt.hour\n",
    "    dfX['Minute'] = dfX['DateTime'].dt.minute.apply(lambda x: 0 if x==0 else 1)\n",
    "    dfX.drop('DateTime', axis=1, inplace=True)\n",
    "    \n",
    "    convlist = list(dfX.columns)\n",
    "    convlist.remove('AgeDays')\n",
    "    idx = 0\n",
    "    for col in convlist:\n",
    "        if idx==0:\n",
    "            dfdum = pd.get_dummies(dfX[col], dummy_na=False, prefix=col)\n",
    "            idx = 1\n",
    "        else:\n",
    "            dfnew = pd.get_dummies(dfX[col], dummy_na=False, prefix=col)\n",
    "            dfdum = pd.concat([dfdum,dfnew], axis=1)\n",
    "    dfdum = pd.concat([dfdum,dfX['AgeDays']], axis=1)\n",
    "    dfdum[dfdum.columns] = dfdum[dfdum.columns].astype(int)\n",
    "    \n",
    "    if trainortest=='train':\n",
    "        le = LabelEncoder()\n",
    "        sery = le.fit_transform(df['OutcomeType'])\n",
    "        dy = dict(zip(list(range(le.classes_.shape[0])),le.classes_))\n",
    "        return dfdum, sery, dy\n",
    "    else:\n",
    "        return dfdum, df['ID']"
   ]
  },
  {
   "cell_type": "code",
   "execution_count": 170,
   "metadata": {
    "collapsed": false,
    "scrolled": true
   },
   "outputs": [
    {
     "name": "stderr",
     "output_type": "stream",
     "text": [
      "/usr/local/lib/python3.5/site-packages/ipykernel/__main__.py:35: SettingWithCopyWarning: \n",
      "A value is trying to be set on a copy of a slice from a DataFrame.\n",
      "Try using .loc[row_indexer,col_indexer] = value instead\n",
      "\n",
      "See the caveats in the documentation: http://pandas.pydata.org/pandas-docs/stable/indexing.html#indexing-view-versus-copy\n",
      "/usr/local/lib/python3.5/site-packages/ipykernel/__main__.py:36: SettingWithCopyWarning: \n",
      "A value is trying to be set on a copy of a slice from a DataFrame.\n",
      "Try using .loc[row_indexer,col_indexer] = value instead\n",
      "\n",
      "See the caveats in the documentation: http://pandas.pydata.org/pandas-docs/stable/indexing.html#indexing-view-versus-copy\n",
      "/usr/local/lib/python3.5/site-packages/pandas/core/generic.py:3178: SettingWithCopyWarning: \n",
      "A value is trying to be set on a copy of a slice from a DataFrame\n",
      "\n",
      "See the caveats in the documentation: http://pandas.pydata.org/pandas-docs/stable/indexing.html#indexing-view-versus-copy\n",
      "  self._update_inplace(new_data)\n",
      "/usr/local/lib/python3.5/site-packages/ipykernel/__main__.py:46: SettingWithCopyWarning: \n",
      "A value is trying to be set on a copy of a slice from a DataFrame.\n",
      "Try using .loc[row_indexer,col_indexer] = value instead\n",
      "\n",
      "See the caveats in the documentation: http://pandas.pydata.org/pandas-docs/stable/indexing.html#indexing-view-versus-copy\n",
      "/usr/local/lib/python3.5/site-packages/ipykernel/__main__.py:49: SettingWithCopyWarning: \n",
      "A value is trying to be set on a copy of a slice from a DataFrame.\n",
      "Try using .loc[row_indexer,col_indexer] = value instead\n",
      "\n",
      "See the caveats in the documentation: http://pandas.pydata.org/pandas-docs/stable/indexing.html#indexing-view-versus-copy\n",
      "/usr/local/lib/python3.5/site-packages/ipykernel/__main__.py:52: SettingWithCopyWarning: \n",
      "A value is trying to be set on a copy of a slice from a DataFrame.\n",
      "Try using .loc[row_indexer,col_indexer] = value instead\n",
      "\n",
      "See the caveats in the documentation: http://pandas.pydata.org/pandas-docs/stable/indexing.html#indexing-view-versus-copy\n",
      "/usr/local/lib/python3.5/site-packages/ipykernel/__main__.py:54: SettingWithCopyWarning: \n",
      "A value is trying to be set on a copy of a slice from a DataFrame.\n",
      "Try using .loc[row_indexer,col_indexer] = value instead\n",
      "\n",
      "See the caveats in the documentation: http://pandas.pydata.org/pandas-docs/stable/indexing.html#indexing-view-versus-copy\n",
      "/usr/local/lib/python3.5/site-packages/ipykernel/__main__.py:55: SettingWithCopyWarning: \n",
      "A value is trying to be set on a copy of a slice from a DataFrame.\n",
      "Try using .loc[row_indexer,col_indexer] = value instead\n",
      "\n",
      "See the caveats in the documentation: http://pandas.pydata.org/pandas-docs/stable/indexing.html#indexing-view-versus-copy\n",
      "/usr/local/lib/python3.5/site-packages/ipykernel/__main__.py:56: SettingWithCopyWarning: \n",
      "A value is trying to be set on a copy of a slice from a DataFrame.\n",
      "Try using .loc[row_indexer,col_indexer] = value instead\n",
      "\n",
      "See the caveats in the documentation: http://pandas.pydata.org/pandas-docs/stable/indexing.html#indexing-view-versus-copy\n"
     ]
    },
    {
     "name": "stdout",
     "output_type": "stream",
     "text": [
      "(26729, 82)\n"
     ]
    },
    {
     "data": {
      "text/html": [
       "<div>\n",
       "<table border=\"1\" class=\"dataframe\">\n",
       "  <thead>\n",
       "    <tr style=\"text-align: right;\">\n",
       "      <th></th>\n",
       "      <th>Name_0</th>\n",
       "      <th>Name_1</th>\n",
       "      <th>AnimalType_Cat</th>\n",
       "      <th>AnimalType_Dog</th>\n",
       "      <th>SexuponOutcome_Intact Female</th>\n",
       "      <th>SexuponOutcome_Intact Male</th>\n",
       "      <th>SexuponOutcome_Neutered Male</th>\n",
       "      <th>SexuponOutcome_Spayed Female</th>\n",
       "      <th>SexuponOutcome_Unknown</th>\n",
       "      <th>Month_1</th>\n",
       "      <th>...</th>\n",
       "      <th>Hour_17</th>\n",
       "      <th>Hour_18</th>\n",
       "      <th>Hour_19</th>\n",
       "      <th>Hour_20</th>\n",
       "      <th>Hour_21</th>\n",
       "      <th>Hour_22</th>\n",
       "      <th>Hour_23</th>\n",
       "      <th>Minute_0</th>\n",
       "      <th>Minute_1</th>\n",
       "      <th>AgeDays</th>\n",
       "    </tr>\n",
       "  </thead>\n",
       "  <tbody>\n",
       "    <tr>\n",
       "      <th>0</th>\n",
       "      <td>0</td>\n",
       "      <td>1</td>\n",
       "      <td>0</td>\n",
       "      <td>1</td>\n",
       "      <td>0</td>\n",
       "      <td>0</td>\n",
       "      <td>1</td>\n",
       "      <td>0</td>\n",
       "      <td>0</td>\n",
       "      <td>0</td>\n",
       "      <td>...</td>\n",
       "      <td>0</td>\n",
       "      <td>1</td>\n",
       "      <td>0</td>\n",
       "      <td>0</td>\n",
       "      <td>0</td>\n",
       "      <td>0</td>\n",
       "      <td>0</td>\n",
       "      <td>0</td>\n",
       "      <td>1</td>\n",
       "      <td>365</td>\n",
       "    </tr>\n",
       "    <tr>\n",
       "      <th>1</th>\n",
       "      <td>0</td>\n",
       "      <td>1</td>\n",
       "      <td>1</td>\n",
       "      <td>0</td>\n",
       "      <td>0</td>\n",
       "      <td>0</td>\n",
       "      <td>0</td>\n",
       "      <td>1</td>\n",
       "      <td>0</td>\n",
       "      <td>0</td>\n",
       "      <td>...</td>\n",
       "      <td>0</td>\n",
       "      <td>0</td>\n",
       "      <td>0</td>\n",
       "      <td>0</td>\n",
       "      <td>0</td>\n",
       "      <td>0</td>\n",
       "      <td>0</td>\n",
       "      <td>0</td>\n",
       "      <td>1</td>\n",
       "      <td>365</td>\n",
       "    </tr>\n",
       "    <tr>\n",
       "      <th>2</th>\n",
       "      <td>0</td>\n",
       "      <td>1</td>\n",
       "      <td>0</td>\n",
       "      <td>1</td>\n",
       "      <td>0</td>\n",
       "      <td>0</td>\n",
       "      <td>1</td>\n",
       "      <td>0</td>\n",
       "      <td>0</td>\n",
       "      <td>1</td>\n",
       "      <td>...</td>\n",
       "      <td>0</td>\n",
       "      <td>0</td>\n",
       "      <td>0</td>\n",
       "      <td>0</td>\n",
       "      <td>0</td>\n",
       "      <td>0</td>\n",
       "      <td>0</td>\n",
       "      <td>0</td>\n",
       "      <td>1</td>\n",
       "      <td>730</td>\n",
       "    </tr>\n",
       "    <tr>\n",
       "      <th>3</th>\n",
       "      <td>1</td>\n",
       "      <td>0</td>\n",
       "      <td>1</td>\n",
       "      <td>0</td>\n",
       "      <td>0</td>\n",
       "      <td>1</td>\n",
       "      <td>0</td>\n",
       "      <td>0</td>\n",
       "      <td>0</td>\n",
       "      <td>0</td>\n",
       "      <td>...</td>\n",
       "      <td>0</td>\n",
       "      <td>0</td>\n",
       "      <td>1</td>\n",
       "      <td>0</td>\n",
       "      <td>0</td>\n",
       "      <td>0</td>\n",
       "      <td>0</td>\n",
       "      <td>0</td>\n",
       "      <td>1</td>\n",
       "      <td>21</td>\n",
       "    </tr>\n",
       "    <tr>\n",
       "      <th>4</th>\n",
       "      <td>1</td>\n",
       "      <td>0</td>\n",
       "      <td>0</td>\n",
       "      <td>1</td>\n",
       "      <td>0</td>\n",
       "      <td>0</td>\n",
       "      <td>1</td>\n",
       "      <td>0</td>\n",
       "      <td>0</td>\n",
       "      <td>0</td>\n",
       "      <td>...</td>\n",
       "      <td>0</td>\n",
       "      <td>0</td>\n",
       "      <td>0</td>\n",
       "      <td>0</td>\n",
       "      <td>0</td>\n",
       "      <td>0</td>\n",
       "      <td>0</td>\n",
       "      <td>0</td>\n",
       "      <td>1</td>\n",
       "      <td>730</td>\n",
       "    </tr>\n",
       "  </tbody>\n",
       "</table>\n",
       "<p>5 rows × 82 columns</p>\n",
       "</div>"
      ],
      "text/plain": [
       "   Name_0  Name_1  AnimalType_Cat  AnimalType_Dog  \\\n",
       "0       0       1               0               1   \n",
       "1       0       1               1               0   \n",
       "2       0       1               0               1   \n",
       "3       1       0               1               0   \n",
       "4       1       0               0               1   \n",
       "\n",
       "   SexuponOutcome_Intact Female  SexuponOutcome_Intact Male  \\\n",
       "0                             0                           0   \n",
       "1                             0                           0   \n",
       "2                             0                           0   \n",
       "3                             0                           1   \n",
       "4                             0                           0   \n",
       "\n",
       "   SexuponOutcome_Neutered Male  SexuponOutcome_Spayed Female  \\\n",
       "0                             1                             0   \n",
       "1                             0                             1   \n",
       "2                             1                             0   \n",
       "3                             0                             0   \n",
       "4                             1                             0   \n",
       "\n",
       "   SexuponOutcome_Unknown  Month_1   ...     Hour_17  Hour_18  Hour_19  \\\n",
       "0                       0        0   ...           0        1        0   \n",
       "1                       0        0   ...           0        0        0   \n",
       "2                       0        1   ...           0        0        0   \n",
       "3                       0        0   ...           0        0        1   \n",
       "4                       0        0   ...           0        0        0   \n",
       "\n",
       "   Hour_20  Hour_21  Hour_22  Hour_23  Minute_0  Minute_1  AgeDays  \n",
       "0        0        0        0        0         0         1      365  \n",
       "1        0        0        0        0         0         1      365  \n",
       "2        0        0        0        0         0         1      730  \n",
       "3        0        0        0        0         0         1       21  \n",
       "4        0        0        0        0         0         1      730  \n",
       "\n",
       "[5 rows x 82 columns]"
      ]
     },
     "execution_count": 170,
     "metadata": {},
     "output_type": "execute_result"
    }
   ],
   "source": [
    "dfX, sery, dy = readdata('train')\n",
    "print(dfX.shape)\n",
    "dfX.head()"
   ]
  },
  {
   "cell_type": "code",
   "execution_count": 182,
   "metadata": {
    "collapsed": true
   },
   "outputs": [],
   "source": [
    "from sklearn.cross_validation import StratifiedShuffleSplit\n",
    "from sklearn.ensemble import RandomForestClassifier\n",
    "from sklearn.grid_search import GridSearchCV\n",
    "from sklearn.metrics import log_loss, classification_report\n",
    "from scipy import sparse\n",
    "import datetime"
   ]
  },
  {
   "cell_type": "code",
   "execution_count": 156,
   "metadata": {
    "collapsed": false
   },
   "outputs": [
    {
     "name": "stdout",
     "output_type": "stream",
     "text": [
      "Sparsity ratio: 0.8902530282474189\n",
      "<class 'pandas.core.frame.DataFrame'>\n"
     ]
    }
   ],
   "source": [
    "# Divide dataset into train and test\n",
    "\n",
    "sss = StratifiedShuffleSplit(sery, test_size=0.25, random_state=42, n_iter=1)\n",
    "for train_index, test_index in sss:\n",
    "    X_train, X_test = dfX.iloc[train_index], dfX.iloc[test_index]\n",
    "    y_train, y_test = sery[train_index], sery[test_index]\n",
    "\n",
    "def sparsity_ratio(X):\n",
    "    return 1.0 - np.count_nonzero(X) / float(X.shape[0] * X.shape[1])\n",
    "\n",
    "# sparsify\n",
    "spratio = sparsity_ratio(X_train.values)\n",
    "print(\"Sparsity ratio:\", spratio)\n",
    "\n",
    "if spratio >= 0.9:\n",
    "    X_train = sparse.csr_matrix(X_train)\n",
    "\n",
    "print(type(X_train))"
   ]
  },
  {
   "cell_type": "code",
   "execution_count": 177,
   "metadata": {
    "collapsed": false,
    "scrolled": true
   },
   "outputs": [
    {
     "name": "stdout",
     "output_type": "stream",
     "text": [
      "{'n_estimators': 800, 'max_depth': 32}\n"
     ]
    },
    {
     "data": {
      "text/plain": [
       "[mean: -0.86803, std: 0.00384, params: {'n_estimators': 800, 'max_depth': 16},\n",
       " mean: -0.81484, std: 0.00694, params: {'n_estimators': 800, 'max_depth': 32},\n",
       " mean: -0.83747, std: 0.00731, params: {'n_estimators': 800, 'max_depth': 64}]"
      ]
     },
     "execution_count": 177,
     "metadata": {},
     "output_type": "execute_result"
    }
   ],
   "source": [
    "# Use grid search to find best parameters\n",
    "# moderate logloss improvement of 1000 over 800 (-0.837 for 800)\n",
    "\n",
    "params = {'n_estimators': [800], 'max_depth': [16,32,64]}\n",
    "\n",
    "# clf = AdaBoostClassifier(DecisionTreeClassifier(max_depth=4), random_state=42)\n",
    "# clf = ExtraTreesClassifier(max_features='auto', random_state=42)\n",
    "clf = RandomForestClassifier(random_state=42, n_jobs=3, class_weight='balanced_subsample', oob_score=True)\n",
    "\n",
    "grid = GridSearchCV(clf, param_grid=params, n_jobs=1, cv=3, scoring='log_loss')\n",
    "grid.fit(csr_train, y_train)\n",
    "\n",
    "print(grid.best_params_)\n",
    "grid.grid_scores_"
   ]
  },
  {
   "cell_type": "code",
   "execution_count": 178,
   "metadata": {
    "collapsed": false
   },
   "outputs": [
    {
     "name": "stdout",
     "output_type": "stream",
     "text": [
      "0.781123734621\n"
     ]
    }
   ],
   "source": [
    "# 800 estimator, None maxdepth (0.79)\n",
    "\n",
    "ypred = grid.predict_proba(X_test)\n",
    "print(log_loss(y_test, ypred))"
   ]
  },
  {
   "cell_type": "code",
   "execution_count": 179,
   "metadata": {
    "collapsed": true
   },
   "outputs": [],
   "source": [
    "# Train on whole dataset with best params from cv\n",
    "\n",
    "clf.set_params(**grid.best_params_)\n",
    "_ = clf.fit(dfX, sery)"
   ]
  },
  {
   "cell_type": "markdown",
   "metadata": {},
   "source": [
    "### Load test data for get_dummies rf approach"
   ]
  },
  {
   "cell_type": "code",
   "execution_count": 172,
   "metadata": {
    "collapsed": false,
    "scrolled": true
   },
   "outputs": [
    {
     "name": "stderr",
     "output_type": "stream",
     "text": [
      "/usr/local/lib/python3.5/site-packages/ipykernel/__main__.py:35: SettingWithCopyWarning: \n",
      "A value is trying to be set on a copy of a slice from a DataFrame.\n",
      "Try using .loc[row_indexer,col_indexer] = value instead\n",
      "\n",
      "See the caveats in the documentation: http://pandas.pydata.org/pandas-docs/stable/indexing.html#indexing-view-versus-copy\n",
      "/usr/local/lib/python3.5/site-packages/ipykernel/__main__.py:36: SettingWithCopyWarning: \n",
      "A value is trying to be set on a copy of a slice from a DataFrame.\n",
      "Try using .loc[row_indexer,col_indexer] = value instead\n",
      "\n",
      "See the caveats in the documentation: http://pandas.pydata.org/pandas-docs/stable/indexing.html#indexing-view-versus-copy\n",
      "/usr/local/lib/python3.5/site-packages/pandas/core/generic.py:3178: SettingWithCopyWarning: \n",
      "A value is trying to be set on a copy of a slice from a DataFrame\n",
      "\n",
      "See the caveats in the documentation: http://pandas.pydata.org/pandas-docs/stable/indexing.html#indexing-view-versus-copy\n",
      "  self._update_inplace(new_data)\n",
      "/usr/local/lib/python3.5/site-packages/ipykernel/__main__.py:46: SettingWithCopyWarning: \n",
      "A value is trying to be set on a copy of a slice from a DataFrame.\n",
      "Try using .loc[row_indexer,col_indexer] = value instead\n",
      "\n",
      "See the caveats in the documentation: http://pandas.pydata.org/pandas-docs/stable/indexing.html#indexing-view-versus-copy\n",
      "/usr/local/lib/python3.5/site-packages/ipykernel/__main__.py:49: SettingWithCopyWarning: \n",
      "A value is trying to be set on a copy of a slice from a DataFrame.\n",
      "Try using .loc[row_indexer,col_indexer] = value instead\n",
      "\n",
      "See the caveats in the documentation: http://pandas.pydata.org/pandas-docs/stable/indexing.html#indexing-view-versus-copy\n",
      "/usr/local/lib/python3.5/site-packages/ipykernel/__main__.py:52: SettingWithCopyWarning: \n",
      "A value is trying to be set on a copy of a slice from a DataFrame.\n",
      "Try using .loc[row_indexer,col_indexer] = value instead\n",
      "\n",
      "See the caveats in the documentation: http://pandas.pydata.org/pandas-docs/stable/indexing.html#indexing-view-versus-copy\n",
      "/usr/local/lib/python3.5/site-packages/ipykernel/__main__.py:54: SettingWithCopyWarning: \n",
      "A value is trying to be set on a copy of a slice from a DataFrame.\n",
      "Try using .loc[row_indexer,col_indexer] = value instead\n",
      "\n",
      "See the caveats in the documentation: http://pandas.pydata.org/pandas-docs/stable/indexing.html#indexing-view-versus-copy\n"
     ]
    },
    {
     "name": "stdout",
     "output_type": "stream",
     "text": [
      "(11456, 82)\n"
     ]
    },
    {
     "data": {
      "text/html": [
       "<div>\n",
       "<table border=\"1\" class=\"dataframe\">\n",
       "  <thead>\n",
       "    <tr style=\"text-align: right;\">\n",
       "      <th></th>\n",
       "      <th>Name_0</th>\n",
       "      <th>Name_1</th>\n",
       "      <th>AnimalType_Cat</th>\n",
       "      <th>AnimalType_Dog</th>\n",
       "      <th>SexuponOutcome_Intact Female</th>\n",
       "      <th>SexuponOutcome_Intact Male</th>\n",
       "      <th>SexuponOutcome_Neutered Male</th>\n",
       "      <th>SexuponOutcome_Spayed Female</th>\n",
       "      <th>SexuponOutcome_Unknown</th>\n",
       "      <th>Month_1</th>\n",
       "      <th>...</th>\n",
       "      <th>Hour_17</th>\n",
       "      <th>Hour_18</th>\n",
       "      <th>Hour_19</th>\n",
       "      <th>Hour_20</th>\n",
       "      <th>Hour_21</th>\n",
       "      <th>Hour_22</th>\n",
       "      <th>Hour_23</th>\n",
       "      <th>Minute_0</th>\n",
       "      <th>Minute_1</th>\n",
       "      <th>AgeDays</th>\n",
       "    </tr>\n",
       "  </thead>\n",
       "  <tbody>\n",
       "    <tr>\n",
       "      <th>0</th>\n",
       "      <td>0</td>\n",
       "      <td>1</td>\n",
       "      <td>0</td>\n",
       "      <td>1</td>\n",
       "      <td>1</td>\n",
       "      <td>0</td>\n",
       "      <td>0</td>\n",
       "      <td>0</td>\n",
       "      <td>0</td>\n",
       "      <td>0</td>\n",
       "      <td>...</td>\n",
       "      <td>0</td>\n",
       "      <td>0</td>\n",
       "      <td>0</td>\n",
       "      <td>0</td>\n",
       "      <td>0</td>\n",
       "      <td>0</td>\n",
       "      <td>0</td>\n",
       "      <td>0</td>\n",
       "      <td>1</td>\n",
       "      <td>300</td>\n",
       "    </tr>\n",
       "    <tr>\n",
       "      <th>1</th>\n",
       "      <td>0</td>\n",
       "      <td>1</td>\n",
       "      <td>0</td>\n",
       "      <td>1</td>\n",
       "      <td>0</td>\n",
       "      <td>0</td>\n",
       "      <td>0</td>\n",
       "      <td>1</td>\n",
       "      <td>0</td>\n",
       "      <td>0</td>\n",
       "      <td>...</td>\n",
       "      <td>1</td>\n",
       "      <td>0</td>\n",
       "      <td>0</td>\n",
       "      <td>0</td>\n",
       "      <td>0</td>\n",
       "      <td>0</td>\n",
       "      <td>0</td>\n",
       "      <td>0</td>\n",
       "      <td>1</td>\n",
       "      <td>730</td>\n",
       "    </tr>\n",
       "    <tr>\n",
       "      <th>2</th>\n",
       "      <td>0</td>\n",
       "      <td>1</td>\n",
       "      <td>1</td>\n",
       "      <td>0</td>\n",
       "      <td>0</td>\n",
       "      <td>0</td>\n",
       "      <td>1</td>\n",
       "      <td>0</td>\n",
       "      <td>0</td>\n",
       "      <td>1</td>\n",
       "      <td>...</td>\n",
       "      <td>0</td>\n",
       "      <td>0</td>\n",
       "      <td>0</td>\n",
       "      <td>0</td>\n",
       "      <td>0</td>\n",
       "      <td>0</td>\n",
       "      <td>0</td>\n",
       "      <td>0</td>\n",
       "      <td>1</td>\n",
       "      <td>365</td>\n",
       "    </tr>\n",
       "    <tr>\n",
       "      <th>3</th>\n",
       "      <td>0</td>\n",
       "      <td>1</td>\n",
       "      <td>0</td>\n",
       "      <td>1</td>\n",
       "      <td>0</td>\n",
       "      <td>1</td>\n",
       "      <td>0</td>\n",
       "      <td>0</td>\n",
       "      <td>0</td>\n",
       "      <td>0</td>\n",
       "      <td>...</td>\n",
       "      <td>0</td>\n",
       "      <td>1</td>\n",
       "      <td>0</td>\n",
       "      <td>0</td>\n",
       "      <td>0</td>\n",
       "      <td>0</td>\n",
       "      <td>0</td>\n",
       "      <td>0</td>\n",
       "      <td>1</td>\n",
       "      <td>120</td>\n",
       "    </tr>\n",
       "    <tr>\n",
       "      <th>4</th>\n",
       "      <td>0</td>\n",
       "      <td>1</td>\n",
       "      <td>0</td>\n",
       "      <td>1</td>\n",
       "      <td>0</td>\n",
       "      <td>0</td>\n",
       "      <td>1</td>\n",
       "      <td>0</td>\n",
       "      <td>0</td>\n",
       "      <td>0</td>\n",
       "      <td>...</td>\n",
       "      <td>1</td>\n",
       "      <td>0</td>\n",
       "      <td>0</td>\n",
       "      <td>0</td>\n",
       "      <td>0</td>\n",
       "      <td>0</td>\n",
       "      <td>0</td>\n",
       "      <td>0</td>\n",
       "      <td>1</td>\n",
       "      <td>730</td>\n",
       "    </tr>\n",
       "  </tbody>\n",
       "</table>\n",
       "<p>5 rows × 82 columns</p>\n",
       "</div>"
      ],
      "text/plain": [
       "   Name_0  Name_1  AnimalType_Cat  AnimalType_Dog  \\\n",
       "0       0       1               0               1   \n",
       "1       0       1               0               1   \n",
       "2       0       1               1               0   \n",
       "3       0       1               0               1   \n",
       "4       0       1               0               1   \n",
       "\n",
       "   SexuponOutcome_Intact Female  SexuponOutcome_Intact Male  \\\n",
       "0                             1                           0   \n",
       "1                             0                           0   \n",
       "2                             0                           0   \n",
       "3                             0                           1   \n",
       "4                             0                           0   \n",
       "\n",
       "   SexuponOutcome_Neutered Male  SexuponOutcome_Spayed Female  \\\n",
       "0                             0                             0   \n",
       "1                             0                             1   \n",
       "2                             1                             0   \n",
       "3                             0                             0   \n",
       "4                             1                             0   \n",
       "\n",
       "   SexuponOutcome_Unknown  Month_1   ...     Hour_17  Hour_18  Hour_19  \\\n",
       "0                       0        0   ...           0        0        0   \n",
       "1                       0        0   ...           1        0        0   \n",
       "2                       0        1   ...           0        0        0   \n",
       "3                       0        0   ...           0        1        0   \n",
       "4                       0        0   ...           1        0        0   \n",
       "\n",
       "   Hour_20  Hour_21  Hour_22  Hour_23  Minute_0  Minute_1  AgeDays  \n",
       "0        0        0        0        0         0         1      300  \n",
       "1        0        0        0        0         0         1      730  \n",
       "2        0        0        0        0         0         1      365  \n",
       "3        0        0        0        0         0         1      120  \n",
       "4        0        0        0        0         0         1      730  \n",
       "\n",
       "[5 rows x 82 columns]"
      ]
     },
     "execution_count": 172,
     "metadata": {},
     "output_type": "execute_result"
    }
   ],
   "source": [
    "dfXtest, serID = readdata('test')\n",
    "print(dftest.shape)\n",
    "dfXtest.head()"
   ]
  },
  {
   "cell_type": "code",
   "execution_count": 192,
   "metadata": {
    "collapsed": false
   },
   "outputs": [
    {
     "data": {
      "text/html": [
       "<div>\n",
       "<table border=\"1\" class=\"dataframe\">\n",
       "  <thead>\n",
       "    <tr style=\"text-align: right;\">\n",
       "      <th></th>\n",
       "      <th>ID</th>\n",
       "      <th>Adoption</th>\n",
       "      <th>Died</th>\n",
       "      <th>Euthanasia</th>\n",
       "      <th>Return_to_owner</th>\n",
       "      <th>Transfer</th>\n",
       "    </tr>\n",
       "  </thead>\n",
       "  <tbody>\n",
       "    <tr>\n",
       "      <th>0</th>\n",
       "      <td>1</td>\n",
       "      <td>0.012418</td>\n",
       "      <td>0.000000</td>\n",
       "      <td>0.035172</td>\n",
       "      <td>0.106703</td>\n",
       "      <td>0.845706</td>\n",
       "    </tr>\n",
       "    <tr>\n",
       "      <th>1</th>\n",
       "      <td>2</td>\n",
       "      <td>0.745686</td>\n",
       "      <td>0.002247</td>\n",
       "      <td>0.009694</td>\n",
       "      <td>0.198588</td>\n",
       "      <td>0.043785</td>\n",
       "    </tr>\n",
       "    <tr>\n",
       "      <th>2</th>\n",
       "      <td>3</td>\n",
       "      <td>0.324648</td>\n",
       "      <td>0.000000</td>\n",
       "      <td>0.018846</td>\n",
       "      <td>0.349500</td>\n",
       "      <td>0.307006</td>\n",
       "    </tr>\n",
       "    <tr>\n",
       "      <th>3</th>\n",
       "      <td>4</td>\n",
       "      <td>0.162913</td>\n",
       "      <td>0.000000</td>\n",
       "      <td>0.067491</td>\n",
       "      <td>0.303759</td>\n",
       "      <td>0.465837</td>\n",
       "    </tr>\n",
       "    <tr>\n",
       "      <th>4</th>\n",
       "      <td>5</td>\n",
       "      <td>0.572473</td>\n",
       "      <td>0.000586</td>\n",
       "      <td>0.043285</td>\n",
       "      <td>0.341781</td>\n",
       "      <td>0.041875</td>\n",
       "    </tr>\n",
       "  </tbody>\n",
       "</table>\n",
       "</div>"
      ],
      "text/plain": [
       "   ID  Adoption      Died  Euthanasia  Return_to_owner  Transfer\n",
       "0   1  0.012418  0.000000    0.035172         0.106703  0.845706\n",
       "1   2  0.745686  0.002247    0.009694         0.198588  0.043785\n",
       "2   3  0.324648  0.000000    0.018846         0.349500  0.307006\n",
       "3   4  0.162913  0.000000    0.067491         0.303759  0.465837\n",
       "4   5  0.572473  0.000586    0.043285         0.341781  0.041875"
      ]
     },
     "execution_count": 192,
     "metadata": {},
     "output_type": "execute_result"
    }
   ],
   "source": [
    "# Calculate probabilities and output\n",
    "yprob = clf.predict_proba(dfXtest)\n",
    "\n",
    "dfres = pd.concat([serID,pd.DataFrame(yprob)], axis=1)\n",
    "dfres.columns = [dy.get(col, col) for col in dfres.columns]\n",
    "dfres = dfres[['ID', 'Adoption', 'Died', 'Euthanasia', 'Return_to_owner', 'Transfer']]\n",
    "now = datetime.datetime.now()\n",
    "dfres.to_csv('animalshelter'+now.strftime('%Y%m%d_%H%M')+'.csv', sep=',', encoding='utf-8', index=False)\n",
    "\n",
    "dfres.head()"
   ]
  },
  {
   "cell_type": "code",
   "execution_count": null,
   "metadata": {
    "collapsed": true
   },
   "outputs": [],
   "source": []
  }
 ],
 "metadata": {
  "kernelspec": {
   "display_name": "Python 3",
   "language": "python",
   "name": "python3"
  },
  "language_info": {
   "codemirror_mode": {
    "name": "ipython",
    "version": 3
   },
   "file_extension": ".py",
   "mimetype": "text/x-python",
   "name": "python",
   "nbconvert_exporter": "python",
   "pygments_lexer": "ipython3",
   "version": "3.5.1"
  }
 },
 "nbformat": 4,
 "nbformat_minor": 0
}
