{
 "cells": [
  {
   "cell_type": "markdown",
   "metadata": {},
   "source": [
    "# Predict outcomes of shelter pets\n",
    "___\n",
    "Begin by importing useful libraries."
   ]
  },
  {
   "cell_type": "code",
   "execution_count": 1,
   "metadata": {
    "collapsed": true
   },
   "outputs": [],
   "source": [
    "import pandas as pd\n",
    "import numpy as np\n",
    "import re, datetime\n",
    "import matplotlib.pyplot as plt\n",
    "import seaborn as sns\n",
    "\n",
    "%matplotlib inline"
   ]
  },
  {
   "cell_type": "markdown",
   "metadata": {},
   "source": [
    "## Use label encoder for `y` and create dummy variables with pandas"
   ]
  },
  {
   "cell_type": "code",
   "execution_count": 2,
   "metadata": {
    "collapsed": false
   },
   "outputs": [],
   "source": [
    "from sklearn.ensemble import RandomForestClassifier, GradientBoostingClassifier\n",
    "from sklearn.ensemble import AdaBoostClassifier, ExtraTreesClassifier\n",
    "from sklearn.tree import DecisionTreeClassifier\n",
    "from sklearn.grid_search import GridSearchCV\n",
    "from sklearn.preprocessing import LabelEncoder\n",
    "from sklearn.cross_validation import StratifiedShuffleSplit\n",
    "from sklearn.metrics import log_loss, classification_report\n",
    "\n",
    "from scipy import sparse"
   ]
  },
  {
   "cell_type": "markdown",
   "metadata": {},
   "source": [
    "### Create function to load train/test data"
   ]
  },
  {
   "cell_type": "code",
   "execution_count": 4,
   "metadata": {
    "collapsed": false
   },
   "outputs": [],
   "source": [
    "def convage(age):\n",
    "    dperiod = {'month': 30, 'year': 365, 'years': 365, 'day': 1, 'days': 1, 'weeks': 7, 'week': 7, 'months': 30}\n",
    "    if isinstance(age, float):\n",
    "        return age\n",
    "    else:\n",
    "        num = int(re.match('\\d+',age).group())\n",
    "        period = re.search('\\w+$', age).group()\n",
    "        return float(num*dperiod[period])\n",
    "    \n",
    "def breedconv(breed):\n",
    "    if 'pit bull' in breed:\n",
    "        return 2\n",
    "    elif '/' not in breed and 'mix' not in breed:\n",
    "        return 1\n",
    "    else:\n",
    "        return 0\n",
    "\n",
    "def readdata(trainortest):\n",
    "    assert(trainortest == 'train' or trainortest == 'test')\n",
    "    dataurl = '/Users/dbricare/Documents/Python/datasets/shelter-outcomes/'\n",
    "    df = pd.read_csv(dataurl+trainortest+'.csv', sep=',', encoding='utf-8')\n",
    "    \n",
    "    # fill NaN sex values\n",
    "    df['SexuponOutcome'].fillna('Unknown', inplace=True)\n",
    "    assert(set(df['SexuponOutcome'])=={'Neutered Male', 'Spayed Female', 'Intact Male', 'Intact Female', \n",
    "                                       'Unknown'})\n",
    "    \n",
    "    # convert age and drop unneeded columns\n",
    "    Xcols = ['Name', 'AnimalType', 'SexuponOutcome', 'Breed']\n",
    "    dfX = df[Xcols].copy()\n",
    "    dfX['AgeDays'] = df['AgeuponOutcome'].apply(convage)\n",
    "    dfX['AgeDays'] = dfX['AgeDays'].fillna(value=dfX['AgeDays'].mean(), inplace=False)\n",
    "    # if normalize:\n",
    "    #     ss = StandardScaler(with_mean=False)\n",
    "    #     dfX['AgeDays'] = ss.fit_transform(dfX['AgeDays'].values.reshape(-1,1))\n",
    "    dfX['Breed'] = dfX['Breed'].str.lower().apply(breedconv)\n",
    "    \n",
    "    # convert name category to with name and nameless\n",
    "    dfX['Name'].fillna(0, inplace=True)\n",
    "    dfX['Name'] = dfX['Name'].apply(lambda x: 0 if x==0 else 1)\n",
    "\n",
    "    # parse datetime\n",
    "    dfX['DateTime'] = pd.to_datetime(df['DateTime'], infer_datetime_format=True)\n",
    "    # Create features for each time interval\n",
    "    dfX['Year'] = dfX['DateTime'].dt.year\n",
    "    dfX['Month'] = dfX['DateTime'].dt.month\n",
    "    # dfX['WeekofYear'] = dfX['DateTime'].dt.weekofyear\n",
    "    dfX['DayofMonth'] = dfX['DateTime'].dt.day\n",
    "    dfX['DayofWeek'] = dfX['DateTime'].dt.dayofweek\n",
    "    dfX['Hour'] = dfX['DateTime'].dt.hour\n",
    "    dfX['Minute'] = dfX['DateTime'].dt.minute.apply(lambda x: 0 if x==0 else 1)\n",
    "    dfX.drop('DateTime', axis=1, inplace=True)\n",
    "    \n",
    "    convlist = list(dfX.columns)\n",
    "    convlist.remove('AgeDays')\n",
    "    idx = 0\n",
    "    for col in convlist:\n",
    "        if idx==0:\n",
    "            dfdum = pd.get_dummies(dfX[col], dummy_na=False, prefix=col)\n",
    "            idx = 1\n",
    "        else:\n",
    "            dfnew = pd.get_dummies(dfX[col], dummy_na=False, prefix=col)\n",
    "            dfdum = pd.concat([dfdum,dfnew], axis=1)\n",
    "    dfdum = pd.concat([dfdum,dfX['AgeDays']], axis=1)\n",
    "    dfdum[dfdum.columns] = dfdum[dfdum.columns].astype(int)\n",
    "    \n",
    "    if trainortest=='train':\n",
    "        le = LabelEncoder()\n",
    "        sery = le.fit_transform(df['OutcomeType'])\n",
    "        dy = dict(zip(list(range(le.classes_.shape[0])),le.classes_))\n",
    "        return dfdum, sery, dy\n",
    "    else:\n",
    "        return dfdum, df['ID']"
   ]
  },
  {
   "cell_type": "markdown",
   "metadata": {},
   "source": [
    "### Examine loaded training data"
   ]
  },
  {
   "cell_type": "code",
   "execution_count": 5,
   "metadata": {
    "collapsed": false,
    "scrolled": true
   },
   "outputs": [
    {
     "name": "stdout",
     "output_type": "stream",
     "text": [
      "(26729, 89)\n"
     ]
    },
    {
     "data": {
      "text/html": [
       "<div>\n",
       "<table border=\"1\" class=\"dataframe\">\n",
       "  <thead>\n",
       "    <tr style=\"text-align: right;\">\n",
       "      <th></th>\n",
       "      <th>Name_0</th>\n",
       "      <th>Name_1</th>\n",
       "      <th>AnimalType_Cat</th>\n",
       "      <th>AnimalType_Dog</th>\n",
       "      <th>SexuponOutcome_Intact Female</th>\n",
       "      <th>SexuponOutcome_Intact Male</th>\n",
       "      <th>SexuponOutcome_Neutered Male</th>\n",
       "      <th>SexuponOutcome_Spayed Female</th>\n",
       "      <th>SexuponOutcome_Unknown</th>\n",
       "      <th>Breed_0</th>\n",
       "      <th>...</th>\n",
       "      <th>Hour_17</th>\n",
       "      <th>Hour_18</th>\n",
       "      <th>Hour_19</th>\n",
       "      <th>Hour_20</th>\n",
       "      <th>Hour_21</th>\n",
       "      <th>Hour_22</th>\n",
       "      <th>Hour_23</th>\n",
       "      <th>Minute_0</th>\n",
       "      <th>Minute_1</th>\n",
       "      <th>AgeDays</th>\n",
       "    </tr>\n",
       "  </thead>\n",
       "  <tbody>\n",
       "    <tr>\n",
       "      <th>0</th>\n",
       "      <td>0</td>\n",
       "      <td>1</td>\n",
       "      <td>0</td>\n",
       "      <td>1</td>\n",
       "      <td>0</td>\n",
       "      <td>0</td>\n",
       "      <td>1</td>\n",
       "      <td>0</td>\n",
       "      <td>0</td>\n",
       "      <td>1</td>\n",
       "      <td>...</td>\n",
       "      <td>0</td>\n",
       "      <td>1</td>\n",
       "      <td>0</td>\n",
       "      <td>0</td>\n",
       "      <td>0</td>\n",
       "      <td>0</td>\n",
       "      <td>0</td>\n",
       "      <td>0</td>\n",
       "      <td>1</td>\n",
       "      <td>365</td>\n",
       "    </tr>\n",
       "    <tr>\n",
       "      <th>1</th>\n",
       "      <td>0</td>\n",
       "      <td>1</td>\n",
       "      <td>1</td>\n",
       "      <td>0</td>\n",
       "      <td>0</td>\n",
       "      <td>0</td>\n",
       "      <td>0</td>\n",
       "      <td>1</td>\n",
       "      <td>0</td>\n",
       "      <td>1</td>\n",
       "      <td>...</td>\n",
       "      <td>0</td>\n",
       "      <td>0</td>\n",
       "      <td>0</td>\n",
       "      <td>0</td>\n",
       "      <td>0</td>\n",
       "      <td>0</td>\n",
       "      <td>0</td>\n",
       "      <td>0</td>\n",
       "      <td>1</td>\n",
       "      <td>365</td>\n",
       "    </tr>\n",
       "    <tr>\n",
       "      <th>2</th>\n",
       "      <td>0</td>\n",
       "      <td>1</td>\n",
       "      <td>0</td>\n",
       "      <td>1</td>\n",
       "      <td>0</td>\n",
       "      <td>0</td>\n",
       "      <td>1</td>\n",
       "      <td>0</td>\n",
       "      <td>0</td>\n",
       "      <td>0</td>\n",
       "      <td>...</td>\n",
       "      <td>0</td>\n",
       "      <td>0</td>\n",
       "      <td>0</td>\n",
       "      <td>0</td>\n",
       "      <td>0</td>\n",
       "      <td>0</td>\n",
       "      <td>0</td>\n",
       "      <td>0</td>\n",
       "      <td>1</td>\n",
       "      <td>730</td>\n",
       "    </tr>\n",
       "    <tr>\n",
       "      <th>3</th>\n",
       "      <td>1</td>\n",
       "      <td>0</td>\n",
       "      <td>1</td>\n",
       "      <td>0</td>\n",
       "      <td>0</td>\n",
       "      <td>1</td>\n",
       "      <td>0</td>\n",
       "      <td>0</td>\n",
       "      <td>0</td>\n",
       "      <td>1</td>\n",
       "      <td>...</td>\n",
       "      <td>0</td>\n",
       "      <td>0</td>\n",
       "      <td>1</td>\n",
       "      <td>0</td>\n",
       "      <td>0</td>\n",
       "      <td>0</td>\n",
       "      <td>0</td>\n",
       "      <td>0</td>\n",
       "      <td>1</td>\n",
       "      <td>21</td>\n",
       "    </tr>\n",
       "    <tr>\n",
       "      <th>4</th>\n",
       "      <td>1</td>\n",
       "      <td>0</td>\n",
       "      <td>0</td>\n",
       "      <td>1</td>\n",
       "      <td>0</td>\n",
       "      <td>0</td>\n",
       "      <td>1</td>\n",
       "      <td>0</td>\n",
       "      <td>0</td>\n",
       "      <td>1</td>\n",
       "      <td>...</td>\n",
       "      <td>0</td>\n",
       "      <td>0</td>\n",
       "      <td>0</td>\n",
       "      <td>0</td>\n",
       "      <td>0</td>\n",
       "      <td>0</td>\n",
       "      <td>0</td>\n",
       "      <td>0</td>\n",
       "      <td>1</td>\n",
       "      <td>730</td>\n",
       "    </tr>\n",
       "  </tbody>\n",
       "</table>\n",
       "<p>5 rows × 89 columns</p>\n",
       "</div>"
      ],
      "text/plain": [
       "   Name_0  Name_1  AnimalType_Cat  AnimalType_Dog  \\\n",
       "0       0       1               0               1   \n",
       "1       0       1               1               0   \n",
       "2       0       1               0               1   \n",
       "3       1       0               1               0   \n",
       "4       1       0               0               1   \n",
       "\n",
       "   SexuponOutcome_Intact Female  SexuponOutcome_Intact Male  \\\n",
       "0                             0                           0   \n",
       "1                             0                           0   \n",
       "2                             0                           0   \n",
       "3                             0                           1   \n",
       "4                             0                           0   \n",
       "\n",
       "   SexuponOutcome_Neutered Male  SexuponOutcome_Spayed Female  \\\n",
       "0                             1                             0   \n",
       "1                             0                             1   \n",
       "2                             1                             0   \n",
       "3                             0                             0   \n",
       "4                             1                             0   \n",
       "\n",
       "   SexuponOutcome_Unknown  Breed_0   ...     Hour_17  Hour_18  Hour_19  \\\n",
       "0                       0        1   ...           0        1        0   \n",
       "1                       0        1   ...           0        0        0   \n",
       "2                       0        0   ...           0        0        0   \n",
       "3                       0        1   ...           0        0        1   \n",
       "4                       0        1   ...           0        0        0   \n",
       "\n",
       "   Hour_20  Hour_21  Hour_22  Hour_23  Minute_0  Minute_1  AgeDays  \n",
       "0        0        0        0        0         0         1      365  \n",
       "1        0        0        0        0         0         1      365  \n",
       "2        0        0        0        0         0         1      730  \n",
       "3        0        0        0        0         0         1       21  \n",
       "4        0        0        0        0         0         1      730  \n",
       "\n",
       "[5 rows x 89 columns]"
      ]
     },
     "execution_count": 5,
     "metadata": {},
     "output_type": "execute_result"
    }
   ],
   "source": [
    "dfX, sery, dy = readdata('train')\n",
    "print(dfX.shape)\n",
    "dfX.head()"
   ]
  },
  {
   "cell_type": "markdown",
   "metadata": {},
   "source": [
    "## Divide dataset into train and test, convert to sparse matrix if necessary"
   ]
  },
  {
   "cell_type": "code",
   "execution_count": 126,
   "metadata": {
    "collapsed": false
   },
   "outputs": [
    {
     "name": "stdout",
     "output_type": "stream",
     "text": [
      "Sparsity ratio: 0.8764129024302062\n",
      "Training data type: <class 'pandas.core.frame.DataFrame'>\n"
     ]
    }
   ],
   "source": [
    "sss = StratifiedShuffleSplit(sery, test_size=0.25, random_state=42, n_iter=1)\n",
    "for train_index, test_index in sss:\n",
    "    X_train, X_test = dfX.iloc[train_index], dfX.iloc[test_index]\n",
    "    y_train, y_test = sery[train_index], sery[test_index]\n",
    "\n",
    "def sparsity_ratio(X):\n",
    "    return 1.0 - np.count_nonzero(X) / float(X.shape[0] * X.shape[1])\n",
    "\n",
    "# sparsify\n",
    "spratio = sparsity_ratio(X_train.values)\n",
    "print(\"Sparsity ratio:\", spratio)\n",
    "\n",
    "if spratio >= 0.9:\n",
    "    X_train = sparse.csr_matrix(X_train)\n",
    "\n",
    "print('Training data type:',type(X_train))"
   ]
  },
  {
   "cell_type": "markdown",
   "metadata": {},
   "source": [
    "## Use grid search to find best estimator and best parameters\n",
    "\n",
    "Tested random forest, extra trees, adaboost, and gradient boosting classifiers."
   ]
  },
  {
   "cell_type": "code",
   "execution_count": 104,
   "metadata": {
    "collapsed": false,
    "scrolled": true
   },
   "outputs": [
    {
     "name": "stdout",
     "output_type": "stream",
     "text": [
      "{'n_estimators': 150, 'max_features': 0.3, 'learning_rate': 0.15}\n"
     ]
    },
    {
     "data": {
      "text/plain": [
       "[mean: -0.77143, std: 0.01432, params: {'n_estimators': 150, 'max_features': 0.25, 'learning_rate': 0.15},\n",
       " mean: -0.76887, std: 0.00679, params: {'n_estimators': 150, 'max_features': 0.3, 'learning_rate': 0.15},\n",
       " mean: -0.77039, std: 0.01042, params: {'n_estimators': 150, 'max_features': 0.35, 'learning_rate': 0.15}]"
      ]
     },
     "execution_count": 104,
     "metadata": {},
     "output_type": "execute_result"
    }
   ],
   "source": [
    "params = {'n_estimators': [150], 'learning_rate' : [0.15], 'max_features' : [0.25,0.3,0.35]}\n",
    "\n",
    "# clf = AdaBoostClassifier(DecisionTreeClassifier(max_depth=4),random_state=42)\n",
    "# clf = ExtraTreesClassifier(max_features='auto', random_state=42)\n",
    "# clf = RandomForestClassifier(random_state=42, n_jobs=3, class_weight='balanced_subsample', oob_score=True)\n",
    "clf = GradientBoostingClassifier(max_depth=4, random_state=42)\n",
    "\n",
    "grid = GridSearchCV(clf, param_grid=params, n_jobs=3, cv=3, scoring='log_loss')\n",
    "grid.fit(X_train, y_train)\n",
    "\n",
    "print(grid.best_params_)\n",
    "grid.grid_scores_"
   ]
  },
  {
   "cell_type": "markdown",
   "metadata": {},
   "source": [
    "### Test best fit parameters"
   ]
  },
  {
   "cell_type": "code",
   "execution_count": 105,
   "metadata": {
    "collapsed": false
   },
   "outputs": [
    {
     "name": "stdout",
     "output_type": "stream",
     "text": [
      "0.763019399211\n"
     ]
    }
   ],
   "source": [
    "# rf, 800 estimator, None maxdepth (0.79)\n",
    "# rf, 800 estimators, 32 maxdepth (0.781)\n",
    "# gb, 100 est, 4 maxdepth (0.773)\n",
    "# gb, 150 est, 4 maxdepth (0.771)\n",
    "# gb, 150 est, 4 maxdepth, 0.15 learnrate (0.771)\n",
    "# gb, 150 est, 4 maxdepth, 0.15 learnrate, 0.2 maxfeatures (0.773)\n",
    "# gb, 150 est, 4 maxdepth, 0.15 learnrate, 0.3 maxfeatures (0.775)\n",
    "# gb, 150 est, 4 maxdepth, 0.15 learnrate, 0.2 maxfeatures (0.764) new features\n",
    "# gb, 150 est, 4 maxdepth, 0.15 learnrate, 0.3 maxfeatures (0.763) new features\n",
    "\n",
    "try: results\n",
    "except NameError:\n",
    "    results = {}\n",
    "\n",
    "ypred = grid.predict_proba(X_test)\n",
    "yerror = log_loss(y_test, ypred)\n",
    "results[yerror] = grid.get_params()['estimator']\n",
    "print(yerror)"
   ]
  },
  {
   "cell_type": "markdown",
   "metadata": {},
   "source": [
    "### Train on whole dataset with best params from CV"
   ]
  },
  {
   "cell_type": "code",
   "execution_count": 6,
   "metadata": {
    "collapsed": true
   },
   "outputs": [],
   "source": [
    "#clf.set_params(**grid.best_params_)\n",
    "bestparams = {'n_estimators': 150, 'max_features': 0.3, 'learning_rate': 0.15}\n",
    "clf = GradientBoostingClassifier(max_depth=4, random_state=42, **bestparams)\n",
    "\n",
    "_ = clf.fit(dfX, sery)"
   ]
  },
  {
   "cell_type": "markdown",
   "metadata": {},
   "source": [
    "## Load test data for submission"
   ]
  },
  {
   "cell_type": "code",
   "execution_count": 77,
   "metadata": {
    "collapsed": false,
    "scrolled": false
   },
   "outputs": [
    {
     "name": "stdout",
     "output_type": "stream",
     "text": [
      "(11456, 89)\n"
     ]
    },
    {
     "data": {
      "text/html": [
       "<div>\n",
       "<table border=\"1\" class=\"dataframe\">\n",
       "  <thead>\n",
       "    <tr style=\"text-align: right;\">\n",
       "      <th></th>\n",
       "      <th>Name_0</th>\n",
       "      <th>Name_1</th>\n",
       "      <th>AnimalType_Cat</th>\n",
       "      <th>AnimalType_Dog</th>\n",
       "      <th>SexuponOutcome_Intact Female</th>\n",
       "      <th>SexuponOutcome_Intact Male</th>\n",
       "      <th>SexuponOutcome_Neutered Male</th>\n",
       "      <th>SexuponOutcome_Spayed Female</th>\n",
       "      <th>SexuponOutcome_Unknown</th>\n",
       "      <th>Breed_0</th>\n",
       "      <th>...</th>\n",
       "      <th>Hour_17</th>\n",
       "      <th>Hour_18</th>\n",
       "      <th>Hour_19</th>\n",
       "      <th>Hour_20</th>\n",
       "      <th>Hour_21</th>\n",
       "      <th>Hour_22</th>\n",
       "      <th>Hour_23</th>\n",
       "      <th>Minute_0</th>\n",
       "      <th>Minute_1</th>\n",
       "      <th>AgeDays</th>\n",
       "    </tr>\n",
       "  </thead>\n",
       "  <tbody>\n",
       "    <tr>\n",
       "      <th>0</th>\n",
       "      <td>0</td>\n",
       "      <td>1</td>\n",
       "      <td>0</td>\n",
       "      <td>1</td>\n",
       "      <td>1</td>\n",
       "      <td>0</td>\n",
       "      <td>0</td>\n",
       "      <td>0</td>\n",
       "      <td>0</td>\n",
       "      <td>1</td>\n",
       "      <td>...</td>\n",
       "      <td>0</td>\n",
       "      <td>0</td>\n",
       "      <td>0</td>\n",
       "      <td>0</td>\n",
       "      <td>0</td>\n",
       "      <td>0</td>\n",
       "      <td>0</td>\n",
       "      <td>0</td>\n",
       "      <td>1</td>\n",
       "      <td>300</td>\n",
       "    </tr>\n",
       "    <tr>\n",
       "      <th>1</th>\n",
       "      <td>0</td>\n",
       "      <td>1</td>\n",
       "      <td>0</td>\n",
       "      <td>1</td>\n",
       "      <td>0</td>\n",
       "      <td>0</td>\n",
       "      <td>0</td>\n",
       "      <td>1</td>\n",
       "      <td>0</td>\n",
       "      <td>1</td>\n",
       "      <td>...</td>\n",
       "      <td>1</td>\n",
       "      <td>0</td>\n",
       "      <td>0</td>\n",
       "      <td>0</td>\n",
       "      <td>0</td>\n",
       "      <td>0</td>\n",
       "      <td>0</td>\n",
       "      <td>0</td>\n",
       "      <td>1</td>\n",
       "      <td>730</td>\n",
       "    </tr>\n",
       "    <tr>\n",
       "      <th>2</th>\n",
       "      <td>0</td>\n",
       "      <td>1</td>\n",
       "      <td>1</td>\n",
       "      <td>0</td>\n",
       "      <td>0</td>\n",
       "      <td>0</td>\n",
       "      <td>1</td>\n",
       "      <td>0</td>\n",
       "      <td>0</td>\n",
       "      <td>1</td>\n",
       "      <td>...</td>\n",
       "      <td>0</td>\n",
       "      <td>0</td>\n",
       "      <td>0</td>\n",
       "      <td>0</td>\n",
       "      <td>0</td>\n",
       "      <td>0</td>\n",
       "      <td>0</td>\n",
       "      <td>0</td>\n",
       "      <td>1</td>\n",
       "      <td>365</td>\n",
       "    </tr>\n",
       "    <tr>\n",
       "      <th>3</th>\n",
       "      <td>0</td>\n",
       "      <td>1</td>\n",
       "      <td>0</td>\n",
       "      <td>1</td>\n",
       "      <td>0</td>\n",
       "      <td>1</td>\n",
       "      <td>0</td>\n",
       "      <td>0</td>\n",
       "      <td>0</td>\n",
       "      <td>1</td>\n",
       "      <td>...</td>\n",
       "      <td>0</td>\n",
       "      <td>1</td>\n",
       "      <td>0</td>\n",
       "      <td>0</td>\n",
       "      <td>0</td>\n",
       "      <td>0</td>\n",
       "      <td>0</td>\n",
       "      <td>0</td>\n",
       "      <td>1</td>\n",
       "      <td>120</td>\n",
       "    </tr>\n",
       "    <tr>\n",
       "      <th>4</th>\n",
       "      <td>0</td>\n",
       "      <td>1</td>\n",
       "      <td>0</td>\n",
       "      <td>1</td>\n",
       "      <td>0</td>\n",
       "      <td>0</td>\n",
       "      <td>1</td>\n",
       "      <td>0</td>\n",
       "      <td>0</td>\n",
       "      <td>1</td>\n",
       "      <td>...</td>\n",
       "      <td>1</td>\n",
       "      <td>0</td>\n",
       "      <td>0</td>\n",
       "      <td>0</td>\n",
       "      <td>0</td>\n",
       "      <td>0</td>\n",
       "      <td>0</td>\n",
       "      <td>0</td>\n",
       "      <td>1</td>\n",
       "      <td>730</td>\n",
       "    </tr>\n",
       "  </tbody>\n",
       "</table>\n",
       "<p>5 rows × 89 columns</p>\n",
       "</div>"
      ],
      "text/plain": [
       "   Name_0  Name_1  AnimalType_Cat  AnimalType_Dog  \\\n",
       "0       0       1               0               1   \n",
       "1       0       1               0               1   \n",
       "2       0       1               1               0   \n",
       "3       0       1               0               1   \n",
       "4       0       1               0               1   \n",
       "\n",
       "   SexuponOutcome_Intact Female  SexuponOutcome_Intact Male  \\\n",
       "0                             1                           0   \n",
       "1                             0                           0   \n",
       "2                             0                           0   \n",
       "3                             0                           1   \n",
       "4                             0                           0   \n",
       "\n",
       "   SexuponOutcome_Neutered Male  SexuponOutcome_Spayed Female  \\\n",
       "0                             0                             0   \n",
       "1                             0                             1   \n",
       "2                             1                             0   \n",
       "3                             0                             0   \n",
       "4                             1                             0   \n",
       "\n",
       "   SexuponOutcome_Unknown  Breed_0   ...     Hour_17  Hour_18  Hour_19  \\\n",
       "0                       0        1   ...           0        0        0   \n",
       "1                       0        1   ...           1        0        0   \n",
       "2                       0        1   ...           0        0        0   \n",
       "3                       0        1   ...           0        1        0   \n",
       "4                       0        1   ...           1        0        0   \n",
       "\n",
       "   Hour_20  Hour_21  Hour_22  Hour_23  Minute_0  Minute_1  AgeDays  \n",
       "0        0        0        0        0         0         1      300  \n",
       "1        0        0        0        0         0         1      730  \n",
       "2        0        0        0        0         0         1      365  \n",
       "3        0        0        0        0         0         1      120  \n",
       "4        0        0        0        0         0         1      730  \n",
       "\n",
       "[5 rows x 89 columns]"
      ]
     },
     "execution_count": 77,
     "metadata": {},
     "output_type": "execute_result"
    }
   ],
   "source": [
    "dfXtest, serID = readdata('test')\n",
    "print(dfXtest.shape)\n",
    "dfXtest.head()"
   ]
  },
  {
   "cell_type": "markdown",
   "metadata": {},
   "source": [
    "## Calculate probabilities and save to csv"
   ]
  },
  {
   "cell_type": "code",
   "execution_count": 78,
   "metadata": {
    "collapsed": false
   },
   "outputs": [],
   "source": [
    "def proboutput(dfXtest, serID, dy):\n",
    "    yprob = clf.predict_proba(dfXtest)\n",
    "\n",
    "    dfres = pd.concat([serID,pd.DataFrame(yprob)], axis=1)\n",
    "    dfres.columns = [dy.get(col, col) for col in dfres.columns]\n",
    "    dfres = dfres[['ID', 'Adoption', 'Died', 'Euthanasia', 'Return_to_owner', 'Transfer']]\n",
    "    now = datetime.datetime.now()\n",
    "    dfres.to_csv('animalshelter'+now.strftime('%Y%m%d_%H%M')+'.csv', sep=',', encoding='utf-8', index=False)\n",
    "    return dfres"
   ]
  },
  {
   "cell_type": "code",
   "execution_count": 79,
   "metadata": {
    "collapsed": false
   },
   "outputs": [
    {
     "data": {
      "text/html": [
       "<div>\n",
       "<table border=\"1\" class=\"dataframe\">\n",
       "  <thead>\n",
       "    <tr style=\"text-align: right;\">\n",
       "      <th></th>\n",
       "      <th>ID</th>\n",
       "      <th>Adoption</th>\n",
       "      <th>Died</th>\n",
       "      <th>Euthanasia</th>\n",
       "      <th>Return_to_owner</th>\n",
       "      <th>Transfer</th>\n",
       "    </tr>\n",
       "  </thead>\n",
       "  <tbody>\n",
       "    <tr>\n",
       "      <th>0</th>\n",
       "      <td>1</td>\n",
       "      <td>0.026828</td>\n",
       "      <td>0.002550</td>\n",
       "      <td>0.030857</td>\n",
       "      <td>0.140623</td>\n",
       "      <td>0.799142</td>\n",
       "    </tr>\n",
       "    <tr>\n",
       "      <th>1</th>\n",
       "      <td>2</td>\n",
       "      <td>0.796740</td>\n",
       "      <td>0.000452</td>\n",
       "      <td>0.005702</td>\n",
       "      <td>0.156383</td>\n",
       "      <td>0.040722</td>\n",
       "    </tr>\n",
       "    <tr>\n",
       "      <th>2</th>\n",
       "      <td>3</td>\n",
       "      <td>0.503034</td>\n",
       "      <td>0.001012</td>\n",
       "      <td>0.010297</td>\n",
       "      <td>0.167838</td>\n",
       "      <td>0.317819</td>\n",
       "    </tr>\n",
       "    <tr>\n",
       "      <th>3</th>\n",
       "      <td>4</td>\n",
       "      <td>0.262617</td>\n",
       "      <td>0.006946</td>\n",
       "      <td>0.045311</td>\n",
       "      <td>0.338869</td>\n",
       "      <td>0.346257</td>\n",
       "    </tr>\n",
       "    <tr>\n",
       "      <th>4</th>\n",
       "      <td>5</td>\n",
       "      <td>0.383399</td>\n",
       "      <td>0.001088</td>\n",
       "      <td>0.018942</td>\n",
       "      <td>0.519301</td>\n",
       "      <td>0.077270</td>\n",
       "    </tr>\n",
       "  </tbody>\n",
       "</table>\n",
       "</div>"
      ],
      "text/plain": [
       "   ID  Adoption      Died  Euthanasia  Return_to_owner  Transfer\n",
       "0   1  0.026828  0.002550    0.030857         0.140623  0.799142\n",
       "1   2  0.796740  0.000452    0.005702         0.156383  0.040722\n",
       "2   3  0.503034  0.001012    0.010297         0.167838  0.317819\n",
       "3   4  0.262617  0.006946    0.045311         0.338869  0.346257\n",
       "4   5  0.383399  0.001088    0.018942         0.519301  0.077270"
      ]
     },
     "execution_count": 79,
     "metadata": {},
     "output_type": "execute_result"
    }
   ],
   "source": [
    "dfres = proboutput(dfXtest, serID, dy)\n",
    "dfres.head()"
   ]
  },
  {
   "cell_type": "markdown",
   "metadata": {},
   "source": [
    "## Save model for web deployment"
   ]
  },
  {
   "cell_type": "code",
   "execution_count": 11,
   "metadata": {
    "collapsed": true
   },
   "outputs": [],
   "source": [
    "import joblib"
   ]
  },
  {
   "cell_type": "code",
   "execution_count": 12,
   "metadata": {
    "collapsed": false
   },
   "outputs": [
    {
     "data": {
      "text/plain": [
       "['gbc.pkl']"
      ]
     },
     "execution_count": 12,
     "metadata": {},
     "output_type": "execute_result"
    }
   ],
   "source": [
    "joblib.dump(clf, 'gbc.pkl', compress=True) "
   ]
  },
  {
   "cell_type": "code",
   "execution_count": 13,
   "metadata": {
    "collapsed": false
   },
   "outputs": [
    {
     "data": {
      "text/plain": [
       "sklearn.ensemble.gradient_boosting.GradientBoostingClassifier"
      ]
     },
     "execution_count": 13,
     "metadata": {},
     "output_type": "execute_result"
    }
   ],
   "source": [
    "test = joblib.load('gbc.pkl')\n",
    "type(test)"
   ]
  },
  {
   "cell_type": "code",
   "execution_count": 14,
   "metadata": {
    "collapsed": false
   },
   "outputs": [
    {
     "data": {
      "text/plain": [
       "Index(['Name_0', 'Name_1', 'AnimalType_Cat', 'AnimalType_Dog',\n",
       "       'SexuponOutcome_Intact Female', 'SexuponOutcome_Intact Male',\n",
       "       'SexuponOutcome_Neutered Male', 'SexuponOutcome_Spayed Female',\n",
       "       'SexuponOutcome_Unknown', 'Breed_0', 'Breed_1', 'Breed_2', 'Year_2013',\n",
       "       'Year_2014', 'Year_2015', 'Year_2016', 'Month_1', 'Month_2', 'Month_3',\n",
       "       'Month_4', 'Month_5', 'Month_6', 'Month_7', 'Month_8', 'Month_9',\n",
       "       'Month_10', 'Month_11', 'Month_12', 'DayofMonth_1', 'DayofMonth_2',\n",
       "       'DayofMonth_3', 'DayofMonth_4', 'DayofMonth_5', 'DayofMonth_6',\n",
       "       'DayofMonth_7', 'DayofMonth_8', 'DayofMonth_9', 'DayofMonth_10',\n",
       "       'DayofMonth_11', 'DayofMonth_12', 'DayofMonth_13', 'DayofMonth_14',\n",
       "       'DayofMonth_15', 'DayofMonth_16', 'DayofMonth_17', 'DayofMonth_18',\n",
       "       'DayofMonth_19', 'DayofMonth_20', 'DayofMonth_21', 'DayofMonth_22',\n",
       "       'DayofMonth_23', 'DayofMonth_24', 'DayofMonth_25', 'DayofMonth_26',\n",
       "       'DayofMonth_27', 'DayofMonth_28', 'DayofMonth_29', 'DayofMonth_30',\n",
       "       'DayofMonth_31', 'DayofWeek_0', 'DayofWeek_1', 'DayofWeek_2',\n",
       "       'DayofWeek_3', 'DayofWeek_4', 'DayofWeek_5', 'DayofWeek_6', 'Hour_0',\n",
       "       'Hour_5', 'Hour_6', 'Hour_7', 'Hour_8', 'Hour_9', 'Hour_10', 'Hour_11',\n",
       "       'Hour_12', 'Hour_13', 'Hour_14', 'Hour_15', 'Hour_16', 'Hour_17',\n",
       "       'Hour_18', 'Hour_19', 'Hour_20', 'Hour_21', 'Hour_22', 'Hour_23',\n",
       "       'Minute_0', 'Minute_1', 'AgeDays'],\n",
       "      dtype='object')"
      ]
     },
     "execution_count": 14,
     "metadata": {},
     "output_type": "execute_result"
    }
   ],
   "source": [
    "dfX.columns"
   ]
  },
  {
   "cell_type": "code",
   "execution_count": 21,
   "metadata": {
    "collapsed": false
   },
   "outputs": [
    {
     "data": {
      "text/html": [
       "<div>\n",
       "<table border=\"1\" class=\"dataframe\">\n",
       "  <thead>\n",
       "    <tr style=\"text-align: right;\">\n",
       "      <th></th>\n",
       "      <th>Name_0</th>\n",
       "      <th>Name_1</th>\n",
       "      <th>AnimalType_Cat</th>\n",
       "      <th>AnimalType_Dog</th>\n",
       "      <th>SexuponOutcome_Intact Female</th>\n",
       "      <th>SexuponOutcome_Intact Male</th>\n",
       "      <th>SexuponOutcome_Neutered Male</th>\n",
       "      <th>SexuponOutcome_Spayed Female</th>\n",
       "      <th>SexuponOutcome_Unknown</th>\n",
       "      <th>Breed_0</th>\n",
       "      <th>...</th>\n",
       "      <th>Hour_17</th>\n",
       "      <th>Hour_18</th>\n",
       "      <th>Hour_19</th>\n",
       "      <th>Hour_20</th>\n",
       "      <th>Hour_21</th>\n",
       "      <th>Hour_22</th>\n",
       "      <th>Hour_23</th>\n",
       "      <th>Minute_0</th>\n",
       "      <th>Minute_1</th>\n",
       "      <th>AgeDays</th>\n",
       "    </tr>\n",
       "  </thead>\n",
       "  <tbody>\n",
       "    <tr>\n",
       "      <th>0</th>\n",
       "      <td>0</td>\n",
       "      <td>0</td>\n",
       "      <td>0</td>\n",
       "      <td>0</td>\n",
       "      <td>0</td>\n",
       "      <td>0</td>\n",
       "      <td>0</td>\n",
       "      <td>0</td>\n",
       "      <td>0</td>\n",
       "      <td>0</td>\n",
       "      <td>...</td>\n",
       "      <td>0</td>\n",
       "      <td>0</td>\n",
       "      <td>0</td>\n",
       "      <td>0</td>\n",
       "      <td>0</td>\n",
       "      <td>0</td>\n",
       "      <td>0</td>\n",
       "      <td>0</td>\n",
       "      <td>0</td>\n",
       "      <td>0</td>\n",
       "    </tr>\n",
       "  </tbody>\n",
       "</table>\n",
       "<p>1 rows × 89 columns</p>\n",
       "</div>"
      ],
      "text/plain": [
       "   Name_0  Name_1  AnimalType_Cat  AnimalType_Dog  \\\n",
       "0       0       0               0               0   \n",
       "\n",
       "   SexuponOutcome_Intact Female  SexuponOutcome_Intact Male  \\\n",
       "0                             0                           0   \n",
       "\n",
       "   SexuponOutcome_Neutered Male  SexuponOutcome_Spayed Female  \\\n",
       "0                             0                             0   \n",
       "\n",
       "   SexuponOutcome_Unknown  Breed_0   ...     Hour_17  Hour_18  Hour_19  \\\n",
       "0                       0        0   ...           0        0        0   \n",
       "\n",
       "   Hour_20  Hour_21  Hour_22  Hour_23  Minute_0  Minute_1  AgeDays  \n",
       "0        0        0        0        0         0         0        0  \n",
       "\n",
       "[1 rows x 89 columns]"
      ]
     },
     "execution_count": 21,
     "metadata": {},
     "output_type": "execute_result"
    }
   ],
   "source": [
    "dfsa = pd.DataFrame(np.zeros(shape=(1,len(dfX.columns)), dtype=int), columns=dfX.columns)\n",
    "dfsa"
   ]
  },
  {
   "cell_type": "code",
   "execution_count": 22,
   "metadata": {
    "collapsed": false
   },
   "outputs": [
    {
     "data": {
      "text/html": [
       "<div>\n",
       "<table border=\"1\" class=\"dataframe\">\n",
       "  <thead>\n",
       "    <tr style=\"text-align: right;\">\n",
       "      <th></th>\n",
       "      <th>Name_0</th>\n",
       "      <th>Name_1</th>\n",
       "      <th>AnimalType_Cat</th>\n",
       "      <th>AnimalType_Dog</th>\n",
       "      <th>SexuponOutcome_Intact Female</th>\n",
       "      <th>SexuponOutcome_Intact Male</th>\n",
       "      <th>SexuponOutcome_Neutered Male</th>\n",
       "      <th>SexuponOutcome_Spayed Female</th>\n",
       "      <th>SexuponOutcome_Unknown</th>\n",
       "      <th>Breed_0</th>\n",
       "      <th>...</th>\n",
       "      <th>Hour_17</th>\n",
       "      <th>Hour_18</th>\n",
       "      <th>Hour_19</th>\n",
       "      <th>Hour_20</th>\n",
       "      <th>Hour_21</th>\n",
       "      <th>Hour_22</th>\n",
       "      <th>Hour_23</th>\n",
       "      <th>Minute_0</th>\n",
       "      <th>Minute_1</th>\n",
       "      <th>AgeDays</th>\n",
       "    </tr>\n",
       "  </thead>\n",
       "  <tbody>\n",
       "    <tr>\n",
       "      <th>0</th>\n",
       "      <td>0</td>\n",
       "      <td>1</td>\n",
       "      <td>0</td>\n",
       "      <td>0</td>\n",
       "      <td>0</td>\n",
       "      <td>0</td>\n",
       "      <td>0</td>\n",
       "      <td>0</td>\n",
       "      <td>0</td>\n",
       "      <td>0</td>\n",
       "      <td>...</td>\n",
       "      <td>0</td>\n",
       "      <td>0</td>\n",
       "      <td>0</td>\n",
       "      <td>0</td>\n",
       "      <td>0</td>\n",
       "      <td>0</td>\n",
       "      <td>0</td>\n",
       "      <td>0</td>\n",
       "      <td>0</td>\n",
       "      <td>0</td>\n",
       "    </tr>\n",
       "  </tbody>\n",
       "</table>\n",
       "<p>1 rows × 89 columns</p>\n",
       "</div>"
      ],
      "text/plain": [
       "   Name_0  Name_1  AnimalType_Cat  AnimalType_Dog  \\\n",
       "0       0       1               0               0   \n",
       "\n",
       "   SexuponOutcome_Intact Female  SexuponOutcome_Intact Male  \\\n",
       "0                             0                           0   \n",
       "\n",
       "   SexuponOutcome_Neutered Male  SexuponOutcome_Spayed Female  \\\n",
       "0                             0                             0   \n",
       "\n",
       "   SexuponOutcome_Unknown  Breed_0   ...     Hour_17  Hour_18  Hour_19  \\\n",
       "0                       0        0   ...           0        0        0   \n",
       "\n",
       "   Hour_20  Hour_21  Hour_22  Hour_23  Minute_0  Minute_1  AgeDays  \n",
       "0        0        0        0        0         0         0        0  \n",
       "\n",
       "[1 rows x 89 columns]"
      ]
     },
     "execution_count": 22,
     "metadata": {},
     "output_type": "execute_result"
    }
   ],
   "source": [
    "dname = {'Named':'1', 'Unnamed':'0'}\n",
    "dfsa.set_value(0, 'Name_'+dname['Named'], 1)\n",
    "dfsa"
   ]
  },
  {
   "cell_type": "code",
   "execution_count": 43,
   "metadata": {
    "collapsed": false
   },
   "outputs": [
    {
     "data": {
      "text/plain": [
       "6"
      ]
     },
     "execution_count": 43,
     "metadata": {},
     "output_type": "execute_result"
    }
   ],
   "source": [
    "dt = datetime.datetime.strptime(\"2013-10-06\", \"%Y-%m-%d\")\n",
    "dt.day"
   ]
  },
  {
   "cell_type": "code",
   "execution_count": 68,
   "metadata": {
    "collapsed": false
   },
   "outputs": [
    {
     "name": "stdout",
     "output_type": "stream",
     "text": [
      "['Name_', 'AnimalType_', 'SexuponOutcome_', 'Breed_', 'Year_', 'Month_', 'DayofMonth_', 'DayofWeek_', 'Hour_', 'Minute_', 'AgeDays']\n"
     ]
    }
   ],
   "source": [
    "p = re.compile('\\w+(?=_)')\n",
    "chops = []\n",
    "for col in dfX.columns[:-1]:\n",
    "    curr = p.search(col).group()\n",
    "    if curr not in chops:\n",
    "        chops.append(curr)\n",
    "chops = [s+'_' for s in chops]\n",
    "chops.append(dfX.columns[-1])\n",
    "print(chops)"
   ]
  },
  {
   "cell_type": "code",
   "execution_count": 72,
   "metadata": {
    "collapsed": false
   },
   "outputs": [
    {
     "data": {
      "text/plain": [
       "{0: 'Adoption',\n",
       " 1: 'Died',\n",
       " 2: 'Euthanasia',\n",
       " 3: 'Return_to_owner',\n",
       " 4: 'Transfer'}"
      ]
     },
     "execution_count": 72,
     "metadata": {},
     "output_type": "execute_result"
    }
   ],
   "source": [
    "dy"
   ]
  },
  {
   "cell_type": "code",
   "execution_count": 73,
   "metadata": {
    "collapsed": false
   },
   "outputs": [
    {
     "data": {
      "text/plain": [
       "array([0, 1, 2, 3, 4])"
      ]
     },
     "execution_count": 73,
     "metadata": {},
     "output_type": "execute_result"
    }
   ],
   "source": [
    "clf.classes_"
   ]
  },
  {
   "cell_type": "code",
   "execution_count": 123,
   "metadata": {
    "collapsed": false
   },
   "outputs": [],
   "source": [
    "def saformat(name,type,sex,breed,age,date,hour,minute):\n",
    "    cols = ['Name_0', 'Name_1', 'AnimalType_Cat', 'AnimalType_Dog',\n",
    "       'SexuponOutcome_Intact Female', 'SexuponOutcome_Intact Male',\n",
    "       'SexuponOutcome_Neutered Male', 'SexuponOutcome_Spayed Female',\n",
    "       'SexuponOutcome_Unknown', 'Breed_0', 'Breed_1', 'Breed_2', 'Year_2013',\n",
    "       'Year_2014', 'Year_2015', 'Year_2016', 'Month_1', 'Month_2', 'Month_3',\n",
    "       'Month_4', 'Month_5', 'Month_6', 'Month_7', 'Month_8', 'Month_9',\n",
    "       'Month_10', 'Month_11', 'Month_12', 'DayofMonth_1', 'DayofMonth_2',\n",
    "       'DayofMonth_3', 'DayofMonth_4', 'DayofMonth_5', 'DayofMonth_6',\n",
    "       'DayofMonth_7', 'DayofMonth_8', 'DayofMonth_9', 'DayofMonth_10',\n",
    "       'DayofMonth_11', 'DayofMonth_12', 'DayofMonth_13', 'DayofMonth_14',\n",
    "       'DayofMonth_15', 'DayofMonth_16', 'DayofMonth_17', 'DayofMonth_18',\n",
    "       'DayofMonth_19', 'DayofMonth_20', 'DayofMonth_21', 'DayofMonth_22',\n",
    "       'DayofMonth_23', 'DayofMonth_24', 'DayofMonth_25', 'DayofMonth_26',\n",
    "       'DayofMonth_27', 'DayofMonth_28', 'DayofMonth_29', 'DayofMonth_30',\n",
    "       'DayofMonth_31', 'DayofWeek_0', 'DayofWeek_1', 'DayofWeek_2',\n",
    "       'DayofWeek_3', 'DayofWeek_4', 'DayofWeek_5', 'DayofWeek_6', 'Hour_0',\n",
    "       'Hour_5', 'Hour_6', 'Hour_7', 'Hour_8', 'Hour_9', 'Hour_10', 'Hour_11',\n",
    "       'Hour_12', 'Hour_13', 'Hour_14', 'Hour_15', 'Hour_16', 'Hour_17',\n",
    "       'Hour_18', 'Hour_19', 'Hour_20', 'Hour_21', 'Hour_22', 'Hour_23',\n",
    "       'Minute_0', 'Minute_1', 'AgeDays']\n",
    "    dfsa = pd.DataFrame(np.zeros((1,len(cols)), dtype=int), columns=cols)\n",
    "    # get col name bases (before _)\n",
    "    p = re.compile('\\w+(?=_)')\n",
    "    chops = []\n",
    "    for col in cols[:-1]:\n",
    "        curr = p.search(col).group()\n",
    "        if curr not in chops:\n",
    "            chops.append(curr)\n",
    "    chops = [s+'_' for s in chops]\n",
    "    chops.append(cols[-1])\n",
    "    # dictionaries and datetime for setting values\n",
    "    dname = {'Named':'1', 'Unnamed':'0'}\n",
    "    dbreed = {'Mix':'0', 'Pure breed':'1', 'Pit bull':'2'}\n",
    "    dt = datetime.datetime.strptime(date, '%Y-%m-%d')\n",
    "    # suffixes for column names\n",
    "    locs = dict(zip(chops,[dname[name], type, sex, dbreed[breed], str(dt.year), \n",
    "                           str(dt.month), str(dt.day), str(dt.weekday()), hour, minute, '']))\n",
    "    #set values\n",
    "    for chop in chops:\n",
    "        if chop=='AgeDays':\n",
    "            dfsa.set_value(0, chop+locs[chop], convage(age))\n",
    "        else:\n",
    "            dfsa.set_value(0, chop+locs[chop], 1)\n",
    "    nparr = clf.predict_proba(dfsa)[0]\n",
    "    return ['{:.1%}'.format(float(p)) for p in nparr]\n",
    "#     return nparr"
   ]
  },
  {
   "cell_type": "code",
   "execution_count": 124,
   "metadata": {
    "collapsed": false
   },
   "outputs": [
    {
     "data": {
      "text/plain": [
       "['56.8%', '0.1%', '0.4%', '31.7%', '11.0%']"
      ]
     },
     "execution_count": 124,
     "metadata": {},
     "output_type": "execute_result"
    }
   ],
   "source": [
    "probs = saformat('Named', 'Dog', 'Neutered Male', 'Mix', \n",
    "                    '1 years', '2016-01-01', '17', '0')\n",
    "probs"
   ]
  },
  {
   "cell_type": "code",
   "execution_count": null,
   "metadata": {
    "collapsed": true
   },
   "outputs": [],
   "source": []
  }
 ],
 "metadata": {
  "kernelspec": {
   "display_name": "Python 3",
   "language": "python",
   "name": "python3"
  },
  "language_info": {
   "codemirror_mode": {
    "name": "ipython",
    "version": 3
   },
   "file_extension": ".py",
   "mimetype": "text/x-python",
   "name": "python",
   "nbconvert_exporter": "python",
   "pygments_lexer": "ipython3",
   "version": "3.5.1+"
  }
 },
 "nbformat": 4,
 "nbformat_minor": 0
}
