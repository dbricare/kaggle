{
 "cells": [
  {
   "cell_type": "markdown",
   "metadata": {},
   "source": [
    "<a id=\"top\"></a>\n",
    "\n",
    "# Home Prices in King County, WA\n",
    "---\n",
    "\n",
    "## Project description\n",
    "\n",
    "[King County](https://www.google.com/maps/place/King+County,+WA/@47.4269284,-122.9180846,8z/data=!3m1!4b1!4m5!3m4!1s0x54905c8c832d7837:0xe280ab6b8b64e03e!8m2!3d47.5480339!4d-121.9836029) is located in Washington and contains the Seattle metropolitan area. This project will explore the use of several regression methods in order to find the most accurate prediction of home prices in the area. Data downloaded from [Kaggle](https://www.kaggle.com/harlfoxem/housesalesprediction).\n",
    "\n",
    "Some limited information is available on the [county website](http://info.kingcounty.gov/assessor/esales/Glossary.aspx?type=r), otherwise best judgement was used in interpreting the meaning of each feature in the dataset.\n",
    "\n",
    "### Home Price and Home Grade by Zipcode\n",
    "\n",
    "<a href=\"http://bricdata.science/static/img/priceandgradebyzipcode.png\"><img src=\"http://bricdata.science/static/img/priceandgradebyzipcode.png\" width=\"600\"></a>\n",
    "\n",
    "<p style=\"text-align: center;\"><i>* Maps generated with Tableau</i></p>\n",
    "\n",
    "## Contents\n",
    "1. [Exploratory data analysis](#eda)\n",
    "1. [Simple model](#simple)\n",
    "1. [Model including location](#loc)\n",
    "1. [Time-series model](#timeseries)\n",
    "1. [Combining estimators](#comb)\n",
    "1. [Conclusion](#concl)\n",
    "\n",
    "## Next steps\n",
    "- Gradient boosting trees perform well here however it might be worthwhile to compare [XGBoost](https://xgboost.readthedocs.io/en/latest/) performance against the scikit-learn gradient-boosting implementation."
   ]
  },
  {
   "cell_type": "code",
   "execution_count": 30,
   "metadata": {
    "collapsed": false
   },
   "outputs": [],
   "source": [
    "# import libraries\n",
    "\n",
    "import pandas as pd\n",
    "import numpy as np\n",
    "import matplotlib.pyplot as plt\n",
    "import seaborn as sns\n",
    "sns.set_color_codes()\n",
    "sns.set(font_scale=1.25)\n",
    "\n",
    "import joblib\n",
    "import os, sys\n",
    "utilpath = os.path.abspath(os.path.join('..', '..', 'mypyutil'))\n",
    "sys.path.append(utilpath)\n",
    "# from InspectPandas import inspectdata\n",
    "\n",
    "import statsmodels.formula.api as smf\n",
    "import statsmodels.api as sm\n",
    "\n",
    "from sklearn.linear_model import RidgeCV, LassoCV, LinearRegression\n",
    "from sklearn.model_selection import train_test_split, TimeSeriesSplit, GridSearchCV\n",
    "from sklearn.metrics import mean_squared_error, r2_score\n",
    "from sklearn.preprocessing import StandardScaler\n",
    "from sklearn.ensemble import RandomForestRegressor, GradientBoostingRegressor\n",
    "from sklearn.svm import SVR\n",
    "from sklearn.utils import shuffle\n",
    "from sklearn.pipeline import Pipeline\n",
    "\n",
    "%matplotlib inline"
   ]
  },
  {
   "cell_type": "markdown",
   "metadata": {},
   "source": [
    "<a id=\"eda\"></a>\n",
    "\n",
    "[Return to top](#top)\n",
    "\n",
    "---\n",
    "\n",
    "# Exploratory data analysis"
   ]
  },
  {
   "cell_type": "code",
   "execution_count": 16,
   "metadata": {
    "collapsed": false
   },
   "outputs": [
    {
     "name": "stdout",
     "output_type": "stream",
     "text": [
      "<class 'pandas.core.frame.DataFrame'>\n",
      "RangeIndex: 21613 entries, 0 to 21612\n",
      "Data columns (total 21 columns):\n",
      "id               21613 non-null int64\n",
      "date             21613 non-null object\n",
      "price            21613 non-null float64\n",
      "bedrooms         21613 non-null int64\n",
      "bathrooms        21613 non-null float64\n",
      "sqft_living      21613 non-null int64\n",
      "sqft_lot         21613 non-null int64\n",
      "floors           21613 non-null float64\n",
      "waterfront       21613 non-null int64\n",
      "view             21613 non-null int64\n",
      "condition        21613 non-null int64\n",
      "grade            21613 non-null int64\n",
      "sqft_above       21613 non-null int64\n",
      "sqft_basement    21613 non-null int64\n",
      "yr_built         21613 non-null int64\n",
      "yr_renovated     21613 non-null int64\n",
      "zipcode          21613 non-null int64\n",
      "lat              21613 non-null float64\n",
      "long             21613 non-null float64\n",
      "sqft_living15    21613 non-null int64\n",
      "sqft_lot15       21613 non-null int64\n",
      "dtypes: float64(5), int64(15), object(1)\n",
      "memory usage: 3.5+ MB\n"
     ]
    }
   ],
   "source": [
    "# load and inspect data\n",
    "\n",
    "# df = inspectdata('kc_house_data.csv.zip')\n",
    "df = pd.read_csv('kc_house_data.csv.zip', sep=',', compression='zip')\n",
    "df.info()"
   ]
  },
  {
   "cell_type": "markdown",
   "metadata": {},
   "source": [
    "### Note:\n",
    "Looks like the data provider cleaned up the dataset a bit so there aren't any missing values."
   ]
  },
  {
   "cell_type": "code",
   "execution_count": 172,
   "metadata": {
    "collapsed": false
   },
   "outputs": [
    {
     "data": {
      "image/png": "[encoded data removed]",
      "text/plain": [
       "<matplotlib.figure.Figure at 0x7fa5797cb080>"
      ]
     },
     "metadata": {},
     "output_type": "display_data"
    }
   ],
   "source": [
    "# distribution of prices\n",
    "\n",
    "plt.figure(figsize=(10,6))\n",
    "plt.xlabel('Price')\n",
    "plt.ylabel('Occurences')\n",
    "_ = df['price'].hist(bins=100)"
   ]
  },
  {
   "cell_type": "code",
   "execution_count": 173,
   "metadata": {
    "collapsed": false
   },
   "outputs": [
    {
     "name": "stdout",
     "output_type": "stream",
     "text": [
      "\n",
      "waterfront\n",
      "[0 1]\n",
      "\n",
      "view\n",
      "[0 3 4 2 1]\n",
      "\n",
      "condition\n",
      "[3 5 4 1 2]\n",
      "\n",
      "zipcode\n",
      "[98178 98125 98028 98136 98074 98053 98003 98198 98146 98038 98007 98115\n",
      " 98107 98126 98019 98103 98002 98133 98040 98092 98030 98119 98112 98052\n",
      " 98027 98117 98058 98001 98056 98166 98023 98070 98148 98105 98042 98008\n",
      " 98059 98122 98144 98004 98005 98034 98075 98116 98010 98118 98199 98032\n",
      " 98045 98102 98077 98108 98168 98177 98065 98029 98006 98109 98022 98033\n",
      " 98155 98024 98011 98031 98106 98072 98188 98014 98055 98039]\n"
     ]
    }
   ],
   "source": [
    "# what are the categorical variables?\n",
    "\n",
    "catvars = ['waterfront', 'view', 'condition', 'zipcode']\n",
    "\n",
    "for var in catvars:\n",
    "    print('')\n",
    "    print(var)\n",
    "    print(df[var].unique())"
   ]
  },
  {
   "cell_type": "markdown",
   "metadata": {},
   "source": [
    "### Note:\n",
    "\n",
    "Based on the possible values, **condition** and **view** are likely ordinal variables. But without more information it is difficult to know with certainty.\n",
    "\n",
    "**Waterfront** is likely a binary variable indicating if the property is on the waterfront or not, thus does not require encoding or additional processing.\n",
    "\n",
    "Suggest checking correlation to see if variables are likely imporant."
   ]
  },
  {
   "cell_type": "code",
   "execution_count": 174,
   "metadata": {
    "collapsed": false,
    "scrolled": true
   },
   "outputs": [
    {
     "data": {
      "text/html": [
       "<div>\n",
       "<table border=\"1\" class=\"dataframe\">\n",
       "  <thead>\n",
       "    <tr style=\"text-align: right;\">\n",
       "      <th></th>\n",
       "      <th>id</th>\n",
       "      <th>price</th>\n",
       "      <th>bedrooms</th>\n",
       "      <th>bathrooms</th>\n",
       "      <th>sqft_living</th>\n",
       "      <th>sqft_lot</th>\n",
       "      <th>floors</th>\n",
       "      <th>waterfront</th>\n",
       "      <th>view</th>\n",
       "      <th>condition</th>\n",
       "      <th>grade</th>\n",
       "      <th>sqft_above</th>\n",
       "      <th>sqft_basement</th>\n",
       "      <th>yr_built</th>\n",
       "      <th>yr_renovated</th>\n",
       "      <th>zipcode</th>\n",
       "      <th>lat</th>\n",
       "      <th>long</th>\n",
       "      <th>sqft_living15</th>\n",
       "      <th>sqft_lot15</th>\n",
       "    </tr>\n",
       "  </thead>\n",
       "  <tbody>\n",
       "    <tr>\n",
       "      <th>count</th>\n",
       "      <td>2.161300e+04</td>\n",
       "      <td>2.161300e+04</td>\n",
       "      <td>21613.000000</td>\n",
       "      <td>21613.000000</td>\n",
       "      <td>21613.000000</td>\n",
       "      <td>2.161300e+04</td>\n",
       "      <td>21613.000000</td>\n",
       "      <td>21613.000000</td>\n",
       "      <td>21613.000000</td>\n",
       "      <td>21613.000000</td>\n",
       "      <td>21613.000000</td>\n",
       "      <td>21613.000000</td>\n",
       "      <td>21613.000000</td>\n",
       "      <td>21613.000000</td>\n",
       "      <td>21613.000000</td>\n",
       "      <td>21613.000000</td>\n",
       "      <td>21613.000000</td>\n",
       "      <td>21613.000000</td>\n",
       "      <td>21613.000000</td>\n",
       "      <td>21613.000000</td>\n",
       "    </tr>\n",
       "    <tr>\n",
       "      <th>mean</th>\n",
       "      <td>4.580302e+09</td>\n",
       "      <td>5.400881e+05</td>\n",
       "      <td>3.370842</td>\n",
       "      <td>2.114757</td>\n",
       "      <td>2079.899736</td>\n",
       "      <td>1.510697e+04</td>\n",
       "      <td>1.494309</td>\n",
       "      <td>0.007542</td>\n",
       "      <td>0.234303</td>\n",
       "      <td>3.409430</td>\n",
       "      <td>7.656873</td>\n",
       "      <td>1788.390691</td>\n",
       "      <td>291.509045</td>\n",
       "      <td>1971.005136</td>\n",
       "      <td>84.402258</td>\n",
       "      <td>98077.939805</td>\n",
       "      <td>47.560053</td>\n",
       "      <td>-122.213896</td>\n",
       "      <td>1986.552492</td>\n",
       "      <td>12768.455652</td>\n",
       "    </tr>\n",
       "    <tr>\n",
       "      <th>std</th>\n",
       "      <td>2.876566e+09</td>\n",
       "      <td>3.671272e+05</td>\n",
       "      <td>0.930062</td>\n",
       "      <td>0.770163</td>\n",
       "      <td>918.440897</td>\n",
       "      <td>4.142051e+04</td>\n",
       "      <td>0.539989</td>\n",
       "      <td>0.086517</td>\n",
       "      <td>0.766318</td>\n",
       "      <td>0.650743</td>\n",
       "      <td>1.175459</td>\n",
       "      <td>828.090978</td>\n",
       "      <td>442.575043</td>\n",
       "      <td>29.373411</td>\n",
       "      <td>401.679240</td>\n",
       "      <td>53.505026</td>\n",
       "      <td>0.138564</td>\n",
       "      <td>0.140828</td>\n",
       "      <td>685.391304</td>\n",
       "      <td>27304.179631</td>\n",
       "    </tr>\n",
       "    <tr>\n",
       "      <th>min</th>\n",
       "      <td>1.000102e+06</td>\n",
       "      <td>7.500000e+04</td>\n",
       "      <td>0.000000</td>\n",
       "      <td>0.000000</td>\n",
       "      <td>290.000000</td>\n",
       "      <td>5.200000e+02</td>\n",
       "      <td>1.000000</td>\n",
       "      <td>0.000000</td>\n",
       "      <td>0.000000</td>\n",
       "      <td>1.000000</td>\n",
       "      <td>1.000000</td>\n",
       "      <td>290.000000</td>\n",
       "      <td>0.000000</td>\n",
       "      <td>1900.000000</td>\n",
       "      <td>0.000000</td>\n",
       "      <td>98001.000000</td>\n",
       "      <td>47.155900</td>\n",
       "      <td>-122.519000</td>\n",
       "      <td>399.000000</td>\n",
       "      <td>651.000000</td>\n",
       "    </tr>\n",
       "    <tr>\n",
       "      <th>25%</th>\n",
       "      <td>2.123049e+09</td>\n",
       "      <td>3.219500e+05</td>\n",
       "      <td>3.000000</td>\n",
       "      <td>1.750000</td>\n",
       "      <td>1427.000000</td>\n",
       "      <td>5.040000e+03</td>\n",
       "      <td>1.000000</td>\n",
       "      <td>0.000000</td>\n",
       "      <td>0.000000</td>\n",
       "      <td>3.000000</td>\n",
       "      <td>7.000000</td>\n",
       "      <td>1190.000000</td>\n",
       "      <td>0.000000</td>\n",
       "      <td>1951.000000</td>\n",
       "      <td>0.000000</td>\n",
       "      <td>98033.000000</td>\n",
       "      <td>47.471000</td>\n",
       "      <td>-122.328000</td>\n",
       "      <td>1490.000000</td>\n",
       "      <td>5100.000000</td>\n",
       "    </tr>\n",
       "    <tr>\n",
       "      <th>50%</th>\n",
       "      <td>3.904930e+09</td>\n",
       "      <td>4.500000e+05</td>\n",
       "      <td>3.000000</td>\n",
       "      <td>2.250000</td>\n",
       "      <td>1910.000000</td>\n",
       "      <td>7.618000e+03</td>\n",
       "      <td>1.500000</td>\n",
       "      <td>0.000000</td>\n",
       "      <td>0.000000</td>\n",
       "      <td>3.000000</td>\n",
       "      <td>7.000000</td>\n",
       "      <td>1560.000000</td>\n",
       "      <td>0.000000</td>\n",
       "      <td>1975.000000</td>\n",
       "      <td>0.000000</td>\n",
       "      <td>98065.000000</td>\n",
       "      <td>47.571800</td>\n",
       "      <td>-122.230000</td>\n",
       "      <td>1840.000000</td>\n",
       "      <td>7620.000000</td>\n",
       "    </tr>\n",
       "    <tr>\n",
       "      <th>75%</th>\n",
       "      <td>7.308900e+09</td>\n",
       "      <td>6.450000e+05</td>\n",
       "      <td>4.000000</td>\n",
       "      <td>2.500000</td>\n",
       "      <td>2550.000000</td>\n",
       "      <td>1.068800e+04</td>\n",
       "      <td>2.000000</td>\n",
       "      <td>0.000000</td>\n",
       "      <td>0.000000</td>\n",
       "      <td>4.000000</td>\n",
       "      <td>8.000000</td>\n",
       "      <td>2210.000000</td>\n",
       "      <td>560.000000</td>\n",
       "      <td>1997.000000</td>\n",
       "      <td>0.000000</td>\n",
       "      <td>98118.000000</td>\n",
       "      <td>47.678000</td>\n",
       "      <td>-122.125000</td>\n",
       "      <td>2360.000000</td>\n",
       "      <td>10083.000000</td>\n",
       "    </tr>\n",
       "    <tr>\n",
       "      <th>max</th>\n",
       "      <td>9.900000e+09</td>\n",
       "      <td>7.700000e+06</td>\n",
       "      <td>33.000000</td>\n",
       "      <td>8.000000</td>\n",
       "      <td>13540.000000</td>\n",
       "      <td>1.651359e+06</td>\n",
       "      <td>3.500000</td>\n",
       "      <td>1.000000</td>\n",
       "      <td>4.000000</td>\n",
       "      <td>5.000000</td>\n",
       "      <td>13.000000</td>\n",
       "      <td>9410.000000</td>\n",
       "      <td>4820.000000</td>\n",
       "      <td>2015.000000</td>\n",
       "      <td>2015.000000</td>\n",
       "      <td>98199.000000</td>\n",
       "      <td>47.777600</td>\n",
       "      <td>-121.315000</td>\n",
       "      <td>6210.000000</td>\n",
       "      <td>871200.000000</td>\n",
       "    </tr>\n",
       "  </tbody>\n",
       "</table>\n",
       "</div>"
      ],
      "text/plain": [
       "                 id         price      bedrooms     bathrooms   sqft_living  \\\n",
       "count  2.161300e+04  2.161300e+04  21613.000000  21613.000000  21613.000000   \n",
       "mean   4.580302e+09  5.400881e+05      3.370842      2.114757   2079.899736   \n",
       "std    2.876566e+09  3.671272e+05      0.930062      0.770163    918.440897   \n",
       "min    1.000102e+06  7.500000e+04      0.000000      0.000000    290.000000   \n",
       "25%    2.123049e+09  3.219500e+05      3.000000      1.750000   1427.000000   \n",
       "50%    3.904930e+09  4.500000e+05      3.000000      2.250000   1910.000000   \n",
       "75%    7.308900e+09  6.450000e+05      4.000000      2.500000   2550.000000   \n",
       "max    9.900000e+09  7.700000e+06     33.000000      8.000000  13540.000000   \n",
       "\n",
       "           sqft_lot        floors    waterfront          view     condition  \\\n",
       "count  2.161300e+04  21613.000000  21613.000000  21613.000000  21613.000000   \n",
       "mean   1.510697e+04      1.494309      0.007542      0.234303      3.409430   \n",
       "std    4.142051e+04      0.539989      0.086517      0.766318      0.650743   \n",
       "min    5.200000e+02      1.000000      0.000000      0.000000      1.000000   \n",
       "25%    5.040000e+03      1.000000      0.000000      0.000000      3.000000   \n",
       "50%    7.618000e+03      1.500000      0.000000      0.000000      3.000000   \n",
       "75%    1.068800e+04      2.000000      0.000000      0.000000      4.000000   \n",
       "max    1.651359e+06      3.500000      1.000000      4.000000      5.000000   \n",
       "\n",
       "              grade    sqft_above  sqft_basement      yr_built  yr_renovated  \\\n",
       "count  21613.000000  21613.000000   21613.000000  21613.000000  21613.000000   \n",
       "mean       7.656873   1788.390691     291.509045   1971.005136     84.402258   \n",
       "std        1.175459    828.090978     442.575043     29.373411    401.679240   \n",
       "min        1.000000    290.000000       0.000000   1900.000000      0.000000   \n",
       "25%        7.000000   1190.000000       0.000000   1951.000000      0.000000   \n",
       "50%        7.000000   1560.000000       0.000000   1975.000000      0.000000   \n",
       "75%        8.000000   2210.000000     560.000000   1997.000000      0.000000   \n",
       "max       13.000000   9410.000000    4820.000000   2015.000000   2015.000000   \n",
       "\n",
       "            zipcode           lat          long  sqft_living15     sqft_lot15  \n",
       "count  21613.000000  21613.000000  21613.000000   21613.000000   21613.000000  \n",
       "mean   98077.939805     47.560053   -122.213896    1986.552492   12768.455652  \n",
       "std       53.505026      0.138564      0.140828     685.391304   27304.179631  \n",
       "min    98001.000000     47.155900   -122.519000     399.000000     651.000000  \n",
       "25%    98033.000000     47.471000   -122.328000    1490.000000    5100.000000  \n",
       "50%    98065.000000     47.571800   -122.230000    1840.000000    7620.000000  \n",
       "75%    98118.000000     47.678000   -122.125000    2360.000000   10083.000000  \n",
       "max    98199.000000     47.777600   -121.315000    6210.000000  871200.000000  "
      ]
     },
     "execution_count": 174,
     "metadata": {},
     "output_type": "execute_result"
    }
   ],
   "source": [
    "# summary statistics for each of the variables\n",
    "\n",
    "df.describe()"
   ]
  },
  {
   "cell_type": "code",
   "execution_count": 6,
   "metadata": {
    "collapsed": false
   },
   "outputs": [
    {
     "data": {
      "text/plain": [
       "<matplotlib.text.Text at 0x10e048710>"
      ]
     },
     "execution_count": 6,
     "metadata": {},
     "output_type": "execute_result"
    },
    {
     "data": {
      "image/png": "[encoded data removed]",
      "text/plain": [
       "<matplotlib.figure.Figure at 0x10e1b9240>"
      ]
     },
     "metadata": {},
     "output_type": "display_data"
    }
   ],
   "source": [
    "# check for extreme outliers or nonsensical values\n",
    "\n",
    "f,ax = plt.subplots(4, 1, figsize=(10,16))\n",
    "\n",
    "df[['bedrooms', 'bathrooms', 'floors']].plot(kind='box', vert=False, sym='*', ax=ax[0])\n",
    "\n",
    "sqfts = [col for col in df.columns if 'sqft' in col and 'lot' not in col]\n",
    "df[sqfts].plot(kind='box', vert=False, sym='*', ax=ax[1])\n",
    "\n",
    "df[[col for col in df.columns if 'sqft' in col and 'lot' in col]].plot(kind='box', vert=False, sym='*', ax=ax[2])\n",
    "\n",
    "df[[col for col in df.columns if 'yr' in col]].plot(kind='box', vert=False, sym='*', ax=ax[3])\n",
    "\n",
    "ax[0].set_xlabel('Count')\n",
    "ax[1].set_xlabel('Square Feet')\n",
    "ax[2].set_xlabel('Square Feet')\n",
    "ax[3].set_xlabel('Year')"
   ]
  },
  {
   "cell_type": "markdown",
   "metadata": {},
   "source": [
    "### Note:\n",
    "\n",
    "Many values for **`yr_renovated`** are zero; the most reasonable interpretation is that these houses were never renovated. Perhaps then, the features with **`15`** indicate the difference between the dimensions of the house in 2015 and as it was originally constructed?\n",
    "\n",
    "Also 33 bedrooms seems excessive. Perhaps its a typo?"
   ]
  },
  {
   "cell_type": "code",
   "execution_count": 3,
   "metadata": {
    "collapsed": false
   },
   "outputs": [
    {
     "data": {
      "text/html": [
       "<div>\n",
       "<table border=\"1\" class=\"dataframe\">\n",
       "  <thead>\n",
       "    <tr style=\"text-align: right;\">\n",
       "      <th></th>\n",
       "      <th>id</th>\n",
       "      <th>date</th>\n",
       "      <th>price</th>\n",
       "      <th>bedrooms</th>\n",
       "      <th>bathrooms</th>\n",
       "      <th>sqft_living</th>\n",
       "      <th>sqft_lot</th>\n",
       "      <th>floors</th>\n",
       "      <th>waterfront</th>\n",
       "      <th>view</th>\n",
       "      <th>...</th>\n",
       "      <th>grade</th>\n",
       "      <th>sqft_above</th>\n",
       "      <th>sqft_basement</th>\n",
       "      <th>yr_built</th>\n",
       "      <th>yr_renovated</th>\n",
       "      <th>zipcode</th>\n",
       "      <th>lat</th>\n",
       "      <th>long</th>\n",
       "      <th>sqft_living15</th>\n",
       "      <th>sqft_lot15</th>\n",
       "    </tr>\n",
       "  </thead>\n",
       "  <tbody>\n",
       "    <tr>\n",
       "      <th>15870</th>\n",
       "      <td>2402100895</td>\n",
       "      <td>20140625T000000</td>\n",
       "      <td>640000.0</td>\n",
       "      <td>33</td>\n",
       "      <td>1.75</td>\n",
       "      <td>1620</td>\n",
       "      <td>6000</td>\n",
       "      <td>1.0</td>\n",
       "      <td>0</td>\n",
       "      <td>0</td>\n",
       "      <td>...</td>\n",
       "      <td>7</td>\n",
       "      <td>1040</td>\n",
       "      <td>580</td>\n",
       "      <td>1947</td>\n",
       "      <td>0</td>\n",
       "      <td>98103</td>\n",
       "      <td>47.6878</td>\n",
       "      <td>-122.331</td>\n",
       "      <td>1330</td>\n",
       "      <td>4700</td>\n",
       "    </tr>\n",
       "  </tbody>\n",
       "</table>\n",
       "<p>1 rows × 21 columns</p>\n",
       "</div>"
      ],
      "text/plain": [
       "               id             date     price  bedrooms  bathrooms  \\\n",
       "15870  2402100895  20140625T000000  640000.0        33       1.75   \n",
       "\n",
       "       sqft_living  sqft_lot  floors  waterfront  view     ...      grade  \\\n",
       "15870         1620      6000     1.0           0     0     ...          7   \n",
       "\n",
       "       sqft_above  sqft_basement  yr_built  yr_renovated  zipcode      lat  \\\n",
       "15870        1040            580      1947             0    98103  47.6878   \n",
       "\n",
       "          long  sqft_living15  sqft_lot15  \n",
       "15870 -122.331           1330        4700  \n",
       "\n",
       "[1 rows x 21 columns]"
      ]
     },
     "execution_count": 3,
     "metadata": {},
     "output_type": "execute_result"
    }
   ],
   "source": [
    "# exploring the 33 bedrooms house\n",
    "\n",
    "df[df['bedrooms']==33]"
   ]
  },
  {
   "cell_type": "markdown",
   "metadata": {
    "collapsed": true
   },
   "source": [
    "### Note:\n",
    "\n",
    "It would seem to be a typo, as if the number of bedrooms should be 3. While this would make sense intuitively, it is possible to use a quick regression model based on some obvious features (**`price`**, **`bathrooms`**, **`sqft_living`**) to see if a value of 3 is supported."
   ]
  },
  {
   "cell_type": "code",
   "execution_count": 177,
   "metadata": {
    "collapsed": false
   },
   "outputs": [
    {
     "name": "stdout",
     "output_type": "stream",
     "text": [
      "Predicted bathrooms for example with 33: 3.0\n"
     ]
    }
   ],
   "source": [
    "lr = LinearRegression()\n",
    "ss = StandardScaler()\n",
    "Xstd = ss.fit_transform(df[['price', 'bathrooms', 'sqft_living']])\n",
    "dfXstd = pd.DataFrame(Xstd, columns=['price', 'bathrooms', 'sqft_living'])\n",
    "Xstd = dfXstd.drop(15870, axis=0)\n",
    "y = df['bedrooms'].drop(15870, axis=0)\n",
    "\n",
    "lr.fit(Xstd, y)\n",
    "print('Predicted bathrooms for example with 33: {0:.1f}'.format(lr.predict(dfXstd.iloc[15870].reshape(1,-1))[0]))"
   ]
  },
  {
   "cell_type": "markdown",
   "metadata": {},
   "source": [
    "### Note:\n",
    "\n",
    "So a simple linear regression model suggests the number of bedrooms for this house should be 3."
   ]
  },
  {
   "cell_type": "code",
   "execution_count": 17,
   "metadata": {
    "collapsed": false
   },
   "outputs": [
    {
     "data": {
      "text/html": [
       "<div>\n",
       "<table border=\"1\" class=\"dataframe\">\n",
       "  <thead>\n",
       "    <tr style=\"text-align: right;\">\n",
       "      <th></th>\n",
       "      <th>id</th>\n",
       "      <th>date</th>\n",
       "      <th>price</th>\n",
       "      <th>bedrooms</th>\n",
       "      <th>bathrooms</th>\n",
       "      <th>sqft_living</th>\n",
       "      <th>sqft_lot</th>\n",
       "      <th>floors</th>\n",
       "      <th>waterfront</th>\n",
       "      <th>view</th>\n",
       "      <th>...</th>\n",
       "      <th>grade</th>\n",
       "      <th>sqft_above</th>\n",
       "      <th>sqft_basement</th>\n",
       "      <th>yr_built</th>\n",
       "      <th>yr_renovated</th>\n",
       "      <th>zipcode</th>\n",
       "      <th>lat</th>\n",
       "      <th>long</th>\n",
       "      <th>sqft_living15</th>\n",
       "      <th>sqft_lot15</th>\n",
       "    </tr>\n",
       "  </thead>\n",
       "  <tbody>\n",
       "    <tr>\n",
       "      <th>15870</th>\n",
       "      <td>2402100895</td>\n",
       "      <td>20140625T000000</td>\n",
       "      <td>640000.0</td>\n",
       "      <td>3</td>\n",
       "      <td>1.75</td>\n",
       "      <td>1620</td>\n",
       "      <td>6000</td>\n",
       "      <td>1.0</td>\n",
       "      <td>0</td>\n",
       "      <td>0</td>\n",
       "      <td>...</td>\n",
       "      <td>7</td>\n",
       "      <td>1040</td>\n",
       "      <td>580</td>\n",
       "      <td>1947</td>\n",
       "      <td>0</td>\n",
       "      <td>98103</td>\n",
       "      <td>47.6878</td>\n",
       "      <td>-122.331</td>\n",
       "      <td>1330</td>\n",
       "      <td>4700</td>\n",
       "    </tr>\n",
       "  </tbody>\n",
       "</table>\n",
       "<p>1 rows × 21 columns</p>\n",
       "</div>"
      ],
      "text/plain": [
       "               id             date     price  bedrooms  bathrooms  \\\n",
       "15870  2402100895  20140625T000000  640000.0         3       1.75   \n",
       "\n",
       "       sqft_living  sqft_lot  floors  waterfront  view     ...      grade  \\\n",
       "15870         1620      6000     1.0           0     0     ...          7   \n",
       "\n",
       "       sqft_above  sqft_basement  yr_built  yr_renovated  zipcode      lat  \\\n",
       "15870        1040            580      1947             0    98103  47.6878   \n",
       "\n",
       "          long  sqft_living15  sqft_lot15  \n",
       "15870 -122.331           1330        4700  \n",
       "\n",
       "[1 rows x 21 columns]"
      ]
     },
     "execution_count": 17,
     "metadata": {},
     "output_type": "execute_result"
    }
   ],
   "source": [
    "# set bedrooms to 3 for mistaken value\n",
    "\n",
    "df.set_value(15870, 'bedrooms', 3)\n",
    "df[df.id == 2402100895]"
   ]
  },
  {
   "cell_type": "code",
   "execution_count": 18,
   "metadata": {
    "collapsed": false
   },
   "outputs": [
    {
     "data": {
      "text/html": [
       "<div>\n",
       "<table border=\"1\" class=\"dataframe\">\n",
       "  <thead>\n",
       "    <tr style=\"text-align: right;\">\n",
       "      <th></th>\n",
       "      <th>livingdiff</th>\n",
       "      <th>lotdiff</th>\n",
       "    </tr>\n",
       "  </thead>\n",
       "  <tbody>\n",
       "    <tr>\n",
       "      <th>count</th>\n",
       "      <td>20699.000000</td>\n",
       "      <td>2.069900e+04</td>\n",
       "    </tr>\n",
       "    <tr>\n",
       "      <th>mean</th>\n",
       "      <td>-82.317745</td>\n",
       "      <td>-2.316542e+03</td>\n",
       "    </tr>\n",
       "    <tr>\n",
       "      <th>std</th>\n",
       "      <td>585.238849</td>\n",
       "      <td>2.912757e+04</td>\n",
       "    </tr>\n",
       "    <tr>\n",
       "      <th>min</th>\n",
       "      <td>-8690.000000</td>\n",
       "      <td>-1.225778e+06</td>\n",
       "    </tr>\n",
       "    <tr>\n",
       "      <th>25%</th>\n",
       "      <td>-290.000000</td>\n",
       "      <td>-6.700000e+02</td>\n",
       "    </tr>\n",
       "    <tr>\n",
       "      <th>50%</th>\n",
       "      <td>0.000000</td>\n",
       "      <td>0.000000e+00</td>\n",
       "    </tr>\n",
       "    <tr>\n",
       "      <th>75%</th>\n",
       "      <td>220.000000</td>\n",
       "      <td>4.150000e+02</td>\n",
       "    </tr>\n",
       "    <tr>\n",
       "      <th>max</th>\n",
       "      <td>2310.000000</td>\n",
       "      <td>3.268790e+05</td>\n",
       "    </tr>\n",
       "  </tbody>\n",
       "</table>\n",
       "</div>"
      ],
      "text/plain": [
       "         livingdiff       lotdiff\n",
       "count  20699.000000  2.069900e+04\n",
       "mean     -82.317745 -2.316542e+03\n",
       "std      585.238849  2.912757e+04\n",
       "min    -8690.000000 -1.225778e+06\n",
       "25%     -290.000000 -6.700000e+02\n",
       "50%        0.000000  0.000000e+00\n",
       "75%      220.000000  4.150000e+02\n",
       "max     2310.000000  3.268790e+05"
      ]
     },
     "execution_count": 18,
     "metadata": {},
     "output_type": "execute_result"
    }
   ],
   "source": [
    "# examining the other variables...\n",
    "# what are the changes over time for living space and lot size for non-renovated houses?\n",
    "\n",
    "df['livingdiff'] = df['sqft_living15'] - df['sqft_living']\n",
    "df['lotdiff'] = df['sqft_lot15'] - df['sqft_lot']\n",
    "df[['livingdiff', 'lotdiff']][df['yr_renovated']==0].describe()"
   ]
  },
  {
   "cell_type": "code",
   "execution_count": 19,
   "metadata": {
    "collapsed": false
   },
   "outputs": [
    {
     "data": {
      "text/html": [
       "<div>\n",
       "<table border=\"1\" class=\"dataframe\">\n",
       "  <thead>\n",
       "    <tr style=\"text-align: right;\">\n",
       "      <th></th>\n",
       "      <th>livingdiff</th>\n",
       "      <th>lotdiff</th>\n",
       "    </tr>\n",
       "  </thead>\n",
       "  <tbody>\n",
       "    <tr>\n",
       "      <th>count</th>\n",
       "      <td>914.000000</td>\n",
       "      <td>914.000000</td>\n",
       "    </tr>\n",
       "    <tr>\n",
       "      <th>mean</th>\n",
       "      <td>-343.128009</td>\n",
       "      <td>-2836.050328</td>\n",
       "    </tr>\n",
       "    <tr>\n",
       "      <th>std</th>\n",
       "      <td>845.506489</td>\n",
       "      <td>23496.634059</td>\n",
       "    </tr>\n",
       "    <tr>\n",
       "      <th>min</th>\n",
       "      <td>-8110.000000</td>\n",
       "      <td>-280213.000000</td>\n",
       "    </tr>\n",
       "    <tr>\n",
       "      <th>25%</th>\n",
       "      <td>-780.000000</td>\n",
       "      <td>-1099.000000</td>\n",
       "    </tr>\n",
       "    <tr>\n",
       "      <th>50%</th>\n",
       "      <td>-215.000000</td>\n",
       "      <td>0.000000</td>\n",
       "    </tr>\n",
       "    <tr>\n",
       "      <th>75%</th>\n",
       "      <td>123.000000</td>\n",
       "      <td>632.000000</td>\n",
       "    </tr>\n",
       "    <tr>\n",
       "      <th>max</th>\n",
       "      <td>1960.000000</td>\n",
       "      <td>208216.000000</td>\n",
       "    </tr>\n",
       "  </tbody>\n",
       "</table>\n",
       "</div>"
      ],
      "text/plain": [
       "        livingdiff        lotdiff\n",
       "count   914.000000     914.000000\n",
       "mean   -343.128009   -2836.050328\n",
       "std     845.506489   23496.634059\n",
       "min   -8110.000000 -280213.000000\n",
       "25%    -780.000000   -1099.000000\n",
       "50%    -215.000000       0.000000\n",
       "75%     123.000000     632.000000\n",
       "max    1960.000000  208216.000000"
      ]
     },
     "execution_count": 19,
     "metadata": {},
     "output_type": "execute_result"
    }
   ],
   "source": [
    "# differences for renovated houses?\n",
    "\n",
    "df[['livingdiff', 'lotdiff']][df['yr_renovated']!=0].describe()"
   ]
  },
  {
   "cell_type": "code",
   "execution_count": 20,
   "metadata": {
    "collapsed": false
   },
   "outputs": [
    {
     "data": {
      "text/plain": [
       "True"
      ]
     },
     "execution_count": 20,
     "metadata": {},
     "output_type": "execute_result"
    }
   ],
   "source": [
    "# do all values with non-zero renovation year, have renovation after year built?\n",
    "\n",
    "all(df[df['yr_renovated']!=0].index == df[df['yr_renovated']>df['yr_built']].index)"
   ]
  },
  {
   "cell_type": "code",
   "execution_count": 21,
   "metadata": {
    "collapsed": false
   },
   "outputs": [
    {
     "data": {
      "text/html": [
       "<div>\n",
       "<table border=\"1\" class=\"dataframe\">\n",
       "  <thead>\n",
       "    <tr style=\"text-align: right;\">\n",
       "      <th></th>\n",
       "      <th>yr_renovated</th>\n",
       "      <th>price</th>\n",
       "    </tr>\n",
       "  </thead>\n",
       "  <tbody>\n",
       "    <tr>\n",
       "      <th>yr_renovated</th>\n",
       "      <td>1.000000</td>\n",
       "      <td>0.127894</td>\n",
       "    </tr>\n",
       "    <tr>\n",
       "      <th>price</th>\n",
       "      <td>0.127894</td>\n",
       "      <td>1.000000</td>\n",
       "    </tr>\n",
       "  </tbody>\n",
       "</table>\n",
       "</div>"
      ],
      "text/plain": [
       "              yr_renovated     price\n",
       "yr_renovated      1.000000  0.127894\n",
       "price             0.127894  1.000000"
      ]
     },
     "execution_count": 21,
     "metadata": {},
     "output_type": "execute_result"
    }
   ],
   "source": [
    "# how does the renovation year influence price?\n",
    "\n",
    "df[['yr_renovated','price']][df['yr_renovated']!=0].corr()"
   ]
  },
  {
   "cell_type": "code",
   "execution_count": 22,
   "metadata": {
    "collapsed": false
   },
   "outputs": [
    {
     "data": {
      "text/html": [
       "<div>\n",
       "<table border=\"1\" class=\"dataframe\">\n",
       "  <thead>\n",
       "    <tr style=\"text-align: right;\">\n",
       "      <th></th>\n",
       "      <th>is_renovated</th>\n",
       "      <th>price</th>\n",
       "    </tr>\n",
       "  </thead>\n",
       "  <tbody>\n",
       "    <tr>\n",
       "      <th>is_renovated</th>\n",
       "      <td>1.000000</td>\n",
       "      <td>0.126092</td>\n",
       "    </tr>\n",
       "    <tr>\n",
       "      <th>price</th>\n",
       "      <td>0.126092</td>\n",
       "      <td>1.000000</td>\n",
       "    </tr>\n",
       "  </tbody>\n",
       "</table>\n",
       "</div>"
      ],
      "text/plain": [
       "              is_renovated     price\n",
       "is_renovated      1.000000  0.126092\n",
       "price             0.126092  1.000000"
      ]
     },
     "execution_count": 22,
     "metadata": {},
     "output_type": "execute_result"
    }
   ],
   "source": [
    "# what about if a renovation is performed?\n",
    "\n",
    "df['is_renovated'] = df['yr_renovated'].apply(lambda x: int(x>0))\n",
    "df[['is_renovated', 'price']].corr()"
   ]
  },
  {
   "cell_type": "code",
   "execution_count": 184,
   "metadata": {
    "collapsed": false
   },
   "outputs": [
    {
     "data": {
      "text/html": [
       "<table class=\"simpletable\">\n",
       "<caption>OLS Regression Results</caption>\n",
       "<tr>\n",
       "  <th>Dep. Variable:</th>          <td>price</td>      <th>  R-squared:         </th> <td>   0.016</td> \n",
       "</tr>\n",
       "<tr>\n",
       "  <th>Model:</th>                   <td>OLS</td>       <th>  Adj. R-squared:    </th> <td>   0.015</td> \n",
       "</tr>\n",
       "<tr>\n",
       "  <th>Method:</th>             <td>Least Squares</td>  <th>  F-statistic:       </th> <td>   15.17</td> \n",
       "</tr>\n",
       "<tr>\n",
       "  <th>Date:</th>             <td>Thu, 06 Oct 2016</td> <th>  Prob (F-statistic):</th> <td>0.000106</td> \n",
       "</tr>\n",
       "<tr>\n",
       "  <th>Time:</th>                 <td>15:08:48</td>     <th>  Log-Likelihood:    </th> <td> -13461.</td> \n",
       "</tr>\n",
       "<tr>\n",
       "  <th>No. Observations:</th>      <td>   914</td>      <th>  AIC:               </th> <td>2.693e+04</td>\n",
       "</tr>\n",
       "<tr>\n",
       "  <th>Df Residuals:</th>          <td>   912</td>      <th>  BIC:               </th> <td>2.694e+04</td>\n",
       "</tr>\n",
       "<tr>\n",
       "  <th>Df Model:</th>              <td>     1</td>      <th>                     </th>     <td> </td>    \n",
       "</tr>\n",
       "<tr>\n",
       "  <th>Covariance Type:</th>      <td>nonrobust</td>    <th>                     </th>     <td> </td>    \n",
       "</tr>\n",
       "</table>\n",
       "<table class=\"simpletable\">\n",
       "<tr>\n",
       "        <td></td>          <th>coef</th>     <th>std err</th>      <th>t</th>      <th>P>|t|</th> <th>[95.0% Conf. Int.]</th> \n",
       "</tr>\n",
       "<tr>\n",
       "  <th>Intercept</th>    <td>-9.237e+06</td> <td> 2.57e+06</td> <td>   -3.598</td> <td> 0.000</td> <td>-1.43e+07  -4.2e+06</td>\n",
       "</tr>\n",
       "<tr>\n",
       "  <th>yr_renovated</th> <td> 5009.0285</td> <td> 1286.248</td> <td>    3.894</td> <td> 0.000</td> <td> 2484.679  7533.378</td>\n",
       "</tr>\n",
       "</table>\n",
       "<table class=\"simpletable\">\n",
       "<tr>\n",
       "  <th>Omnibus:</th>       <td>880.533</td> <th>  Durbin-Watson:     </th> <td>   2.122</td> \n",
       "</tr>\n",
       "<tr>\n",
       "  <th>Prob(Omnibus):</th> <td> 0.000</td>  <th>  Jarque-Bera (JB):  </th> <td>50308.616</td>\n",
       "</tr>\n",
       "<tr>\n",
       "  <th>Skew:</th>          <td> 4.306</td>  <th>  Prob(JB):          </th> <td>    0.00</td> \n",
       "</tr>\n",
       "<tr>\n",
       "  <th>Kurtosis:</th>      <td>38.311</td>  <th>  Cond. No.          </th> <td>2.57e+05</td> \n",
       "</tr>\n",
       "</table>"
      ],
      "text/plain": [
       "<class 'statsmodels.iolib.summary.Summary'>\n",
       "\"\"\"\n",
       "                            OLS Regression Results                            \n",
       "==============================================================================\n",
       "Dep. Variable:                  price   R-squared:                       0.016\n",
       "Model:                            OLS   Adj. R-squared:                  0.015\n",
       "Method:                 Least Squares   F-statistic:                     15.17\n",
       "Date:                Thu, 06 Oct 2016   Prob (F-statistic):           0.000106\n",
       "Time:                        15:08:48   Log-Likelihood:                -13461.\n",
       "No. Observations:                 914   AIC:                         2.693e+04\n",
       "Df Residuals:                     912   BIC:                         2.694e+04\n",
       "Df Model:                           1                                         \n",
       "Covariance Type:            nonrobust                                         \n",
       "================================================================================\n",
       "                   coef    std err          t      P>|t|      [95.0% Conf. Int.]\n",
       "--------------------------------------------------------------------------------\n",
       "Intercept    -9.237e+06   2.57e+06     -3.598      0.000     -1.43e+07  -4.2e+06\n",
       "yr_renovated  5009.0285   1286.248      3.894      0.000      2484.679  7533.378\n",
       "==============================================================================\n",
       "Omnibus:                      880.533   Durbin-Watson:                   2.122\n",
       "Prob(Omnibus):                  0.000   Jarque-Bera (JB):            50308.616\n",
       "Skew:                           4.306   Prob(JB):                         0.00\n",
       "Kurtosis:                      38.311   Cond. No.                     2.57e+05\n",
       "==============================================================================\n",
       "\n",
       "Warnings:\n",
       "[1] Standard Errors assume that the covariance matrix of the errors is correctly specified.\n",
       "[2] The condition number is large, 2.57e+05. This might indicate that there are\n",
       "strong multicollinearity or other numerical problems.\n",
       "\"\"\""
      ]
     },
     "execution_count": 184,
     "metadata": {},
     "output_type": "execute_result"
    },
    {
     "data": {
      "image/png": "[encoded data removed]",
      "text/plain": [
       "<matplotlib.figure.Figure at 0x7fa58a7d7668>"
      ]
     },
     "metadata": {},
     "output_type": "display_data"
    }
   ],
   "source": [
    "# is the relationship statistically significant?\n",
    "\n",
    "dfrenov = df[['yr_renovated', 'price']][df['yr_renovated']!=0]\n",
    "dfrenov.plot(x='yr_renovated', y='price', kind='scatter')\n",
    "\n",
    "smf.ols('price ~ yr_renovated', data=dfrenov).fit().summary()"
   ]
  },
  {
   "cell_type": "code",
   "execution_count": 23,
   "metadata": {
    "collapsed": false
   },
   "outputs": [
    {
     "name": "stdout",
     "output_type": "stream",
     "text": [
      "Number of non-renovated houses:\n",
      "20699\n"
     ]
    },
    {
     "data": {
      "text/plain": [
       "0       0\n",
       "1    1991\n",
       "2       0\n",
       "3       0\n",
       "4       0\n",
       "Name: yr_renovated, dtype: int64"
      ]
     },
     "execution_count": 23,
     "metadata": {},
     "output_type": "execute_result"
    }
   ],
   "source": [
    "print('Number of non-renovated houses:')\n",
    "print(len(df['yr_renovated'][df['yr_renovated']==0]))\n",
    "df['yr_renovated'].head()"
   ]
  },
  {
   "cell_type": "code",
   "execution_count": 24,
   "metadata": {
    "collapsed": false
   },
   "outputs": [
    {
     "data": {
      "text/plain": [
       "0    1955.0\n",
       "1    1991.0\n",
       "2    1933.0\n",
       "3    1965.0\n",
       "4    1987.0\n",
       "Name: yr_renovated, dtype: float64"
      ]
     },
     "execution_count": 24,
     "metadata": {},
     "output_type": "execute_result"
    }
   ],
   "source": [
    "# create new yr_renovated feature where zeros are replaced with the year house was built\n",
    "\n",
    "def yrreplace(x):\n",
    "    if x==0:\n",
    "        return np.nan\n",
    "    else:\n",
    "        return x\n",
    "\n",
    "df['yr_renovated'] = df['yr_renovated'].apply(yrreplace)\n",
    "df['yr_renovated'].fillna(df['yr_built'], inplace=True)\n",
    "\n",
    "df['yr_renovated'].head()"
   ]
  },
  {
   "cell_type": "code",
   "execution_count": 27,
   "metadata": {
    "collapsed": false
   },
   "outputs": [
    {
     "data": {
      "text/html": [
       "<div>\n",
       "<table border=\"1\" class=\"dataframe\">\n",
       "  <thead>\n",
       "    <tr style=\"text-align: right;\">\n",
       "      <th></th>\n",
       "      <th>price</th>\n",
       "    </tr>\n",
       "  </thead>\n",
       "  <tbody>\n",
       "    <tr>\n",
       "      <th>yr_built</th>\n",
       "      <td>0.054012</td>\n",
       "    </tr>\n",
       "    <tr>\n",
       "      <th>yr_renovated</th>\n",
       "      <td>0.105755</td>\n",
       "    </tr>\n",
       "    <tr>\n",
       "      <th>is_renovated</th>\n",
       "      <td>0.126092</td>\n",
       "    </tr>\n",
       "    <tr>\n",
       "      <th>price</th>\n",
       "      <td>1.000000</td>\n",
       "    </tr>\n",
       "  </tbody>\n",
       "</table>\n",
       "</div>"
      ],
      "text/plain": [
       "                 price\n",
       "yr_built      0.054012\n",
       "yr_renovated  0.105755\n",
       "is_renovated  0.126092\n",
       "price         1.000000"
      ]
     },
     "execution_count": 27,
     "metadata": {},
     "output_type": "execute_result"
    }
   ],
   "source": [
    "df[['yr_built', 'yr_renovated', 'is_renovated', 'price']].corr()[['price']]"
   ]
  },
  {
   "cell_type": "markdown",
   "metadata": {},
   "source": [
    "### Note:\n",
    "\n",
    "1. So the dataset is consistent in that non-zero **`yr_renovated`** values have a renovation date after the build date. \n",
    "1. The living and lot size can increase or decrease with our without a renovation.\n",
    "1. After replacing zeros in **`yr_renovated`** with **`yr_built`**, the correlation with price is actually slightly reduced. Additionally, there is a correlation of slightly higher magnitude between whether or renovation was performed or not.\n",
    "1. There seems to be little correlation between the year the house was built and price."
   ]
  },
  {
   "cell_type": "code",
   "execution_count": 28,
   "metadata": {
    "collapsed": false
   },
   "outputs": [],
   "source": [
    "# save progress\n",
    "df.to_csv('modified01.csv.gz', sep=',', index=False, compression='gzip')"
   ]
  },
  {
   "cell_type": "markdown",
   "metadata": {},
   "source": [
    "<a id=\"simple\"></a>\n",
    "\n",
    "[Return to top](#top)\n",
    "\n",
    "---\n",
    "\n",
    "# Model with little data processing\n",
    "\n",
    "Does not include time or location features."
   ]
  },
  {
   "cell_type": "code",
   "execution_count": 140,
   "metadata": {
    "collapsed": true
   },
   "outputs": [],
   "source": [
    "# load saved data\n",
    "\n",
    "df = pd.read_csv('modified01.csv.gz', sep=',', compression='gzip')"
   ]
  },
  {
   "cell_type": "code",
   "execution_count": 29,
   "metadata": {
    "collapsed": false
   },
   "outputs": [
    {
     "data": {
      "text/html": [
       "<div>\n",
       "<table border=\"1\" class=\"dataframe\">\n",
       "  <thead>\n",
       "    <tr style=\"text-align: right;\">\n",
       "      <th></th>\n",
       "      <th>price</th>\n",
       "    </tr>\n",
       "  </thead>\n",
       "  <tbody>\n",
       "    <tr>\n",
       "      <th>price</th>\n",
       "      <td>1.000000</td>\n",
       "    </tr>\n",
       "    <tr>\n",
       "      <th>sqft_living</th>\n",
       "      <td>0.702035</td>\n",
       "    </tr>\n",
       "    <tr>\n",
       "      <th>grade</th>\n",
       "      <td>0.667434</td>\n",
       "    </tr>\n",
       "    <tr>\n",
       "      <th>sqft_above</th>\n",
       "      <td>0.605567</td>\n",
       "    </tr>\n",
       "    <tr>\n",
       "      <th>sqft_living15</th>\n",
       "      <td>0.585379</td>\n",
       "    </tr>\n",
       "    <tr>\n",
       "      <th>bathrooms</th>\n",
       "      <td>0.525138</td>\n",
       "    </tr>\n",
       "    <tr>\n",
       "      <th>view</th>\n",
       "      <td>0.397293</td>\n",
       "    </tr>\n",
       "    <tr>\n",
       "      <th>sqft_basement</th>\n",
       "      <td>0.323816</td>\n",
       "    </tr>\n",
       "    <tr>\n",
       "      <th>bedrooms</th>\n",
       "      <td>0.315438</td>\n",
       "    </tr>\n",
       "    <tr>\n",
       "      <th>waterfront</th>\n",
       "      <td>0.266369</td>\n",
       "    </tr>\n",
       "    <tr>\n",
       "      <th>floors</th>\n",
       "      <td>0.256794</td>\n",
       "    </tr>\n",
       "    <tr>\n",
       "      <th>is_renovated</th>\n",
       "      <td>0.126092</td>\n",
       "    </tr>\n",
       "    <tr>\n",
       "      <th>sqft_lot</th>\n",
       "      <td>0.089661</td>\n",
       "    </tr>\n",
       "    <tr>\n",
       "      <th>sqft_lot15</th>\n",
       "      <td>0.082447</td>\n",
       "    </tr>\n",
       "    <tr>\n",
       "      <th>yr_built</th>\n",
       "      <td>0.054012</td>\n",
       "    </tr>\n",
       "    <tr>\n",
       "      <th>condition</th>\n",
       "      <td>0.036362</td>\n",
       "    </tr>\n",
       "  </tbody>\n",
       "</table>\n",
       "</div>"
      ],
      "text/plain": [
       "                  price\n",
       "price          1.000000\n",
       "sqft_living    0.702035\n",
       "grade          0.667434\n",
       "sqft_above     0.605567\n",
       "sqft_living15  0.585379\n",
       "bathrooms      0.525138\n",
       "view           0.397293\n",
       "sqft_basement  0.323816\n",
       "bedrooms       0.315438\n",
       "waterfront     0.266369\n",
       "floors         0.256794\n",
       "is_renovated   0.126092\n",
       "sqft_lot       0.089661\n",
       "sqft_lot15     0.082447\n",
       "yr_built       0.054012\n",
       "condition      0.036362"
      ]
     },
     "execution_count": 29,
     "metadata": {},
     "output_type": "execute_result"
    }
   ],
   "source": [
    "# check for correlation with price for appropriate variables\n",
    "# drop unexamined variables and any that we can't interpret\n",
    "\n",
    "exclvars = ['id', 'zipcode', 'lat', 'long', 'date', 'livingdiff', 'lotdiff', 'yr_renovated']\n",
    "\n",
    "dfcont = df.drop(exclvars, axis=1)\n",
    "\n",
    "dfcont.corr()[['price']].sort_values(by='price', ascending=False)"
   ]
  },
  {
   "cell_type": "code",
   "execution_count": 30,
   "metadata": {
    "collapsed": false
   },
   "outputs": [
    {
     "data": {
      "image/png": "[encoded data removed]",
      "text/plain": [
       "<matplotlib.figure.Figure at 0x10adfcd68>"
      ]
     },
     "metadata": {},
     "output_type": "display_data"
    }
   ],
   "source": [
    "# overall correlation\n",
    "\n",
    "f, ax = plt.subplots(figsize=(8,8))\n",
    "_ = sns.heatmap(dfcont.corr(), vmax=0.9, square=True)"
   ]
  },
  {
   "cell_type": "markdown",
   "metadata": {},
   "source": [
    "### Note\n",
    "\n",
    "Regularization will be used to address potential collinearity."
   ]
  },
  {
   "cell_type": "code",
   "execution_count": 143,
   "metadata": {
    "collapsed": false
   },
   "outputs": [],
   "source": [
    "# split dataset and standardize\n",
    "\n",
    "y = dfcont['price']\n",
    "Xraw = dfcont.drop('price', axis=1)\n",
    "\n",
    "ss = StandardScaler()\n",
    "X = ss.fit_transform(Xraw)\n",
    "\n",
    "Xtrain, Xtest, ytrain, ytest = train_test_split(X, y, test_size=0.25, random_state=42)"
   ]
  },
  {
   "cell_type": "code",
   "execution_count": 144,
   "metadata": {
    "collapsed": false
   },
   "outputs": [
    {
     "name": "stdout",
     "output_type": "stream",
     "text": [
      "alpha = 10\n"
     ]
    },
    {
     "data": {
      "text/plain": [
       "grade               136271.693741\n",
       "sqft_living          76840.871645\n",
       "sqft_above           65285.541808\n",
       "waterfront           47883.962826\n",
       "bathrooms            37594.630662\n",
       "sqft_basement        37307.641300\n",
       "view                 33871.012618\n",
       "sqft_living15        17799.935025\n",
       "floors               14644.538164\n",
       "condition            10882.287198\n",
       "yr_renovated_new      9653.126841\n",
       "is_renovated          5435.162748\n",
       "sqft_lot             -1588.446844\n",
       "sqft_lot15          -13989.784382\n",
       "bedrooms            -39515.895813\n",
       "yr_built           -105496.582157\n",
       "dtype: float64"
      ]
     },
     "execution_count": 144,
     "metadata": {},
     "output_type": "execute_result"
    }
   ],
   "source": [
    "# ridge regression with standardized values\n",
    "\n",
    "ridge = RidgeCV(alphas=np.logspace(-5,5,11), cv=None, scoring=None)\n",
    "ridge.fit(Xtrain, ytrain)\n",
    "\n",
    "print('alpha = {0:.2g}'.format(ridge.alpha_))\n",
    "pd.Series(ridge.coef_, index=Xraw.columns).sort_values(ascending=False)"
   ]
  },
  {
   "cell_type": "code",
   "execution_count": 145,
   "metadata": {
    "collapsed": false,
    "scrolled": true
   },
   "outputs": [
    {
     "name": "stdout",
     "output_type": "stream",
     "text": [
      "alpha = 2.5e+02\n"
     ]
    },
    {
     "data": {
      "text/plain": [
       "sqft_living         149140.804424\n",
       "grade               136467.897524\n",
       "waterfront           47724.947388\n",
       "bathrooms            37265.138167\n",
       "view                 33902.635460\n",
       "sqft_living15        17390.495159\n",
       "floors               14207.720057\n",
       "condition            10602.023611\n",
       "yr_renovated_new      9376.714018\n",
       "is_renovated          5279.176220\n",
       "sqft_basement         2177.456860\n",
       "sqft_above               0.000000\n",
       "sqft_lot             -1376.569794\n",
       "sqft_lot15          -13832.144020\n",
       "bedrooms            -38855.827717\n",
       "yr_built           -105136.913248\n",
       "dtype: float64"
      ]
     },
     "execution_count": 145,
     "metadata": {},
     "output_type": "execute_result"
    }
   ],
   "source": [
    "# lasso regression with standardized values\n",
    "\n",
    "lasso = LassoCV(n_alphas=100, cv=5)\n",
    "lasso.fit(Xtrain, ytrain)\n",
    "\n",
    "print('alpha = {0:.2g}'.format(lasso.alpha_))\n",
    "\n",
    "pd.Series(lasso.coef_, index=Xraw.columns).sort_values(ascending=False)"
   ]
  },
  {
   "cell_type": "code",
   "execution_count": 13,
   "metadata": {
    "collapsed": false
   },
   "outputs": [
    {
     "name": "stdout",
     "output_type": "stream",
     "text": [
      "RandomForestRegressor(bootstrap=True, criterion='mse', max_depth=32,\n",
      "           max_features='auto', max_leaf_nodes=None,\n",
      "           min_impurity_split=1e-07, min_samples_leaf=1,\n",
      "           min_samples_split=2, min_weight_fraction_leaf=0.0,\n",
      "           n_estimators=500, n_jobs=-1, oob_score=False, random_state=None,\n",
      "           verbose=0, warm_start=False)\n"
     ]
    }
   ],
   "source": [
    "# run random forest regressor\n",
    "\n",
    "rf = RandomForestRegressor(n_jobs=-1)\n",
    "params = {'n_estimators': [500,1000], 'max_depth': [16,32]}\n",
    "\n",
    "grid = GridSearchCV(rf, params, n_jobs=1)\n",
    "grid.fit(Xtrain, ytrain)\n",
    "print(grid.best_estimator_)"
   ]
  },
  {
   "cell_type": "code",
   "execution_count": 14,
   "metadata": {
    "collapsed": false
   },
   "outputs": [
    {
     "data": {
      "text/plain": [
       "0.74759933690336489"
      ]
     },
     "execution_count": 14,
     "metadata": {},
     "output_type": "execute_result"
    }
   ],
   "source": [
    "griddf = pd.DataFrame(grid.cv_results_)\n",
    "griddf['mean_test_score'].max()"
   ]
  },
  {
   "cell_type": "code",
   "execution_count": 184,
   "metadata": {
    "collapsed": false
   },
   "outputs": [],
   "source": [
    "# run gradient boosting regressor\n",
    "\n",
    "# gbr = GradientBoostingRegressor()\n",
    "# params = {'n_estimators': [50,100,150,200], 'max_depth': [4,8,12,16]}\n",
    "\n",
    "# gridgbr = GridSearchCV(gbr, params, n_jobs=-1)\n",
    "# gridgbr.fit(Xtrain, ytrain)\n",
    "# print(gridgbr.best_estimator_)"
   ]
  },
  {
   "cell_type": "code",
   "execution_count": 185,
   "metadata": {
    "collapsed": false
   },
   "outputs": [],
   "source": [
    "# gridgbrdf = pd.DataFrame(gridgbr.cv_results_)\n",
    "# gridgbrdf['mean_test_score'].describe()"
   ]
  },
  {
   "cell_type": "code",
   "execution_count": 15,
   "metadata": {
    "collapsed": false
   },
   "outputs": [
    {
     "name": "stdout",
     "output_type": "stream",
     "text": [
      "SVR(C=1000000.0, cache_size=200, coef0=0.0, degree=3, epsilon=0.1,\n",
      "  gamma='auto', kernel='rbf', max_iter=-1, shrinking=True, tol=0.001,\n",
      "  verbose=False)\n"
     ]
    }
   ],
   "source": [
    "# support vector machine regressor\n",
    "\n",
    "svm = SVR(kernel='rbf')\n",
    "params = {'C': np.logspace(-1,6,8)}\n",
    "\n",
    "gridsvm = GridSearchCV(svm, params, scoring='r2', n_jobs=-1)\n",
    "gridsvm.fit(Xtrain, ytrain)\n",
    "print(gridsvm.best_estimator_)"
   ]
  },
  {
   "cell_type": "code",
   "execution_count": 16,
   "metadata": {
    "collapsed": false
   },
   "outputs": [
    {
     "data": {
      "text/plain": [
       "0.68421442681919598"
      ]
     },
     "execution_count": 16,
     "metadata": {},
     "output_type": "execute_result"
    }
   ],
   "source": [
    "griddf = pd.DataFrame(gridsvm.cv_results_)\n",
    "griddf['mean_test_score'].max()"
   ]
  },
  {
   "cell_type": "code",
   "execution_count": 17,
   "metadata": {
    "collapsed": false
   },
   "outputs": [
    {
     "name": "stdout",
     "output_type": "stream",
     "text": [
      "ridge r^2:\n",
      "0.66\n",
      "\n",
      "lasso r^2:\n",
      "0.66\n",
      "\n",
      "random forest r^2:\n",
      "0.729\n",
      "\n",
      "svm r^2:\n",
      "0.705\n",
      "\n"
     ]
    }
   ],
   "source": [
    "# compare test set error\n",
    "\n",
    "regs = [ridge, lasso, grid, gridsvm]\n",
    "names = ['ridge','lasso', 'random forest', 'svm']\n",
    "\n",
    "for reg, name in zip(regs, names):\n",
    "    print(name+' r^2:')\n",
    "    print('{0:.3f}'.format(r2_score(ytest, reg.predict(Xtest))))\n",
    "    print('')"
   ]
  },
  {
   "cell_type": "markdown",
   "metadata": {},
   "source": [
    "<a id=\"loc\"></a>\n",
    "\n",
    "[Return to top](#top)\n",
    "\n",
    "---\n",
    "# Model including sale location\n",
    "\n",
    "Previously random forest regression proved the best so we will continue with that regressor and see if we can improve the model performance."
   ]
  },
  {
   "cell_type": "code",
   "execution_count": 3,
   "metadata": {
    "collapsed": false
   },
   "outputs": [],
   "source": [
    "# load saved data\n",
    "\n",
    "df = pd.read_csv('modified01.csv.gz', sep=',', compression='gzip')"
   ]
  },
  {
   "cell_type": "code",
   "execution_count": 4,
   "metadata": {
    "collapsed": false,
    "scrolled": true
   },
   "outputs": [
    {
     "data": {
      "text/plain": [
       "Index(['price', 'bedrooms', 'bathrooms', 'sqft_living', 'sqft_lot', 'floors',\n",
       "       'waterfront', 'view', 'condition', 'grade', 'sqft_above',\n",
       "       'sqft_basement', 'yr_built', 'yr_renovated', 'lat', 'long',\n",
       "       'sqft_living15', 'sqft_lot15', 'is_renovated'],\n",
       "      dtype='object')"
      ]
     },
     "execution_count": 4,
     "metadata": {},
     "output_type": "execute_result"
    }
   ],
   "source": [
    "# keep lat/long for location since it is more granular than zip code\n",
    "\n",
    "exclvars = ['id', 'zipcode', 'date', 'livingdiff', 'lotdiff']\n",
    "\n",
    "dfloc = df.drop(exclvars, axis=1)\n",
    "dfloc.columns"
   ]
  },
  {
   "cell_type": "code",
   "execution_count": 5,
   "metadata": {
    "collapsed": false
   },
   "outputs": [
    {
     "name": "stdout",
     "output_type": "stream",
     "text": [
      "{'max_features': 0.5, 'max_depth': 16, 'n_estimators': 3000}\n",
      "\n",
      "training set r^2 score = 0.8681\n",
      "\n",
      "test set r^2 score = 0.8627\n"
     ]
    }
   ],
   "source": [
    "# split dataset and standardize non-categorical variables (standardize categorical variables have any effect?)\n",
    "\n",
    "y = dfloc['price']\n",
    "Xraw = dfloc.drop(['price'], axis=1)\n",
    "\n",
    "ss = StandardScaler()\n",
    "X = ss.fit_transform(Xraw)\n",
    "\n",
    "Xtrain, Xtest, ytrain, ytest = train_test_split(X, y, test_size=0.25, random_state=1)\n",
    "\n",
    "# run random forest regressor\n",
    "\n",
    "rf2 = RandomForestRegressor(random_state=42, n_jobs=-1)\n",
    "params = {'n_estimators': [1000,3000], 'max_depth': [8,16], 'max_features': ['sqrt',0.5]}\n",
    "\n",
    "gridrf2 = GridSearchCV(rf2, params, scoring='r2', n_jobs=1)\n",
    "gridrf2.fit(Xtrain, ytrain)\n",
    "\n",
    "# display results\n",
    "\n",
    "print(gridrf2.best_params_)\n",
    "griddf = pd.DataFrame(gridrf2.cv_results_)\n",
    "print('')\n",
    "print('training set r^2 score = {0:.4f}'.format(griddf['mean_test_score'].max()))\n",
    "\n",
    "print('')\n",
    "print('test set r^2 score = {0:.4f}'.format(r2_score(ytest, gridrf2.predict(Xtest))))"
   ]
  },
  {
   "cell_type": "code",
   "execution_count": 6,
   "metadata": {
    "collapsed": false
   },
   "outputs": [
    {
     "name": "stdout",
     "output_type": "stream",
     "text": [
      "{'max_features': 'sqrt', 'max_depth': 8, 'n_estimators': 1000}    0.8207\n",
      "{'max_features': 'sqrt', 'max_depth': 8, 'n_estimators': 3000}    0.8207\n",
      "{'max_features': 0.5, 'max_depth': 8, 'n_estimators': 1000}    0.8398\n",
      "{'max_features': 0.5, 'max_depth': 8, 'n_estimators': 3000}    0.8403\n",
      "{'max_features': 'sqrt', 'max_depth': 16, 'n_estimators': 1000}    0.8570\n",
      "{'max_features': 'sqrt', 'max_depth': 16, 'n_estimators': 3000}    0.8570\n",
      "{'max_features': 0.5, 'max_depth': 16, 'n_estimators': 1000}    0.8678\n",
      "{'max_features': 0.5, 'max_depth': 16, 'n_estimators': 3000}    0.8681\n"
     ]
    }
   ],
   "source": [
    "for row in griddf[['params','mean_test_score']].values:\n",
    "    print(row[0], '  ', '{0:.4f}'.format(row[1]))"
   ]
  },
  {
   "cell_type": "markdown",
   "metadata": {},
   "source": [
    "### Note:\n",
    "\n",
    "At **`test_size=0.25`** and **`test_size=0.4`** with different random seeds for the train/test split, test error values are very similar."
   ]
  },
  {
   "cell_type": "code",
   "execution_count": 7,
   "metadata": {
    "collapsed": false,
    "scrolled": false
   },
   "outputs": [
    {
     "data": {
      "image/png": "[encoded data removed]",
      "text/plain": [
       "<matplotlib.figure.Figure at 0x7fd5f83629e8>"
      ]
     },
     "metadata": {},
     "output_type": "display_data"
    }
   ],
   "source": [
    "# feature importance\n",
    "\n",
    "featimp = pd.Series(gridrf2.best_estimator_.feature_importances_, index=Xraw.columns)\n",
    "plt.figure(figsize=(12,8))\n",
    "plt.title('Feature Importance')\n",
    "_ = featimp.sort_values(ascending=True).plot(kind='barh')"
   ]
  },
  {
   "cell_type": "code",
   "execution_count": 8,
   "metadata": {
    "collapsed": false
   },
   "outputs": [
    {
     "name": "stdout",
     "output_type": "stream",
     "text": [
      "Best parameters:\n",
      "{'max_depth': 4, 'learning_rate': 0.1, 'n_estimators': 1000}\n",
      "\n",
      "training set r^2 score = 0.8864\n",
      "\n",
      "test set r^2 score = 0.8883\n"
     ]
    },
    {
     "data": {
      "image/png": "[encoded data removed]",
      "text/plain": [
       "<matplotlib.figure.Figure at 0x7fd5c0471550>"
      ]
     },
     "metadata": {},
     "output_type": "display_data"
    }
   ],
   "source": [
    "# gradient boosting trees\n",
    "\n",
    "# split dataset and standardize non-categorical variables (standardize categorical variables have any effect?)\n",
    "\n",
    "y = dfloc['price']\n",
    "Xraw = dfloc.drop(['price'], axis=1)\n",
    "\n",
    "ss = StandardScaler()\n",
    "X = ss.fit_transform(Xraw)\n",
    "\n",
    "Xtrain, Xtest, ytrain, ytest = train_test_split(X, y, test_size=0.25, random_state=1)\n",
    "\n",
    "# run random forest regressor\n",
    "\n",
    "gbr = GradientBoostingRegressor(random_state=42)\n",
    "params = {'n_estimators': [1000,2000], 'max_depth': [2,4,8], 'learning_rate': [0.1,0.01,0.001]}\n",
    "\n",
    "gridgbr = GridSearchCV(gbr, params, scoring='r2', n_jobs=-1)\n",
    "gridgbr.fit(Xtrain, ytrain)\n",
    "\n",
    "# display results\n",
    "\n",
    "print('Best parameters:')\n",
    "print(gridgbr.best_params_)\n",
    "gridgbrdf = pd.DataFrame(gridgbr.cv_results_)\n",
    "print('')\n",
    "print('training set r^2 score = {0:.4f}'.format(gridgbrdf['mean_test_score'].max()))\n",
    "\n",
    "print('')\n",
    "print('test set r^2 score = {0:.4f}'.format(r2_score(ytest, gridgbr.predict(Xtest))))\n",
    "\n",
    "# feature importance\n",
    "\n",
    "featimp = pd.Series(gridgbr.best_estimator_.feature_importances_, index=Xraw.columns)\n",
    "plt.figure(figsize=(12,8))\n",
    "plt.title('Feature Importance')\n",
    "_ = featimp.sort_values(ascending=True).plot(kind='barh')"
   ]
  },
  {
   "cell_type": "markdown",
   "metadata": {},
   "source": [
    "## Result\n",
    "\n",
    "Interestingly, the location is by far the most important feature so its inclusion is critical. The Gradient-Boosted model performs better than the Random Forest algorithm previously used."
   ]
  },
  {
   "cell_type": "markdown",
   "metadata": {},
   "source": [
    "<a id=\"timeseries\"></a>\n",
    "\n",
    "[Return to top](#top)\n",
    "\n",
    "---\n",
    "# Modeled as a time series\n",
    "\n",
    "Determine range of time spanned by data and appropriate granularity (day, week, month, year)."
   ]
  },
  {
   "cell_type": "code",
   "execution_count": 57,
   "metadata": {
    "collapsed": false
   },
   "outputs": [
    {
     "data": {
      "text/html": [
       "<div>\n",
       "<table border=\"1\" class=\"dataframe\">\n",
       "  <thead>\n",
       "    <tr style=\"text-align: right;\">\n",
       "      <th></th>\n",
       "      <th>id</th>\n",
       "      <th>date</th>\n",
       "      <th>price</th>\n",
       "      <th>bedrooms</th>\n",
       "      <th>bathrooms</th>\n",
       "      <th>sqft_living</th>\n",
       "      <th>sqft_lot</th>\n",
       "      <th>floors</th>\n",
       "      <th>waterfront</th>\n",
       "      <th>view</th>\n",
       "      <th>...</th>\n",
       "      <th>zipcode</th>\n",
       "      <th>lat</th>\n",
       "      <th>long</th>\n",
       "      <th>sqft_living15</th>\n",
       "      <th>sqft_lot15</th>\n",
       "      <th>livingdiff</th>\n",
       "      <th>lotdiff</th>\n",
       "      <th>yr_renovated_new</th>\n",
       "      <th>saleyear</th>\n",
       "      <th>salemonth</th>\n",
       "    </tr>\n",
       "  </thead>\n",
       "  <tbody>\n",
       "    <tr>\n",
       "      <th>0</th>\n",
       "      <td>7129300520</td>\n",
       "      <td>20141013T000000</td>\n",
       "      <td>221900.0</td>\n",
       "      <td>3</td>\n",
       "      <td>1.00</td>\n",
       "      <td>1180</td>\n",
       "      <td>5650</td>\n",
       "      <td>1.0</td>\n",
       "      <td>0</td>\n",
       "      <td>0</td>\n",
       "      <td>...</td>\n",
       "      <td>98178</td>\n",
       "      <td>47.5112</td>\n",
       "      <td>-122.257</td>\n",
       "      <td>1340</td>\n",
       "      <td>5650</td>\n",
       "      <td>160</td>\n",
       "      <td>0</td>\n",
       "      <td>1995.827133</td>\n",
       "      <td>2014</td>\n",
       "      <td>10</td>\n",
       "    </tr>\n",
       "    <tr>\n",
       "      <th>1</th>\n",
       "      <td>6414100192</td>\n",
       "      <td>20141209T000000</td>\n",
       "      <td>538000.0</td>\n",
       "      <td>3</td>\n",
       "      <td>2.25</td>\n",
       "      <td>2570</td>\n",
       "      <td>7242</td>\n",
       "      <td>2.0</td>\n",
       "      <td>0</td>\n",
       "      <td>0</td>\n",
       "      <td>...</td>\n",
       "      <td>98125</td>\n",
       "      <td>47.7210</td>\n",
       "      <td>-122.319</td>\n",
       "      <td>1690</td>\n",
       "      <td>7639</td>\n",
       "      <td>-880</td>\n",
       "      <td>397</td>\n",
       "      <td>1991.000000</td>\n",
       "      <td>2014</td>\n",
       "      <td>12</td>\n",
       "    </tr>\n",
       "    <tr>\n",
       "      <th>2</th>\n",
       "      <td>5631500400</td>\n",
       "      <td>20150225T000000</td>\n",
       "      <td>180000.0</td>\n",
       "      <td>2</td>\n",
       "      <td>1.00</td>\n",
       "      <td>770</td>\n",
       "      <td>10000</td>\n",
       "      <td>1.0</td>\n",
       "      <td>0</td>\n",
       "      <td>0</td>\n",
       "      <td>...</td>\n",
       "      <td>98028</td>\n",
       "      <td>47.7379</td>\n",
       "      <td>-122.233</td>\n",
       "      <td>2720</td>\n",
       "      <td>8062</td>\n",
       "      <td>1950</td>\n",
       "      <td>-1938</td>\n",
       "      <td>1995.827133</td>\n",
       "      <td>2015</td>\n",
       "      <td>2</td>\n",
       "    </tr>\n",
       "    <tr>\n",
       "      <th>3</th>\n",
       "      <td>2487200875</td>\n",
       "      <td>20141209T000000</td>\n",
       "      <td>604000.0</td>\n",
       "      <td>4</td>\n",
       "      <td>3.00</td>\n",
       "      <td>1960</td>\n",
       "      <td>5000</td>\n",
       "      <td>1.0</td>\n",
       "      <td>0</td>\n",
       "      <td>0</td>\n",
       "      <td>...</td>\n",
       "      <td>98136</td>\n",
       "      <td>47.5208</td>\n",
       "      <td>-122.393</td>\n",
       "      <td>1360</td>\n",
       "      <td>5000</td>\n",
       "      <td>-600</td>\n",
       "      <td>0</td>\n",
       "      <td>1995.827133</td>\n",
       "      <td>2014</td>\n",
       "      <td>12</td>\n",
       "    </tr>\n",
       "    <tr>\n",
       "      <th>4</th>\n",
       "      <td>1954400510</td>\n",
       "      <td>20150218T000000</td>\n",
       "      <td>510000.0</td>\n",
       "      <td>3</td>\n",
       "      <td>2.00</td>\n",
       "      <td>1680</td>\n",
       "      <td>8080</td>\n",
       "      <td>1.0</td>\n",
       "      <td>0</td>\n",
       "      <td>0</td>\n",
       "      <td>...</td>\n",
       "      <td>98074</td>\n",
       "      <td>47.6168</td>\n",
       "      <td>-122.045</td>\n",
       "      <td>1800</td>\n",
       "      <td>7503</td>\n",
       "      <td>120</td>\n",
       "      <td>-577</td>\n",
       "      <td>1995.827133</td>\n",
       "      <td>2015</td>\n",
       "      <td>2</td>\n",
       "    </tr>\n",
       "  </tbody>\n",
       "</table>\n",
       "<p>5 rows × 26 columns</p>\n",
       "</div>"
      ],
      "text/plain": [
       "           id             date     price  bedrooms  bathrooms  sqft_living  \\\n",
       "0  7129300520  20141013T000000  221900.0         3       1.00         1180   \n",
       "1  6414100192  20141209T000000  538000.0         3       2.25         2570   \n",
       "2  5631500400  20150225T000000  180000.0         2       1.00          770   \n",
       "3  2487200875  20141209T000000  604000.0         4       3.00         1960   \n",
       "4  1954400510  20150218T000000  510000.0         3       2.00         1680   \n",
       "\n",
       "   sqft_lot  floors  waterfront  view    ...      zipcode      lat     long  \\\n",
       "0      5650     1.0           0     0    ...        98178  47.5112 -122.257   \n",
       "1      7242     2.0           0     0    ...        98125  47.7210 -122.319   \n",
       "2     10000     1.0           0     0    ...        98028  47.7379 -122.233   \n",
       "3      5000     1.0           0     0    ...        98136  47.5208 -122.393   \n",
       "4      8080     1.0           0     0    ...        98074  47.6168 -122.045   \n",
       "\n",
       "   sqft_living15  sqft_lot15  livingdiff  lotdiff  yr_renovated_new  saleyear  \\\n",
       "0           1340        5650         160        0       1995.827133      2014   \n",
       "1           1690        7639        -880      397       1991.000000      2014   \n",
       "2           2720        8062        1950    -1938       1995.827133      2015   \n",
       "3           1360        5000        -600        0       1995.827133      2014   \n",
       "4           1800        7503         120     -577       1995.827133      2015   \n",
       "\n",
       "   salemonth  \n",
       "0         10  \n",
       "1         12  \n",
       "2          2  \n",
       "3         12  \n",
       "4          2  \n",
       "\n",
       "[5 rows x 26 columns]"
      ]
     },
     "execution_count": 57,
     "metadata": {},
     "output_type": "execute_result"
    }
   ],
   "source": [
    "# extract year and month from date\n",
    "\n",
    "df['saleyear'] = pd.to_datetime(df['date']).dt.year\n",
    "df['salemonth'] = pd.to_datetime(df['date']).dt.month\n",
    "\n",
    "df.head()"
   ]
  },
  {
   "cell_type": "code",
   "execution_count": 58,
   "metadata": {
    "collapsed": false
   },
   "outputs": [
    {
     "data": {
      "text/plain": [
       "saleyear     0.003576\n",
       "salemonth   -0.010081\n",
       "price        1.000000\n",
       "Name: price, dtype: float64"
      ]
     },
     "execution_count": 58,
     "metadata": {},
     "output_type": "execute_result"
    }
   ],
   "source": [
    "# correlation between saleyear, salemonth and price?\n",
    "\n",
    "df[['saleyear', 'salemonth', 'price']].corr().price"
   ]
  },
  {
   "cell_type": "code",
   "execution_count": 59,
   "metadata": {
    "collapsed": false
   },
   "outputs": [
    {
     "name": "stdout",
     "output_type": "stream",
     "text": [
      "2014 records: 14633\n",
      "2015 records: 6980\n"
     ]
    }
   ],
   "source": [
    "# number of 2014 and 2015 house sales\n",
    "\n",
    "print('2014 records:', len(df[df['saleyear']==2014]))\n",
    "print('2015 records:', len(df[df['saleyear']==2015]))"
   ]
  },
  {
   "cell_type": "code",
   "execution_count": 60,
   "metadata": {
    "collapsed": false
   },
   "outputs": [
    {
     "name": "stdout",
     "output_type": "stream",
     "text": [
      "2014-05-02 00:00:00\n",
      "2015-05-27 00:00:00\n"
     ]
    }
   ],
   "source": [
    "# are all months present for each year?\n",
    "\n",
    "print(pd.to_datetime(df['date']).min())\n",
    "print(pd.to_datetime(df['date']).max())"
   ]
  },
  {
   "cell_type": "markdown",
   "metadata": {},
   "source": [
    "### Note:\n",
    "Data only spans a single year. So yearly time groups don't make sense; test day, week, month."
   ]
  },
  {
   "cell_type": "code",
   "execution_count": 151,
   "metadata": {
    "collapsed": false,
    "scrolled": true
   },
   "outputs": [
    {
     "data": {
      "text/html": [
       "<div>\n",
       "<table border=\"1\" class=\"dataframe\">\n",
       "  <thead>\n",
       "    <tr style=\"text-align: right;\">\n",
       "      <th></th>\n",
       "      <th>id</th>\n",
       "      <th>date</th>\n",
       "      <th>price</th>\n",
       "      <th>bedrooms</th>\n",
       "      <th>bathrooms</th>\n",
       "      <th>sqft_living</th>\n",
       "      <th>sqft_lot</th>\n",
       "      <th>floors</th>\n",
       "      <th>waterfront</th>\n",
       "      <th>view</th>\n",
       "      <th>...</th>\n",
       "      <th>yr_renovated</th>\n",
       "      <th>zipcode</th>\n",
       "      <th>lat</th>\n",
       "      <th>long</th>\n",
       "      <th>sqft_living15</th>\n",
       "      <th>sqft_lot15</th>\n",
       "      <th>livingdiff</th>\n",
       "      <th>lotdiff</th>\n",
       "      <th>is_renovated</th>\n",
       "      <th>yr_renovated_new</th>\n",
       "    </tr>\n",
       "  </thead>\n",
       "  <tbody>\n",
       "    <tr>\n",
       "      <th>0</th>\n",
       "      <td>7129300520</td>\n",
       "      <td>20141013T000000</td>\n",
       "      <td>221900.0</td>\n",
       "      <td>3</td>\n",
       "      <td>1.00</td>\n",
       "      <td>1180</td>\n",
       "      <td>5650</td>\n",
       "      <td>1.0</td>\n",
       "      <td>0</td>\n",
       "      <td>0</td>\n",
       "      <td>...</td>\n",
       "      <td>0</td>\n",
       "      <td>98178</td>\n",
       "      <td>47.5112</td>\n",
       "      <td>-122.257</td>\n",
       "      <td>1340</td>\n",
       "      <td>5650</td>\n",
       "      <td>160</td>\n",
       "      <td>0</td>\n",
       "      <td>0</td>\n",
       "      <td>1995.827133</td>\n",
       "    </tr>\n",
       "    <tr>\n",
       "      <th>1</th>\n",
       "      <td>6414100192</td>\n",
       "      <td>20141209T000000</td>\n",
       "      <td>538000.0</td>\n",
       "      <td>3</td>\n",
       "      <td>2.25</td>\n",
       "      <td>2570</td>\n",
       "      <td>7242</td>\n",
       "      <td>2.0</td>\n",
       "      <td>0</td>\n",
       "      <td>0</td>\n",
       "      <td>...</td>\n",
       "      <td>1991</td>\n",
       "      <td>98125</td>\n",
       "      <td>47.7210</td>\n",
       "      <td>-122.319</td>\n",
       "      <td>1690</td>\n",
       "      <td>7639</td>\n",
       "      <td>-880</td>\n",
       "      <td>397</td>\n",
       "      <td>1</td>\n",
       "      <td>1991.000000</td>\n",
       "    </tr>\n",
       "    <tr>\n",
       "      <th>2</th>\n",
       "      <td>5631500400</td>\n",
       "      <td>20150225T000000</td>\n",
       "      <td>180000.0</td>\n",
       "      <td>2</td>\n",
       "      <td>1.00</td>\n",
       "      <td>770</td>\n",
       "      <td>10000</td>\n",
       "      <td>1.0</td>\n",
       "      <td>0</td>\n",
       "      <td>0</td>\n",
       "      <td>...</td>\n",
       "      <td>0</td>\n",
       "      <td>98028</td>\n",
       "      <td>47.7379</td>\n",
       "      <td>-122.233</td>\n",
       "      <td>2720</td>\n",
       "      <td>8062</td>\n",
       "      <td>1950</td>\n",
       "      <td>-1938</td>\n",
       "      <td>0</td>\n",
       "      <td>1995.827133</td>\n",
       "    </tr>\n",
       "    <tr>\n",
       "      <th>3</th>\n",
       "      <td>2487200875</td>\n",
       "      <td>20141209T000000</td>\n",
       "      <td>604000.0</td>\n",
       "      <td>4</td>\n",
       "      <td>3.00</td>\n",
       "      <td>1960</td>\n",
       "      <td>5000</td>\n",
       "      <td>1.0</td>\n",
       "      <td>0</td>\n",
       "      <td>0</td>\n",
       "      <td>...</td>\n",
       "      <td>0</td>\n",
       "      <td>98136</td>\n",
       "      <td>47.5208</td>\n",
       "      <td>-122.393</td>\n",
       "      <td>1360</td>\n",
       "      <td>5000</td>\n",
       "      <td>-600</td>\n",
       "      <td>0</td>\n",
       "      <td>0</td>\n",
       "      <td>1995.827133</td>\n",
       "    </tr>\n",
       "    <tr>\n",
       "      <th>4</th>\n",
       "      <td>1954400510</td>\n",
       "      <td>20150218T000000</td>\n",
       "      <td>510000.0</td>\n",
       "      <td>3</td>\n",
       "      <td>2.00</td>\n",
       "      <td>1680</td>\n",
       "      <td>8080</td>\n",
       "      <td>1.0</td>\n",
       "      <td>0</td>\n",
       "      <td>0</td>\n",
       "      <td>...</td>\n",
       "      <td>0</td>\n",
       "      <td>98074</td>\n",
       "      <td>47.6168</td>\n",
       "      <td>-122.045</td>\n",
       "      <td>1800</td>\n",
       "      <td>7503</td>\n",
       "      <td>120</td>\n",
       "      <td>-577</td>\n",
       "      <td>0</td>\n",
       "      <td>1995.827133</td>\n",
       "    </tr>\n",
       "  </tbody>\n",
       "</table>\n",
       "<p>5 rows × 25 columns</p>\n",
       "</div>"
      ],
      "text/plain": [
       "           id             date     price  bedrooms  bathrooms  sqft_living  \\\n",
       "0  7129300520  20141013T000000  221900.0         3       1.00         1180   \n",
       "1  6414100192  20141209T000000  538000.0         3       2.25         2570   \n",
       "2  5631500400  20150225T000000  180000.0         2       1.00          770   \n",
       "3  2487200875  20141209T000000  604000.0         4       3.00         1960   \n",
       "4  1954400510  20150218T000000  510000.0         3       2.00         1680   \n",
       "\n",
       "   sqft_lot  floors  waterfront  view        ...         yr_renovated  \\\n",
       "0      5650     1.0           0     0        ...                    0   \n",
       "1      7242     2.0           0     0        ...                 1991   \n",
       "2     10000     1.0           0     0        ...                    0   \n",
       "3      5000     1.0           0     0        ...                    0   \n",
       "4      8080     1.0           0     0        ...                    0   \n",
       "\n",
       "   zipcode      lat     long  sqft_living15  sqft_lot15  livingdiff  lotdiff  \\\n",
       "0    98178  47.5112 -122.257           1340        5650         160        0   \n",
       "1    98125  47.7210 -122.319           1690        7639        -880      397   \n",
       "2    98028  47.7379 -122.233           2720        8062        1950    -1938   \n",
       "3    98136  47.5208 -122.393           1360        5000        -600        0   \n",
       "4    98074  47.6168 -122.045           1800        7503         120     -577   \n",
       "\n",
       "   is_renovated  yr_renovated_new  \n",
       "0             0       1995.827133  \n",
       "1             1       1991.000000  \n",
       "2             0       1995.827133  \n",
       "3             0       1995.827133  \n",
       "4             0       1995.827133  \n",
       "\n",
       "[5 rows x 25 columns]"
      ]
     },
     "execution_count": 151,
     "metadata": {},
     "output_type": "execute_result"
    }
   ],
   "source": [
    "# load data for model construction\n",
    "\n",
    "df = pd.read_csv('modified01.csv.gz', sep=',', compression='gzip')\n",
    "df.head()"
   ]
  },
  {
   "cell_type": "code",
   "execution_count": 9,
   "metadata": {
    "collapsed": false
   },
   "outputs": [
    {
     "data": {
      "text/html": [
       "<div>\n",
       "<table border=\"1\" class=\"dataframe\">\n",
       "  <thead>\n",
       "    <tr style=\"text-align: right;\">\n",
       "      <th></th>\n",
       "      <th>id</th>\n",
       "      <th>date</th>\n",
       "      <th>price</th>\n",
       "      <th>bedrooms</th>\n",
       "      <th>bathrooms</th>\n",
       "      <th>sqft_living</th>\n",
       "      <th>sqft_lot</th>\n",
       "      <th>floors</th>\n",
       "      <th>waterfront</th>\n",
       "      <th>view</th>\n",
       "      <th>...</th>\n",
       "      <th>yr_built</th>\n",
       "      <th>yr_renovated</th>\n",
       "      <th>zipcode</th>\n",
       "      <th>lat</th>\n",
       "      <th>long</th>\n",
       "      <th>sqft_living15</th>\n",
       "      <th>sqft_lot15</th>\n",
       "      <th>livingdiff</th>\n",
       "      <th>lotdiff</th>\n",
       "      <th>is_renovated</th>\n",
       "    </tr>\n",
       "  </thead>\n",
       "  <tbody>\n",
       "    <tr>\n",
       "      <th>0</th>\n",
       "      <td>7129300520</td>\n",
       "      <td>2014-10-13</td>\n",
       "      <td>221900.0</td>\n",
       "      <td>3</td>\n",
       "      <td>1.00</td>\n",
       "      <td>1180</td>\n",
       "      <td>5650</td>\n",
       "      <td>1.0</td>\n",
       "      <td>0</td>\n",
       "      <td>0</td>\n",
       "      <td>...</td>\n",
       "      <td>1955</td>\n",
       "      <td>1955.0</td>\n",
       "      <td>98178</td>\n",
       "      <td>47.5112</td>\n",
       "      <td>-122.257</td>\n",
       "      <td>1340</td>\n",
       "      <td>5650</td>\n",
       "      <td>160</td>\n",
       "      <td>0</td>\n",
       "      <td>0</td>\n",
       "    </tr>\n",
       "    <tr>\n",
       "      <th>1</th>\n",
       "      <td>6414100192</td>\n",
       "      <td>2014-12-09</td>\n",
       "      <td>538000.0</td>\n",
       "      <td>3</td>\n",
       "      <td>2.25</td>\n",
       "      <td>2570</td>\n",
       "      <td>7242</td>\n",
       "      <td>2.0</td>\n",
       "      <td>0</td>\n",
       "      <td>0</td>\n",
       "      <td>...</td>\n",
       "      <td>1951</td>\n",
       "      <td>1991.0</td>\n",
       "      <td>98125</td>\n",
       "      <td>47.7210</td>\n",
       "      <td>-122.319</td>\n",
       "      <td>1690</td>\n",
       "      <td>7639</td>\n",
       "      <td>-880</td>\n",
       "      <td>397</td>\n",
       "      <td>1</td>\n",
       "    </tr>\n",
       "    <tr>\n",
       "      <th>2</th>\n",
       "      <td>5631500400</td>\n",
       "      <td>2015-02-25</td>\n",
       "      <td>180000.0</td>\n",
       "      <td>2</td>\n",
       "      <td>1.00</td>\n",
       "      <td>770</td>\n",
       "      <td>10000</td>\n",
       "      <td>1.0</td>\n",
       "      <td>0</td>\n",
       "      <td>0</td>\n",
       "      <td>...</td>\n",
       "      <td>1933</td>\n",
       "      <td>1933.0</td>\n",
       "      <td>98028</td>\n",
       "      <td>47.7379</td>\n",
       "      <td>-122.233</td>\n",
       "      <td>2720</td>\n",
       "      <td>8062</td>\n",
       "      <td>1950</td>\n",
       "      <td>-1938</td>\n",
       "      <td>0</td>\n",
       "    </tr>\n",
       "    <tr>\n",
       "      <th>3</th>\n",
       "      <td>2487200875</td>\n",
       "      <td>2014-12-09</td>\n",
       "      <td>604000.0</td>\n",
       "      <td>4</td>\n",
       "      <td>3.00</td>\n",
       "      <td>1960</td>\n",
       "      <td>5000</td>\n",
       "      <td>1.0</td>\n",
       "      <td>0</td>\n",
       "      <td>0</td>\n",
       "      <td>...</td>\n",
       "      <td>1965</td>\n",
       "      <td>1965.0</td>\n",
       "      <td>98136</td>\n",
       "      <td>47.5208</td>\n",
       "      <td>-122.393</td>\n",
       "      <td>1360</td>\n",
       "      <td>5000</td>\n",
       "      <td>-600</td>\n",
       "      <td>0</td>\n",
       "      <td>0</td>\n",
       "    </tr>\n",
       "    <tr>\n",
       "      <th>4</th>\n",
       "      <td>1954400510</td>\n",
       "      <td>2015-02-18</td>\n",
       "      <td>510000.0</td>\n",
       "      <td>3</td>\n",
       "      <td>2.00</td>\n",
       "      <td>1680</td>\n",
       "      <td>8080</td>\n",
       "      <td>1.0</td>\n",
       "      <td>0</td>\n",
       "      <td>0</td>\n",
       "      <td>...</td>\n",
       "      <td>1987</td>\n",
       "      <td>1987.0</td>\n",
       "      <td>98074</td>\n",
       "      <td>47.6168</td>\n",
       "      <td>-122.045</td>\n",
       "      <td>1800</td>\n",
       "      <td>7503</td>\n",
       "      <td>120</td>\n",
       "      <td>-577</td>\n",
       "      <td>0</td>\n",
       "    </tr>\n",
       "  </tbody>\n",
       "</table>\n",
       "<p>5 rows × 24 columns</p>\n",
       "</div>"
      ],
      "text/plain": [
       "           id       date     price  bedrooms  bathrooms  sqft_living  \\\n",
       "0  7129300520 2014-10-13  221900.0         3       1.00         1180   \n",
       "1  6414100192 2014-12-09  538000.0         3       2.25         2570   \n",
       "2  5631500400 2015-02-25  180000.0         2       1.00          770   \n",
       "3  2487200875 2014-12-09  604000.0         4       3.00         1960   \n",
       "4  1954400510 2015-02-18  510000.0         3       2.00         1680   \n",
       "\n",
       "   sqft_lot  floors  waterfront  view      ...       yr_built  yr_renovated  \\\n",
       "0      5650     1.0           0     0      ...           1955        1955.0   \n",
       "1      7242     2.0           0     0      ...           1951        1991.0   \n",
       "2     10000     1.0           0     0      ...           1933        1933.0   \n",
       "3      5000     1.0           0     0      ...           1965        1965.0   \n",
       "4      8080     1.0           0     0      ...           1987        1987.0   \n",
       "\n",
       "   zipcode      lat     long  sqft_living15  sqft_lot15  livingdiff  lotdiff  \\\n",
       "0    98178  47.5112 -122.257           1340        5650         160        0   \n",
       "1    98125  47.7210 -122.319           1690        7639        -880      397   \n",
       "2    98028  47.7379 -122.233           2720        8062        1950    -1938   \n",
       "3    98136  47.5208 -122.393           1360        5000        -600        0   \n",
       "4    98074  47.6168 -122.045           1800        7503         120     -577   \n",
       "\n",
       "   is_renovated  \n",
       "0             0  \n",
       "1             1  \n",
       "2             0  \n",
       "3             0  \n",
       "4             0  \n",
       "\n",
       "[5 rows x 24 columns]"
      ]
     },
     "execution_count": 9,
     "metadata": {},
     "output_type": "execute_result"
    }
   ],
   "source": [
    "# first convert date to proper date\n",
    "\n",
    "df['date'] = pd.to_datetime(df['date'])\n",
    "df.head()"
   ]
  },
  {
   "cell_type": "code",
   "execution_count": 10,
   "metadata": {
    "collapsed": false
   },
   "outputs": [
    {
     "name": "stdout",
     "output_type": "stream",
     "text": [
      "5 18 122\n"
     ]
    }
   ],
   "source": [
    "# function to generate proper time stamps based on desired granularity\n",
    "\n",
    "\n",
    "# find earliest time points and save for proper time window\n",
    "df2014 = df[df['date'].dt.year==2014]\n",
    "firstmonth = df2014['date'].dt.month.min()\n",
    "firstweek = df2014['date'][df2014['date']<pd.to_datetime('2014-12-29')].dt.weekofyear.min()\n",
    "firstday = df2014['date'].dt.dayofyear.min()\n",
    "\n",
    "print(firstmonth, firstweek, firstday)\n",
    "\n",
    "# all of these quantities (day, week, month) are 1-indexed\n",
    "def ordinalconv(row, timeframe):\n",
    "    if timeframe == 'month':\n",
    "        first = firstmonth\n",
    "        last = 12\n",
    "        currow = row.month\n",
    "    elif timeframe == 'week':\n",
    "        first = firstweek\n",
    "        last = 52\n",
    "        currow = row.weekofyear\n",
    "    elif timeframe == 'day':\n",
    "        first = firstday\n",
    "        last = 365\n",
    "        currow = row.dayofyear\n",
    "    else:\n",
    "        return np.nan\n",
    "    return currow + (row.year - 2014)*last - first"
   ]
  },
  {
   "cell_type": "code",
   "execution_count": 12,
   "metadata": {
    "collapsed": false
   },
   "outputs": [
    {
     "name": "stdout",
     "output_type": "stream",
     "text": [
      "\n",
      "month\n",
      "test set r^2 score = 0.8788\n",
      "\n",
      "week\n",
      "test set r^2 score = 0.8746\n",
      "\n",
      "day\n",
      "test set r^2 score = 0.8781\n"
     ]
    }
   ],
   "source": [
    "# compute the performance for each time delta and return best\n",
    "\n",
    "# first sort values to preserve date order\n",
    "df.sort_values(by='date', ascending=True, inplace=True)\n",
    "\n",
    "# add appropriate time stamp\n",
    "for timedelta in ['month', 'week', 'day']:\n",
    "    df['timedelta'] = df['date'].apply(ordinalconv, args=(timedelta,))\n",
    "    \n",
    "    # compute model\n",
    "    trainmask = df['date'].dt.year==2014\n",
    "    testmask = df['date'].dt.year==2015\n",
    "        \n",
    "    exclvars = ['id', 'zipcode', 'date', 'livingdiff', 'lotdiff', 'yr_renovated']\n",
    "    dftime = df.drop(exclvars, axis=1, inplace=False)\n",
    "    \n",
    "    y = dftime['price']\n",
    "    Xraw = dftime.drop(['price'], axis=1)\n",
    "\n",
    "    ss = StandardScaler()\n",
    "    X = pd.DataFrame(ss.fit_transform(Xraw), index=Xraw.index)\n",
    "    \n",
    "    Xtrain = X[trainmask]\n",
    "    Xtest = X[testmask]\n",
    "    ytrain = y[trainmask]\n",
    "    ytest = y[testmask]\n",
    "    \n",
    "    print('')\n",
    "    print(timedelta)\n",
    "    \n",
    "    gbr = GradientBoostingRegressor(n_estimators=1000, max_depth=4, random_state=42)\n",
    "#     params = {'learning_rate': [1,0.1,0.01]}\n",
    "\n",
    "#     gridgbrtime = GridSearchCV(gbr, params, scoring='r2', cv=TimeSeriesSplit(n_splits=3), n_jobs=-1)\n",
    "#     gridgbrtime.fit(Xtrain, ytrain)\n",
    "    gbr.fit(Xtrain,ytrain)\n",
    "\n",
    "    # display results\n",
    "\n",
    "#     print(gridgbrtime.best_params_)\n",
    "#     gridgbrtimedf = pd.DataFrame(gridgbrtime.cv_results_)\n",
    "#     print('training set r^2 score = {0:.4f}'.format(gridgbrtimedf['mean_test_score'].max()))\n",
    "    print('test set r^2 score = {0:.4f}'.format(r2_score(ytest, gbr.predict(Xtest))))"
   ]
  },
  {
   "cell_type": "code",
   "execution_count": 14,
   "metadata": {
    "collapsed": false
   },
   "outputs": [
    {
     "data": {
      "image/png": "[encoded data removed]",
      "text/plain": [
       "<matplotlib.figure.Figure at 0x7fd5c0433be0>"
      ]
     },
     "metadata": {},
     "output_type": "display_data"
    }
   ],
   "source": [
    "# feature importance\n",
    "\n",
    "featimp = pd.Series(gbr.feature_importances_, index=Xraw.columns)\n",
    "plt.figure(figsize=(12,8))\n",
    "plt.title('Feature Importance')\n",
    "_ = featimp.sort_values(ascending=True).plot(kind='barh')"
   ]
  },
  {
   "cell_type": "markdown",
   "metadata": {},
   "source": [
    "## Result\n",
    "\n",
    "There is actually a slight decrease in model performance when considering the time evolution of this data. This could be a result of slight overfitting."
   ]
  },
  {
   "cell_type": "markdown",
   "metadata": {},
   "source": [
    "[Return to top](#top)\n",
    "\n",
    "<a id=\"comb\"></a>\n",
    "\n",
    "---\n",
    "\n",
    "# Combination of predictions\n",
    "\n",
    "Although the gradient boosting model seems to generalize well (test error is close in magnitude to training error) it may be possible to improve performance by combining the output of several models."
   ]
  },
  {
   "cell_type": "code",
   "execution_count": 5,
   "metadata": {
    "collapsed": false
   },
   "outputs": [
    {
     "name": "stdout",
     "output_type": "stream",
     "text": [
      "<class 'pandas.core.frame.DataFrame'>\n",
      "RangeIndex: 21613 entries, 0 to 21612\n",
      "Data columns (total 25 columns):\n",
      "id                  21613 non-null int64\n",
      "date                21613 non-null object\n",
      "price               21613 non-null float64\n",
      "bedrooms            21613 non-null int64\n",
      "bathrooms           21613 non-null float64\n",
      "sqft_living         21613 non-null int64\n",
      "sqft_lot            21613 non-null int64\n",
      "floors              21613 non-null float64\n",
      "waterfront          21613 non-null int64\n",
      "view                21613 non-null int64\n",
      "condition           21613 non-null int64\n",
      "grade               21613 non-null int64\n",
      "sqft_above          21613 non-null int64\n",
      "sqft_basement       21613 non-null int64\n",
      "yr_built            21613 non-null int64\n",
      "yr_renovated        21613 non-null int64\n",
      "zipcode             21613 non-null int64\n",
      "lat                 21613 non-null float64\n",
      "long                21613 non-null float64\n",
      "sqft_living15       21613 non-null int64\n",
      "sqft_lot15          21613 non-null int64\n",
      "livingdiff          21613 non-null int64\n",
      "lotdiff             21613 non-null int64\n",
      "is_renovated        21613 non-null int64\n",
      "yr_renovated_new    21613 non-null float64\n",
      "dtypes: float64(6), int64(18), object(1)\n",
      "memory usage: 4.1+ MB\n"
     ]
    }
   ],
   "source": [
    "# load dataset\n",
    "\n",
    "df = pd.read_csv('modified01.csv.gz', sep=',', compression='gzip')\n",
    "df.info()"
   ]
  },
  {
   "cell_type": "code",
   "execution_count": 16,
   "metadata": {
    "collapsed": true
   },
   "outputs": [],
   "source": [
    "# divide dataset\n",
    "\n",
    "y = df['price']\n",
    "Xraw = df.drop(['price', 'livingdiff', 'lotdiff', 'id', 'date', 'zipcode'], axis=1)\n",
    "\n",
    "ss = StandardScaler()\n",
    "X = ss.fit_transform(Xraw)\n",
    "\n",
    "Xtrain, Xtest, ytrain, ytest = train_test_split(X, y, test_size=0.25, random_state=1)"
   ]
  },
  {
   "cell_type": "code",
   "execution_count": 19,
   "metadata": {
    "collapsed": false
   },
   "outputs": [
    {
     "name": "stdout",
     "output_type": "stream",
     "text": [
      "Random Forest\n",
      "test set r^2 score = 0.8781\n",
      "\n",
      "Gradient Boosting\n",
      "test set r^2 score = 0.9026\n",
      "\n",
      "SVM\n",
      "test set r^2 score = 0.8122\n",
      "\n",
      "Linear Combination\n",
      "test set r^2 score = 0.8916\n",
      "\n"
     ]
    }
   ],
   "source": [
    "# # run random forest regressor\n",
    "\n",
    "# rfparams = {'max_features': 0.5, 'max_depth': 16, 'n_estimators': 1000}\n",
    "\n",
    "# rf = RandomForestRegressor(random_state=42, n_jobs=-1, **rfparams)\n",
    "# rf.fit(Xtrain, ytrain)\n",
    "\n",
    "# # run gradient boosting regressor\n",
    "\n",
    "# gbrparams = {'max_depth': 4, 'learning_rate': 0.1, 'n_estimators': 1000}\n",
    "\n",
    "# gbr = GradientBoostingRegressor(random_state=42, **gbrparams)\n",
    "# gbr.fit(Xtrain, ytrain)\n",
    "\n",
    "# # run svm\n",
    "\n",
    "# svm = SVR(kernel='rbf', C=1000000.0)\n",
    "# svm.fit(Xtrain, ytrain)\n",
    "\n",
    "# combine outputs and feed into linear regression\n",
    "\n",
    "lr = LinearRegression(n_jobs=-1)\n",
    "lr.fit(np.hstack((rf.predict(Xtrain).reshape(-1,1), gbr.predict(Xtrain).reshape(-1,1), \n",
    "                  svm.predict(Xtrain).reshape(-1,1))),ytrain)\n",
    "\n",
    "for name,est in zip(['Random Forest', 'Gradient Boosting', 'SVM', 'Linear Combination'],[rf,gbr,svm,lr]):\n",
    "    print(name)\n",
    "    if est==lr:\n",
    "        Xtest = np.hstack((rf.predict(Xtest).reshape(-1,1), gbr.predict(Xtest).reshape(-1,1), \n",
    "                          svm.predict(Xtest).reshape(-1,1)))\n",
    "    ypred = est.predict(Xtest)\n",
    "    print('test set r^2 score = {0:.4f}'.format(r2_score(ytest, ypred)))\n",
    "    print()"
   ]
  },
  {
   "cell_type": "code",
   "execution_count": 20,
   "metadata": {
    "collapsed": false
   },
   "outputs": [
    {
     "name": "stdout",
     "output_type": "stream",
     "text": [
      "[ 0.7606455   0.41786118 -0.16326826] -10000.2092063\n"
     ]
    }
   ],
   "source": [
    "# random forest is first coefficient, gradient-boosting is second, svm is third\n",
    "\n",
    "print(lr.coef_, lr.intercept_)"
   ]
  },
  {
   "cell_type": "code",
   "execution_count": 21,
   "metadata": {
    "collapsed": false
   },
   "outputs": [
    {
     "name": "stdout",
     "output_type": "stream",
     "text": [
      "Random Forest\n",
      "test set r^2 score = 0.8615\n",
      "\n",
      "Gradient Boosting\n",
      "test set r^2 score = 0.8738\n",
      "\n",
      "SVM\n",
      "test set r^2 score = 0.7755\n",
      "\n",
      "Linear Combination\n",
      "test set r^2 score = 0.8774\n",
      "\n"
     ]
    }
   ],
   "source": [
    "# factor in time dependence\n",
    "\n",
    "# first sort values to preserve date order\n",
    "df.sort_values(by='date', ascending=True, inplace=True)\n",
    "\n",
    "trainmask = df['date'].dt.year==2014\n",
    "testmask = df['date'].dt.year==2015\n",
    "\n",
    "X = pd.DataFrame(ss.fit_transform(Xraw), index=Xraw.index)\n",
    "\n",
    "Xtrain = X.loc[trainmask]\n",
    "Xtest = X.loc[testmask]\n",
    "ytrain = y.loc[trainmask]\n",
    "ytest = y.loc[testmask]\n",
    "\n",
    "df['timedelta'] = df['date'].apply(ordinalconv, args=('month',))\n",
    "\n",
    "\n",
    "for name,est in zip(['Random Forest', 'Gradient Boosting', 'SVM', 'Linear Combination'],[rf,gbr,svm,lr]):\n",
    "    print(name)\n",
    "    if est==lr:\n",
    "        est.fit(np.hstack((rf.predict(Xtrain).reshape(-1,1), \n",
    "                           gbr.predict(Xtrain).reshape(-1,1), \n",
    "                           svm.predict(Xtrain).reshape(-1,1))), ytrain)\n",
    "        Xtest3 = np.hstack((rf.predict(Xtest).reshape(-1,1), \n",
    "                           gbr.predict(Xtest).reshape(-1,1), \n",
    "                           svm.predict(Xtest).reshape(-1,1)))\n",
    "    else:\n",
    "        est.fit(Xtrain, ytrain)\n",
    "        Xtest3 = Xtest\n",
    "    ypred = est.predict(Xtest3)\n",
    "    print('test set r^2 score = {0:.4f}'.format(r2_score(ytest, ypred)))\n",
    "    print()"
   ]
  },
  {
   "cell_type": "code",
   "execution_count": 22,
   "metadata": {
    "collapsed": false
   },
   "outputs": [
    {
     "name": "stdout",
     "output_type": "stream",
     "text": [
      "[ 0.67804162  0.48800416 -0.15411721] -8141.46792656\n"
     ]
    }
   ],
   "source": [
    "# random forest is first coefficient, gradient-boosting is second, svm is third\n",
    "\n",
    "print(lr.coef_, lr.intercept_)"
   ]
  },
  {
   "cell_type": "markdown",
   "metadata": {},
   "source": [
    "## Result\n",
    "\n",
    "The combination of a random forest model, gradient boosting trees, and support vector machine did not significantly improve test set performance. However there was a slight improvement for the linear combination in the time-dependent model."
   ]
  },
  {
   "cell_type": "markdown",
   "metadata": {},
   "source": [
    "<a id=\"concl\"></a>\n",
    "\n",
    "[Return to top](#top)\n",
    "\n",
    "---\n",
    "# Conclusion\n",
    "\n",
    "The best performing model (Gradient boosting trees with $R^2=0.90$) includes a variety of physical descriptors of the house, lot, and local neighborhood along with the actual geographic location (latitude/longitude). Due to the narrow time range, time evolution due to demand or price inflation doesn't seem to have much influence on the predictability of the model."
   ]
  },
  {
   "cell_type": "code",
   "execution_count": 28,
   "metadata": {
    "collapsed": false
   },
   "outputs": [
    {
     "name": "stdout",
     "output_type": "stream",
     "text": [
      "Best peforming model:\n",
      "GradientBoostingRegressor(alpha=0.9, criterion='friedman_mse', init=None,\n",
      "             learning_rate=0.1, loss='ls', max_depth=4, max_features=None,\n",
      "             max_leaf_nodes=None, min_impurity_split=1e-07,\n",
      "             min_samples_leaf=1, min_samples_split=2,\n",
      "             min_weight_fraction_leaf=0.0, n_estimators=1000,\n",
      "             presort='auto', random_state=42, subsample=1.0, verbose=0,\n",
      "             warm_start=False)\n",
      "\n",
      "Features used: ['bedrooms', 'bathrooms', 'sqft_living', 'sqft_lot', 'floors', 'waterfront', 'view', 'condition', 'grade', 'sqft_above', 'sqft_basement', 'yr_built', 'yr_renovated', 'lat', 'long', 'sqft_living15', 'sqft_lot15', 'is_renovated']\n",
      "\n",
      "Predicted feature: price\n"
     ]
    }
   ],
   "source": [
    "# best performing model\n",
    "\n",
    "output = 'price'\n",
    "\n",
    "print('Best peforming model:')\n",
    "print(gbr)\n",
    "print()\n",
    "print('Features used:', dfloc.drop(output, axis=1).columns.tolist())\n",
    "print()\n",
    "print('Predicted feature:', output)"
   ]
  },
  {
   "cell_type": "code",
   "execution_count": 31,
   "metadata": {
    "collapsed": false
   },
   "outputs": [
    {
     "data": {
      "text/plain": [
       "['gbr.pkl']"
      ]
     },
     "execution_count": 31,
     "metadata": {},
     "output_type": "execute_result"
    }
   ],
   "source": [
    "# pickle and save best performing estimator\n",
    "\n",
    "joblib.dump(gbr, 'gbr.pkl')"
   ]
  }
 ],
 "metadata": {
  "kernelspec": {
   "display_name": "Python 3",
   "language": "python",
   "name": "python3"
  },
  "language_info": {
   "codemirror_mode": {
    "name": "ipython",
    "version": 3
   },
   "file_extension": ".py",
   "mimetype": "text/x-python",
   "name": "python",
   "nbconvert_exporter": "python",
   "pygments_lexer": "ipython3",
   "version": "3.5.2"
  }
 },
 "nbformat": 4,
 "nbformat_minor": 1
}
