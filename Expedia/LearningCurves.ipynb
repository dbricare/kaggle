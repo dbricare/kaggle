{
 "cells": [
  {
   "cell_type": "markdown",
   "metadata": {},
   "source": [
    "# Learning Curves\n",
    "\n",
    "To assess applicability of various models\n",
    "___"
   ]
  },
  {
   "cell_type": "code",
   "execution_count": 36,
   "metadata": {
    "collapsed": false
   },
   "outputs": [],
   "source": [
    "import pandas as pd\n",
    "import matplotlib.pyplot as plt\n",
    "import seaborn as sns\n",
    "import numpy as np\n",
    "\n",
    "from collections import OrderedDict\n",
    "\n",
    "from sklearn.ensemble import RandomForestClassifier, GradientBoostingClassifier\n",
    "from sklearn.cross_validation import StratifiedShuffleSplit\n",
    "from sklearn.learning_curve import learning_curve\n",
    "from sklearn.preprocessing import OneHotEncoder\n",
    "\n",
    "%matplotlib inline"
   ]
  },
  {
   "cell_type": "markdown",
   "metadata": {},
   "source": [
    "## Load data and divide into train/test"
   ]
  },
  {
   "cell_type": "code",
   "execution_count": 31,
   "metadata": {
    "collapsed": true
   },
   "outputs": [],
   "source": [
    "def formatdata(chunk):\n",
    "    '''Format data of each startified chunk.'''\n",
    "    \n",
    "    # fill NAs for origin-destination distance\n",
    "    chunk['orig_destination_distance'].fillna(0.0, inplace=True)\n",
    "  \n",
    "    # parse datetime objects\n",
    "    for col in ['date_time', 'srch_ci', 'srch_co']:\n",
    "        chunk[col] = pd.to_datetime(chunk[col], errors='coerce')\n",
    "    # create booking dayofyear\n",
    "    chunk['bookmonth'] = chunk['date_time'].apply(lambda x: x.month)\n",
    "    # fill NA values with booking datetime and stay length of zero\n",
    "    chunk['srch_co'].fillna(chunk['date_time'], inplace=True)\n",
    "    chunk['srch_ci'].fillna(chunk['date_time'], inplace=True)\n",
    "    # create stay length\n",
    "    chunk['stay'] = chunk['srch_co']-chunk['srch_ci']\n",
    "    chunk['stay'] = chunk['stay'].apply(lambda x: x.days)\n",
    "\n",
    "    # create stay dayofyear\n",
    "    chunk['staydoy'] = chunk['srch_ci'].apply(lambda x: x.dayofyear)\n",
    "     \n",
    "    # drop processed columns\n",
    "    chunk.drop(['date_time','srch_ci','srch_co'], axis=1, inplace=True)\n",
    "    \n",
    "    return chunk\n",
    "\n",
    "def stratshufspl(chunk, fraction, ylabel):\n",
    "    '''Startified shuffle split of chunks.'''\n",
    "    sss = StratifiedShuffleSplit(chunk[ylabel], test_size=fraction, \n",
    "                                 random_state=42, n_iter=1)\n",
    "    for _, idx in sss:\n",
    "        train = chunk.iloc[idx].copy()\n",
    "    return train\n",
    "\n",
    "\n",
    "def fractionate(trainiter, fraction, ylabel):\n",
    "    '''Utilizes only one core.'''\n",
    "    print('')\n",
    "    print('loading data...')\n",
    "    \n",
    "    # create empty list and add formatted data chunks\n",
    "    chunks = list()\n",
    "    for chunk in trainiter:\n",
    "        # if using whole dataset skip this step\n",
    "        if fraction < 1.0:\n",
    "            chunk = stratshufspl(chunk, fraction, ylabel)\n",
    "        curr = formatdata(chunk)\n",
    "        chunks.append(curr)\n",
    "        \n",
    "    # concatenate chunks\n",
    "    train = pd.concat(chunks, axis=0)\n",
    "    \n",
    "    # split concatenated set into X and y for ml model fitting\n",
    "    X = train.drop(ylabel, axis=1, inplace=False)\n",
    "    y = train[ylabel]\n",
    "    return X, y"
   ]
  },
  {
   "cell_type": "code",
   "execution_count": 32,
   "metadata": {
    "collapsed": false
   },
   "outputs": [
    {
     "name": "stdout",
     "output_type": "stream",
     "text": [
      "\n",
      "loading data...\n",
      "(188351, 13)\n",
      "Index(['site_name', 'user_location_country', 'user_location_region',\n",
      "       'orig_destination_distance', 'is_package', 'srch_adults_cnt',\n",
      "       'srch_children_cnt', 'srch_destination_type_id', 'hotel_country',\n",
      "       'hotel_market', 'bookmonth', 'stay', 'staydoy'],\n",
      "      dtype='object')\n"
     ]
    },
    {
     "data": {
      "text/html": [
       "<div>\n",
       "<table border=\"1\" class=\"dataframe\">\n",
       "  <thead>\n",
       "    <tr style=\"text-align: right;\">\n",
       "      <th></th>\n",
       "      <th>site_name</th>\n",
       "      <th>user_location_country</th>\n",
       "      <th>user_location_region</th>\n",
       "      <th>orig_destination_distance</th>\n",
       "      <th>is_package</th>\n",
       "      <th>srch_adults_cnt</th>\n",
       "      <th>srch_children_cnt</th>\n",
       "      <th>srch_destination_type_id</th>\n",
       "      <th>hotel_country</th>\n",
       "      <th>hotel_market</th>\n",
       "      <th>bookmonth</th>\n",
       "      <th>stay</th>\n",
       "      <th>staydoy</th>\n",
       "    </tr>\n",
       "  </thead>\n",
       "  <tbody>\n",
       "    <tr>\n",
       "      <th>0</th>\n",
       "      <td>18</td>\n",
       "      <td>231</td>\n",
       "      <td>68</td>\n",
       "      <td>0.0000</td>\n",
       "      <td>1</td>\n",
       "      <td>4</td>\n",
       "      <td>0</td>\n",
       "      <td>6</td>\n",
       "      <td>105</td>\n",
       "      <td>29</td>\n",
       "      <td>2</td>\n",
       "      <td>2</td>\n",
       "      <td>89</td>\n",
       "    </tr>\n",
       "    <tr>\n",
       "      <th>1</th>\n",
       "      <td>13</td>\n",
       "      <td>46</td>\n",
       "      <td>171</td>\n",
       "      <td>5763.2976</td>\n",
       "      <td>0</td>\n",
       "      <td>2</td>\n",
       "      <td>0</td>\n",
       "      <td>1</td>\n",
       "      <td>203</td>\n",
       "      <td>253</td>\n",
       "      <td>10</td>\n",
       "      <td>7</td>\n",
       "      <td>339</td>\n",
       "    </tr>\n",
       "    <tr>\n",
       "      <th>2</th>\n",
       "      <td>2</td>\n",
       "      <td>66</td>\n",
       "      <td>220</td>\n",
       "      <td>188.2171</td>\n",
       "      <td>0</td>\n",
       "      <td>3</td>\n",
       "      <td>0</td>\n",
       "      <td>1</td>\n",
       "      <td>50</td>\n",
       "      <td>682</td>\n",
       "      <td>8</td>\n",
       "      <td>3</td>\n",
       "      <td>266</td>\n",
       "    </tr>\n",
       "    <tr>\n",
       "      <th>3</th>\n",
       "      <td>34</td>\n",
       "      <td>205</td>\n",
       "      <td>155</td>\n",
       "      <td>60.4896</td>\n",
       "      <td>0</td>\n",
       "      <td>2</td>\n",
       "      <td>0</td>\n",
       "      <td>1</td>\n",
       "      <td>198</td>\n",
       "      <td>401</td>\n",
       "      <td>11</td>\n",
       "      <td>1</td>\n",
       "      <td>326</td>\n",
       "    </tr>\n",
       "    <tr>\n",
       "      <th>4</th>\n",
       "      <td>2</td>\n",
       "      <td>66</td>\n",
       "      <td>435</td>\n",
       "      <td>4362.4117</td>\n",
       "      <td>0</td>\n",
       "      <td>2</td>\n",
       "      <td>0</td>\n",
       "      <td>1</td>\n",
       "      <td>204</td>\n",
       "      <td>27</td>\n",
       "      <td>6</td>\n",
       "      <td>3</td>\n",
       "      <td>192</td>\n",
       "    </tr>\n",
       "  </tbody>\n",
       "</table>\n",
       "</div>"
      ],
      "text/plain": [
       "   site_name  user_location_country  user_location_region  \\\n",
       "0         18                    231                    68   \n",
       "1         13                     46                   171   \n",
       "2          2                     66                   220   \n",
       "3         34                    205                   155   \n",
       "4          2                     66                   435   \n",
       "\n",
       "   orig_destination_distance  is_package  srch_adults_cnt  srch_children_cnt  \\\n",
       "0                     0.0000           1                4                  0   \n",
       "1                  5763.2976           0                2                  0   \n",
       "2                   188.2171           0                3                  0   \n",
       "3                    60.4896           0                2                  0   \n",
       "4                  4362.4117           0                2                  0   \n",
       "\n",
       "   srch_destination_type_id  hotel_country  hotel_market  bookmonth  stay  \\\n",
       "0                         6            105            29          2     2   \n",
       "1                         1            203           253         10     7   \n",
       "2                         1             50           682          8     3   \n",
       "3                         1            198           401         11     1   \n",
       "4                         1            204            27          6     3   \n",
       "\n",
       "   staydoy  \n",
       "0       89  \n",
       "1      339  \n",
       "2      266  \n",
       "3      326  \n",
       "4      192  "
      ]
     },
     "execution_count": 32,
     "metadata": {},
     "output_type": "execute_result"
    }
   ],
   "source": [
    "dataurl = '/Users/dbricare/Documents/Python/datasets/expedia/'\n",
    "\n",
    "rawcols = ['site_name', 'user_location_country', 'user_location_region', \n",
    "            'is_package', 'srch_adults_cnt', 'srch_children_cnt', \n",
    "            'srch_destination_type_id', 'orig_destination_distance', 'hotel_country', \n",
    "            'hotel_market', 'srch_ci', 'srch_co', 'date_time', 'hotel_cluster']\n",
    "\n",
    "ylabel = rawcols[-1]\n",
    "\n",
    "# csviter = pd.read_csv(dataurl+'train.csv.gz', sep=',', compression='gzip', chunksize=2000000, usecols=rawcols)\n",
    "csviter = pd.read_csv(dataurl+'train200th.csv', sep=',', chunksize=200000, usecols=rawcols)\n",
    "\n",
    "\n",
    "X, y = fractionate(csviter, 1.0, rawcols[-1])\n",
    "\n",
    "print(X.shape)\n",
    "print(X.columns)\n",
    "X.head()"
   ]
  },
  {
   "cell_type": "markdown",
   "metadata": {},
   "source": [
    "## Create sparse matrix"
   ]
  },
  {
   "cell_type": "code",
   "execution_count": 37,
   "metadata": {
    "collapsed": false
   },
   "outputs": [
    {
     "name": "stdout",
     "output_type": "stream",
     "text": [
      "expected number of columns in sparse matrix: 4065\n",
      "all features: 4060\n",
      "sparse matrix shape: (188351, 4060)\n",
      "total encoding values: 4057\n"
     ]
    }
   ],
   "source": [
    "notcats = ['orig_destination_distance','stay', 'is_package']\n",
    "cats = list(X.columns)\n",
    "for cat in notcats:\n",
    "    cats.remove(cat)\n",
    "#for col in cats:\n",
    "    \n",
    "print('expected number of columns in sparse matrix:', X[cats].max().sum()+len(X.columns))\n",
    "\n",
    "catdict = OrderedDict()\n",
    "for col in X.columns:\n",
    "    if col in notcats:\n",
    "        val = False\n",
    "    else:\n",
    "        val = True\n",
    "    catdict.update({col:val})\n",
    "\n",
    "maxfeatures = [54, 240, 1028, 10, 10, 10, 213, 2118, 13, 367]\n",
    "mask = np.array(list(catdict.values()))\n",
    "\n",
    "enc = OneHotEncoder(n_values=maxfeatures, categorical_features=mask, dtype=int, sparse=True)\n",
    "\n",
    "Xsparse = enc.fit_transform(X.values)\n",
    "print('all features:',sum(maxfeatures)+3)\n",
    "print('sparse matrix shape:', Xsparse.shape)\n",
    "print('total encoding values:', sum(enc.n_values)) "
   ]
  },
  {
   "cell_type": "code",
   "execution_count": 38,
   "metadata": {
    "collapsed": false
   },
   "outputs": [],
   "source": [
    "params = {'class_weight': 'balanced', 'n_estimators': 150, 'max_depth': 16, 'max_features': 0.2}\n",
    "\n",
    "estimator = RandomForestClassifier(random_state=42, n_jobs=2)\n",
    "estimator.set_params(**params)\n",
    "scorer = 'log_loss'\n",
    "datarange = np.linspace(0.1, 1, 5)\n",
    "\n",
    "train_sizes, train_scores, test_scores = learning_curve(estimator=estimator, \n",
    "                                                        X=Xsparse,\n",
    "                                                        y=y, \n",
    "                                                        train_sizes=datarange, \n",
    "                                                        cv=3,\n",
    "                                                        scoring=scorer,\n",
    "                                                        n_jobs=2)"
   ]
  },
  {
   "cell_type": "code",
   "execution_count": 39,
   "metadata": {
    "collapsed": false
   },
   "outputs": [
    {
     "data": {
      "image/png": "[encoded data removed]",
      "text/plain": [
       "<matplotlib.figure.Figure at 0x1066d3080>"
      ]
     },
     "metadata": {},
     "output_type": "display_data"
    }
   ],
   "source": [
    "train_mean = np.mean(train_scores, axis=1)\n",
    "train_std = np.std(train_scores, axis=1)\n",
    "test_mean = np.mean(test_scores, axis=1)\n",
    "test_std = np.std(test_scores, axis=1)\n",
    "\n",
    "plt.plot(train_sizes, train_mean, \n",
    "         color='blue', marker='o', \n",
    "         markersize=5, label='training score')\n",
    "\n",
    "plt.fill_between(train_sizes, \n",
    "                 train_mean + train_std,\n",
    "                 train_mean - train_std, \n",
    "                 alpha=0.15, color='blue')\n",
    "\n",
    "plt.plot(train_sizes, test_mean, \n",
    "         color='green', linestyle='--', \n",
    "         marker='s', markersize=5, \n",
    "         label='validation score')\n",
    "\n",
    "plt.fill_between(train_sizes, \n",
    "                 test_mean + test_std,\n",
    "                 test_mean - test_std, \n",
    "                 alpha=0.15, color='green')\n",
    "\n",
    "plt.grid()\n",
    "plt.xlabel('Number of training samples')\n",
    "plt.ylabel(scorer)\n",
    "plt.legend(loc='best')\n",
    "# plt.ylim([0.8, 1.0])\n",
    "plt.tight_layout()\n",
    "# plt.savefig('learning_curve.png', dpi=300)\n",
    "plt.show()"
   ]
  },
  {
   "cell_type": "markdown",
   "metadata": {},
   "source": [
    "Ideally, log loss is maximized if all the predicted probabilities are high when predicting 1 or low when predicting 0. Thus we want to increase the validation score to a high value, close to the training score.\n",
    "\n",
    "This graph suggests increasing the number of training samples could improve the validation(test) error. \n",
    "\n",
    "Also, there is a significant gap between validation and training error suggesting there is significant variance (model is closely following training data but does not generalize well)."
   ]
  },
  {
   "cell_type": "code",
   "execution_count": null,
   "metadata": {
    "collapsed": true
   },
   "outputs": [],
   "source": []
  }
 ],
 "metadata": {
  "kernelspec": {
   "display_name": "Python 3",
   "language": "python",
   "name": "python3"
  },
  "language_info": {
   "codemirror_mode": {
    "name": "ipython",
    "version": 3
   },
   "file_extension": ".py",
   "mimetype": "text/x-python",
   "name": "python",
   "nbconvert_exporter": "python",
   "pygments_lexer": "ipython3",
   "version": "3.5.1"
  }
 },
 "nbformat": 4,
 "nbformat_minor": 0
}
