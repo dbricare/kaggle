{
 "cells": [
  {
   "cell_type": "markdown",
   "metadata": {},
   "source": [
    "## Expedia hotel recommendation\n",
    "\n",
    "Using leakage information attempt to identify users based on user city and origin-destination distance.\n",
    "___"
   ]
  },
  {
   "cell_type": "code",
   "execution_count": 1,
   "metadata": {
    "collapsed": true
   },
   "outputs": [],
   "source": [
    "# Import libraries\n",
    "\n",
    "import operator, datetime\n",
    "import ml_metrics\n",
    "import pandas as pd\n",
    "import numpy as np\n",
    "from sklearn.cross_validation import StratifiedShuffleSplit, train_test_split\n",
    "from sklearn.metrics import log_loss\n",
    "\n",
    "import matplotlib.pyplot as plt\n",
    "import seaborn as sns\n",
    "%matplotlib inline"
   ]
  },
  {
   "cell_type": "code",
   "execution_count": 72,
   "metadata": {
    "collapsed": true
   },
   "outputs": [],
   "source": [
    "def formatdata(chunk):\n",
    "    '''Format data of each startified chunk.'''\n",
    "    \n",
    "    # fill or drop NAs for origin-destination distance\n",
    "    chunk['orig_destination_distance'].fillna(0.0, inplace=True)\n",
    "    chunk['orig_destination_distance'].round(4)\n",
    "    # chunk.dropna(axis=0, subset=['orig_destination_distance'], inplace=True)\n",
    "      \n",
    "    return chunk\n",
    "\n",
    "def stratshufspl(chunk, fraction, ylabel):\n",
    "    '''Startified shuffle split of chunks.'''\n",
    "    sss = StratifiedShuffleSplit(chunk[ylabel], test_size=fraction, \n",
    "                                 random_state=42, n_iter=1)\n",
    "    for _, idx in sss:\n",
    "        train = chunk.iloc[idx].copy()\n",
    "    return train\n",
    "\n",
    "\n",
    "def fractionate(trainiter, fraction, ylabel):\n",
    "    '''Utilizes only one core.'''\n",
    "    print('')\n",
    "    print('loading data...')\n",
    "    \n",
    "    # create empty list and add formatted data chunks\n",
    "    chunks = list()\n",
    "    for chunk in trainiter:\n",
    "        # chunk = chunk[chunk['is_booking']==1]   # train only on booking events\n",
    "        # if using whole dataset skip this step\n",
    "        if fraction < 1.0:\n",
    "            chunk = stratshufspl(chunk, fraction, ylabel)\n",
    "        curr = formatdata(chunk)\n",
    "        chunks.append(curr)\n",
    "        \n",
    "    # concatenate chunks\n",
    "    train = pd.concat(chunks, axis=0)\n",
    "    \n",
    "    # split concatenated set into X and y for ml model fitting\n",
    "    # X = train.drop([ylabel, 'is_booking'], axis=1, inplace=False)\n",
    "    # y = train[ylabel]\n",
    "    return train"
   ]
  },
  {
   "cell_type": "markdown",
   "metadata": {},
   "source": [
    "## Load data"
   ]
  },
  {
   "cell_type": "code",
   "execution_count": 73,
   "metadata": {
    "collapsed": false
   },
   "outputs": [
    {
     "name": "stdout",
     "output_type": "stream",
     "text": [
      "\n",
      "loading data...\n",
      "(37670293, 8)\n",
      "Index(['user_location_country', 'user_location_region', 'user_location_city',\n",
      "       'orig_destination_distance', 'srch_destination_id', 'is_booking',\n",
      "       'hotel_market', 'hotel_cluster'],\n",
      "      dtype='object')\n"
     ]
    },
    {
     "data": {
      "text/html": [
       "<div>\n",
       "<table border=\"1\" class=\"dataframe\">\n",
       "  <thead>\n",
       "    <tr style=\"text-align: right;\">\n",
       "      <th></th>\n",
       "      <th>user_location_country</th>\n",
       "      <th>user_location_region</th>\n",
       "      <th>user_location_city</th>\n",
       "      <th>orig_destination_distance</th>\n",
       "      <th>srch_destination_id</th>\n",
       "      <th>is_booking</th>\n",
       "      <th>hotel_market</th>\n",
       "      <th>hotel_cluster</th>\n",
       "    </tr>\n",
       "  </thead>\n",
       "  <tbody>\n",
       "    <tr>\n",
       "      <th>0</th>\n",
       "      <td>66</td>\n",
       "      <td>348</td>\n",
       "      <td>48862</td>\n",
       "      <td>2234.2641</td>\n",
       "      <td>8250</td>\n",
       "      <td>0</td>\n",
       "      <td>628</td>\n",
       "      <td>1</td>\n",
       "    </tr>\n",
       "    <tr>\n",
       "      <th>1</th>\n",
       "      <td>66</td>\n",
       "      <td>348</td>\n",
       "      <td>48862</td>\n",
       "      <td>2234.2641</td>\n",
       "      <td>8250</td>\n",
       "      <td>1</td>\n",
       "      <td>628</td>\n",
       "      <td>1</td>\n",
       "    </tr>\n",
       "    <tr>\n",
       "      <th>2</th>\n",
       "      <td>66</td>\n",
       "      <td>348</td>\n",
       "      <td>48862</td>\n",
       "      <td>2234.2641</td>\n",
       "      <td>8250</td>\n",
       "      <td>0</td>\n",
       "      <td>628</td>\n",
       "      <td>1</td>\n",
       "    </tr>\n",
       "    <tr>\n",
       "      <th>3</th>\n",
       "      <td>66</td>\n",
       "      <td>442</td>\n",
       "      <td>35390</td>\n",
       "      <td>913.1932</td>\n",
       "      <td>14984</td>\n",
       "      <td>0</td>\n",
       "      <td>1457</td>\n",
       "      <td>80</td>\n",
       "    </tr>\n",
       "    <tr>\n",
       "      <th>4</th>\n",
       "      <td>66</td>\n",
       "      <td>442</td>\n",
       "      <td>35390</td>\n",
       "      <td>913.6259</td>\n",
       "      <td>14984</td>\n",
       "      <td>0</td>\n",
       "      <td>1457</td>\n",
       "      <td>21</td>\n",
       "    </tr>\n",
       "  </tbody>\n",
       "</table>\n",
       "</div>"
      ],
      "text/plain": [
       "   user_location_country  user_location_region  user_location_city  \\\n",
       "0                     66                   348               48862   \n",
       "1                     66                   348               48862   \n",
       "2                     66                   348               48862   \n",
       "3                     66                   442               35390   \n",
       "4                     66                   442               35390   \n",
       "\n",
       "   orig_destination_distance  srch_destination_id  is_booking  hotel_market  \\\n",
       "0                  2234.2641                 8250           0           628   \n",
       "1                  2234.2641                 8250           1           628   \n",
       "2                  2234.2641                 8250           0           628   \n",
       "3                   913.1932                14984           0          1457   \n",
       "4                   913.6259                14984           0          1457   \n",
       "\n",
       "   hotel_cluster  \n",
       "0              1  \n",
       "1              1  \n",
       "2              1  \n",
       "3             80  \n",
       "4             21  "
      ]
     },
     "execution_count": 73,
     "metadata": {},
     "output_type": "execute_result"
    }
   ],
   "source": [
    "dataurl = '/Users/dbricare/Documents/Python/datasets/expedia/'\n",
    "\n",
    "rawcols = ['srch_destination_id', 'user_location_country', \n",
    "           'user_location_region', 'user_location_city', \n",
    "           'hotel_market', 'orig_destination_distance', \n",
    "           'is_booking','hotel_cluster']\n",
    "\n",
    "ylabel = rawcols[-1]\n",
    "\n",
    "csviter = pd.read_csv(dataurl+'train.csv.gz', sep=',', compression='gzip', chunksize=2000000, usecols=rawcols)\n",
    "\n",
    "Xy = fractionate(csviter, 1, rawcols[-1])\n",
    "\n",
    "print(Xy.shape)\n",
    "print(Xy.columns)\n",
    "Xy.head()"
   ]
  },
  {
   "cell_type": "code",
   "execution_count": 69,
   "metadata": {
    "collapsed": false
   },
   "outputs": [
    {
     "name": "stdout",
     "output_type": "stream",
     "text": [
      "Most common hotel clusters: [91, 48, 42, 59, 28]\n"
     ]
    },
    {
     "data": {
      "image/png": "[encoded data removed]",
      "text/plain": [
       "<matplotlib.figure.Figure at 0x12fe6acf8>"
      ]
     },
     "metadata": {},
     "output_type": "display_data"
    }
   ],
   "source": [
    "# Distribution of hotel cluster occurrences\n",
    "\n",
    "f = Xy['hotel_cluster'].value_counts(sort=False).plot(figsize=(14,6))\n",
    "mostcommon = Xy['hotel_cluster'].value_counts(sort=True).iloc[:5].index.tolist()\n",
    "print('Most common hotel clusters:', mostcommon)\n",
    "_ = f.set_ylabel('Number of Examples')\n",
    "_ = f.set_xlabel('Hotel Cluster')"
   ]
  },
  {
   "cell_type": "code",
   "execution_count": 4,
   "metadata": {
    "collapsed": true
   },
   "outputs": [],
   "source": [
    "# divide data into train and test sections\n",
    "\n",
    "sss = StratifiedShuffleSplit(Xy[Xy.columns[-1]], n_iter=1, test_size=0.2)\n",
    "for trainidx, testidx in sss:\n",
    "    # Xtrain, ytrain = Xy[Xy.columns[:-1]].iloc[trainidx], Xy[Xy.columns[-1]].iloc[trainidx]\n",
    "    Xytrain = Xy.iloc[trainidx]\n",
    "    Xtest, ytest = Xy[Xy.columns[:-1]].iloc[testidx], Xy[Xy.columns[-1]].iloc[testidx]"
   ]
  },
  {
   "cell_type": "markdown",
   "metadata": {},
   "source": [
    "## Predict 5 top occurring hotel clusters based on `srch_destination_id`"
   ]
  },
  {
   "cell_type": "code",
   "execution_count": 101,
   "metadata": {
    "collapsed": false
   },
   "outputs": [],
   "source": [
    "# # create dictionary of destination IDs and counter including number of occurrences\n",
    "# # for each hotel cluster\n",
    "\n",
    "# match_cols = [\"srch_destination_id\"]\n",
    "# cluster_cols = match_cols + ['hotel_cluster']\n",
    "\n",
    "# # group on destination ID then hotel cluster\n",
    "# groups = Xy.groupby(cluster_cols)\n",
    "\n",
    "# top_clusters = {}\n",
    "# for idx, data in groups:\n",
    "#     clicks = len(data.is_booking[data.is_booking == False])\n",
    "#     bookings = len(data.is_booking[data.is_booking == True])\n",
    "#     score = bookings + .15 * clicks\n",
    "#     cluster_name = str(idx[0])  # idx is (destination ID, hotel cluster)\n",
    "#     if cluster_name not in top_clusters:\n",
    "#         top_clusters[cluster_name] = {}\n",
    "#     top_clusters[cluster_name][idx[-1]] = score"
   ]
  },
  {
   "cell_type": "code",
   "execution_count": 74,
   "metadata": {
    "collapsed": false,
    "scrolled": true
   },
   "outputs": [
    {
     "data": {
      "text/html": [
       "<div>\n",
       "<table border=\"1\" class=\"dataframe\">\n",
       "  <thead>\n",
       "    <tr style=\"text-align: right;\">\n",
       "      <th></th>\n",
       "      <th></th>\n",
       "      <th>count</th>\n",
       "    </tr>\n",
       "    <tr>\n",
       "      <th>srch_destination_id</th>\n",
       "      <th>hotel_cluster</th>\n",
       "      <th></th>\n",
       "    </tr>\n",
       "  </thead>\n",
       "  <tbody>\n",
       "    <tr>\n",
       "      <th>8250</th>\n",
       "      <th>1</th>\n",
       "      <td>309484</td>\n",
       "    </tr>\n",
       "    <tr>\n",
       "      <th>8791</th>\n",
       "      <th>65</th>\n",
       "      <td>177405</td>\n",
       "    </tr>\n",
       "    <tr>\n",
       "      <th>8250</th>\n",
       "      <th>45</th>\n",
       "      <td>177232</td>\n",
       "    </tr>\n",
       "    <tr>\n",
       "      <th>8267</th>\n",
       "      <th>56</th>\n",
       "      <td>167721</td>\n",
       "    </tr>\n",
       "    <tr>\n",
       "      <th>8250</th>\n",
       "      <th>79</th>\n",
       "      <td>167188</td>\n",
       "    </tr>\n",
       "    <tr>\n",
       "      <th>8267</th>\n",
       "      <th>70</th>\n",
       "      <td>125801</td>\n",
       "    </tr>\n",
       "    <tr>\n",
       "      <th>11439</th>\n",
       "      <th>65</th>\n",
       "      <td>124353</td>\n",
       "    </tr>\n",
       "    <tr>\n",
       "      <th>8250</th>\n",
       "      <th>24</th>\n",
       "      <td>122226</td>\n",
       "    </tr>\n",
       "    <tr>\n",
       "      <th>12206</th>\n",
       "      <th>1</th>\n",
       "      <td>121597</td>\n",
       "    </tr>\n",
       "    <tr>\n",
       "      <th>8250</th>\n",
       "      <th>54</th>\n",
       "      <td>108178</td>\n",
       "    </tr>\n",
       "  </tbody>\n",
       "</table>\n",
       "</div>"
      ],
      "text/plain": [
       "                                    count\n",
       "srch_destination_id hotel_cluster        \n",
       "8250                1              309484\n",
       "8791                65             177405\n",
       "8250                45             177232\n",
       "8267                56             167721\n",
       "8250                79             167188\n",
       "8267                70             125801\n",
       "11439               65             124353\n",
       "8250                24             122226\n",
       "12206               1              121597\n",
       "8250                54             108178"
      ]
     },
     "execution_count": 74,
     "metadata": {},
     "output_type": "execute_result"
    }
   ],
   "source": [
    "srchidcols = [rawcols[0],rawcols[-2],rawcols[-1]]\n",
    "\n",
    "Xgroup = Xy[srchidcols].groupby([srchidcols[0],srchidcols[-1]]).count().sort_values('is_booking', ascending=False)\n",
    "Xgroup.columns = ['count']\n",
    "Xgroup.head(10)"
   ]
  },
  {
   "cell_type": "code",
   "execution_count": 76,
   "metadata": {
    "collapsed": false,
    "scrolled": true
   },
   "outputs": [
    {
     "data": {
      "text/html": [
       "<div>\n",
       "<table border=\"1\" class=\"dataframe\">\n",
       "  <thead>\n",
       "    <tr style=\"text-align: right;\">\n",
       "      <th></th>\n",
       "      <th></th>\n",
       "      <th>count</th>\n",
       "    </tr>\n",
       "    <tr>\n",
       "      <th>srch_destination_id</th>\n",
       "      <th>hotel_cluster</th>\n",
       "      <th></th>\n",
       "    </tr>\n",
       "  </thead>\n",
       "  <tbody>\n",
       "    <tr>\n",
       "      <th rowspan=\"3\" valign=\"top\">8250</th>\n",
       "      <th>1</th>\n",
       "      <td>88415.799999</td>\n",
       "    </tr>\n",
       "    <tr>\n",
       "      <th>45</th>\n",
       "      <td>49206.400000</td>\n",
       "    </tr>\n",
       "    <tr>\n",
       "      <th>79</th>\n",
       "      <td>46233.600000</td>\n",
       "    </tr>\n",
       "    <tr>\n",
       "      <th>8267</th>\n",
       "      <th>56</th>\n",
       "      <td>44988.200000</td>\n",
       "    </tr>\n",
       "    <tr>\n",
       "      <th>8791</th>\n",
       "      <th>65</th>\n",
       "      <td>41152.000000</td>\n",
       "    </tr>\n",
       "    <tr>\n",
       "      <th>12206</th>\n",
       "      <th>1</th>\n",
       "      <td>34038.400000</td>\n",
       "    </tr>\n",
       "    <tr>\n",
       "      <th>8250</th>\n",
       "      <th>24</th>\n",
       "      <td>33847.200000</td>\n",
       "    </tr>\n",
       "    <tr>\n",
       "      <th>8267</th>\n",
       "      <th>70</th>\n",
       "      <td>32021.200000</td>\n",
       "    </tr>\n",
       "    <tr>\n",
       "      <th>8250</th>\n",
       "      <th>54</th>\n",
       "      <td>29584.600000</td>\n",
       "    </tr>\n",
       "    <tr>\n",
       "      <th>11439</th>\n",
       "      <th>65</th>\n",
       "      <td>29015.600000</td>\n",
       "    </tr>\n",
       "  </tbody>\n",
       "</table>\n",
       "</div>"
      ],
      "text/plain": [
       "                                          count\n",
       "srch_destination_id hotel_cluster              \n",
       "8250                1              88415.799999\n",
       "                    45             49206.400000\n",
       "                    79             46233.600000\n",
       "8267                56             44988.200000\n",
       "8791                65             41152.000000\n",
       "12206               1              34038.400000\n",
       "8250                24             33847.200000\n",
       "8267                70             32021.200000\n",
       "8250                54             29584.600000\n",
       "11439               65             29015.600000"
      ]
     },
     "execution_count": 76,
     "metadata": {},
     "output_type": "execute_result"
    }
   ],
   "source": [
    "srchidcols = [rawcols[0],rawcols[-2],rawcols[-1]]\n",
    "Xbookclick = Xy.copy()\n",
    "Xbookclick['is_booking'] = Xbookclick['is_booking']+0.2\n",
    "\n",
    "Xgroup = Xbookclick[srchidcols].groupby([srchidcols[0],srchidcols[-1]]).sum().sort_values('is_booking', \n",
    "                                                                                          ascending=False)\n",
    "Xgroup.columns = ['sum']\n",
    "Xgroup.head(10)"
   ]
  },
  {
   "cell_type": "code",
   "execution_count": 77,
   "metadata": {
    "collapsed": false
   },
   "outputs": [
    {
     "data": {
      "text/html": [
       "<div>\n",
       "<table border=\"1\" class=\"dataframe\">\n",
       "  <thead>\n",
       "    <tr style=\"text-align: right;\">\n",
       "      <th></th>\n",
       "      <th></th>\n",
       "      <th>sum</th>\n",
       "    </tr>\n",
       "    <tr>\n",
       "      <th>srch_destination_id</th>\n",
       "      <th>hotel_cluster</th>\n",
       "      <th></th>\n",
       "    </tr>\n",
       "  </thead>\n",
       "  <tbody>\n",
       "    <tr>\n",
       "      <th rowspan=\"3\" valign=\"top\">8250</th>\n",
       "      <th>1</th>\n",
       "      <td>88415.799999</td>\n",
       "    </tr>\n",
       "    <tr>\n",
       "      <th>45</th>\n",
       "      <td>49206.400000</td>\n",
       "    </tr>\n",
       "    <tr>\n",
       "      <th>79</th>\n",
       "      <td>46233.600000</td>\n",
       "    </tr>\n",
       "    <tr>\n",
       "      <th>8267</th>\n",
       "      <th>56</th>\n",
       "      <td>44988.200000</td>\n",
       "    </tr>\n",
       "    <tr>\n",
       "      <th>8791</th>\n",
       "      <th>65</th>\n",
       "      <td>41152.000000</td>\n",
       "    </tr>\n",
       "  </tbody>\n",
       "</table>\n",
       "</div>"
      ],
      "text/plain": [
       "                                            sum\n",
       "srch_destination_id hotel_cluster              \n",
       "8250                1              88415.799999\n",
       "                    45             49206.400000\n",
       "                    79             46233.600000\n",
       "8267                56             44988.200000\n",
       "8791                65             41152.000000"
      ]
     },
     "execution_count": 77,
     "metadata": {},
     "output_type": "execute_result"
    }
   ],
   "source": [
    "Xgroup.columns = ['sum']\n",
    "Xgroup.round(decimals=1)\n",
    "Xgroup.head()"
   ]
  },
  {
   "cell_type": "code",
   "execution_count": 103,
   "metadata": {
    "collapsed": true
   },
   "outputs": [],
   "source": [
    "# # extract top 5 hotel clusters for each destination ID\n",
    "\n",
    "# cluster_dict = {}\n",
    "# for n in top_clusters:\n",
    "#     val = top_clusters[n]\n",
    "#     top = [l[0] for l in sorted(val.items(), key=operator.itemgetter(1), reverse=True)[:5]]\n",
    "#     cluster_dict[n] = top"
   ]
  },
  {
   "cell_type": "code",
   "execution_count": 116,
   "metadata": {
    "collapsed": false
   },
   "outputs": [
    {
     "data": {
      "text/html": [
       "<div>\n",
       "<table border=\"1\" class=\"dataframe\">\n",
       "  <thead>\n",
       "    <tr style=\"text-align: right;\">\n",
       "      <th></th>\n",
       "      <th>user_location_city</th>\n",
       "      <th>orig_destination_distance</th>\n",
       "      <th>srch_destination_id</th>\n",
       "      <th>is_booking</th>\n",
       "    </tr>\n",
       "  </thead>\n",
       "  <tbody>\n",
       "    <tr>\n",
       "      <th>315100</th>\n",
       "      <td>39058</td>\n",
       "      <td>569.8766</td>\n",
       "      <td>28622</td>\n",
       "      <td>1</td>\n",
       "    </tr>\n",
       "    <tr>\n",
       "      <th>788962</th>\n",
       "      <td>11984</td>\n",
       "      <td>3.9448</td>\n",
       "      <td>14797</td>\n",
       "      <td>1</td>\n",
       "    </tr>\n",
       "    <tr>\n",
       "      <th>483909</th>\n",
       "      <td>4868</td>\n",
       "      <td>2713.0000</td>\n",
       "      <td>22930</td>\n",
       "      <td>1</td>\n",
       "    </tr>\n",
       "    <tr>\n",
       "      <th>743928</th>\n",
       "      <td>2428</td>\n",
       "      <td>4482.8951</td>\n",
       "      <td>21790</td>\n",
       "      <td>1</td>\n",
       "    </tr>\n",
       "    <tr>\n",
       "      <th>283337</th>\n",
       "      <td>33958</td>\n",
       "      <td>319.2291</td>\n",
       "      <td>66</td>\n",
       "      <td>1</td>\n",
       "    </tr>\n",
       "  </tbody>\n",
       "</table>\n",
       "</div>"
      ],
      "text/plain": [
       "        user_location_city  orig_destination_distance  srch_destination_id  \\\n",
       "315100               39058                   569.8766                28622   \n",
       "788962               11984                     3.9448                14797   \n",
       "483909                4868                  2713.0000                22930   \n",
       "743928                2428                  4482.8951                21790   \n",
       "283337               33958                   319.2291                   66   \n",
       "\n",
       "        is_booking  \n",
       "315100           1  \n",
       "788962           1  \n",
       "483909           1  \n",
       "743928           1  \n",
       "283337           1  "
      ]
     },
     "execution_count": 116,
     "metadata": {},
     "output_type": "execute_result"
    }
   ],
   "source": [
    "Xtest.head()"
   ]
  },
  {
   "cell_type": "code",
   "execution_count": 145,
   "metadata": {
    "collapsed": false
   },
   "outputs": [
    {
     "data": {
      "text/plain": [
       "0    17 51 72 42 43\n",
       "1    33 32 91 48 13\n",
       "2    36 62 82 46 29\n",
       "3     59 21 82 9 99\n",
       "4    77 48 28 91 47\n",
       "Name: hotel_cluster, dtype: object"
      ]
     },
     "execution_count": 145,
     "metadata": {},
     "output_type": "execute_result"
    }
   ],
   "source": [
    "# example calculation\n",
    "# create list of top 5 predictions for each row in test set and save to csv\n",
    "\n",
    "nowpt = datetime.datetime.now()\n",
    "nowstr = nowpt.strftime('%Y%m%d_%H%M')\n",
    "\n",
    "preds = Xtest['srch_destination_id'].apply(lambda x: ' '.join([str(i) for i in cluster_dict.get(str(x), [])]))\n",
    "preds.reset_index(drop=True, inplace=True, name='hotel_cluster')\n",
    "preds.head()"
   ]
  },
  {
   "cell_type": "code",
   "execution_count": 125,
   "metadata": {
    "collapsed": false
   },
   "outputs": [
    {
     "data": {
      "text/plain": [
       "0.28583392131169572"
      ]
     },
     "execution_count": 125,
     "metadata": {},
     "output_type": "execute_result"
    }
   ],
   "source": [
    "ml_metrics.mapk([[l] for l in ytest], preds, k=5)"
   ]
  },
  {
   "cell_type": "markdown",
   "metadata": {},
   "source": [
    "## Find exact matches for several features"
   ]
  },
  {
   "cell_type": "code",
   "execution_count": null,
   "metadata": {
    "collapsed": false
   },
   "outputs": [],
   "source": [
    "# match_cols = ['user_location_country', 'user_location_region', 'user_location_city', \n",
    "#               'hotel_market', 'orig_destination_distance']\n",
    "\n",
    "# groups = Xy.groupby(match_cols)\n",
    "    \n",
    "# def generate_exact_matches(row, match_cols):\n",
    "#     index = tuple([row[t] for t in match_cols])   # grab value in cell\n",
    "#     try:\n",
    "#         group = groups.get_group(index)\n",
    "#     except Exception:\n",
    "#         return []\n",
    "#     clusters = list(set(group.hotel_cluster))   # unique hotel clusters\n",
    "#     print(group)\n",
    "#     return clusters\n",
    "\n",
    "# exact_matches = []\n",
    "# for i in range(2):\n",
    "#     exact_matches.append(generate_exact_matches(Xtest.iloc[i], match_cols))"
   ]
  },
  {
   "cell_type": "code",
   "execution_count": 78,
   "metadata": {
    "collapsed": false
   },
   "outputs": [],
   "source": [
    "# group by desired features\n",
    "\n",
    "matchcols = ['user_location_country', 'user_location_region', 'user_location_city', \n",
    "              'hotel_market', 'orig_destination_distance']\n",
    "\n",
    "groups = Xy[matchcols+['hotel_cluster']].groupby(matchcols)\n",
    "# groups.count().head()"
   ]
  },
  {
   "cell_type": "code",
   "execution_count": 79,
   "metadata": {
    "collapsed": false
   },
   "outputs": [
    {
     "name": "stdout",
     "output_type": "stream",
     "text": [
      "(10622932,)\n",
      "[((66, 174, 16292, 1630, 113.0115), [93]), ((66, 226, 29254, 548, 388.3634), [40])]\n"
     ]
    }
   ],
   "source": [
    "# generate dictionary with features as keys and list of clusters as values\n",
    "\n",
    "exacts = groups.aplpy(lambda x: x['hotel_cluster'].unique().tolist())\n",
    "print(exacts.shape)\n",
    "dictexacts = exacts.to_dict()\n",
    "print(list(dictexacts.items())[:2])"
   ]
  },
  {
   "cell_type": "markdown",
   "metadata": {},
   "source": [
    "## Combine two prediction methods"
   ]
  },
  {
   "cell_type": "code",
   "execution_count": 45,
   "metadata": {
    "collapsed": false
   },
   "outputs": [
    {
     "name": "stdout",
     "output_type": "stream",
     "text": [
      "(2528243, 6)\n"
     ]
    },
    {
     "data": {
      "text/html": [
       "<div>\n",
       "<table border=\"1\" class=\"dataframe\">\n",
       "  <thead>\n",
       "    <tr style=\"text-align: right;\">\n",
       "      <th></th>\n",
       "      <th>user_location_country</th>\n",
       "      <th>user_location_region</th>\n",
       "      <th>user_location_city</th>\n",
       "      <th>orig_destination_distance</th>\n",
       "      <th>srch_destination_id</th>\n",
       "      <th>hotel_market</th>\n",
       "    </tr>\n",
       "  </thead>\n",
       "  <tbody>\n",
       "    <tr>\n",
       "      <th>0</th>\n",
       "      <td>66</td>\n",
       "      <td>174</td>\n",
       "      <td>37449</td>\n",
       "      <td>5539.0567</td>\n",
       "      <td>12243</td>\n",
       "      <td>27</td>\n",
       "    </tr>\n",
       "    <tr>\n",
       "      <th>1</th>\n",
       "      <td>66</td>\n",
       "      <td>174</td>\n",
       "      <td>37449</td>\n",
       "      <td>5873.2923</td>\n",
       "      <td>14474</td>\n",
       "      <td>1540</td>\n",
       "    </tr>\n",
       "    <tr>\n",
       "      <th>2</th>\n",
       "      <td>66</td>\n",
       "      <td>142</td>\n",
       "      <td>17440</td>\n",
       "      <td>3975.9776</td>\n",
       "      <td>11353</td>\n",
       "      <td>699</td>\n",
       "    </tr>\n",
       "    <tr>\n",
       "      <th>3</th>\n",
       "      <td>66</td>\n",
       "      <td>258</td>\n",
       "      <td>34156</td>\n",
       "      <td>1508.5975</td>\n",
       "      <td>8250</td>\n",
       "      <td>628</td>\n",
       "    </tr>\n",
       "    <tr>\n",
       "      <th>4</th>\n",
       "      <td>66</td>\n",
       "      <td>467</td>\n",
       "      <td>36345</td>\n",
       "      <td>66.7913</td>\n",
       "      <td>11812</td>\n",
       "      <td>538</td>\n",
       "    </tr>\n",
       "  </tbody>\n",
       "</table>\n",
       "</div>"
      ],
      "text/plain": [
       "   user_location_country  user_location_region  user_location_city  \\\n",
       "0                     66                   174               37449   \n",
       "1                     66                   174               37449   \n",
       "2                     66                   142               17440   \n",
       "3                     66                   258               34156   \n",
       "4                     66                   467               36345   \n",
       "\n",
       "   orig_destination_distance  srch_destination_id  hotel_market  \n",
       "0                  5539.0567                12243            27  \n",
       "1                  5873.2923                14474          1540  \n",
       "2                  3975.9776                11353           699  \n",
       "3                  1508.5975                 8250           628  \n",
       "4                    66.7913                11812           538  "
      ]
     },
     "execution_count": 45,
     "metadata": {},
     "output_type": "execute_result"
    }
   ],
   "source": [
    "# load and format test data\n",
    "\n",
    "rawcols = ['srch_destination_id', 'user_location_country', \n",
    "           'user_location_region', 'user_location_city', \n",
    "           'hotel_market', 'orig_destination_distance', \n",
    "           'is_booking','hotel_cluster']\n",
    "\n",
    "testiter = pd.read_csv(dataurl+'test.csv.gz', sep=',', compression='gzip', usecols=rawcols[:-2], \n",
    "                       chunksize=1000000)\n",
    "chunks = list()\n",
    "for chunk in testiter:\n",
    "    chunk = formatdata(chunk)\n",
    "    chunks.append(chunk)\n",
    "\n",
    "dftest = pd.concat(chunks, axis=0)\n",
    "\n",
    "print(dftest.shape)\n",
    "dftest.head()"
   ]
  },
  {
   "cell_type": "code",
   "execution_count": 82,
   "metadata": {
    "collapsed": false
   },
   "outputs": [],
   "source": [
    "# look up test row based on matchcols\n",
    "# fill in missing values with prediction from srch_destination_id\n",
    "# trim list to 5 entries\n",
    "# needs two dictionaries, srch_destination_id needs grouped data\n",
    "\n",
    "def srchlist(x):\n",
    "    if x not in Xgroup.index:\n",
    "        return ''\n",
    "    else:\n",
    "        toplist = Xgroup.loc[x].index.tolist()[:5]\n",
    "        # joinlist = ' '.join([str(i) for i in toplist])\n",
    "        return toplist\n",
    "    \n",
    "dictid = {}\n",
    "for srchid in dftest['srch_destination_id'].unique():\n",
    "    dictid[srchid] = srchlist(srchid)"
   ]
  },
  {
   "cell_type": "code",
   "execution_count": 85,
   "metadata": {
    "collapsed": false
   },
   "outputs": [
    {
     "name": "stdout",
     "output_type": "stream",
     "text": [
      "(2528243,)\n"
     ]
    },
    {
     "data": {
      "text/plain": [
       "0     5 37 55 11 8\n",
       "1    5 91 48 42 59\n",
       "2    91 0 31 77 91\n",
       "3     1 1 45 79 24\n",
       "4    50 51 91 2 42\n",
       "dtype: object"
      ]
     },
     "execution_count": 85,
     "metadata": {},
     "output_type": "execute_result"
    }
   ],
   "source": [
    "def makepred(x):\n",
    "    output = dictexacts.get(tuple(x[match_cols]), [])\n",
    "    if len(output)<5:\n",
    "        output.extend(dictid[x['srch_destination_id']])\n",
    "    if len(output)<5:\n",
    "        output.extend(mostcommon)\n",
    "    return ' '.join([str(i) for i in output[:5]])\n",
    "\n",
    "serpred = dftest.apply(makepred, axis=1)\n",
    "\n",
    "print(serpred.shape)\n",
    "serpred.head()"
   ]
  },
  {
   "cell_type": "code",
   "execution_count": 62,
   "metadata": {
    "collapsed": false
   },
   "outputs": [
    {
     "data": {
      "text/plain": [
       "20027"
      ]
     },
     "execution_count": 62,
     "metadata": {},
     "output_type": "execute_result"
    }
   ],
   "source": [
    "# missing values\n",
    "\n",
    "len(serpred)-len(serpred[serpred.str.match('\\d+')])"
   ]
  },
  {
   "cell_type": "code",
   "execution_count": 86,
   "metadata": {
    "collapsed": false
   },
   "outputs": [],
   "source": [
    "nowpt = datetime.datetime.now()\n",
    "nowstr = nowpt.strftime('%Y%m%d_%H%M')\n",
    "serpred.reset_index(drop=True, inplace=True, name='hotel_cluster')\n",
    "serpred.to_csv('mloutput'+nowstr+'.csv', sep=',', index_label='id', header=True)"
   ]
  },
  {
   "cell_type": "code",
   "execution_count": null,
   "metadata": {
    "collapsed": true
   },
   "outputs": [],
   "source": [
    "len(ypred)"
   ]
  }
 ],
 "metadata": {
  "kernelspec": {
   "display_name": "Python 3",
   "language": "python",
   "name": "python3"
  },
  "language_info": {
   "codemirror_mode": {
    "name": "ipython",
    "version": 3
   },
   "file_extension": ".py",
   "mimetype": "text/x-python",
   "name": "python",
   "nbconvert_exporter": "python",
   "pygments_lexer": "ipython3",
   "version": "3.5.1+"
  }
 },
 "nbformat": 4,
 "nbformat_minor": 0
}
