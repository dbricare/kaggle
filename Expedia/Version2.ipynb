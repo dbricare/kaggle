{
 "cells": [
  {
   "cell_type": "markdown",
   "metadata": {},
   "source": [
    "# Expedia hotel recommendation\n",
    "\n",
    "Using one hot encoder to convert categorical variables and create sparse matrix.\n",
    "___"
   ]
  },
  {
   "cell_type": "code",
   "execution_count": 168,
   "metadata": {
    "collapsed": true
   },
   "outputs": [],
   "source": [
    "# Import libraries\n",
    "\n",
    "import pandas as pd\n",
    "import numpy as np\n",
    "from scipy import sparse\n",
    "import random\n",
    "import re\n",
    "import sys\n",
    "import multiprocessing\n",
    "from collections import defaultdict, OrderedDict\n",
    "\n",
    "from sklearn.feature_selection import VarianceThreshold\n",
    "from sklearn.ensemble import RandomForestClassifier, GradientBoostingClassifier\n",
    "from sklearn.cross_validation import StratifiedShuffleSplit\n",
    "from sklearn.grid_search import GridSearchCV\n",
    "from sklearn.metrics import log_loss\n",
    "from sklearn.preprocessing import OneHotEncoder, LabelEncoder\n",
    "\n",
    "import ml_metrics\n",
    "import joblib\n",
    "\n",
    "import seaborn as sns\n",
    "import matplotlib.pyplot as plt\n",
    "%matplotlib inline"
   ]
  },
  {
   "cell_type": "markdown",
   "metadata": {},
   "source": [
    "## Functions to load and format data"
   ]
  },
  {
   "cell_type": "code",
   "execution_count": 156,
   "metadata": {
    "collapsed": true
   },
   "outputs": [],
   "source": [
    "def formatdata(chunk):\n",
    "    '''Format data of each startified chunk.'''\n",
    "    \n",
    "    # fill NAs for origin-destination distance\n",
    "    chunk['orig_destination_distance'].fillna(0.0, inplace=True)\n",
    "  \n",
    "    # parse datetime objects\n",
    "    for col in ['date_time', 'srch_ci', 'srch_co']:\n",
    "        chunk[col] = pd.to_datetime(chunk[col], errors='coerce')\n",
    "    # create booking dayofyear\n",
    "    chunk['bookmonth'] = chunk['date_time'].apply(lambda x: x.month)\n",
    "    # fill NA values with booking datetime and stay length of zero\n",
    "    chunk['srch_co'].fillna(chunk['date_time'], inplace=True)\n",
    "    chunk['srch_ci'].fillna(chunk['date_time'], inplace=True)\n",
    "    # create stay length\n",
    "    chunk['stay'] = chunk['srch_co']-chunk['srch_ci']\n",
    "    chunk['stay'] = chunk['stay'].apply(lambda x: x.days)\n",
    "\n",
    "    # create stay dayofyear\n",
    "    chunk['staydoy'] = chunk['srch_ci'].apply(lambda x: x.dayofyear)\n",
    "     \n",
    "    # drop processed columns\n",
    "    chunk.drop(['date_time','srch_ci','srch_co'], axis=1, inplace=True)\n",
    "    \n",
    "    return chunk\n",
    "\n",
    "def stratshufspl(chunk, fraction, ylabel):\n",
    "    '''Startified shuffle split of chunks.'''\n",
    "    sss = StratifiedShuffleSplit(chunk[ylabel], test_size=fraction, \n",
    "                                 random_state=42, n_iter=1)\n",
    "    for _, idx in sss:\n",
    "        train = chunk.iloc[idx].copy()\n",
    "    return train\n",
    "\n",
    "\n",
    "def fractionate(trainiter, fraction, ylabel):\n",
    "    '''Utilizes only one core.'''\n",
    "    print('')\n",
    "    print('loading data...')\n",
    "    \n",
    "    # create empty list and add formatted data chunks\n",
    "    chunks = list()\n",
    "    for chunk in trainiter:\n",
    "        # if using whole dataset skip this step\n",
    "        if fraction < 1.0:\n",
    "            chunk = stratshufspl(chunk, fraction, ylabel)\n",
    "        curr = formatdata(chunk)\n",
    "        chunks.append(curr)\n",
    "        \n",
    "    # concatenate chunks\n",
    "    train = pd.concat(chunks, axis=0)\n",
    "    \n",
    "    # split concatenated set into X and y for ml model fitting\n",
    "    X = train.drop(ylabel, axis=1, inplace=False)\n",
    "    y = train[ylabel]\n",
    "    return X, y"
   ]
  },
  {
   "cell_type": "markdown",
   "metadata": {},
   "source": [
    "Load and format data."
   ]
  },
  {
   "cell_type": "code",
   "execution_count": 157,
   "metadata": {
    "collapsed": false
   },
   "outputs": [
    {
     "name": "stdout",
     "output_type": "stream",
     "text": [
      "\n",
      "loading data...\n",
      "(188351, 13)\n",
      "Index(['site_name', 'user_location_country', 'user_location_region',\n",
      "       'orig_destination_distance', 'is_package', 'srch_adults_cnt',\n",
      "       'srch_children_cnt', 'srch_destination_type_id', 'hotel_country',\n",
      "       'hotel_market', 'bookmonth', 'stay', 'staydoy'],\n",
      "      dtype='object')\n"
     ]
    },
    {
     "data": {
      "text/html": [
       "<div>\n",
       "<table border=\"1\" class=\"dataframe\">\n",
       "  <thead>\n",
       "    <tr style=\"text-align: right;\">\n",
       "      <th></th>\n",
       "      <th>site_name</th>\n",
       "      <th>user_location_country</th>\n",
       "      <th>user_location_region</th>\n",
       "      <th>orig_destination_distance</th>\n",
       "      <th>is_package</th>\n",
       "      <th>srch_adults_cnt</th>\n",
       "      <th>srch_children_cnt</th>\n",
       "      <th>srch_destination_type_id</th>\n",
       "      <th>hotel_country</th>\n",
       "      <th>hotel_market</th>\n",
       "      <th>bookmonth</th>\n",
       "      <th>stay</th>\n",
       "      <th>staydoy</th>\n",
       "    </tr>\n",
       "  </thead>\n",
       "  <tbody>\n",
       "    <tr>\n",
       "      <th>0</th>\n",
       "      <td>18</td>\n",
       "      <td>231</td>\n",
       "      <td>68</td>\n",
       "      <td>0.0000</td>\n",
       "      <td>1</td>\n",
       "      <td>4</td>\n",
       "      <td>0</td>\n",
       "      <td>6</td>\n",
       "      <td>105</td>\n",
       "      <td>29</td>\n",
       "      <td>2</td>\n",
       "      <td>2</td>\n",
       "      <td>89</td>\n",
       "    </tr>\n",
       "    <tr>\n",
       "      <th>1</th>\n",
       "      <td>13</td>\n",
       "      <td>46</td>\n",
       "      <td>171</td>\n",
       "      <td>5763.2976</td>\n",
       "      <td>0</td>\n",
       "      <td>2</td>\n",
       "      <td>0</td>\n",
       "      <td>1</td>\n",
       "      <td>203</td>\n",
       "      <td>253</td>\n",
       "      <td>10</td>\n",
       "      <td>7</td>\n",
       "      <td>339</td>\n",
       "    </tr>\n",
       "    <tr>\n",
       "      <th>2</th>\n",
       "      <td>2</td>\n",
       "      <td>66</td>\n",
       "      <td>220</td>\n",
       "      <td>188.2171</td>\n",
       "      <td>0</td>\n",
       "      <td>3</td>\n",
       "      <td>0</td>\n",
       "      <td>1</td>\n",
       "      <td>50</td>\n",
       "      <td>682</td>\n",
       "      <td>8</td>\n",
       "      <td>3</td>\n",
       "      <td>266</td>\n",
       "    </tr>\n",
       "    <tr>\n",
       "      <th>3</th>\n",
       "      <td>34</td>\n",
       "      <td>205</td>\n",
       "      <td>155</td>\n",
       "      <td>60.4896</td>\n",
       "      <td>0</td>\n",
       "      <td>2</td>\n",
       "      <td>0</td>\n",
       "      <td>1</td>\n",
       "      <td>198</td>\n",
       "      <td>401</td>\n",
       "      <td>11</td>\n",
       "      <td>1</td>\n",
       "      <td>326</td>\n",
       "    </tr>\n",
       "    <tr>\n",
       "      <th>4</th>\n",
       "      <td>2</td>\n",
       "      <td>66</td>\n",
       "      <td>435</td>\n",
       "      <td>4362.4117</td>\n",
       "      <td>0</td>\n",
       "      <td>2</td>\n",
       "      <td>0</td>\n",
       "      <td>1</td>\n",
       "      <td>204</td>\n",
       "      <td>27</td>\n",
       "      <td>6</td>\n",
       "      <td>3</td>\n",
       "      <td>192</td>\n",
       "    </tr>\n",
       "  </tbody>\n",
       "</table>\n",
       "</div>"
      ],
      "text/plain": [
       "   site_name  user_location_country  user_location_region  \\\n",
       "0         18                    231                    68   \n",
       "1         13                     46                   171   \n",
       "2          2                     66                   220   \n",
       "3         34                    205                   155   \n",
       "4          2                     66                   435   \n",
       "\n",
       "   orig_destination_distance  is_package  srch_adults_cnt  srch_children_cnt  \\\n",
       "0                     0.0000           1                4                  0   \n",
       "1                  5763.2976           0                2                  0   \n",
       "2                   188.2171           0                3                  0   \n",
       "3                    60.4896           0                2                  0   \n",
       "4                  4362.4117           0                2                  0   \n",
       "\n",
       "   srch_destination_type_id  hotel_country  hotel_market  bookmonth  stay  \\\n",
       "0                         6            105            29          2     2   \n",
       "1                         1            203           253         10     7   \n",
       "2                         1             50           682          8     3   \n",
       "3                         1            198           401         11     1   \n",
       "4                         1            204            27          6     3   \n",
       "\n",
       "   staydoy  \n",
       "0       89  \n",
       "1      339  \n",
       "2      266  \n",
       "3      326  \n",
       "4      192  "
      ]
     },
     "execution_count": 157,
     "metadata": {},
     "output_type": "execute_result"
    }
   ],
   "source": [
    "dataurl = '/Users/dbricare/Documents/Python/datasets/expedia/'\n",
    "\n",
    "rawcols = ['site_name', 'user_location_country', 'user_location_region', \n",
    "            'is_package', 'srch_adults_cnt', 'srch_children_cnt', \n",
    "            'srch_destination_type_id', 'orig_destination_distance', 'hotel_country', \n",
    "            'hotel_market', 'srch_ci', 'srch_co', 'date_time', 'hotel_cluster']\n",
    "\n",
    "ylabel = rawcols[-1]\n",
    "\n",
    "# csviter = pd.read_csv(dataurl+'train.csv.gz', sep=',', compression='gzip', chunksize=2000000, usecols=rawcols)\n",
    "csviter = pd.read_csv(dataurl+'train200th.csv', sep=',', chunksize=200000, usecols=rawcols)\n",
    "\n",
    "\n",
    "X, y = fractionate(csviter, 1.0, rawcols[-1])\n",
    "\n",
    "print(X.shape)\n",
    "print(X.columns)\n",
    "X.head()"
   ]
  },
  {
   "cell_type": "markdown",
   "metadata": {},
   "source": [
    "## One hot encoding"
   ]
  },
  {
   "cell_type": "code",
   "execution_count": 154,
   "metadata": {
    "collapsed": false
   },
   "outputs": [
    {
     "name": "stdout",
     "output_type": "stream",
     "text": [
      "[dtype('int64'), dtype('int64'), dtype('int64'), dtype('float64'), dtype('int64'), dtype('int64'), dtype('int64'), dtype('int64'), dtype('int64'), dtype('int64'), dtype('int64'), dtype('int64'), dtype('int64')]\n"
     ]
    }
   ],
   "source": [
    "# check data types of X\n",
    "\n",
    "dtypes = []\n",
    "for col in X.columns:\n",
    "    dtypes.append(X[col].dtype)\n",
    "print(dtypes)"
   ]
  },
  {
   "cell_type": "code",
   "execution_count": 183,
   "metadata": {
    "collapsed": false
   },
   "outputs": [
    {
     "name": "stdout",
     "output_type": "stream",
     "text": [
      "1956\n",
      "1956\n"
     ]
    }
   ],
   "source": [
    "le = LabelEncoder()\n",
    "test = le.fit_transform(X['hotel_market'])\n",
    "# print(test.shape)\n",
    "print(len(X['hotel_market'].unique()))\n",
    "print(len(np.unique(test)))"
   ]
  },
  {
   "cell_type": "code",
   "execution_count": 173,
   "metadata": {
    "collapsed": false
   },
   "outputs": [
    {
     "name": "stdout",
     "output_type": "stream",
     "text": [
      "expected number of columns in sparse matrix: 4065\n"
     ]
    },
    {
     "data": {
      "text/plain": [
       "site_name                     53\n",
       "user_location_country        239\n",
       "user_location_region        1027\n",
       "srch_adults_cnt                9\n",
       "srch_children_cnt              9\n",
       "srch_destination_type_id       9\n",
       "hotel_country                212\n",
       "hotel_market                2117\n",
       "bookmonth                     12\n",
       "staydoy                      365\n",
       "dtype: int64"
      ]
     },
     "execution_count": 173,
     "metadata": {},
     "output_type": "execute_result"
    }
   ],
   "source": [
    "# expected number of columns in sparse matrix is\n",
    "# max of cat features plus 1 due to zero indexing plus 1 for non-cat features\n",
    "\n",
    "notcats = ['orig_destination_distance','stay', 'is_package']\n",
    "cats = list(X.columns)\n",
    "for cat in notcats:\n",
    "    cats.remove(cat)\n",
    "    \n",
    "print('expected number of columns in sparse matrix:', X[cats].max().sum()+len(X.columns))\n",
    "X[cats].max()"
   ]
  },
  {
   "cell_type": "markdown",
   "metadata": {},
   "source": [
    "**Need to ensure that test data is properly encoded. All possible values in test data must be included. See below for appropriate choice of max number of features for each categorical variable.**"
   ]
  },
  {
   "cell_type": "code",
   "execution_count": 163,
   "metadata": {
    "collapsed": false
   },
   "outputs": [
    {
     "name": "stdout",
     "output_type": "stream",
     "text": [
      "[ True  True  True False False  True  True  True  True  True  True False\n",
      "  True]\n",
      "[54, 240, 1022, 10, 10, 10, 213, 2118, 13, 367]\n"
     ]
    }
   ],
   "source": [
    "# create ordered dict to indicate categorical variables and number of features\n",
    "\n",
    "catdict = OrderedDict()\n",
    "for col in X.columns:\n",
    "    if col in notcats:\n",
    "        val = False\n",
    "    else:\n",
    "        val = True\n",
    "    catdict.update({col:val})\n",
    "\n",
    "# maxfeat = np.array([t[1] for t in catdict.values() if t[1]!=0], dtype=int)\n",
    "maxfeatures = [54, 240, 1028, 10, 10, 10, 213, 2118, 13, 367]\n",
    "mask = np.array(list(catdict.values()))\n",
    "\n",
    "print(mask)\n",
    "print(maxfeatures)\n",
    "# print(maxfeat.shape, maxfeat.sum(), X.shape)"
   ]
  },
  {
   "cell_type": "code",
   "execution_count": 164,
   "metadata": {
    "collapsed": false
   },
   "outputs": [
    {
     "name": "stdout",
     "output_type": "stream",
     "text": [
      "all features: 4060\n",
      "sparse matrix shape: (188351, 4060)\n",
      "total encoding values: 4057\n"
     ]
    }
   ],
   "source": [
    "enc = OneHotEncoder(n_values=maxfeatures, categorical_features=mask, dtype=int, sparse=True)\n",
    "\n",
    "Xsparse = enc.fit_transform(X.values)\n",
    "print('all features:',sum(maxfeatures)+3)\n",
    "print('sparse matrix shape:', Xsparse.shape)\n",
    "print('total encoding values:', sum(enc.n_values)) "
   ]
  },
  {
   "cell_type": "code",
   "execution_count": 165,
   "metadata": {
    "collapsed": false
   },
   "outputs": [
    {
     "name": "stdout",
     "output_type": "stream",
     "text": [
      "\n",
      "sparsity ratio: 0.9970723130823798\n"
     ]
    }
   ],
   "source": [
    "# check sparsity ratio\n",
    "\n",
    "sparsity_ratio = lambda X: 1.0 - np.count_nonzero(X) / float(X.shape[0] * X.shape[1])\n",
    "spratio = sparsity_ratio(Xsparse.toarray())\n",
    "print('')\n",
    "print(\"sparsity ratio:\", spratio)"
   ]
  },
  {
   "cell_type": "markdown",
   "metadata": {},
   "source": [
    "## Train model"
   ]
  },
  {
   "cell_type": "code",
   "execution_count": 166,
   "metadata": {
    "collapsed": false
   },
   "outputs": [
    {
     "name": "stdout",
     "output_type": "stream",
     "text": [
      "{'max_features': 0.2}\n"
     ]
    },
    {
     "data": {
      "text/plain": [
       "[mean: -4.19819, std: 0.00824, params: {'max_features': 'sqrt'},\n",
       " mean: -3.92320, std: 0.00424, params: {'max_features': 0.1},\n",
       " mean: -3.85129, std: 0.00193, params: {'max_features': 0.2}]"
      ]
     },
     "execution_count": 166,
     "metadata": {},
     "output_type": "execute_result"
    }
   ],
   "source": [
    "est = RandomForestClassifier(random_state=42)\n",
    "est.set_params(n_jobs=2, n_estimators=50, max_depth=8)\n",
    "gridprms = {'max_features': ['sqrt', 0.1, 0.2]}\n",
    "\n",
    "grid = GridSearchCV(est, param_grid=gridprms, cv=3, scoring='log_loss')\n",
    "grid.fit(Xsparse, y)\n",
    "\n",
    "print(grid.best_params_)\n",
    "grid.grid_scores_"
   ]
  },
  {
   "cell_type": "markdown",
   "metadata": {},
   "source": [
    "## Test encoding of test data"
   ]
  },
  {
   "cell_type": "code",
   "execution_count": 178,
   "metadata": {
    "collapsed": false
   },
   "outputs": [
    {
     "name": "stdout",
     "output_type": "stream",
     "text": [
      "[0, 0, 0, 0, 0, 1, 0, 0, 1, 1] [53, 239, 1027, 9, 9, 9, 212, 2117, 12, 366]\n"
     ]
    }
   ],
   "source": [
    "testiter = pd.read_csv(dataurl+'test.csv.gz', sep=',', compression='gzip', \n",
    "                       chunksize=100000, usecols=rawcols[:-1])\n",
    "first = True\n",
    "for chunk in testiter:\n",
    "    chunk = formatdata(chunk)\n",
    "    currmin = chunk[cats].min()\n",
    "    currmax = chunk[cats].max()\n",
    "    if first:\n",
    "        minvals = currmin\n",
    "        maxvals = currmax\n",
    "        first = False\n",
    "    else:\n",
    "        if any([both[0]!=both[1] for both in zip(minvals,currmin)]):\n",
    "            minvals = [min(both[0],both[1]) for both in zip(minvals,currmin)]\n",
    "        if any([both[0]!=both[1] for both in zip(maxvals,currmax)]):\n",
    "            maxvals = [max(both[0],both[1]) for both in zip(maxvals,currmax)]\n",
    "print(minvals,maxvals)"
   ]
  },
  {
   "cell_type": "code",
   "execution_count": 184,
   "metadata": {
    "collapsed": true
   },
   "outputs": [],
   "source": [
    "dffulltest = pd.read_csv(dataurl+'test.csv.gz', sep=',', compression='gzip')"
   ]
  },
  {
   "cell_type": "code",
   "execution_count": 188,
   "metadata": {
    "collapsed": false
   },
   "outputs": [
    {
     "name": "stdout",
     "output_type": "stream",
     "text": [
      "988\n",
      "2115\n"
     ]
    }
   ],
   "source": [
    "# possible to reduce number of features in sparse matrix?\n",
    "print(len(dffulltest['user_location_region'].unique()))\n",
    "print(len(dffulltest['hotel_market'].unique()))"
   ]
  },
  {
   "cell_type": "code",
   "execution_count": 191,
   "metadata": {
    "collapsed": false
   },
   "outputs": [
    {
     "data": {
      "text/plain": [
       "847461"
      ]
     },
     "execution_count": 191,
     "metadata": {},
     "output_type": "execute_result"
    }
   ],
   "source": [
    "len(dffulltest[dffulltest['orig_destination_distance'].isnull()])"
   ]
  },
  {
   "cell_type": "code",
   "execution_count": 179,
   "metadata": {
    "collapsed": false
   },
   "outputs": [
    {
     "name": "stdout",
     "output_type": "stream",
     "text": [
      "4053\n"
     ]
    },
    {
     "data": {
      "text/html": [
       "<div>\n",
       "<table border=\"1\" class=\"dataframe\">\n",
       "  <thead>\n",
       "    <tr style=\"text-align: right;\">\n",
       "      <th></th>\n",
       "      <th>max</th>\n",
       "      <th>min</th>\n",
       "    </tr>\n",
       "  </thead>\n",
       "  <tbody>\n",
       "    <tr>\n",
       "      <th>site_name</th>\n",
       "      <td>53</td>\n",
       "      <td>0</td>\n",
       "    </tr>\n",
       "    <tr>\n",
       "      <th>user_location_country</th>\n",
       "      <td>239</td>\n",
       "      <td>0</td>\n",
       "    </tr>\n",
       "    <tr>\n",
       "      <th>user_location_region</th>\n",
       "      <td>1027</td>\n",
       "      <td>0</td>\n",
       "    </tr>\n",
       "    <tr>\n",
       "      <th>srch_adults_cnt</th>\n",
       "      <td>9</td>\n",
       "      <td>0</td>\n",
       "    </tr>\n",
       "    <tr>\n",
       "      <th>srch_children_cnt</th>\n",
       "      <td>9</td>\n",
       "      <td>0</td>\n",
       "    </tr>\n",
       "    <tr>\n",
       "      <th>srch_destination_type_id</th>\n",
       "      <td>9</td>\n",
       "      <td>1</td>\n",
       "    </tr>\n",
       "    <tr>\n",
       "      <th>hotel_country</th>\n",
       "      <td>212</td>\n",
       "      <td>0</td>\n",
       "    </tr>\n",
       "    <tr>\n",
       "      <th>hotel_market</th>\n",
       "      <td>2117</td>\n",
       "      <td>0</td>\n",
       "    </tr>\n",
       "    <tr>\n",
       "      <th>bookmonth</th>\n",
       "      <td>12</td>\n",
       "      <td>1</td>\n",
       "    </tr>\n",
       "    <tr>\n",
       "      <th>staydoy</th>\n",
       "      <td>366</td>\n",
       "      <td>1</td>\n",
       "    </tr>\n",
       "  </tbody>\n",
       "</table>\n",
       "</div>"
      ],
      "text/plain": [
       "                           max  min\n",
       "site_name                   53    0\n",
       "user_location_country      239    0\n",
       "user_location_region      1027    0\n",
       "srch_adults_cnt              9    0\n",
       "srch_children_cnt            9    0\n",
       "srch_destination_type_id     9    1\n",
       "hotel_country              212    0\n",
       "hotel_market              2117    0\n",
       "bookmonth                   12    1\n",
       "staydoy                    366    1"
      ]
     },
     "execution_count": 179,
     "metadata": {},
     "output_type": "execute_result"
    }
   ],
   "source": [
    "dftest = pd.DataFrame({'min':minvals, 'max':maxvals}, index=sermin.index)\n",
    "print(dftest['max'].sum())\n",
    "dftest"
   ]
  },
  {
   "cell_type": "code",
   "execution_count": 180,
   "metadata": {
    "collapsed": false
   },
   "outputs": [
    {
     "name": "stdout",
     "output_type": "stream",
     "text": [
      "[54, 240, 1028, 10, 10, 10, 213, 2118, 13, 367]\n",
      "4063\n"
     ]
    }
   ],
   "source": [
    "print(dftest['max'].apply(lambda x: x+1).tolist())\n",
    "print(sum(dftest['max'].apply(lambda x: x+1).tolist()))"
   ]
  },
  {
   "cell_type": "markdown",
   "metadata": {},
   "source": [
    "## Revise model size down\n",
    "\n",
    "- Try larger grain on booking time, use month instead of day of year."
   ]
  },
  {
   "cell_type": "code",
   "execution_count": 172,
   "metadata": {
    "collapsed": false
   },
   "outputs": [
    {
     "name": "stdout",
     "output_type": "stream",
     "text": [
      "RandomForestClassifier(bootstrap=True, class_weight=None, criterion='gini',\n",
      "            max_depth=8, max_features=0.2, max_leaf_nodes=None,\n",
      "            min_samples_leaf=1, min_samples_split=2,\n",
      "            min_weight_fraction_leaf=0.0, n_estimators=50, n_jobs=2,\n",
      "            oob_score=False, random_state=42, verbose=0, warm_start=False)\n"
     ]
    }
   ],
   "source": [
    "print(grid.best_estimator_)"
   ]
  },
  {
   "cell_type": "code",
   "execution_count": null,
   "metadata": {
    "collapsed": true
   },
   "outputs": [],
   "source": []
  }
 ],
 "metadata": {
  "kernelspec": {
   "display_name": "Python 3",
   "language": "python",
   "name": "python3"
  },
  "language_info": {
   "codemirror_mode": {
    "name": "ipython",
    "version": 3
   },
   "file_extension": ".py",
   "mimetype": "text/x-python",
   "name": "python",
   "nbconvert_exporter": "python",
   "pygments_lexer": "ipython3",
   "version": "3.5.1"
  }
 },
 "nbformat": 4,
 "nbformat_minor": 0
}
