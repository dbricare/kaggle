{
 "cells": [
  {
   "cell_type": "markdown",
   "metadata": {},
   "source": [
    "# Expedia hotel recommendation\n",
    "\n",
    "Only train on booking events, `is_booking == 1`.\n",
    "___"
   ]
  },
  {
   "cell_type": "code",
   "execution_count": 75,
   "metadata": {
    "collapsed": true
   },
   "outputs": [],
   "source": [
    "# Import libraries\n",
    "\n",
    "import pandas as pd\n",
    "import numpy as np\n",
    "from scipy import sparse\n",
    "import random\n",
    "import re\n",
    "import sys\n",
    "import multiprocessing\n",
    "from collections import defaultdict, OrderedDict\n",
    "\n",
    "from sklearn.feature_selection import VarianceThreshold\n",
    "from sklearn.ensemble import RandomForestClassifier, GradientBoostingClassifier\n",
    "from sklearn.cross_validation import StratifiedShuffleSplit, cross_val_score\n",
    "from sklearn.grid_search import GridSearchCV\n",
    "from sklearn.metrics import log_loss\n",
    "from sklearn.preprocessing import OneHotEncoder, LabelEncoder\n",
    "\n",
    "import ml_metrics\n",
    "import joblib\n",
    "\n",
    "import seaborn as sns\n",
    "import matplotlib.pyplot as plt\n",
    "%matplotlib inline"
   ]
  },
  {
   "cell_type": "code",
   "execution_count": 63,
   "metadata": {
    "collapsed": false
   },
   "outputs": [],
   "source": [
    "def formatdata(chunk):\n",
    "    '''Format data of each startified chunk.'''\n",
    "    \n",
    "    # fill NAs for origin-destination distance\n",
    "    # chunk['orig_destination_distance'].fillna(0.0, inplace=True)\n",
    "    chunk.dropna(axis=0, subset=['orig_destination_distance'], inplace=True)\n",
    "      \n",
    "    return chunk\n",
    "\n",
    "def stratshufspl(chunk, fraction, ylabel):\n",
    "    '''Startified shuffle split of chunks.'''\n",
    "    sss = StratifiedShuffleSplit(chunk[ylabel], test_size=fraction, \n",
    "                                 random_state=42, n_iter=1)\n",
    "    for _, idx in sss:\n",
    "        train = chunk.iloc[idx].copy()\n",
    "    return train\n",
    "\n",
    "\n",
    "def fractionate(trainiter, fraction, ylabel):\n",
    "    '''Utilizes only one core.'''\n",
    "    print('')\n",
    "    print('loading data...')\n",
    "    \n",
    "    # create empty list and add formatted data chunks\n",
    "    chunks = list()\n",
    "    for chunk in trainiter:\n",
    "        chunk = chunk[chunk['is_booking']==1]   # train only on booking events\n",
    "        # if using whole dataset skip this step\n",
    "        if fraction < 1.0:\n",
    "            chunk = stratshufspl(chunk, fraction, ylabel)\n",
    "        curr = formatdata(chunk)\n",
    "        chunks.append(curr)\n",
    "        \n",
    "    # concatenate chunks\n",
    "    train = pd.concat(chunks, axis=0)\n",
    "    \n",
    "    # split concatenated set into X and y for ml model fitting\n",
    "    X = train.drop([ylabel, 'is_booking'], axis=1, inplace=False)\n",
    "    y = train[ylabel]\n",
    "    return X, y"
   ]
  },
  {
   "cell_type": "code",
   "execution_count": 77,
   "metadata": {
    "collapsed": false
   },
   "outputs": [
    {
     "name": "stdout",
     "output_type": "stream",
     "text": [
      "\n",
      "loading data...\n",
      "(396954, 2)\n",
      "Index(['user_location_city', 'orig_destination_distance'], dtype='object')\n"
     ]
    },
    {
     "data": {
      "text/html": [
       "<div>\n",
       "<table border=\"1\" class=\"dataframe\">\n",
       "  <thead>\n",
       "    <tr style=\"text-align: right;\">\n",
       "      <th></th>\n",
       "      <th>user_location_city</th>\n",
       "      <th>orig_destination_distance</th>\n",
       "    </tr>\n",
       "  </thead>\n",
       "  <tbody>\n",
       "    <tr>\n",
       "      <th>669455</th>\n",
       "      <td>25315</td>\n",
       "      <td>3939.6881</td>\n",
       "    </tr>\n",
       "    <tr>\n",
       "      <th>255860</th>\n",
       "      <td>5070</td>\n",
       "      <td>414.0835</td>\n",
       "    </tr>\n",
       "    <tr>\n",
       "      <th>117285</th>\n",
       "      <td>10553</td>\n",
       "      <td>4094.8274</td>\n",
       "    </tr>\n",
       "    <tr>\n",
       "      <th>982084</th>\n",
       "      <td>2428</td>\n",
       "      <td>924.9407</td>\n",
       "    </tr>\n",
       "    <tr>\n",
       "      <th>435781</th>\n",
       "      <td>10800</td>\n",
       "      <td>6808.6816</td>\n",
       "    </tr>\n",
       "  </tbody>\n",
       "</table>\n",
       "</div>"
      ],
      "text/plain": [
       "        user_location_city  orig_destination_distance\n",
       "669455               25315                  3939.6881\n",
       "255860                5070                   414.0835\n",
       "117285               10553                  4094.8274\n",
       "982084                2428                   924.9407\n",
       "435781               10800                  6808.6816"
      ]
     },
     "execution_count": 77,
     "metadata": {},
     "output_type": "execute_result"
    }
   ],
   "source": [
    "dataurl = '/Users/dbricare/Documents/Python/datasets/expedia/'\n",
    "\n",
    "rawcols = ['user_location_city', 'orig_destination_distance', 'is_booking', 'hotel_cluster']\n",
    "\n",
    "ylabel = rawcols[-1]\n",
    "\n",
    "# csviter = pd.read_csv(dataurl+'train.csv.gz', sep=',', compression='gzip', chunksize=2000000, usecols=rawcols)\n",
    "csviter = pd.read_csv(dataurl+'train.csv.gz', sep=',', chunksize=1000000, usecols=rawcols)\n",
    "\n",
    "X, y = fractionate(csviter, 0.2, rawcols[-1])\n",
    "\n",
    "print(X.shape)\n",
    "print(X.columns)\n",
    "X.head()"
   ]
  },
  {
   "cell_type": "code",
   "execution_count": 78,
   "metadata": {
    "collapsed": false
   },
   "outputs": [
    {
     "data": {
      "image/png": "[encoded data removed]",
      "text/plain": [
       "<matplotlib.figure.Figure at 0x147872a20>"
      ]
     },
     "metadata": {},
     "output_type": "display_data"
    }
   ],
   "source": [
    "# Distribution of hotel cluster occurrences\n",
    "\n",
    "f = y.value_counts(sort=False).plot(figsize=(14,6))\n",
    "_ = f.set_ylabel('Number of Examples')\n",
    "_ = f.set_xlabel('Hotel Cluster')"
   ]
  },
  {
   "cell_type": "markdown",
   "metadata": {},
   "source": [
    "## One hot encoding"
   ]
  },
  {
   "cell_type": "code",
   "execution_count": 72,
   "metadata": {
    "collapsed": false
   },
   "outputs": [
    {
     "name": "stdout",
     "output_type": "stream",
     "text": [
      "expected number of columns in sparse matrix: 56509\n"
     ]
    }
   ],
   "source": [
    "notcats = ['orig_destination_distance']\n",
    "cats = list(X.columns)\n",
    "for cat in notcats:\n",
    "    cats.remove(cat)\n",
    "    \n",
    "print('expected number of columns in sparse matrix:', X[cats].max().sum()+len(X.columns))"
   ]
  },
  {
   "cell_type": "code",
   "execution_count": 44,
   "metadata": {
    "collapsed": false
   },
   "outputs": [
    {
     "name": "stdout",
     "output_type": "stream",
     "text": [
      "[0] [56507]\n"
     ]
    }
   ],
   "source": [
    "# check test data\n",
    "\n",
    "testiter = pd.read_csv(dataurl+'test.csv.gz', sep=',', compression='gzip', \n",
    "                       chunksize=100000, usecols=rawcols[:-1])\n",
    "first = True\n",
    "for chunk in testiter:\n",
    "    chunk = formatdata(chunk)\n",
    "    currmin = chunk[cats].min()\n",
    "    currmax = chunk[cats].max()\n",
    "    if first:\n",
    "        minvals = currmin\n",
    "        maxvals = currmax\n",
    "        first = False\n",
    "    else:\n",
    "        if any([both[0]!=both[1] for both in zip(minvals,currmin)]):\n",
    "            minvals = [min(both[0],both[1]) for both in zip(minvals,currmin)]\n",
    "        if any([both[0]!=both[1] for both in zip(maxvals,currmax)]):\n",
    "            maxvals = [max(both[0],both[1]) for both in zip(maxvals,currmax)]\n",
    "print(minvals,maxvals)"
   ]
  },
  {
   "cell_type": "code",
   "execution_count": 73,
   "metadata": {
    "collapsed": false
   },
   "outputs": [
    {
     "name": "stdout",
     "output_type": "stream",
     "text": [
      "[ True False]\n",
      "[56508]\n"
     ]
    }
   ],
   "source": [
    "catdict = OrderedDict()\n",
    "for col in X.columns:\n",
    "    if col in notcats:\n",
    "        val = False\n",
    "    else:\n",
    "        val = True\n",
    "    catdict.update({col:val})\n",
    "\n",
    "mask = np.array(list(catdict.values()))\n",
    "maxfeatures = [56507+1]\n",
    "\n",
    "print(mask)\n",
    "print(maxfeatures)"
   ]
  },
  {
   "cell_type": "code",
   "execution_count": 79,
   "metadata": {
    "collapsed": false
   },
   "outputs": [
    {
     "name": "stdout",
     "output_type": "stream",
     "text": [
      "all features: 56509\n",
      "sparse matrix shape: (396954, 56509)\n",
      "total encoding values: 56508\n"
     ]
    }
   ],
   "source": [
    "# actually create the encoder\n",
    "\n",
    "enc = OneHotEncoder(n_values=maxfeatures, categorical_features=mask, dtype=int, sparse=True)\n",
    "\n",
    "Xsparse = enc.fit_transform(X.values)\n",
    "print('all features:',sum(maxfeatures)+len(notcats))\n",
    "print('sparse matrix shape:', Xsparse.shape)\n",
    "print('total encoding values:', sum(enc.n_values)) "
   ]
  },
  {
   "cell_type": "markdown",
   "metadata": {},
   "source": [
    "## Train model"
   ]
  },
  {
   "cell_type": "code",
   "execution_count": 81,
   "metadata": {
    "collapsed": false
   },
   "outputs": [
    {
     "name": "stdout",
     "output_type": "stream",
     "text": [
      "[-4.33611025 -4.34351671 -4.344757   -4.34226746 -4.33936352]\n"
     ]
    }
   ],
   "source": [
    "est = RandomForestClassifier(random_state=42)\n",
    "est.set_params(n_jobs=2, n_estimators=50, max_depth=8)\n",
    "\n",
    "scores = cross_val_score(est, Xsparse, y, scoring='log_loss', cv=5)\n",
    "print(scores)\n",
    "\n",
    "# gridprms = {'max_features': ['sqrt', 0.1, 0.2]}\n",
    "\n",
    "# grid =GridSearchCV(est, param_grid=gridprms, cv=3, scoring='log_loss')\n",
    "# grid.fit(Xsparse, y)\n",
    "\n",
    "# print(grid.best_params_)\n",
    "# grid.grid_scores_"
   ]
  },
  {
   "cell_type": "code",
   "execution_count": null,
   "metadata": {
    "collapsed": true
   },
   "outputs": [],
   "source": []
  }
 ],
 "metadata": {
  "kernelspec": {
   "display_name": "Python 3",
   "language": "python",
   "name": "python3"
  },
  "language_info": {
   "codemirror_mode": {
    "name": "ipython",
    "version": 3
   },
   "file_extension": ".py",
   "mimetype": "text/x-python",
   "name": "python",
   "nbconvert_exporter": "python",
   "pygments_lexer": "ipython3",
   "version": "3.5.1"
  }
 },
 "nbformat": 4,
 "nbformat_minor": 0
}
