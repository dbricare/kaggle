{
 "cells": [
  {
   "cell_type": "markdown",
   "metadata": {},
   "source": [
    "# Exploring TalkingData Mobile Users\n",
    "\n",
    "____\n",
    "\n",
    "**Data Schema**\n",
    "\n",
    "<img src=\"index.png\">\n",
    "\n",
    "**Objective:** Classify user by gender and age in 12 groups; 'F23-', 'F24-26','F27-28','F29-32', 'F33-42', 'F43+',\n",
    "'M22-', 'M23-26', 'M27-28', 'M29-31', 'M32-38', 'M39+'."
   ]
  },
  {
   "cell_type": "code",
   "execution_count": 1,
   "metadata": {
    "collapsed": true
   },
   "outputs": [],
   "source": [
    "# import libraries\n",
    "\n",
    "import pandas as pd\n",
    "import numpy as np\n",
    "import matplotlib.pyplot as plt\n",
    "import seaborn as sns\n",
    "\n",
    "%matplotlib inline\n",
    "\n",
    "dataurl = '/home/dbricare/Documents/Python/datasets/talkingdata/'"
   ]
  },
  {
   "cell_type": "code",
   "execution_count": 2,
   "metadata": {
    "collapsed": true
   },
   "outputs": [],
   "source": [
    "def inspectdata(testortrain, cols=None, rows=None):\n",
    "    dataparams = {'sep':',', 'compression':'zip', 'usecols':cols, 'nrows':rows}\n",
    "    df = pd.read_csv(dataurl+testortrain+'.csv.zip', **dataparams)\n",
    "    print(df.shape)\n",
    "    print(df.info())\n",
    "    return df"
   ]
  },
  {
   "cell_type": "code",
   "execution_count": 3,
   "metadata": {
    "collapsed": false
   },
   "outputs": [
    {
     "name": "stdout",
     "output_type": "stream",
     "text": [
      "(74645, 4)\n",
      "<class 'pandas.core.frame.DataFrame'>\n",
      "RangeIndex: 74645 entries, 0 to 74644\n",
      "Data columns (total 4 columns):\n",
      "device_id    74645 non-null int64\n",
      "gender       74645 non-null object\n",
      "age          74645 non-null int64\n",
      "group        74645 non-null object\n",
      "dtypes: int64(2), object(2)\n",
      "memory usage: 2.3+ MB\n",
      "None\n"
     ]
    },
    {
     "data": {
      "text/html": [
       "<div>\n",
       "<table border=\"1\" class=\"dataframe\">\n",
       "  <thead>\n",
       "    <tr style=\"text-align: right;\">\n",
       "      <th></th>\n",
       "      <th>device_id</th>\n",
       "      <th>gender</th>\n",
       "      <th>age</th>\n",
       "      <th>group</th>\n",
       "    </tr>\n",
       "  </thead>\n",
       "  <tbody>\n",
       "    <tr>\n",
       "      <th>0</th>\n",
       "      <td>-8076087639492063270</td>\n",
       "      <td>M</td>\n",
       "      <td>35</td>\n",
       "      <td>M32-38</td>\n",
       "    </tr>\n",
       "    <tr>\n",
       "      <th>1</th>\n",
       "      <td>-2897161552818060146</td>\n",
       "      <td>M</td>\n",
       "      <td>35</td>\n",
       "      <td>M32-38</td>\n",
       "    </tr>\n",
       "    <tr>\n",
       "      <th>2</th>\n",
       "      <td>-8260683887967679142</td>\n",
       "      <td>M</td>\n",
       "      <td>35</td>\n",
       "      <td>M32-38</td>\n",
       "    </tr>\n",
       "    <tr>\n",
       "      <th>3</th>\n",
       "      <td>-4938849341048082022</td>\n",
       "      <td>M</td>\n",
       "      <td>30</td>\n",
       "      <td>M29-31</td>\n",
       "    </tr>\n",
       "    <tr>\n",
       "      <th>4</th>\n",
       "      <td>245133531816851882</td>\n",
       "      <td>M</td>\n",
       "      <td>30</td>\n",
       "      <td>M29-31</td>\n",
       "    </tr>\n",
       "  </tbody>\n",
       "</table>\n",
       "</div>"
      ],
      "text/plain": [
       "             device_id gender  age   group\n",
       "0 -8076087639492063270      M   35  M32-38\n",
       "1 -2897161552818060146      M   35  M32-38\n",
       "2 -8260683887967679142      M   35  M32-38\n",
       "3 -4938849341048082022      M   30  M29-31\n",
       "4   245133531816851882      M   30  M29-31"
      ]
     },
     "execution_count": 3,
     "metadata": {},
     "output_type": "execute_result"
    }
   ],
   "source": [
    "ga = inspectdata('gender_age_train')\n",
    "ga.head()"
   ]
  },
  {
   "cell_type": "code",
   "execution_count": 4,
   "metadata": {
    "collapsed": false
   },
   "outputs": [
    {
     "name": "stdout",
     "output_type": "stream",
     "text": [
      "(187245, 3)\n",
      "<class 'pandas.core.frame.DataFrame'>\n",
      "RangeIndex: 187245 entries, 0 to 187244\n",
      "Data columns (total 3 columns):\n",
      "device_id       187245 non-null int64\n",
      "phone_brand     187245 non-null object\n",
      "device_model    187245 non-null object\n",
      "dtypes: int64(1), object(2)\n",
      "memory usage: 4.3+ MB\n",
      "None\n"
     ]
    },
    {
     "data": {
      "text/html": [
       "<div>\n",
       "<table border=\"1\" class=\"dataframe\">\n",
       "  <thead>\n",
       "    <tr style=\"text-align: right;\">\n",
       "      <th></th>\n",
       "      <th>device_id</th>\n",
       "      <th>phone_brand</th>\n",
       "      <th>device_model</th>\n",
       "    </tr>\n",
       "  </thead>\n",
       "  <tbody>\n",
       "    <tr>\n",
       "      <th>0</th>\n",
       "      <td>-8890648629457979026</td>\n",
       "      <td>小米</td>\n",
       "      <td>红米</td>\n",
       "    </tr>\n",
       "    <tr>\n",
       "      <th>1</th>\n",
       "      <td>1277779817574759137</td>\n",
       "      <td>小米</td>\n",
       "      <td>MI 2</td>\n",
       "    </tr>\n",
       "    <tr>\n",
       "      <th>2</th>\n",
       "      <td>5137427614288105724</td>\n",
       "      <td>三星</td>\n",
       "      <td>Galaxy S4</td>\n",
       "    </tr>\n",
       "    <tr>\n",
       "      <th>3</th>\n",
       "      <td>3669464369358936369</td>\n",
       "      <td>SUGAR</td>\n",
       "      <td>时尚手机</td>\n",
       "    </tr>\n",
       "    <tr>\n",
       "      <th>4</th>\n",
       "      <td>-5019277647504317457</td>\n",
       "      <td>三星</td>\n",
       "      <td>Galaxy Note 2</td>\n",
       "    </tr>\n",
       "  </tbody>\n",
       "</table>\n",
       "</div>"
      ],
      "text/plain": [
       "             device_id phone_brand   device_model\n",
       "0 -8890648629457979026          小米             红米\n",
       "1  1277779817574759137          小米           MI 2\n",
       "2  5137427614288105724          三星      Galaxy S4\n",
       "3  3669464369358936369       SUGAR           时尚手机\n",
       "4 -5019277647504317457          三星  Galaxy Note 2"
      ]
     },
     "execution_count": 4,
     "metadata": {},
     "output_type": "execute_result"
    }
   ],
   "source": [
    "pbdm = inspectdata('phone_brand_device_model')\n",
    "pbdm.head()"
   ]
  },
  {
   "cell_type": "markdown",
   "metadata": {},
   "source": [
    "___\n",
    "# Some interesting questions to ask"
   ]
  },
  {
   "cell_type": "markdown",
   "metadata": {},
   "source": [
    "## What is the most popular brand of phone in each demographic group?"
   ]
  },
  {
   "cell_type": "code",
   "execution_count": 5,
   "metadata": {
    "collapsed": false
   },
   "outputs": [
    {
     "data": {
      "text/html": [
       "<div>\n",
       "<table border=\"1\" class=\"dataframe\">\n",
       "  <thead>\n",
       "    <tr style=\"text-align: right;\">\n",
       "      <th></th>\n",
       "      <th>device_id</th>\n",
       "      <th>group</th>\n",
       "      <th>phone_brand</th>\n",
       "    </tr>\n",
       "  </thead>\n",
       "  <tbody>\n",
       "    <tr>\n",
       "      <th>0</th>\n",
       "      <td>-8076087639492063270</td>\n",
       "      <td>M32-38</td>\n",
       "      <td>小米</td>\n",
       "    </tr>\n",
       "    <tr>\n",
       "      <th>1</th>\n",
       "      <td>-2897161552818060146</td>\n",
       "      <td>M32-38</td>\n",
       "      <td>小米</td>\n",
       "    </tr>\n",
       "    <tr>\n",
       "      <th>2</th>\n",
       "      <td>-8260683887967679142</td>\n",
       "      <td>M32-38</td>\n",
       "      <td>小米</td>\n",
       "    </tr>\n",
       "    <tr>\n",
       "      <th>3</th>\n",
       "      <td>-4938849341048082022</td>\n",
       "      <td>M29-31</td>\n",
       "      <td>小米</td>\n",
       "    </tr>\n",
       "    <tr>\n",
       "      <th>4</th>\n",
       "      <td>245133531816851882</td>\n",
       "      <td>M29-31</td>\n",
       "      <td>小米</td>\n",
       "    </tr>\n",
       "  </tbody>\n",
       "</table>\n",
       "</div>"
      ],
      "text/plain": [
       "             device_id   group phone_brand\n",
       "0 -8076087639492063270  M32-38          小米\n",
       "1 -2897161552818060146  M32-38          小米\n",
       "2 -8260683887967679142  M32-38          小米\n",
       "3 -4938849341048082022  M29-31          小米\n",
       "4   245133531816851882  M29-31          小米"
      ]
     },
     "execution_count": 5,
     "metadata": {},
     "output_type": "execute_result"
    }
   ],
   "source": [
    "popbrand = pd.merge(ga[['device_id', 'group']], pbdm[['device_id', 'phone_brand']], on='device_id')\n",
    "popbrand.head()"
   ]
  },
  {
   "cell_type": "code",
   "execution_count": 15,
   "metadata": {
    "collapsed": false
   },
   "outputs": [
    {
     "data": {
      "text/html": [
       "<div>\n",
       "<table border=\"1\" class=\"dataframe\">\n",
       "  <thead>\n",
       "    <tr style=\"text-align: right;\">\n",
       "      <th></th>\n",
       "      <th></th>\n",
       "      <th>device_id</th>\n",
       "    </tr>\n",
       "    <tr>\n",
       "      <th>group</th>\n",
       "      <th>phone_brand</th>\n",
       "      <th></th>\n",
       "    </tr>\n",
       "  </thead>\n",
       "  <tbody>\n",
       "    <tr>\n",
       "      <th rowspan=\"5\" valign=\"top\">F23-</th>\n",
       "      <th>E派</th>\n",
       "      <td>2</td>\n",
       "    </tr>\n",
       "    <tr>\n",
       "      <th>HTC</th>\n",
       "      <td>56</td>\n",
       "    </tr>\n",
       "    <tr>\n",
       "      <th>LG</th>\n",
       "      <td>8</td>\n",
       "    </tr>\n",
       "    <tr>\n",
       "      <th>Lovme</th>\n",
       "      <td>4</td>\n",
       "    </tr>\n",
       "    <tr>\n",
       "      <th>OPPO</th>\n",
       "      <td>741</td>\n",
       "    </tr>\n",
       "  </tbody>\n",
       "</table>\n",
       "</div>"
      ],
      "text/plain": [
       "                   device_id\n",
       "group phone_brand           \n",
       "F23-  E派                   2\n",
       "      HTC                 56\n",
       "      LG                   8\n",
       "      Lovme                4\n",
       "      OPPO               741"
      ]
     },
     "execution_count": 15,
     "metadata": {},
     "output_type": "execute_result"
    }
   ],
   "source": [
    "groupbrand = popbrand.groupby(by=['group', 'phone_brand']).count()\n",
    "groupbrand.head()"
   ]
  },
  {
   "cell_type": "code",
   "execution_count": 56,
   "metadata": {
    "collapsed": false
   },
   "outputs": [
    {
     "name": "stdout",
     "output_type": "stream",
     "text": [
      "Demographic: F23- \t Most popular brand: 小米 \t % of group users: 18.7%\n",
      "Demographic: F24-26 \t Most popular brand: 小米 \t % of group users: 23.3%\n",
      "Demographic: F27-28 \t Most popular brand: 小米 \t % of group users: 25.5%\n",
      "Demographic: F29-32 \t Most popular brand: 小米 \t % of group users: 23.7%\n",
      "Demographic: F33-42 \t Most popular brand: 三星 \t % of group users: 24.4%\n",
      "Demographic: F43+ \t Most popular brand: 三星 \t % of group users: 24.4%\n",
      "Demographic: M22- \t Most popular brand: 小米 \t % of group users: 25.7%\n",
      "Demographic: M23-26 \t Most popular brand: 小米 \t % of group users: 25.3%\n",
      "Demographic: M27-28 \t Most popular brand: 小米 \t % of group users: 25.2%\n",
      "Demographic: M29-31 \t Most popular brand: 小米 \t % of group users: 24.1%\n",
      "Demographic: M32-38 \t Most popular brand: 小米 \t % of group users: 22.6%\n",
      "Demographic: M39+ \t Most popular brand: 华为 \t % of group users: 22.6%\n"
     ]
    }
   ],
   "source": [
    "for g in groupbrand.index.levels[0]:\n",
    "    print('Demographic: {0} \\t Most popular brand: {1} \\t % of group users: {2:.1%}'.format(\n",
    "            g, groupbrand.loc[g].idxmax()[0], groupbrand.loc[g].max()[0]/groupbrand.loc[g].sum()[0]))"
   ]
  },
  {
   "cell_type": "markdown",
   "metadata": {},
   "source": [
    "### What is the most popular brand overall?"
   ]
  },
  {
   "cell_type": "code",
   "execution_count": 59,
   "metadata": {
    "collapsed": false
   },
   "outputs": [
    {
     "data": {
      "text/plain": [
       "小米      23.0%\n",
       "三星      18.3%\n",
       "华为      17.3%\n",
       "vivo    7.68%\n",
       "OPPO    7.63%\n",
       "Name: phone_brand, dtype: object"
      ]
     },
     "execution_count": 59,
     "metadata": {},
     "output_type": "execute_result"
    }
   ],
   "source": [
    "pbdm['phone_brand'].value_counts(normalize=True,ascending=False).head().apply(lambda x: str(x*100)[:4]+'%')"
   ]
  },
  {
   "cell_type": "markdown",
   "metadata": {},
   "source": [
    "### Conclusion\n",
    "\n",
    "***Xaomi*** is the most popular brand in most demographic groups and the most popular overall."
   ]
  },
  {
   "cell_type": "markdown",
   "metadata": {},
   "source": [
    "# What are the most popular apps?"
   ]
  },
  {
   "cell_type": "code",
   "execution_count": 6,
   "metadata": {
    "collapsed": false
   },
   "outputs": [
    {
     "name": "stdout",
     "output_type": "stream",
     "text": [
      "(459943, 2)\n",
      "<class 'pandas.core.frame.DataFrame'>\n",
      "RangeIndex: 459943 entries, 0 to 459942\n",
      "Data columns (total 2 columns):\n",
      "app_id      459943 non-null int64\n",
      "label_id    459943 non-null int64\n",
      "dtypes: int64(2)\n",
      "memory usage: 7.0 MB\n",
      "None\n"
     ]
    },
    {
     "data": {
      "text/html": [
       "<div>\n",
       "<table border=\"1\" class=\"dataframe\">\n",
       "  <thead>\n",
       "    <tr style=\"text-align: right;\">\n",
       "      <th></th>\n",
       "      <th>app_id</th>\n",
       "      <th>label_id</th>\n",
       "    </tr>\n",
       "  </thead>\n",
       "  <tbody>\n",
       "    <tr>\n",
       "      <th>0</th>\n",
       "      <td>7324884708820027918</td>\n",
       "      <td>251</td>\n",
       "    </tr>\n",
       "    <tr>\n",
       "      <th>1</th>\n",
       "      <td>-4494216993218550286</td>\n",
       "      <td>251</td>\n",
       "    </tr>\n",
       "    <tr>\n",
       "      <th>2</th>\n",
       "      <td>6058196446775239644</td>\n",
       "      <td>406</td>\n",
       "    </tr>\n",
       "    <tr>\n",
       "      <th>3</th>\n",
       "      <td>6058196446775239644</td>\n",
       "      <td>407</td>\n",
       "    </tr>\n",
       "    <tr>\n",
       "      <th>4</th>\n",
       "      <td>8694625920731541625</td>\n",
       "      <td>406</td>\n",
       "    </tr>\n",
       "  </tbody>\n",
       "</table>\n",
       "</div>"
      ],
      "text/plain": [
       "                app_id  label_id\n",
       "0  7324884708820027918       251\n",
       "1 -4494216993218550286       251\n",
       "2  6058196446775239644       406\n",
       "3  6058196446775239644       407\n",
       "4  8694625920731541625       406"
      ]
     },
     "execution_count": 6,
     "metadata": {},
     "output_type": "execute_result"
    }
   ],
   "source": [
    "al = inspectdata('app_labels')\n",
    "al.head()"
   ]
  },
  {
   "cell_type": "markdown",
   "metadata": {},
   "source": [
    "Do all app_id rows have unique values?"
   ]
  },
  {
   "cell_type": "code",
   "execution_count": 71,
   "metadata": {
    "collapsed": false
   },
   "outputs": [
    {
     "data": {
      "text/plain": [
       "113211"
      ]
     },
     "execution_count": 71,
     "metadata": {},
     "output_type": "execute_result"
    }
   ],
   "source": [
    "len(al['app_id'].unique())"
   ]
  },
  {
   "cell_type": "markdown",
   "metadata": {},
   "source": [
    "It seems there are about 4 labels on average for each app."
   ]
  },
  {
   "cell_type": "code",
   "execution_count": 7,
   "metadata": {
    "collapsed": false
   },
   "outputs": [
    {
     "name": "stdout",
     "output_type": "stream",
     "text": [
      "(930, 2)\n",
      "<class 'pandas.core.frame.DataFrame'>\n",
      "RangeIndex: 930 entries, 0 to 929\n",
      "Data columns (total 2 columns):\n",
      "label_id    930 non-null int64\n",
      "category    927 non-null object\n",
      "dtypes: int64(1), object(1)\n",
      "memory usage: 14.6+ KB\n",
      "None\n"
     ]
    },
    {
     "data": {
      "text/html": [
       "<div>\n",
       "<table border=\"1\" class=\"dataframe\">\n",
       "  <thead>\n",
       "    <tr style=\"text-align: right;\">\n",
       "      <th></th>\n",
       "      <th>label_id</th>\n",
       "      <th>category</th>\n",
       "    </tr>\n",
       "  </thead>\n",
       "  <tbody>\n",
       "    <tr>\n",
       "      <th>0</th>\n",
       "      <td>1</td>\n",
       "      <td>NaN</td>\n",
       "    </tr>\n",
       "    <tr>\n",
       "      <th>1</th>\n",
       "      <td>2</td>\n",
       "      <td>game-game type</td>\n",
       "    </tr>\n",
       "    <tr>\n",
       "      <th>2</th>\n",
       "      <td>3</td>\n",
       "      <td>game-Game themes</td>\n",
       "    </tr>\n",
       "    <tr>\n",
       "      <th>3</th>\n",
       "      <td>4</td>\n",
       "      <td>game-Art Style</td>\n",
       "    </tr>\n",
       "    <tr>\n",
       "      <th>4</th>\n",
       "      <td>5</td>\n",
       "      <td>game-Leisure time</td>\n",
       "    </tr>\n",
       "  </tbody>\n",
       "</table>\n",
       "</div>"
      ],
      "text/plain": [
       "   label_id           category\n",
       "0         1                NaN\n",
       "1         2     game-game type\n",
       "2         3   game-Game themes\n",
       "3         4     game-Art Style\n",
       "4         5  game-Leisure time"
      ]
     },
     "execution_count": 7,
     "metadata": {},
     "output_type": "execute_result"
    }
   ],
   "source": [
    "lc = inspectdata('label_categories')\n",
    "lc.head()"
   ]
  },
  {
   "cell_type": "markdown",
   "metadata": {},
   "source": [
    "Having such a large number of categories isn't super useful. In a completely unrealistic ideal case, we'd like one app label that corresponds perfectly to a single category. Is there a way to group the labels that maximizes their predictive power (i.e., this app label appears frequently with this demographic group)?"
   ]
  },
  {
   "cell_type": "code",
   "execution_count": 67,
   "metadata": {
    "collapsed": false
   },
   "outputs": [
    {
     "data": {
      "text/plain": [
       "0                     NaN\n",
       "1       [game, game type]\n",
       "2     [game, Game themes]\n",
       "3       [game, Art Style]\n",
       "4    [game, Leisure time]\n",
       "Name: category, dtype: object"
      ]
     },
     "execution_count": 67,
     "metadata": {},
     "output_type": "execute_result"
    }
   ],
   "source": [
    "# lc['subcat'] = lc['category'].apply(lambda x: str(x).split('-')[0])\n",
    "# lc.head()\n",
    "# lcspl = lc['category'].str.split('-')\n",
    "# lcspl.head()\n",
    "# lcmain = lc['category'].apply(lambda x: str(x).split('-')[0])\n",
    "lc['category'].unique()"
   ]
  },
  {
   "cell_type": "markdown",
   "metadata": {},
   "source": [
    "How many label_ids actually appear in the app_id table and then in the event table?"
   ]
  },
  {
   "cell_type": "code",
   "execution_count": 72,
   "metadata": {
    "collapsed": false
   },
   "outputs": [
    {
     "data": {
      "text/plain": [
       "507"
      ]
     },
     "execution_count": 72,
     "metadata": {},
     "output_type": "execute_result"
    }
   ],
   "source": [
    "len(al['label_id'].unique())"
   ]
  },
  {
   "cell_type": "code",
   "execution_count": 8,
   "metadata": {
    "collapsed": false
   },
   "outputs": [
    {
     "data": {
      "text/html": [
       "<div>\n",
       "<table border=\"1\" class=\"dataframe\">\n",
       "  <thead>\n",
       "    <tr style=\"text-align: right;\">\n",
       "      <th></th>\n",
       "      <th>app_id</th>\n",
       "      <th>label_id</th>\n",
       "      <th>category</th>\n",
       "    </tr>\n",
       "  </thead>\n",
       "  <tbody>\n",
       "    <tr>\n",
       "      <th>0</th>\n",
       "      <td>7324884708820027918</td>\n",
       "      <td>251</td>\n",
       "      <td>Finance</td>\n",
       "    </tr>\n",
       "    <tr>\n",
       "      <th>1</th>\n",
       "      <td>-4494216993218550286</td>\n",
       "      <td>251</td>\n",
       "      <td>Finance</td>\n",
       "    </tr>\n",
       "    <tr>\n",
       "      <th>2</th>\n",
       "      <td>6058196446775239644</td>\n",
       "      <td>406</td>\n",
       "      <td>unknown</td>\n",
       "    </tr>\n",
       "    <tr>\n",
       "      <th>3</th>\n",
       "      <td>6058196446775239644</td>\n",
       "      <td>407</td>\n",
       "      <td>DS_P2P net loan</td>\n",
       "    </tr>\n",
       "    <tr>\n",
       "      <th>4</th>\n",
       "      <td>8694625920731541625</td>\n",
       "      <td>406</td>\n",
       "      <td>unknown</td>\n",
       "    </tr>\n",
       "  </tbody>\n",
       "</table>\n",
       "</div>"
      ],
      "text/plain": [
       "                app_id  label_id         category\n",
       "0  7324884708820027918       251          Finance\n",
       "1 -4494216993218550286       251          Finance\n",
       "2  6058196446775239644       406          unknown\n",
       "3  6058196446775239644       407  DS_P2P net loan\n",
       "4  8694625920731541625       406          unknown"
      ]
     },
     "execution_count": 8,
     "metadata": {},
     "output_type": "execute_result"
    }
   ],
   "source": [
    "alc = pd.merge(al, lc, how='left', on='label_id')\n",
    "alc.head()\n",
    "# print(len(alc))"
   ]
  },
  {
   "cell_type": "code",
   "execution_count": 98,
   "metadata": {
    "collapsed": false
   },
   "outputs": [
    {
     "name": "stdout",
     "output_type": "stream",
     "text": [
      "457189 459943\n"
     ]
    }
   ],
   "source": [
    "print(alc[~(alc['category']=='unknown')].shape[0], alc.shape[0])"
   ]
  },
  {
   "cell_type": "markdown",
   "metadata": {},
   "source": [
    "A few unknown categories, leave those in place as there may be some predictive capacity for apps with this designation."
   ]
  },
  {
   "cell_type": "markdown",
   "metadata": {},
   "source": [
    "Now combine with event ids to find app types that are the most popular."
   ]
  },
  {
   "cell_type": "code",
   "execution_count": 9,
   "metadata": {
    "collapsed": false
   },
   "outputs": [
    {
     "name": "stdout",
     "output_type": "stream",
     "text": [
      "(3252950, 5)\n",
      "<class 'pandas.core.frame.DataFrame'>\n",
      "RangeIndex: 3252950 entries, 0 to 3252949\n",
      "Data columns (total 5 columns):\n",
      "event_id     int64\n",
      "device_id    int64\n",
      "timestamp    object\n",
      "longitude    float64\n",
      "latitude     float64\n",
      "dtypes: float64(2), int64(2), object(1)\n",
      "memory usage: 124.1+ MB\n",
      "None\n"
     ]
    },
    {
     "data": {
      "text/html": [
       "<div>\n",
       "<table border=\"1\" class=\"dataframe\">\n",
       "  <thead>\n",
       "    <tr style=\"text-align: right;\">\n",
       "      <th></th>\n",
       "      <th>event_id</th>\n",
       "      <th>device_id</th>\n",
       "      <th>timestamp</th>\n",
       "      <th>longitude</th>\n",
       "      <th>latitude</th>\n",
       "    </tr>\n",
       "  </thead>\n",
       "  <tbody>\n",
       "    <tr>\n",
       "      <th>0</th>\n",
       "      <td>1</td>\n",
       "      <td>29182687948017175</td>\n",
       "      <td>2016-05-01 00:55:25</td>\n",
       "      <td>121.38</td>\n",
       "      <td>31.24</td>\n",
       "    </tr>\n",
       "    <tr>\n",
       "      <th>1</th>\n",
       "      <td>2</td>\n",
       "      <td>-6401643145415154744</td>\n",
       "      <td>2016-05-01 00:54:12</td>\n",
       "      <td>103.65</td>\n",
       "      <td>30.97</td>\n",
       "    </tr>\n",
       "    <tr>\n",
       "      <th>2</th>\n",
       "      <td>3</td>\n",
       "      <td>-4833982096941402721</td>\n",
       "      <td>2016-05-01 00:08:05</td>\n",
       "      <td>106.60</td>\n",
       "      <td>29.70</td>\n",
       "    </tr>\n",
       "    <tr>\n",
       "      <th>3</th>\n",
       "      <td>4</td>\n",
       "      <td>-6815121365017318426</td>\n",
       "      <td>2016-05-01 00:06:40</td>\n",
       "      <td>104.27</td>\n",
       "      <td>23.28</td>\n",
       "    </tr>\n",
       "    <tr>\n",
       "      <th>4</th>\n",
       "      <td>5</td>\n",
       "      <td>-5373797595892518570</td>\n",
       "      <td>2016-05-01 00:07:18</td>\n",
       "      <td>115.88</td>\n",
       "      <td>28.66</td>\n",
       "    </tr>\n",
       "  </tbody>\n",
       "</table>\n",
       "</div>"
      ],
      "text/plain": [
       "   event_id            device_id            timestamp  longitude  latitude\n",
       "0         1    29182687948017175  2016-05-01 00:55:25     121.38     31.24\n",
       "1         2 -6401643145415154744  2016-05-01 00:54:12     103.65     30.97\n",
       "2         3 -4833982096941402721  2016-05-01 00:08:05     106.60     29.70\n",
       "3         4 -6815121365017318426  2016-05-01 00:06:40     104.27     23.28\n",
       "4         5 -5373797595892518570  2016-05-01 00:07:18     115.88     28.66"
      ]
     },
     "execution_count": 9,
     "metadata": {},
     "output_type": "execute_result"
    }
   ],
   "source": [
    "ev = inspectdata('events')\n",
    "ev.head()"
   ]
  },
  {
   "cell_type": "markdown",
   "metadata": {},
   "source": [
    "Does each event_id have a unique device_id?"
   ]
  },
  {
   "cell_type": "code",
   "execution_count": 85,
   "metadata": {
    "collapsed": false
   },
   "outputs": [
    {
     "name": "stdout",
     "output_type": "stream",
     "text": [
      "3252950 3252950\n"
     ]
    }
   ],
   "source": [
    "print(len(ev['event_id']), len(ev['device_id']))"
   ]
  },
  {
   "cell_type": "code",
   "execution_count": 91,
   "metadata": {
    "collapsed": false
   },
   "outputs": [
    {
     "name": "stdout",
     "output_type": "stream",
     "text": [
      "3588 3086\n"
     ]
    }
   ],
   "source": [
    "print(len(ev['longitude'].unique()), len(ev['latitude'].unique()))"
   ]
  },
  {
   "cell_type": "code",
   "execution_count": 92,
   "metadata": {
    "collapsed": false
   },
   "outputs": [
    {
     "data": {
      "text/html": [
       "<div>\n",
       "<table border=\"1\" class=\"dataframe\">\n",
       "  <thead>\n",
       "    <tr style=\"text-align: right;\">\n",
       "      <th></th>\n",
       "      <th>event_id</th>\n",
       "      <th>device_id</th>\n",
       "      <th>timestamp</th>\n",
       "      <th>longitude</th>\n",
       "      <th>latitude</th>\n",
       "    </tr>\n",
       "  </thead>\n",
       "  <tbody>\n",
       "    <tr>\n",
       "      <th>3252945</th>\n",
       "      <td>3252946</td>\n",
       "      <td>-8995272658520685777</td>\n",
       "      <td>2016-05-07 23:14:17</td>\n",
       "      <td>0.00</td>\n",
       "      <td>0.00</td>\n",
       "    </tr>\n",
       "    <tr>\n",
       "      <th>3252946</th>\n",
       "      <td>3252947</td>\n",
       "      <td>6790350461641275817</td>\n",
       "      <td>2016-05-07 23:14:08</td>\n",
       "      <td>120.65</td>\n",
       "      <td>27.78</td>\n",
       "    </tr>\n",
       "    <tr>\n",
       "      <th>3252947</th>\n",
       "      <td>3252948</td>\n",
       "      <td>7111660304904287709</td>\n",
       "      <td>2016-05-07 23:35:33</td>\n",
       "      <td>121.40</td>\n",
       "      <td>31.18</td>\n",
       "    </tr>\n",
       "    <tr>\n",
       "      <th>3252948</th>\n",
       "      <td>3252949</td>\n",
       "      <td>2786044170600788970</td>\n",
       "      <td>2016-05-07 23:36:03</td>\n",
       "      <td>111.19</td>\n",
       "      <td>31.29</td>\n",
       "    </tr>\n",
       "    <tr>\n",
       "      <th>3252949</th>\n",
       "      <td>3252950</td>\n",
       "      <td>3315513013457872370</td>\n",
       "      <td>2016-05-07 23:20:08</td>\n",
       "      <td>112.99</td>\n",
       "      <td>28.23</td>\n",
       "    </tr>\n",
       "  </tbody>\n",
       "</table>\n",
       "</div>"
      ],
      "text/plain": [
       "         event_id            device_id            timestamp  longitude  \\\n",
       "3252945   3252946 -8995272658520685777  2016-05-07 23:14:17       0.00   \n",
       "3252946   3252947  6790350461641275817  2016-05-07 23:14:08     120.65   \n",
       "3252947   3252948  7111660304904287709  2016-05-07 23:35:33     121.40   \n",
       "3252948   3252949  2786044170600788970  2016-05-07 23:36:03     111.19   \n",
       "3252949   3252950  3315513013457872370  2016-05-07 23:20:08     112.99   \n",
       "\n",
       "         latitude  \n",
       "3252945      0.00  \n",
       "3252946     27.78  \n",
       "3252947     31.18  \n",
       "3252948     31.29  \n",
       "3252949     28.23  "
      ]
     },
     "execution_count": 92,
     "metadata": {},
     "output_type": "execute_result"
    }
   ],
   "source": [
    "ev.tail()"
   ]
  },
  {
   "cell_type": "markdown",
   "metadata": {},
   "source": [
    "So both `event_id` and `device_id` are unique. However, there are very few unique `latitude` and `longitude` values. The most likely interpretation is that this information is relating the last time a device activated the TalkingData SDK.\n",
    "\n",
    "The question arises, \"what is the time range\"?"
   ]
  },
  {
   "cell_type": "code",
   "execution_count": 95,
   "metadata": {
    "collapsed": false
   },
   "outputs": [
    {
     "name": "stdout",
     "output_type": "stream",
     "text": [
      "2016-04-30 23:52:24 2016-05-08 00:00:08\n"
     ]
    }
   ],
   "source": [
    "dates = pd.to_datetime(ev['timestamp'])\n",
    "print(dates.min(), dates.max())"
   ]
  },
  {
   "cell_type": "markdown",
   "metadata": {},
   "source": [
    "So the time range spans almost exactly 1 week (midnight 5/1 to end of the day 5/7)."
   ]
  },
  {
   "cell_type": "markdown",
   "metadata": {},
   "source": [
    "What does the `app_id` and `event_id` data look like? We now know that each `event_id` corresponds to a unique `device_id` so counting the appearances of an app across events is the same counting the app across devices."
   ]
  },
  {
   "cell_type": "code",
   "execution_count": 10,
   "metadata": {
    "collapsed": false
   },
   "outputs": [
    {
     "name": "stdout",
     "output_type": "stream",
     "text": [
      "(32473067, 4)\n",
      "<class 'pandas.core.frame.DataFrame'>\n",
      "RangeIndex: 32473067 entries, 0 to 32473066\n",
      "Data columns (total 4 columns):\n",
      "event_id        int64\n",
      "app_id          int64\n",
      "is_installed    int64\n",
      "is_active       int64\n",
      "dtypes: int64(4)\n",
      "memory usage: 991.0 MB\n",
      "None\n"
     ]
    },
    {
     "data": {
      "text/html": [
       "<div>\n",
       "<table border=\"1\" class=\"dataframe\">\n",
       "  <thead>\n",
       "    <tr style=\"text-align: right;\">\n",
       "      <th></th>\n",
       "      <th>event_id</th>\n",
       "      <th>app_id</th>\n",
       "      <th>is_installed</th>\n",
       "      <th>is_active</th>\n",
       "    </tr>\n",
       "  </thead>\n",
       "  <tbody>\n",
       "    <tr>\n",
       "      <th>0</th>\n",
       "      <td>2</td>\n",
       "      <td>5927333115845830913</td>\n",
       "      <td>1</td>\n",
       "      <td>1</td>\n",
       "    </tr>\n",
       "    <tr>\n",
       "      <th>1</th>\n",
       "      <td>2</td>\n",
       "      <td>-5720078949152207372</td>\n",
       "      <td>1</td>\n",
       "      <td>0</td>\n",
       "    </tr>\n",
       "    <tr>\n",
       "      <th>2</th>\n",
       "      <td>2</td>\n",
       "      <td>-1633887856876571208</td>\n",
       "      <td>1</td>\n",
       "      <td>0</td>\n",
       "    </tr>\n",
       "    <tr>\n",
       "      <th>3</th>\n",
       "      <td>2</td>\n",
       "      <td>-653184325010919369</td>\n",
       "      <td>1</td>\n",
       "      <td>1</td>\n",
       "    </tr>\n",
       "    <tr>\n",
       "      <th>4</th>\n",
       "      <td>2</td>\n",
       "      <td>8693964245073640147</td>\n",
       "      <td>1</td>\n",
       "      <td>1</td>\n",
       "    </tr>\n",
       "  </tbody>\n",
       "</table>\n",
       "</div>"
      ],
      "text/plain": [
       "   event_id               app_id  is_installed  is_active\n",
       "0         2  5927333115845830913             1          1\n",
       "1         2 -5720078949152207372             1          0\n",
       "2         2 -1633887856876571208             1          0\n",
       "3         2  -653184325010919369             1          1\n",
       "4         2  8693964245073640147             1          1"
      ]
     },
     "execution_count": 10,
     "metadata": {},
     "output_type": "execute_result"
    }
   ],
   "source": [
    "ae = inspectdata('app_events')\n",
    "ae.head()"
   ]
  },
  {
   "cell_type": "code",
   "execution_count": 116,
   "metadata": {
    "collapsed": false
   },
   "outputs": [
    {
     "name": "stdout",
     "output_type": "stream",
     "text": [
      "1488096 3252950\n"
     ]
    }
   ],
   "source": [
    "print(len(ae['event_id'].unique()), len(ev))"
   ]
  },
  {
   "cell_type": "markdown",
   "metadata": {},
   "source": [
    "So not every `event_id` has data on the collected apps. What is the distribution of apps per phone like?"
   ]
  },
  {
   "cell_type": "code",
   "execution_count": 13,
   "metadata": {
    "collapsed": false
   },
   "outputs": [
    {
     "data": {
      "text/html": [
       "<div>\n",
       "<table border=\"1\" class=\"dataframe\">\n",
       "  <thead>\n",
       "    <tr style=\"text-align: right;\">\n",
       "      <th></th>\n",
       "      <th>app_id</th>\n",
       "    </tr>\n",
       "    <tr>\n",
       "      <th>event_id</th>\n",
       "      <th></th>\n",
       "    </tr>\n",
       "  </thead>\n",
       "  <tbody>\n",
       "    <tr>\n",
       "      <th>2</th>\n",
       "      <td>19</td>\n",
       "    </tr>\n",
       "    <tr>\n",
       "      <th>6</th>\n",
       "      <td>38</td>\n",
       "    </tr>\n",
       "    <tr>\n",
       "      <th>7</th>\n",
       "      <td>40</td>\n",
       "    </tr>\n",
       "    <tr>\n",
       "      <th>9</th>\n",
       "      <td>35</td>\n",
       "    </tr>\n",
       "    <tr>\n",
       "      <th>16</th>\n",
       "      <td>31</td>\n",
       "    </tr>\n",
       "  </tbody>\n",
       "</table>\n",
       "</div>"
      ],
      "text/plain": [
       "          app_id\n",
       "event_id        \n",
       "2             19\n",
       "6             38\n",
       "7             40\n",
       "9             35\n",
       "16            31"
      ]
     },
     "execution_count": 13,
     "metadata": {},
     "output_type": "execute_result"
    }
   ],
   "source": [
    "groupae = ae[['event_id', 'app_id']].groupby('event_id').count()\n",
    "groupae.head()"
   ]
  },
  {
   "cell_type": "code",
   "execution_count": 15,
   "metadata": {
    "collapsed": false
   },
   "outputs": [
    {
     "data": {
      "text/html": [
       "<div>\n",
       "<table border=\"1\" class=\"dataframe\">\n",
       "  <thead>\n",
       "    <tr style=\"text-align: right;\">\n",
       "      <th></th>\n",
       "      <th>app_id</th>\n",
       "    </tr>\n",
       "  </thead>\n",
       "  <tbody>\n",
       "    <tr>\n",
       "      <th>count</th>\n",
       "      <td>1.488096e+06</td>\n",
       "    </tr>\n",
       "    <tr>\n",
       "      <th>mean</th>\n",
       "      <td>2.182189e+01</td>\n",
       "    </tr>\n",
       "    <tr>\n",
       "      <th>std</th>\n",
       "      <td>2.274256e+01</td>\n",
       "    </tr>\n",
       "    <tr>\n",
       "      <th>min</th>\n",
       "      <td>1.000000e+00</td>\n",
       "    </tr>\n",
       "    <tr>\n",
       "      <th>25%</th>\n",
       "      <td>7.000000e+00</td>\n",
       "    </tr>\n",
       "    <tr>\n",
       "      <th>50%</th>\n",
       "      <td>1.400000e+01</td>\n",
       "    </tr>\n",
       "    <tr>\n",
       "      <th>75%</th>\n",
       "      <td>3.000000e+01</td>\n",
       "    </tr>\n",
       "    <tr>\n",
       "      <th>max</th>\n",
       "      <td>3.200000e+02</td>\n",
       "    </tr>\n",
       "  </tbody>\n",
       "</table>\n",
       "</div>"
      ],
      "text/plain": [
       "             app_id\n",
       "count  1.488096e+06\n",
       "mean   2.182189e+01\n",
       "std    2.274256e+01\n",
       "min    1.000000e+00\n",
       "25%    7.000000e+00\n",
       "50%    1.400000e+01\n",
       "75%    3.000000e+01\n",
       "max    3.200000e+02"
      ]
     },
     "execution_count": 15,
     "metadata": {},
     "output_type": "execute_result"
    }
   ],
   "source": [
    "groupae.describe()"
   ]
  },
  {
   "cell_type": "code",
   "execution_count": 27,
   "metadata": {
    "collapsed": false
   },
   "outputs": [
    {
     "data": {
      "text/plain": [
       "<matplotlib.text.Text at 0x7fedf575f860>"
      ]
     },
     "execution_count": 27,
     "metadata": {},
     "output_type": "execute_result"
    },
    {
     "data": {
      "image/png": "[encoded data removed]",
      "text/plain": [
       "<matplotlib.figure.Figure at 0x7fedf5bfe550>"
      ]
     },
     "metadata": {},
     "output_type": "display_data"
    }
   ],
   "source": [
    "f,ax = plt.subplots(1,1,figsize=(14,6))\n",
    "_ = groupae.hist(bins=320, ax=ax)\n",
    "ax.set_xlim(0,320)\n",
    "ax.set_title('Apps per Device')\n",
    "ax.set_xlabel('Number of Apps')"
   ]
  },
  {
   "cell_type": "code",
   "execution_count": 28,
   "metadata": {
    "collapsed": false
   },
   "outputs": [
    {
     "data": {
      "text/plain": [
       "<matplotlib.text.Text at 0x7fedf5292fd0>"
      ]
     },
     "execution_count": 28,
     "metadata": {},
     "output_type": "execute_result"
    },
    {
     "data": {
      "image/png": "[encoded data removed]",
      "text/plain": [
       "<matplotlib.figure.Figure at 0x7fedf537da58>"
      ]
     },
     "metadata": {},
     "output_type": "display_data"
    }
   ],
   "source": [
    "f,ax = plt.subplots(1,1,figsize=(14,6))\n",
    "_ = groupae.hist(bins=320, ax=ax)\n",
    "ax.set_xlim(0,80)\n",
    "ax.set_title('Apps per Device')\n",
    "ax.set_xlabel('Number of Apps')"
   ]
  },
  {
   "cell_type": "markdown",
   "metadata": {},
   "source": [
    "Just a quick check, are there any apps that are not installed?"
   ]
  },
  {
   "cell_type": "code",
   "execution_count": 96,
   "metadata": {
    "collapsed": false
   },
   "outputs": [
    {
     "data": {
      "text/plain": [
       "array([1])"
      ]
     },
     "execution_count": 96,
     "metadata": {},
     "output_type": "execute_result"
    }
   ],
   "source": [
    "ae['is_installed'].unique()"
   ]
  },
  {
   "cell_type": "markdown",
   "metadata": {},
   "source": [
    "What are the activity status values? If only `0` and `1` values are possible then they are they all True/False..."
   ]
  },
  {
   "cell_type": "code",
   "execution_count": 97,
   "metadata": {
    "collapsed": false
   },
   "outputs": [
    {
     "data": {
      "text/plain": [
       "array([1, 0])"
      ]
     },
     "execution_count": 97,
     "metadata": {},
     "output_type": "execute_result"
    }
   ],
   "source": [
    "ae['is_active'].unique()"
   ]
  },
  {
   "cell_type": "markdown",
   "metadata": {},
   "source": [
    "Now merge data to find the most popular categories."
   ]
  },
  {
   "cell_type": "code",
   "execution_count": 29,
   "metadata": {
    "collapsed": false
   },
   "outputs": [
    {
     "data": {
      "text/html": [
       "<div>\n",
       "<table border=\"1\" class=\"dataframe\">\n",
       "  <thead>\n",
       "    <tr style=\"text-align: right;\">\n",
       "      <th></th>\n",
       "      <th>event_id</th>\n",
       "      <th>app_id</th>\n",
       "      <th>category</th>\n",
       "    </tr>\n",
       "  </thead>\n",
       "  <tbody>\n",
       "    <tr>\n",
       "      <th>0</th>\n",
       "      <td>2</td>\n",
       "      <td>5927333115845830913</td>\n",
       "      <td>Property Industry 1.0</td>\n",
       "    </tr>\n",
       "    <tr>\n",
       "      <th>1</th>\n",
       "      <td>2</td>\n",
       "      <td>5927333115845830913</td>\n",
       "      <td>Relatives 1</td>\n",
       "    </tr>\n",
       "    <tr>\n",
       "      <th>2</th>\n",
       "      <td>2</td>\n",
       "      <td>5927333115845830913</td>\n",
       "      <td>Property Industry 2.0</td>\n",
       "    </tr>\n",
       "    <tr>\n",
       "      <th>3</th>\n",
       "      <td>2</td>\n",
       "      <td>5927333115845830913</td>\n",
       "      <td>Industry tag</td>\n",
       "    </tr>\n",
       "    <tr>\n",
       "      <th>4</th>\n",
       "      <td>2</td>\n",
       "      <td>5927333115845830913</td>\n",
       "      <td>IM</td>\n",
       "    </tr>\n",
       "  </tbody>\n",
       "</table>\n",
       "</div>"
      ],
      "text/plain": [
       "   event_id               app_id               category\n",
       "0         2  5927333115845830913  Property Industry 1.0\n",
       "1         2  5927333115845830913            Relatives 1\n",
       "2         2  5927333115845830913  Property Industry 2.0\n",
       "3         2  5927333115845830913           Industry tag\n",
       "4         2  5927333115845830913                     IM"
      ]
     },
     "execution_count": 29,
     "metadata": {},
     "output_type": "execute_result"
    }
   ],
   "source": [
    "aelc = pd.merge(ae[['event_id', 'app_id']], alc[['app_id', 'category']], how='left')\n",
    "aelc.head()"
   ]
  },
  {
   "cell_type": "code",
   "execution_count": 30,
   "metadata": {
    "collapsed": false
   },
   "outputs": [
    {
     "data": {
      "text/plain": [
       "Industry tag             11.5%\n",
       "Property Industry 2.0    8.03%\n",
       "Property Industry 1.0    6.53%\n",
       "unknown                  6.22%\n",
       "Custom label             3.93%\n",
       "Services 1               3.90%\n",
       "And the Church           3.46%\n",
       "Internet banking         2.85%\n",
       "Finance                  2.38%\n",
       "P2P                      2.20%\n",
       "Name: category, dtype: object"
      ]
     },
     "execution_count": 30,
     "metadata": {},
     "output_type": "execute_result"
    }
   ],
   "source": [
    "aelc['category'].value_counts(normalize=True,ascending=False).head(10).apply(lambda x: str(x*100)[:4]+'%')"
   ]
  },
  {
   "cell_type": "code",
   "execution_count": 119,
   "metadata": {
    "collapsed": false
   },
   "outputs": [
    {
     "name": "stdout",
     "output_type": "stream",
     "text": [
      "209355710\n",
      "1488096\n"
     ]
    }
   ],
   "source": [
    "print(len(aelc))\n",
    "print(len(aelc['event_id'].unique()))"
   ]
  },
  {
   "cell_type": "markdown",
   "metadata": {},
   "source": [
    "### What are the most popular apps by demographic?\n",
    "\n",
    "Merge event and device table with device and group table. Then merge group data to category data on the `event_id`. Inner joins are fine since event and device ids are unique and if there is no `event_id` then there are no apps listed for that device."
   ]
  },
  {
   "cell_type": "code",
   "execution_count": 11,
   "metadata": {
    "collapsed": false
   },
   "outputs": [
    {
     "data": {
      "text/html": [
       "<div>\n",
       "<table border=\"1\" class=\"dataframe\">\n",
       "  <thead>\n",
       "    <tr style=\"text-align: right;\">\n",
       "      <th></th>\n",
       "      <th>device_id</th>\n",
       "      <th>event_id</th>\n",
       "      <th>group</th>\n",
       "    </tr>\n",
       "  </thead>\n",
       "  <tbody>\n",
       "    <tr>\n",
       "      <th>0</th>\n",
       "      <td>29182687948017175</td>\n",
       "      <td>1</td>\n",
       "      <td>M39+</td>\n",
       "    </tr>\n",
       "    <tr>\n",
       "      <th>1</th>\n",
       "      <td>29182687948017175</td>\n",
       "      <td>7104</td>\n",
       "      <td>M39+</td>\n",
       "    </tr>\n",
       "    <tr>\n",
       "      <th>2</th>\n",
       "      <td>29182687948017175</td>\n",
       "      <td>29661</td>\n",
       "      <td>M39+</td>\n",
       "    </tr>\n",
       "    <tr>\n",
       "      <th>3</th>\n",
       "      <td>29182687948017175</td>\n",
       "      <td>33133</td>\n",
       "      <td>M39+</td>\n",
       "    </tr>\n",
       "    <tr>\n",
       "      <th>4</th>\n",
       "      <td>29182687948017175</td>\n",
       "      <td>38980</td>\n",
       "      <td>M39+</td>\n",
       "    </tr>\n",
       "  </tbody>\n",
       "</table>\n",
       "</div>"
      ],
      "text/plain": [
       "           device_id  event_id group\n",
       "0  29182687948017175         1  M39+\n",
       "1  29182687948017175      7104  M39+\n",
       "2  29182687948017175     29661  M39+\n",
       "3  29182687948017175     33133  M39+\n",
       "4  29182687948017175     38980  M39+"
      ]
     },
     "execution_count": 11,
     "metadata": {},
     "output_type": "execute_result"
    }
   ],
   "source": [
    "evpbdm = pd.merge(ev[['device_id', 'event_id']], popbrand[['device_id','group']], on='device_id', how='inner')\n",
    "evpbdm.head()"
   ]
  },
  {
   "cell_type": "code",
   "execution_count": 31,
   "metadata": {
    "collapsed": false
   },
   "outputs": [],
   "source": [
    "appgroup = pd.merge(ae[['event_id', 'app_id']], evpbdm[['group', 'event_id']], on='event_id', how='inner')"
   ]
  },
  {
   "cell_type": "code",
   "execution_count": 32,
   "metadata": {
    "collapsed": false
   },
   "outputs": [
    {
     "data": {
      "text/html": [
       "<div>\n",
       "<table border=\"1\" class=\"dataframe\">\n",
       "  <thead>\n",
       "    <tr style=\"text-align: right;\">\n",
       "      <th></th>\n",
       "      <th>event_id</th>\n",
       "      <th>app_id</th>\n",
       "      <th>group</th>\n",
       "    </tr>\n",
       "  </thead>\n",
       "  <tbody>\n",
       "    <tr>\n",
       "      <th>0</th>\n",
       "      <td>6</td>\n",
       "      <td>-7377004479023402858</td>\n",
       "      <td>M22-</td>\n",
       "    </tr>\n",
       "    <tr>\n",
       "      <th>1</th>\n",
       "      <td>6</td>\n",
       "      <td>6284164581582112235</td>\n",
       "      <td>M22-</td>\n",
       "    </tr>\n",
       "    <tr>\n",
       "      <th>2</th>\n",
       "      <td>6</td>\n",
       "      <td>5927333115845830913</td>\n",
       "      <td>M22-</td>\n",
       "    </tr>\n",
       "    <tr>\n",
       "      <th>3</th>\n",
       "      <td>6</td>\n",
       "      <td>3433289601737013244</td>\n",
       "      <td>M22-</td>\n",
       "    </tr>\n",
       "    <tr>\n",
       "      <th>4</th>\n",
       "      <td>6</td>\n",
       "      <td>-3467200097934864127</td>\n",
       "      <td>M22-</td>\n",
       "    </tr>\n",
       "    <tr>\n",
       "      <th>5</th>\n",
       "      <td>6</td>\n",
       "      <td>6924337203824723352</td>\n",
       "      <td>M22-</td>\n",
       "    </tr>\n",
       "    <tr>\n",
       "      <th>6</th>\n",
       "      <td>6</td>\n",
       "      <td>-3955212733485100109</td>\n",
       "      <td>M22-</td>\n",
       "    </tr>\n",
       "    <tr>\n",
       "      <th>7</th>\n",
       "      <td>6</td>\n",
       "      <td>-2102196853266493861</td>\n",
       "      <td>M22-</td>\n",
       "    </tr>\n",
       "    <tr>\n",
       "      <th>8</th>\n",
       "      <td>6</td>\n",
       "      <td>8693964245073640147</td>\n",
       "      <td>M22-</td>\n",
       "    </tr>\n",
       "    <tr>\n",
       "      <th>9</th>\n",
       "      <td>6</td>\n",
       "      <td>6439247542005098738</td>\n",
       "      <td>M22-</td>\n",
       "    </tr>\n",
       "  </tbody>\n",
       "</table>\n",
       "</div>"
      ],
      "text/plain": [
       "   event_id               app_id group\n",
       "0         6 -7377004479023402858  M22-\n",
       "1         6  6284164581582112235  M22-\n",
       "2         6  5927333115845830913  M22-\n",
       "3         6  3433289601737013244  M22-\n",
       "4         6 -3467200097934864127  M22-\n",
       "5         6  6924337203824723352  M22-\n",
       "6         6 -3955212733485100109  M22-\n",
       "7         6 -2102196853266493861  M22-\n",
       "8         6  8693964245073640147  M22-\n",
       "9         6  6439247542005098738  M22-"
      ]
     },
     "execution_count": 32,
     "metadata": {},
     "output_type": "execute_result"
    }
   ],
   "source": [
    "appgroup.head(10)"
   ]
  },
  {
   "cell_type": "code",
   "execution_count": 33,
   "metadata": {
    "collapsed": false
   },
   "outputs": [
    {
     "name": "stdout",
     "output_type": "stream",
     "text": [
      "<class 'pandas.core.frame.DataFrame'>\n",
      "Int64Index: 12273452 entries, 0 to 12273451\n",
      "Data columns (total 3 columns):\n",
      "event_id    int64\n",
      "app_id      int64\n",
      "group       object\n",
      "dtypes: int64(2), object(1)\n",
      "memory usage: 374.6+ MB\n"
     ]
    }
   ],
   "source": [
    "appgroup.info()"
   ]
  },
  {
   "cell_type": "code",
   "execution_count": 34,
   "metadata": {
    "collapsed": false
   },
   "outputs": [
    {
     "name": "stdout",
     "output_type": "stream",
     "text": [
      "<class 'pandas.core.frame.DataFrame'>\n",
      "Int64Index: 12273452 entries, 0 to 12273451\n",
      "Data columns (total 2 columns):\n",
      "app_id    int64\n",
      "group     object\n",
      "dtypes: int64(1), object(1)\n",
      "memory usage: 280.9+ MB\n"
     ]
    }
   ],
   "source": [
    "appgroup.drop('event_id', axis=1, inplace=True)\n",
    "appgroup.info()"
   ]
  },
  {
   "cell_type": "code",
   "execution_count": 43,
   "metadata": {
    "collapsed": false
   },
   "outputs": [],
   "source": [
    "popgroup = pd.merge(appgroup, alc[['app_id','category']], how='left', on='app_id')"
   ]
  },
  {
   "cell_type": "code",
   "execution_count": 44,
   "metadata": {
    "collapsed": false
   },
   "outputs": [
    {
     "name": "stdout",
     "output_type": "stream",
     "text": [
      "(79061565, 3)\n",
      "<class 'pandas.core.frame.DataFrame'>\n",
      "Int64Index: 79061565 entries, 0 to 79061564\n",
      "Data columns (total 3 columns):\n",
      "app_id      int64\n",
      "group       object\n",
      "category    object\n",
      "dtypes: int64(1), object(2)\n",
      "memory usage: 2.4+ GB\n",
      "None\n"
     ]
    },
    {
     "data": {
      "text/html": [
       "<div>\n",
       "<table border=\"1\" class=\"dataframe\">\n",
       "  <thead>\n",
       "    <tr style=\"text-align: right;\">\n",
       "      <th></th>\n",
       "      <th>app_id</th>\n",
       "      <th>group</th>\n",
       "      <th>category</th>\n",
       "    </tr>\n",
       "  </thead>\n",
       "  <tbody>\n",
       "    <tr>\n",
       "      <th>0</th>\n",
       "      <td>-7377004479023402858</td>\n",
       "      <td>M22-</td>\n",
       "      <td>Property Industry 1.0</td>\n",
       "    </tr>\n",
       "    <tr>\n",
       "      <th>1</th>\n",
       "      <td>-7377004479023402858</td>\n",
       "      <td>M22-</td>\n",
       "      <td>Personal Effectiveness 1</td>\n",
       "    </tr>\n",
       "    <tr>\n",
       "      <th>2</th>\n",
       "      <td>-7377004479023402858</td>\n",
       "      <td>M22-</td>\n",
       "      <td>Property Industry 2.0</td>\n",
       "    </tr>\n",
       "    <tr>\n",
       "      <th>3</th>\n",
       "      <td>-7377004479023402858</td>\n",
       "      <td>M22-</td>\n",
       "      <td>unknown</td>\n",
       "    </tr>\n",
       "    <tr>\n",
       "      <th>4</th>\n",
       "      <td>-7377004479023402858</td>\n",
       "      <td>M22-</td>\n",
       "      <td>unknown</td>\n",
       "    </tr>\n",
       "  </tbody>\n",
       "</table>\n",
       "</div>"
      ],
      "text/plain": [
       "                app_id group                  category\n",
       "0 -7377004479023402858  M22-     Property Industry 1.0\n",
       "1 -7377004479023402858  M22-  Personal Effectiveness 1\n",
       "2 -7377004479023402858  M22-     Property Industry 2.0\n",
       "3 -7377004479023402858  M22-                   unknown\n",
       "4 -7377004479023402858  M22-                   unknown"
      ]
     },
     "execution_count": 44,
     "metadata": {},
     "output_type": "execute_result"
    }
   ],
   "source": [
    "print(popgroup.shape)\n",
    "print(popgroup.info())\n",
    "popgroup.head()"
   ]
  },
  {
   "cell_type": "code",
   "execution_count": 41,
   "metadata": {
    "collapsed": false
   },
   "outputs": [
    {
     "name": "stdout",
     "output_type": "stream",
     "text": [
      "<class 'pandas.core.frame.DataFrame'>\n",
      "Int64Index: 79061565 entries, 0 to 79061564\n",
      "Data columns (total 2 columns):\n",
      "group       object\n",
      "category    object\n",
      "dtypes: object(2)\n",
      "memory usage: 1.8+ GB\n"
     ]
    }
   ],
   "source": [
    "# popgroup.drop('app_id', axis=1, inplace=True)\n",
    "popgroup.info()"
   ]
  },
  {
   "cell_type": "code",
   "execution_count": 45,
   "metadata": {
    "collapsed": false
   },
   "outputs": [
    {
     "data": {
      "text/html": [
       "<div>\n",
       "<table border=\"1\" class=\"dataframe\">\n",
       "  <thead>\n",
       "    <tr style=\"text-align: right;\">\n",
       "      <th></th>\n",
       "      <th></th>\n",
       "      <th>app_id</th>\n",
       "    </tr>\n",
       "    <tr>\n",
       "      <th>group</th>\n",
       "      <th>category</th>\n",
       "      <th></th>\n",
       "    </tr>\n",
       "  </thead>\n",
       "  <tbody>\n",
       "    <tr>\n",
       "      <th rowspan=\"5\" valign=\"top\">F23-</th>\n",
       "      <th>1 free</th>\n",
       "      <td>48622</td>\n",
       "    </tr>\n",
       "    <tr>\n",
       "      <th>1 reputation</th>\n",
       "      <td>1719</td>\n",
       "    </tr>\n",
       "    <tr>\n",
       "      <th>1 vitality</th>\n",
       "      <td>1314</td>\n",
       "    </tr>\n",
       "    <tr>\n",
       "      <th>3 kindom game</th>\n",
       "      <td>80</td>\n",
       "    </tr>\n",
       "    <tr>\n",
       "      <th>80s Japanese comic</th>\n",
       "      <td>6</td>\n",
       "    </tr>\n",
       "  </tbody>\n",
       "</table>\n",
       "</div>"
      ],
      "text/plain": [
       "                          app_id\n",
       "group category                  \n",
       "F23-  1 free               48622\n",
       "      1 reputation          1719\n",
       "      1 vitality            1314\n",
       "      3 kindom game           80\n",
       "      80s Japanese comic       6"
      ]
     },
     "execution_count": 45,
     "metadata": {},
     "output_type": "execute_result"
    }
   ],
   "source": [
    "popcat = popgroup.groupby(['group', 'category']).count()\n",
    "popcat.head()"
   ]
  },
  {
   "cell_type": "code",
   "execution_count": 53,
   "metadata": {
    "collapsed": false
   },
   "outputs": [
    {
     "name": "stdout",
     "output_type": "stream",
     "text": [
      "Demographic: F23-\n",
      "Most popular categories: ['Industry tag' 'Property Industry 2.0' 'unknown' 'Property Industry 1.0'\n",
      " 'Services 1' 'Custom label' 'Relatives 1' '1 free' 'And the Church'\n",
      " 'Internet banking']\n",
      "Demographic: F24-26\n",
      "Most popular categories: ['Industry tag' 'Property Industry 2.0' 'unknown' 'Property Industry 1.0'\n",
      " 'Services 1' 'Custom label' 'And the Church' 'Internet banking'\n",
      " 'Relatives 1' 'Finance']\n",
      "Demographic: F27-28\n",
      "Most popular categories: ['Industry tag' 'Property Industry 2.0' 'Property Industry 1.0' 'unknown'\n",
      " 'Services 1' 'Custom label' 'And the Church' 'Internet banking' 'Finance'\n",
      " 'Relatives 1']\n",
      "Demographic: F29-32\n",
      "Most popular categories: ['Industry tag' 'Property Industry 2.0' 'unknown' 'Property Industry 1.0'\n",
      " 'Services 1' 'Custom label' 'And the Church' 'Internet banking' 'Finance'\n",
      " 'Relatives 1']\n",
      "Demographic: F33-42\n",
      "Most popular categories: ['Industry tag' 'Property Industry 2.0' 'Property Industry 1.0' 'unknown'\n",
      " 'Custom label' 'Services 1' 'And the Church' 'Internet banking' 'P2P'\n",
      " 'Finance']\n",
      "Demographic: F43+\n",
      "Most popular categories: ['Industry tag' 'Property Industry 2.0' 'Property Industry 1.0' 'unknown'\n",
      " 'Custom label' 'Services 1' 'And the Church' 'Internet banking' 'P2P'\n",
      " 'P2P net loan']\n",
      "Demographic: M22-\n",
      "Most popular categories: ['Industry tag' 'Property Industry 2.0' 'Property Industry 1.0' 'unknown'\n",
      " 'Services 1' 'Custom label' 'And the Church' 'Internet banking' 'Finance'\n",
      " '1 free']\n",
      "Demographic: M23-26\n",
      "Most popular categories: ['Industry tag' 'Property Industry 2.0' 'Property Industry 1.0' 'unknown'\n",
      " 'Services 1' 'Custom label' 'And the Church' 'Internet banking' 'Finance'\n",
      " '1 free']\n",
      "Demographic: M27-28\n",
      "Most popular categories: ['Industry tag' 'Property Industry 2.0' 'Property Industry 1.0' 'unknown'\n",
      " 'Services 1' 'Custom label' 'And the Church' 'Internet banking' 'Finance'\n",
      " 'Liquid medium']\n",
      "Demographic: M29-31\n",
      "Most popular categories: ['Industry tag' 'Property Industry 2.0' 'Property Industry 1.0' 'unknown'\n",
      " 'Services 1' 'Custom label' 'And the Church' 'Internet banking' 'Finance'\n",
      " 'P2P']\n",
      "Demographic: M32-38\n",
      "Most popular categories: ['Industry tag' 'Property Industry 2.0' 'Property Industry 1.0' 'unknown'\n",
      " 'Custom label' 'Services 1' 'And the Church' 'Internet banking' 'Finance'\n",
      " 'P2P']\n",
      "Demographic: M39+\n",
      "Most popular categories: ['Industry tag' 'Property Industry 2.0' 'Property Industry 1.0' 'unknown'\n",
      " 'Custom label' 'And the Church' 'Services 1' 'P2P' 'Internet banking'\n",
      " 'P2P net loan']\n"
     ]
    }
   ],
   "source": [
    "for g in popcat.index.levels[0]:\n",
    "    print('Demographic: {0}\\nMost popular categories: {1}'.format(\n",
    "            g, popcat.loc[g].sort_values('app_id', ascending=False).index[:10].values))"
   ]
  },
  {
   "cell_type": "markdown",
   "metadata": {},
   "source": [
    "So really what we want to find are values that are large relative to their overall frequency in the dataset. Like TF-IDF.\n",
    "\n",
    "The total number of demographics is 12. Need to find how many groups contain that category."
   ]
  },
  {
   "cell_type": "code",
   "execution_count": 72,
   "metadata": {
    "collapsed": false
   },
   "outputs": [
    {
     "data": {
      "text/html": [
       "<div>\n",
       "<table border=\"1\" class=\"dataframe\">\n",
       "  <thead>\n",
       "    <tr style=\"text-align: right;\">\n",
       "      <th></th>\n",
       "      <th>app_id</th>\n",
       "    </tr>\n",
       "    <tr>\n",
       "      <th>category</th>\n",
       "      <th></th>\n",
       "    </tr>\n",
       "  </thead>\n",
       "  <tbody>\n",
       "    <tr>\n",
       "      <th>1 free</th>\n",
       "      <td>12</td>\n",
       "    </tr>\n",
       "    <tr>\n",
       "      <th>1 reputation</th>\n",
       "      <td>12</td>\n",
       "    </tr>\n",
       "    <tr>\n",
       "      <th>1 vitality</th>\n",
       "      <td>12</td>\n",
       "    </tr>\n",
       "    <tr>\n",
       "      <th>3 kindom game</th>\n",
       "      <td>12</td>\n",
       "    </tr>\n",
       "    <tr>\n",
       "      <th>80s Japanese comic</th>\n",
       "      <td>12</td>\n",
       "    </tr>\n",
       "  </tbody>\n",
       "</table>\n",
       "</div>"
      ],
      "text/plain": [
       "                    app_id\n",
       "category                  \n",
       "1 free                  12\n",
       "1 reputation            12\n",
       "1 vitality              12\n",
       "3 kindom game           12\n",
       "80s Japanese comic      12"
      ]
     },
     "execution_count": 72,
     "metadata": {},
     "output_type": "execute_result"
    }
   ],
   "source": [
    "catcounts = popcat.reset_index(level=0, drop=True)\n",
    "catcounts.reset_index(drop=False, inplace=True)\n",
    "catcounts = catcounts.groupby('category').count()\n",
    "catcounts.head()"
   ]
  },
  {
   "cell_type": "code",
   "execution_count": 76,
   "metadata": {
    "collapsed": false
   },
   "outputs": [
    {
     "data": {
      "text/html": [
       "<div>\n",
       "<table border=\"1\" class=\"dataframe\">\n",
       "  <thead>\n",
       "    <tr style=\"text-align: right;\">\n",
       "      <th></th>\n",
       "      <th>app_id</th>\n",
       "    </tr>\n",
       "    <tr>\n",
       "      <th>category</th>\n",
       "      <th></th>\n",
       "    </tr>\n",
       "  </thead>\n",
       "  <tbody>\n",
       "    <tr>\n",
       "      <th>1 free</th>\n",
       "      <td>48622</td>\n",
       "    </tr>\n",
       "    <tr>\n",
       "      <th>1 reputation</th>\n",
       "      <td>1719</td>\n",
       "    </tr>\n",
       "    <tr>\n",
       "      <th>1 vitality</th>\n",
       "      <td>1314</td>\n",
       "    </tr>\n",
       "    <tr>\n",
       "      <th>3 kindom game</th>\n",
       "      <td>80</td>\n",
       "    </tr>\n",
       "    <tr>\n",
       "      <th>80s Japanese comic</th>\n",
       "      <td>6</td>\n",
       "    </tr>\n",
       "  </tbody>\n",
       "</table>\n",
       "</div>"
      ],
      "text/plain": [
       "                    app_id\n",
       "category                  \n",
       "1 free               48622\n",
       "1 reputation          1719\n",
       "1 vitality            1314\n",
       "3 kindom game           80\n",
       "80s Japanese comic       6"
      ]
     },
     "execution_count": 76,
     "metadata": {},
     "output_type": "execute_result"
    }
   ],
   "source": [
    "# for each demographic, add a column that calculates tf-idf, by looking up values in the catcounts df\n",
    "\n",
    "# for g in popcat.index.levels[0]:\n",
    "#     vals = []\n",
    "#     for row in popcat.loc[g].index:\n",
    "#         vals.append(catcounts.loc[row])\n",
    "#     popcat.loc[g]['nt'] = vals\n",
    "#     popcat.loc[g]['tfidf'] = popcat.loc[g]['app_id'] * (12/popcat.loc[g]['nt'])\n",
    "dfx = popcat.loc['F23-']\n",
    "dfx.head()"
   ]
  },
  {
   "cell_type": "code",
   "execution_count": 91,
   "metadata": {
    "collapsed": false
   },
   "outputs": [
    {
     "name": "stdout",
     "output_type": "stream",
     "text": [
      "\n",
      "Demographic: F23-\n",
      "Most popular categories: ['Adventure Game', 'Vermicelli', 'other ball game', 'entertainment', 'love raising up', 'KTV', 'reality show', 'shows', 'App Store', 'Table Games']\n",
      "\n",
      "Demographic: F24-26\n",
      "Most popular categories: ['Puzzle', 'Desktop Enhancements', 'math', 'entertainment', 'Vermicelli', 'Southeast Asia (aviation)', 'tribe', 'Adventure Game', 'game-Finding fault', 'Mother']\n",
      "\n",
      "Demographic: F27-28\n",
      "Most popular categories: ['Academic Information', 'raising up game', 'Mother', 'Puzzle', 'sailing game', 'math', 'World of Warcraft', 'Doctors', 'noble', 'pet raising up']\n",
      "\n",
      "Demographic: F29-32\n",
      "Most popular categories: ['Mother', 'Vermicelli', 'Literacy Games', 'MOBA', 'Man playing favorites', 'Puzzle', 'Class animation community', 'Turn based RPG game', 'Information', 'Financial Futures']\n",
      "\n",
      "Demographic: F33-42\n",
      "Most popular categories: ['Man playing favorites', 'Weather', 'Information', 'math', 'Literacy Games', 'Hong Kong, Macao and Taiwan (Travel)', 'Internet Insurance', 'Educational games', 'exchange rate', 'KTV']\n",
      "\n",
      "Demographic: F43+\n",
      "Most popular categories: ['Hong Kong, Macao and Taiwan (aviation)', 'math', 'KTV', 'game-aircraft', 'Southeast Asia (aviation)', 'exchange rate', 'knight game', 'Internet Insurance', 'RPG game', 'Turn based RPG game']\n",
      "\n",
      "Demographic: M22-\n",
      "Most popular categories: ['tennis', 'love raising up', 'Vermicelli', '90s Japanese comic', 'tribe', 'game-Snipe', 'violence comic', 'gambling', 'cosplay', 'Ninja']\n",
      "\n",
      "Demographic: M23-26\n",
      "Most popular categories: ['football', 'Puzzle', 'Children puzzle game', 'math', 'Western Mythology', 'KTV', 'mesasge', 'gambling', 'Sports', 'MOBA']\n",
      "\n",
      "Demographic: M27-28\n",
      "Most popular categories: ['Sellers', 'High-end hotel', 'exchange rate', 'dotal-lol', 'Turn based RPG game', 'Man playing favorites', 'MOBA', 'Western Mythology', 'phone', 'Sports Games']\n",
      "\n",
      "Demographic: M29-31\n",
      "Most popular categories: ['Sports', 'Hong Kong, Macao and Taiwan (aviation)', 'gambling', 'Information', 'Shushan', 'Clock', 'exchange rate', 'basketball', 'Other shares', 'safety Insurance']\n",
      "\n",
      "Demographic: M32-38\n",
      "Most popular categories: ['Xian Xia', 'Regional Aviation', 'Racing games', 'pet raising up', 'poker and chess', 'exchange rate', 'dotal-lol', 'gambling', 'war chess', 'Peace - Search']\n",
      "\n",
      "Demographic: M39+\n",
      "Most popular categories: ['safety Insurance', 'Peace - Search', 'Xian Xia', 'Ping', 'gambling', 'noble', 'Weather', 'Other shares', 'Music Games', 'exchange rate']\n"
     ]
    }
   ],
   "source": [
    "flag = False\n",
    "for g in popcat.index.levels[0]:\n",
    "    dfx = popcat.loc[g]\n",
    "    vals = []\n",
    "    for row in dfx.index:\n",
    "        vals.append(catcounts.loc[row].values[0])\n",
    "    dfx['nt'] = vals\n",
    "    dfx['tfidf'] = dfx['app_id'] * np.log2(len(popcat.index.levels[0])/dfx['nt'])\n",
    "    if flag==False:\n",
    "        mode = 'w'\n",
    "        flag = True\n",
    "    else:\n",
    "        mode = 'a'\n",
    "    dfres = dfx.sort_values('tfidf', ascending=False)\n",
    "    dfres.to_csv(dataurl+'popcatgroup.csv', sep=',', mode=mode, index_label=g)\n",
    "    print()\n",
    "    print('Demographic: {0}\\nMost popular categories: {1}'.format(\n",
    "        g, dfres.head(10).index.tolist()))"
   ]
  },
  {
   "cell_type": "code",
   "execution_count": null,
   "metadata": {
    "collapsed": true
   },
   "outputs": [],
   "source": []
  }
 ],
 "metadata": {
  "kernelspec": {
   "display_name": "Python 3",
   "language": "python",
   "name": "python3"
  },
  "language_info": {
   "codemirror_mode": {
    "name": "ipython",
    "version": 3
   },
   "file_extension": ".py",
   "mimetype": "text/x-python",
   "name": "python",
   "nbconvert_exporter": "python",
   "pygments_lexer": "ipython3",
   "version": "3.5.1+"
  }
 },
 "nbformat": 4,
 "nbformat_minor": 0
}
